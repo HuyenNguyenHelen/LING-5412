{
  "nbformat": 4,
  "nbformat_minor": 0,
  "metadata": {
    "colab": {
      "name": "Untitled19.ipynb",
      "provenance": [],
      "collapsed_sections": [],
      "authorship_tag": "ABX9TyN3KgMy8a9a101KYcW3Z2dY",
      "include_colab_link": true
    },
    "kernelspec": {
      "name": "python3",
      "display_name": "Python 3"
    },
    "language_info": {
      "name": "python"
    }
  },
  "cells": [
    {
      "cell_type": "markdown",
      "metadata": {
        "id": "view-in-github",
        "colab_type": "text"
      },
      "source": [
        "<a href=\"https://colab.research.google.com/github/HuyenNguyenHelen/LING-5412/blob/main/Assignment3_LinearModel.ipynb\" target=\"_parent\"><img src=\"https://colab.research.google.com/assets/colab-badge.svg\" alt=\"Open In Colab\"/></a>"
      ]
    },
    {
      "cell_type": "code",
      "metadata": {
        "colab": {
          "base_uri": "https://localhost:8080/"
        },
        "id": "wZTlx8cNJtee",
        "outputId": "653763ef-61df-43ab-eb80-726b50293e3f"
      },
      "source": [
        "# Importing libraries that will be used \n",
        "import numpy as np\n",
        "import tarfile\n",
        "import glob\n",
        "import re\n",
        "import pandas as pd\n",
        "#from nltk.corpus import stopwords\n",
        "import nltk\n",
        "nltk.download('wordnet')\n",
        "import sklearn\n",
        "from sklearn.model_selection import GridSearchCV\n",
        "from sklearn.feature_extraction.text import CountVectorizer\n",
        "from sklearn.linear_model import SGDClassifier\n",
        "from sklearn.model_selection import train_test_split\n",
        "from sklearn.metrics import accuracy_score, classification_report\n",
        "from sklearn.metrics import confusion_matrix, ConfusionMatrixDisplay"
      ],
      "execution_count": 24,
      "outputs": [
        {
          "output_type": "stream",
          "name": "stdout",
          "text": [
            "[nltk_data] Downloading package wordnet to /root/nltk_data...\n",
            "[nltk_data]   Package wordnet is already up-to-date!\n"
          ]
        }
      ]
    },
    {
      "cell_type": "markdown",
      "metadata": {
        "id": "mc2pTdPrJTp8"
      },
      "source": [
        "# Loading the dataset"
      ]
    },
    {
      "cell_type": "code",
      "metadata": {
        "colab": {
          "base_uri": "https://localhost:8080/"
        },
        "id": "6q_HpztUInR9",
        "outputId": "db57d18a-e543-4047-aeaf-03c862466253"
      },
      "source": [
        "!wget http://www.cs.cornell.edu/people/pabo/movie-review-data/scale_data.tar.gz"
      ],
      "execution_count": 25,
      "outputs": [
        {
          "output_type": "stream",
          "name": "stdout",
          "text": [
            "--2021-10-13 23:19:32--  http://www.cs.cornell.edu/people/pabo/movie-review-data/scale_data.tar.gz\n",
            "Resolving www.cs.cornell.edu (www.cs.cornell.edu)... 132.236.207.36\n",
            "Connecting to www.cs.cornell.edu (www.cs.cornell.edu)|132.236.207.36|:80... connected.\n",
            "HTTP request sent, awaiting response... 200 OK\n",
            "Length: 4029756 (3.8M) [application/x-gzip]\n",
            "Saving to: ‘scale_data.tar.gz.1’\n",
            "\n",
            "scale_data.tar.gz.1 100%[===================>]   3.84M  17.2MB/s    in 0.2s    \n",
            "\n",
            "2021-10-13 23:19:33 (17.2 MB/s) - ‘scale_data.tar.gz.1’ saved [4029756/4029756]\n",
            "\n"
          ]
        }
      ]
    },
    {
      "cell_type": "code",
      "metadata": {
        "id": "wxlFbhDlJcT7"
      },
      "source": [
        "# Untar the dataset\n",
        "my_tar = tarfile.open('/content/scale_data.tar.gz')\n",
        "my_tar.extractall('/content/') \n",
        "my_tar.close()\n"
      ],
      "execution_count": 26,
      "outputs": []
    },
    {
      "cell_type": "code",
      "metadata": {
        "colab": {
          "base_uri": "https://localhost:8080/",
          "height": 432
        },
        "id": "oXoCmCDBNUac",
        "outputId": "b6ff9b7a-134b-4bb7-dece-a50fe6d6ffea"
      },
      "source": [
        "id, review, rating, cl_3, cl_4 = [],[],[],[], []\n",
        "for root in glob.glob ('/content/scaledata/*'):\n",
        "  for path in glob.glob(root+'/*'): \n",
        "      fo = open(path)\n",
        "      doc = fo.read()\n",
        "      if 'id' in path:\n",
        "        id.extend(doc.split('\\n'))\n",
        "      elif 'subj' in path:\n",
        "          review.extend(doc.split('\\n'))\n",
        "      elif 'rating' in path:\n",
        "        rating.extend(doc.split('\\n'))\n",
        "      elif '3class' in path:\n",
        "        cl_3.extend(doc.split('\\n'))\n",
        "      else:\n",
        "        cl_4.extend(doc.split('\\n'))\n",
        "      # print(path,'\\n')\n",
        "      # print(doc.split('\\n')[:10])\n",
        "print (len(id), len(review), len(rating), len(cl_3), len(cl_4))\n",
        "\n",
        "df = pd.DataFrame(zip(id, review, rating, cl_3, cl_4), columns = ['id', 'review', 'rating', '3class', '4class'])\n",
        "data = df[['review', '3class', '4class']].dropna()\n",
        "data"
      ],
      "execution_count": 4,
      "outputs": [
        {
          "output_type": "stream",
          "name": "stdout",
          "text": [
            "5010 5010 5010 5010 5010\n"
          ]
        },
        {
          "output_type": "execute_result",
          "data": {
            "text/html": [
              "<div>\n",
              "<style scoped>\n",
              "    .dataframe tbody tr th:only-of-type {\n",
              "        vertical-align: middle;\n",
              "    }\n",
              "\n",
              "    .dataframe tbody tr th {\n",
              "        vertical-align: top;\n",
              "    }\n",
              "\n",
              "    .dataframe thead th {\n",
              "        text-align: right;\n",
              "    }\n",
              "</style>\n",
              "<table border=\"1\" class=\"dataframe\">\n",
              "  <thead>\n",
              "    <tr style=\"text-align: right;\">\n",
              "      <th></th>\n",
              "      <th>review</th>\n",
              "      <th>3class</th>\n",
              "      <th>4class</th>\n",
              "    </tr>\n",
              "  </thead>\n",
              "  <tbody>\n",
              "    <tr>\n",
              "      <th>0</th>\n",
              "      <td>i'm guessing -- and from the available evidenc...</td>\n",
              "      <td>0</td>\n",
              "      <td>0</td>\n",
              "    </tr>\n",
              "    <tr>\n",
              "      <th>1</th>\n",
              "      <td>there's bad buzz , and then there's the the ba...</td>\n",
              "      <td>0</td>\n",
              "      <td>0</td>\n",
              "    </tr>\n",
              "    <tr>\n",
              "      <th>2</th>\n",
              "      <td>director : richard rush . director richard rus...</td>\n",
              "      <td>0</td>\n",
              "      <td>0</td>\n",
              "    </tr>\n",
              "    <tr>\n",
              "      <th>3</th>\n",
              "      <td>screenplay : johnny brennan &amp; kamal ahmed and ...</td>\n",
              "      <td>0</td>\n",
              "      <td>0</td>\n",
              "    </tr>\n",
              "    <tr>\n",
              "      <th>4</th>\n",
              "      <td>screenplay : tim burns &amp; tom stern and anthony...</td>\n",
              "      <td>0</td>\n",
              "      <td>0</td>\n",
              "    </tr>\n",
              "    <tr>\n",
              "      <th>...</th>\n",
              "      <td>...</td>\n",
              "      <td>...</td>\n",
              "      <td>...</td>\n",
              "    </tr>\n",
              "    <tr>\n",
              "      <th>5005</th>\n",
              "      <td>since the film didn't have a director , the fi...</td>\n",
              "      <td>2</td>\n",
              "      <td>3</td>\n",
              "    </tr>\n",
              "    <tr>\n",
              "      <th>5006</th>\n",
              "      <td>claire denis ( i can't sleep/nenette and boni/...</td>\n",
              "      <td>2</td>\n",
              "      <td>3</td>\n",
              "    </tr>\n",
              "    <tr>\n",
              "      <th>5007</th>\n",
              "      <td>the young kid doesn't know what to say . yang-...</td>\n",
              "      <td>2</td>\n",
              "      <td>3</td>\n",
              "    </tr>\n",
              "    <tr>\n",
              "      <th>5008</th>\n",
              "      <td>the film's theme is about how women are made t...</td>\n",
              "      <td>2</td>\n",
              "      <td>3</td>\n",
              "    </tr>\n",
              "    <tr>\n",
              "      <th>5009</th>\n",
              "      <td></td>\n",
              "      <td></td>\n",
              "      <td></td>\n",
              "    </tr>\n",
              "  </tbody>\n",
              "</table>\n",
              "<p>5010 rows × 3 columns</p>\n",
              "</div>"
            ],
            "text/plain": [
              "                                                 review 3class 4class\n",
              "0     i'm guessing -- and from the available evidenc...      0      0\n",
              "1     there's bad buzz , and then there's the the ba...      0      0\n",
              "2     director : richard rush . director richard rus...      0      0\n",
              "3     screenplay : johnny brennan & kamal ahmed and ...      0      0\n",
              "4     screenplay : tim burns & tom stern and anthony...      0      0\n",
              "...                                                 ...    ...    ...\n",
              "5005  since the film didn't have a director , the fi...      2      3\n",
              "5006  claire denis ( i can't sleep/nenette and boni/...      2      3\n",
              "5007  the young kid doesn't know what to say . yang-...      2      3\n",
              "5008  the film's theme is about how women are made t...      2      3\n",
              "5009                                                                 \n",
              "\n",
              "[5010 rows x 3 columns]"
            ]
          },
          "metadata": {},
          "execution_count": 4
        }
      ]
    },
    {
      "cell_type": "markdown",
      "metadata": {
        "id": "XvO0V2e8Oqso"
      },
      "source": [
        "# Pre-processing the data"
      ]
    },
    {
      "cell_type": "code",
      "metadata": {
        "id": "YBWQTz_5OqAQ",
        "colab": {
          "base_uri": "https://localhost:8080/"
        },
        "outputId": "744952f2-58f0-4689-eb59-7256506333e0"
      },
      "source": [
        "data['3class'].value_counts()"
      ],
      "execution_count": 5,
      "outputs": [
        {
          "output_type": "execute_result",
          "data": {
            "text/plain": [
              "1    1915\n",
              "2    1894\n",
              "0    1197\n",
              "        4\n",
              "Name: 3class, dtype: int64"
            ]
          },
          "metadata": {},
          "execution_count": 5
        }
      ]
    },
    {
      "cell_type": "code",
      "metadata": {
        "id": "QZ9jP2WX_m-u"
      },
      "source": [
        "data = data[data['3class']!='']\n"
      ],
      "execution_count": 6,
      "outputs": []
    },
    {
      "cell_type": "code",
      "metadata": {
        "id": "qqCYX1GyNL0m",
        "colab": {
          "base_uri": "https://localhost:8080/"
        },
        "outputId": "bb7024ec-806f-4733-e0b1-82c99fcee0bd"
      },
      "source": [
        "# Spliting the dataset for training and testing\n",
        "X_train, X_test, y_train, y_test = train_test_split (data['review'], data['3class'] , train_size = 0.8, random_state = 42, shuffle = True, stratify=data['3class'])\n",
        "print ('Shapes of X_train, y_train: ', X_train.shape, y_train.shape)\n",
        "print ('Shapes of X_test, y_test: ', X_test.shape, y_test.shape)"
      ],
      "execution_count": 7,
      "outputs": [
        {
          "output_type": "stream",
          "name": "stdout",
          "text": [
            "Shapes of X_train, y_train:  (4004,) (4004,)\n",
            "Shapes of X_test, y_test:  (1002,) (1002,)\n"
          ]
        }
      ]
    },
    {
      "cell_type": "code",
      "metadata": {
        "id": "vyzvklgbOvfZ",
        "colab": {
          "base_uri": "https://localhost:8080/"
        },
        "outputId": "75efb518-c4ab-47b7-d994-d62d66eaee74"
      },
      "source": [
        "# Vectorizing the documents\n",
        "vectorizer = CountVectorizer(binary = True)\n",
        "X_train = vectorizer.fit_transform(X_train.to_list())\n",
        "X_test = vectorizer.transform(X_test.to_list())\n",
        "print ('Shapes of X_train, y_train: ', X_train.shape, y_train.shape)\n",
        "print ('Shapes of X_test, y_test: ', X_test.shape, y_test.shape)"
      ],
      "execution_count": 8,
      "outputs": [
        {
          "output_type": "stream",
          "name": "stdout",
          "text": [
            "Shapes of X_train, y_train:  (4004, 38553) (4004,)\n",
            "Shapes of X_test, y_test:  (1002, 38553) (1002,)\n"
          ]
        }
      ]
    },
    {
      "cell_type": "markdown",
      "metadata": {
        "id": "AvCkAJ00RH7D"
      },
      "source": [
        "# Linear models"
      ]
    },
    {
      "cell_type": "markdown",
      "metadata": {
        "id": "APzuE9I8hDnE"
      },
      "source": [
        "### Default"
      ]
    },
    {
      "cell_type": "code",
      "metadata": {
        "id": "u53BC-tySKGK"
      },
      "source": [
        "def printing_eval_scores (y_true, y_pred, report=''):\n",
        "  accuracy = sklearn.metrics.accuracy_score(y_true, y_pred)\n",
        "  precision = sklearn.metrics.precision_score(y_true, y_pred, average = 'weighted')\n",
        "  recall = sklearn.metrics.recall_score(y_true, y_pred, average = 'weighted')\n",
        "  f1 = sklearn.metrics.f1_score(y_true, y_pred, average = 'weighted')\n",
        "  print('accuracy score: {:.3f}'.format(accuracy))\n",
        "  print('precision score: {:.3f}'.format(precision))\n",
        "  print('recall score: {:.3f}'.format(recall))\n",
        "  print('F1 score: {:.3f}'.format(f1))\n",
        "  if report is True:\n",
        "    print(classification_report(y_true, y_pred))\n",
        "  else:\n",
        "    pass\n",
        "  return accuracy, precision, recall, f1"
      ],
      "execution_count": 9,
      "outputs": []
    },
    {
      "cell_type": "code",
      "metadata": {
        "id": "xWkVLHPYRLGL",
        "colab": {
          "base_uri": "https://localhost:8080/"
        },
        "outputId": "f7fa7080-39dc-4d4c-cf40-67705f967aa9"
      },
      "source": [
        "\n",
        "def training (penalty, max_iter): #penalty=\"l2\", max_iter=100\n",
        "  SGD = SGDClassifier( penalty=penalty, max_iter=max_iter, shuffle=True).fit(X_train, y_train)\n",
        "  y_pred = SGD.predict(X_test)\n",
        "  printing_eval_scores (y_test, y_pred, report=True)\n",
        "\n",
        "penalties = ['l1','l2']\n",
        "for penalty in penalties:\n",
        "  print('\\n-------training linear model with penalty = {}'.format(penalty ))\n",
        "  training (penalty='l2', max_iter=100)"
      ],
      "execution_count": 10,
      "outputs": [
        {
          "output_type": "stream",
          "name": "stdout",
          "text": [
            "\n",
            "-------training linear model with penalty = l1\n",
            "accuracy score: 0.635\n",
            "precision score: 0.641\n",
            "recall score: 0.635\n",
            "F1 score: 0.635\n",
            "              precision    recall  f1-score   support\n",
            "\n",
            "           0       0.63      0.51      0.56       240\n",
            "           1       0.55      0.64      0.59       383\n",
            "           2       0.74      0.71      0.72       379\n",
            "\n",
            "    accuracy                           0.63      1002\n",
            "   macro avg       0.64      0.62      0.63      1002\n",
            "weighted avg       0.64      0.63      0.64      1002\n",
            "\n",
            "\n",
            "-------training linear model with penalty = l2\n",
            "accuracy score: 0.656\n",
            "precision score: 0.654\n",
            "recall score: 0.656\n",
            "F1 score: 0.655\n",
            "              precision    recall  f1-score   support\n",
            "\n",
            "           0       0.62      0.62      0.62       240\n",
            "           1       0.59      0.57      0.58       383\n",
            "           2       0.74      0.77      0.75       379\n",
            "\n",
            "    accuracy                           0.66      1002\n",
            "   macro avg       0.65      0.65      0.65      1002\n",
            "weighted avg       0.65      0.66      0.65      1002\n",
            "\n"
          ]
        }
      ]
    },
    {
      "cell_type": "markdown",
      "metadata": {
        "id": "fw8gnX8LhIpc"
      },
      "source": [
        ""
      ]
    },
    {
      "cell_type": "markdown",
      "metadata": {
        "id": "GC2IatzMgpFe"
      },
      "source": [
        "Penalty = L2, and loss = log (logistic regression model) yeild the best performance on F1 score (0.657)"
      ]
    },
    {
      "cell_type": "markdown",
      "metadata": {
        "id": "mGbctRPkhP_E"
      },
      "source": [
        "### Searching the best parameter"
      ]
    },
    {
      "cell_type": "code",
      "metadata": {
        "id": "t8hoW9GIeuZs",
        "colab": {
          "base_uri": "https://localhost:8080/"
        },
        "outputId": "c5558263-a38b-4be0-818b-640cc487d371"
      },
      "source": [
        "# Set the parameters by cross-validation\n",
        "tuned_parameters = [{'alpha': [i for i in np.arange (0.0001, 0.01, 0.001 )]}] #, 'loss': ['log','hinge', 'perceptron']}]\n",
        "score = 'f1'\n",
        "\n",
        "print(\"# Searching hyper-parameters for %s\" % score)\n",
        "clf = GridSearchCV(SGDClassifier(shuffle=True), tuned_parameters, scoring='%s_macro' % score, cv = 5, refit = True, n_jobs = -1 )\n",
        "clf.fit(X_train, y_train)\n",
        "print('Best parameters set found on development set: {}'.format(clf.best_params_))\n",
        "print(\"Grid scores on development set:\")\n",
        "means = clf.cv_results_['mean_test_score']\n",
        "stds = clf.cv_results_['std_test_score']\n",
        "\n",
        "y_pred =  clf.predict(X_test)\n",
        "printing_eval_scores (y_test, y_pred, report=True)\n",
        "\n"
      ],
      "execution_count": 11,
      "outputs": [
        {
          "output_type": "stream",
          "name": "stdout",
          "text": [
            "# Searching hyper-parameters for f1\n",
            "Best parameters set found on development set: {'alpha': 0.0081}\n",
            "Grid scores on development set:\n",
            "accuracy score: 0.647\n",
            "precision score: 0.643\n",
            "recall score: 0.647\n",
            "F1 score: 0.645\n",
            "              precision    recall  f1-score   support\n",
            "\n",
            "           0       0.61      0.57      0.59       240\n",
            "           1       0.59      0.57      0.58       383\n",
            "           2       0.72      0.77      0.75       379\n",
            "\n",
            "    accuracy                           0.65      1002\n",
            "   macro avg       0.64      0.64      0.64      1002\n",
            "weighted avg       0.64      0.65      0.64      1002\n",
            "\n"
          ]
        },
        {
          "output_type": "execute_result",
          "data": {
            "text/plain": [
              "(0.6467065868263473,\n",
              " 0.6434827278934763,\n",
              " 0.6467065868263473,\n",
              " 0.6445894980483167)"
            ]
          },
          "metadata": {},
          "execution_count": 11
        }
      ]
    },
    {
      "cell_type": "markdown",
      "metadata": {
        "id": "Mmg1ajLk_qF2"
      },
      "source": [
        "**(4)  SGDClassifier used “one versus all” (OVA) strategy to handle multi-class strategy. For each of K classes, the binary classifier will try to predict that class and the rest other K-1 classes.**"
      ]
    },
    {
      "cell_type": "code",
      "metadata": {
        "colab": {
          "base_uri": "https://localhost:8080/"
        },
        "id": "rF8SMd919XVH",
        "outputId": "b786cdd5-de8d-4f61-c7d5-cc2ac0391d18"
      },
      "source": [
        "# Printing features with highest weights.\n",
        "best_SGD = SGDClassifier( penalty='l2',  shuffle=True, alpha=0.0081).fit(X_train, y_train)\n",
        "y_pred = best_SGD.predict(X_test)\n",
        "weights = best_SGD.coef_\n",
        "weights"
      ],
      "execution_count": 16,
      "outputs": [
        {
          "output_type": "execute_result",
          "data": {
            "text/plain": [
              "array([[ 0.02465781, -0.04068539, -0.00739734, ...,  0.        ,\n",
              "        -0.00616445,  0.        ],\n",
              "       [ 0.02758121, -0.06895304, -0.02758121, ..., -0.01541303,\n",
              "         0.00243364, -0.01379061],\n",
              "       [-0.06593266,  0.11131487,  0.05308863, ...,  0.0162691 ,\n",
              "         0.00342507,  0.        ]])"
            ]
          },
          "metadata": {},
          "execution_count": 16
        }
      ]
    },
    {
      "cell_type": "code",
      "metadata": {
        "colab": {
          "base_uri": "https://localhost:8080/"
        },
        "id": "k41E0kWSG7_p",
        "outputId": "1cc9fda7-45ff-48fe-e54c-ec6a2acb2473"
      },
      "source": [
        "features = vectorizer.get_feature_names()\n",
        "\n",
        "feature_weights = {}\n",
        "for i in range(len(weights)):\n",
        "  print('\\n==============================================')\n",
        "  print ('\\nclass: {}'.format(i+1))\n",
        "  for w in range(len(weights[i])):\n",
        "     feature_weights[features[w]] = np.abs(weights[i][w])\n",
        "  # Sorting the dictionary in descending order\n",
        "  sorted_feature_weights = {k:v for k, v in sorted(feature_weights.items(), key = lambda item: item[1], reverse=True)}\n",
        "\n",
        "  # Print the weights learned for each class\n",
        "  print('10 most important features (in descending order): ')\n",
        "  for k, v in list(sorted_feature_weights.items())[:20]:\n",
        "    print ('{}: {:.5f}'. format(k,v))\n"
      ],
      "execution_count": 20,
      "outputs": [
        {
          "output_type": "stream",
          "name": "stdout",
          "text": [
            "\n",
            "==============================================\n",
            "\n",
            "class: 1\n",
            "10 most important features (in descending order): \n",
            "boring: 0.27124\n",
            "ridiculous: 0.25891\n",
            "satisfying: 0.25028\n",
            "fine: 0.24781\n",
            "bad: 0.24165\n",
            "flat: 0.23548\n",
            "fans: 0.22562\n",
            "awake: 0.22439\n",
            "unfunny: 0.21452\n",
            "watchable: 0.21329\n",
            "poorly: 0.21206\n",
            "effective: 0.20466\n",
            "worst: 0.19850\n",
            "inane: 0.19850\n",
            "problems: 0.19850\n",
            "routine: 0.19850\n",
            "fascinating: 0.19726\n",
            "able: 0.19726\n",
            "inspired: 0.18740\n",
            "unbelievable: 0.18740\n",
            "\n",
            "==============================================\n",
            "\n",
            "class: 2\n",
            "10 most important features (in descending order): \n",
            "thumbs: 0.32043\n",
            "add: 0.29690\n",
            "problem: 0.27825\n",
            "able: 0.27094\n",
            "unfortunately: 0.25797\n",
            "terrific: 0.25310\n",
            "frustrating: 0.24904\n",
            "sadly: 0.24823\n",
            "awake: 0.24823\n",
            "difficult: 0.24742\n",
            "changes: 0.23850\n",
            "masterpiece: 0.23201\n",
            "choose: 0.23201\n",
            "problems: 0.22876\n",
            "albeit: 0.22795\n",
            "perfect: 0.22552\n",
            "promise: 0.22308\n",
            "though: 0.22065\n",
            "nice: 0.21740\n",
            "fits: 0.21497\n",
            "\n",
            "==============================================\n",
            "\n",
            "class: 3\n",
            "10 most important features (in descending order): \n",
            "unfortunately: 0.28856\n",
            "great: 0.27229\n",
            "interesting: 0.26801\n",
            "thumbs: 0.24917\n",
            "flat: 0.22777\n",
            "perfect: 0.22263\n",
            "seriously: 0.21664\n",
            "masterpiece: 0.20979\n",
            "worse: 0.20807\n",
            "intensity: 0.20379\n",
            "tries: 0.20294\n",
            "delightful: 0.20208\n",
            "strongly: 0.20122\n",
            "change: 0.19780\n",
            "terrific: 0.19523\n",
            "the: 0.19523\n",
            "mistake: 0.19437\n",
            "simple: 0.19180\n",
            "nice: 0.18924\n",
            "supposed: 0.18924\n"
          ]
        }
      ]
    },
    {
      "cell_type": "markdown",
      "metadata": {
        "id": "FEf_4Mt6IBJC"
      },
      "source": [
        "**Q6. How does the hyperplane of the classifier look like?**"
      ]
    },
    {
      "cell_type": "code",
      "metadata": {
        "id": "xzfB1cFVIFBQ",
        "colab": {
          "base_uri": "https://localhost:8080/"
        },
        "outputId": "105b7ffd-1ac7-4327-c520-693b62fc6e3c"
      },
      "source": [
        "import seaborn as sns\n",
        "# sns.displot(weights)\n",
        "hyperplane = best_SGD.decision_function(X_train).T\n",
        "#sns.displot(np.flatnonzero(hyperplane))\n",
        "hyperplane"
      ],
      "execution_count": 21,
      "outputs": [
        {
          "output_type": "execute_result",
          "data": {
            "text/plain": [
              "array([[-1.11012923, -0.97204547, -1.88068593, ..., -1.2469801 ,\n",
              "        -1.63534067, -2.71412005],\n",
              "       [ 1.02220888,  0.94271008, -1.08369796, ..., -0.99284219,\n",
              "        -1.0731522 , -1.02610189],\n",
              "       [-1.1722495 , -1.29897721,  1.08487364, ...,  0.94787072,\n",
              "         1.03435381,  1.24413954]])"
            ]
          },
          "metadata": {},
          "execution_count": 21
        }
      ]
    },
    {
      "cell_type": "code",
      "metadata": {
        "id": "Dddef30XpBNi",
        "outputId": "e90db125-c95d-493c-e559-2f42e94faa91",
        "colab": {
          "base_uri": "https://localhost:8080/",
          "height": 1000
        }
      },
      "source": [
        "for i in range(3):\n",
        "  sns.displot(hyperplane[i], kind = 'hist')\n"
      ],
      "execution_count": 22,
      "outputs": [
        {
          "output_type": "display_data",
          "data": {
            "image/png": "[encoded data removed]",
            "text/plain": [
              "<Figure size 360x360 with 1 Axes>"
            ]
          },
          "metadata": {
            "needs_background": "light"
          }
        },
        {
          "output_type": "display_data",
          "data": {
            "image/png": "[encoded data removed]",
            "text/plain": [
              "<Figure size 360x360 with 1 Axes>"
            ]
          },
          "metadata": {
            "needs_background": "light"
          }
        },
        {
          "output_type": "display_data",
          "data": {
            "image/png": "[encoded data removed]",
            "text/plain": [
              "<Figure size 360x360 with 1 Axes>"
            ]
          },
          "metadata": {
            "needs_background": "light"
          }
        }
      ]
    },
    {
      "cell_type": "markdown",
      "metadata": {
        "id": "ZCObzt9s8LNl"
      },
      "source": [
        "**Q7. Model with log loss function**"
      ]
    },
    {
      "cell_type": "code",
      "metadata": {
        "id": "u_uRSKZiqoBX",
        "outputId": "b52f63a8-ca56-4a13-ca99-8fab22cb6191",
        "colab": {
          "base_uri": "https://localhost:8080/"
        }
      },
      "source": [
        "log_SGD = SGDClassifier(loss='log', penalty='l2',  shuffle=True, alpha=0.0081).fit(X_train, y_train)\n",
        "y_pred = log_SGD.predict(X_test)\n",
        "printing_eval_scores (y_test, y_pred, report=True)\n"
      ],
      "execution_count": 23,
      "outputs": [
        {
          "output_type": "stream",
          "name": "stdout",
          "text": [
            "accuracy score: 0.671\n",
            "precision score: 0.671\n",
            "recall score: 0.671\n",
            "F1 score: 0.670\n",
            "              precision    recall  f1-score   support\n",
            "\n",
            "           0       0.66      0.57      0.61       240\n",
            "           1       0.60      0.64      0.62       383\n",
            "           2       0.74      0.77      0.76       379\n",
            "\n",
            "    accuracy                           0.67      1002\n",
            "   macro avg       0.67      0.66      0.66      1002\n",
            "weighted avg       0.67      0.67      0.67      1002\n",
            "\n"
          ]
        },
        {
          "output_type": "execute_result",
          "data": {
            "text/plain": [
              "(0.6706586826347305, 0.670792722809262, 0.6706586826347305, 0.6695513891393804)"
            ]
          },
          "metadata": {},
          "execution_count": 23
        }
      ]
    },
    {
      "cell_type": "markdown",
      "metadata": {
        "id": "jFMb2r5s8h_d"
      },
      "source": [
        "**8. Building a linear model to compare the result**"
      ]
    },
    {
      "cell_type": "code",
      "metadata": {
        "id": "xxZXLnk98hSd",
        "outputId": "fdb8c2d8-3c76-4739-e5b5-c667148e1def",
        "colab": {
          "base_uri": "https://localhost:8080/",
          "height": 415
        }
      },
      "source": [
        "df = pd.DataFrame(zip(id, review, rating, cl_3, cl_4), columns = ['id', 'review', 'rating', '3class', '4class'])\n",
        "new_df = df[['review', 'rating']].dropna()\n",
        "new_df['review']  =new_df['review']"
      ],
      "execution_count": 27,
      "outputs": [
        {
          "output_type": "execute_result",
          "data": {
            "text/html": [
              "<div>\n",
              "<style scoped>\n",
              "    .dataframe tbody tr th:only-of-type {\n",
              "        vertical-align: middle;\n",
              "    }\n",
              "\n",
              "    .dataframe tbody tr th {\n",
              "        vertical-align: top;\n",
              "    }\n",
              "\n",
              "    .dataframe thead th {\n",
              "        text-align: right;\n",
              "    }\n",
              "</style>\n",
              "<table border=\"1\" class=\"dataframe\">\n",
              "  <thead>\n",
              "    <tr style=\"text-align: right;\">\n",
              "      <th></th>\n",
              "      <th>review</th>\n",
              "      <th>rating</th>\n",
              "    </tr>\n",
              "  </thead>\n",
              "  <tbody>\n",
              "    <tr>\n",
              "      <th>0</th>\n",
              "      <td>i'm guessing -- and from the available evidenc...</td>\n",
              "      <td>0</td>\n",
              "    </tr>\n",
              "    <tr>\n",
              "      <th>1</th>\n",
              "      <td>there's bad buzz , and then there's the the ba...</td>\n",
              "      <td>0</td>\n",
              "    </tr>\n",
              "    <tr>\n",
              "      <th>2</th>\n",
              "      <td>director : richard rush . director richard rus...</td>\n",
              "      <td>0</td>\n",
              "    </tr>\n",
              "    <tr>\n",
              "      <th>3</th>\n",
              "      <td>screenplay : johnny brennan &amp; kamal ahmed and ...</td>\n",
              "      <td>0</td>\n",
              "    </tr>\n",
              "    <tr>\n",
              "      <th>4</th>\n",
              "      <td>screenplay : tim burns &amp; tom stern and anthony...</td>\n",
              "      <td>0.1</td>\n",
              "    </tr>\n",
              "    <tr>\n",
              "      <th>...</th>\n",
              "      <td>...</td>\n",
              "      <td>...</td>\n",
              "    </tr>\n",
              "    <tr>\n",
              "      <th>5005</th>\n",
              "      <td>since the film didn't have a director , the fi...</td>\n",
              "      <td>0.9</td>\n",
              "    </tr>\n",
              "    <tr>\n",
              "      <th>5006</th>\n",
              "      <td>claire denis ( i can't sleep/nenette and boni/...</td>\n",
              "      <td>0.9</td>\n",
              "    </tr>\n",
              "    <tr>\n",
              "      <th>5007</th>\n",
              "      <td>the young kid doesn't know what to say . yang-...</td>\n",
              "      <td>0.9</td>\n",
              "    </tr>\n",
              "    <tr>\n",
              "      <th>5008</th>\n",
              "      <td>the film's theme is about how women are made t...</td>\n",
              "      <td>0.9</td>\n",
              "    </tr>\n",
              "    <tr>\n",
              "      <th>5009</th>\n",
              "      <td></td>\n",
              "      <td></td>\n",
              "    </tr>\n",
              "  </tbody>\n",
              "</table>\n",
              "<p>5010 rows × 2 columns</p>\n",
              "</div>"
            ],
            "text/plain": [
              "                                                 review rating\n",
              "0     i'm guessing -- and from the available evidenc...      0\n",
              "1     there's bad buzz , and then there's the the ba...      0\n",
              "2     director : richard rush . director richard rus...      0\n",
              "3     screenplay : johnny brennan & kamal ahmed and ...      0\n",
              "4     screenplay : tim burns & tom stern and anthony...    0.1\n",
              "...                                                 ...    ...\n",
              "5005  since the film didn't have a director , the fi...    0.9\n",
              "5006  claire denis ( i can't sleep/nenette and boni/...    0.9\n",
              "5007  the young kid doesn't know what to say . yang-...    0.9\n",
              "5008  the film's theme is about how women are made t...    0.9\n",
              "5009                                                          \n",
              "\n",
              "[5010 rows x 2 columns]"
            ]
          },
          "metadata": {},
          "execution_count": 27
        }
      ]
    }
  ]
}