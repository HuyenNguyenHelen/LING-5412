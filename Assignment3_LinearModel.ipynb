{
  "nbformat": 4,
  "nbformat_minor": 0,
  "metadata": {
    "colab": {
      "name": "Untitled19.ipynb",
      "provenance": [],
      "collapsed_sections": [],
      "authorship_tag": "ABX9TyOKXH/rhHZDXZiSDY3N0Ajc",
      "include_colab_link": true
    },
    "kernelspec": {
      "name": "python3",
      "display_name": "Python 3"
    },
    "language_info": {
      "name": "python"
    }
  },
  "cells": [
    {
      "cell_type": "markdown",
      "metadata": {
        "id": "view-in-github",
        "colab_type": "text"
      },
      "source": [
        "<a href=\"https://colab.research.google.com/github/HuyenNguyenHelen/LING-5412/blob/main/Assignment3_LinearModel.ipynb\" target=\"_parent\"><img src=\"https://colab.research.google.com/assets/colab-badge.svg\" alt=\"Open In Colab\"/></a>"
      ]
    },
    {
      "cell_type": "code",
      "metadata": {
        "colab": {
          "base_uri": "https://localhost:8080/"
        },
        "id": "wZTlx8cNJtee",
        "outputId": "6cd6baee-9584-4a42-f026-19353b7cb691"
      },
      "source": [
        "# Importing libraries that will be used \n",
        "import numpy as np\n",
        "import tarfile\n",
        "import glob\n",
        "import re\n",
        "import pandas as pd\n",
        "#from nltk.corpus import stopwords\n",
        "import nltk\n",
        "nltk.download('wordnet')\n",
        "import matplotlib.pyplot as plt\n",
        "\n",
        "import sklearn\n",
        "from sklearn.model_selection import GridSearchCV\n",
        "from sklearn.feature_extraction.text import CountVectorizer\n",
        "from sklearn.linear_model import SGDClassifier\n",
        "from sklearn.model_selection import train_test_split\n",
        "from sklearn.metrics import accuracy_score, classification_report\n",
        "from sklearn.metrics import confusion_matrix, ConfusionMatrixDisplay"
      ],
      "execution_count": 2,
      "outputs": [
        {
          "output_type": "stream",
          "name": "stdout",
          "text": [
            "[nltk_data] Downloading package wordnet to /root/nltk_data...\n",
            "[nltk_data]   Unzipping corpora/wordnet.zip.\n"
          ]
        }
      ]
    },
    {
      "cell_type": "markdown",
      "metadata": {
        "id": "mc2pTdPrJTp8"
      },
      "source": [
        "# Loading the dataset"
      ]
    },
    {
      "cell_type": "code",
      "metadata": {
        "colab": {
          "base_uri": "https://localhost:8080/"
        },
        "id": "6q_HpztUInR9",
        "outputId": "4babe314-27d0-4dad-e047-7ef19dc5256b"
      },
      "source": [
        "!wget http://www.cs.cornell.edu/people/pabo/movie-review-data/scale_data.tar.gz"
      ],
      "execution_count": 3,
      "outputs": [
        {
          "output_type": "stream",
          "name": "stdout",
          "text": [
            "--2021-10-14 23:27:36--  http://www.cs.cornell.edu/people/pabo/movie-review-data/scale_data.tar.gz\n",
            "Resolving www.cs.cornell.edu (www.cs.cornell.edu)... 132.236.207.36\n",
            "Connecting to www.cs.cornell.edu (www.cs.cornell.edu)|132.236.207.36|:80... connected.\n",
            "HTTP request sent, awaiting response... 200 OK\n",
            "Length: 4029756 (3.8M) [application/x-gzip]\n",
            "Saving to: ‘scale_data.tar.gz’\n",
            "\n",
            "scale_data.tar.gz   100%[===================>]   3.84M  6.38MB/s    in 0.6s    \n",
            "\n",
            "2021-10-14 23:27:37 (6.38 MB/s) - ‘scale_data.tar.gz’ saved [4029756/4029756]\n",
            "\n"
          ]
        }
      ]
    },
    {
      "cell_type": "code",
      "metadata": {
        "id": "wxlFbhDlJcT7"
      },
      "source": [
        "# Untar the dataset\n",
        "my_tar = tarfile.open('/content/scale_data.tar.gz')\n",
        "my_tar.extractall('/content/') \n",
        "my_tar.close()\n"
      ],
      "execution_count": 4,
      "outputs": []
    },
    {
      "cell_type": "code",
      "metadata": {
        "colab": {
          "base_uri": "https://localhost:8080/",
          "height": 432
        },
        "id": "oXoCmCDBNUac",
        "outputId": "063f242c-73a4-4152-9eb6-660a8a86741b"
      },
      "source": [
        "id, review, rating, cl_3, cl_4 = [],[],[],[], []\n",
        "for root in glob.glob ('/content/scaledata/*'):\n",
        "  for path in glob.glob(root+'/*'): \n",
        "      fo = open(path)\n",
        "      doc = fo.read()\n",
        "      if 'id' in path:\n",
        "        id.extend(doc.split('\\n'))\n",
        "      elif 'subj' in path:\n",
        "          review.extend(doc.split('\\n'))\n",
        "      elif 'rating' in path:\n",
        "        rating.extend(doc.split('\\n'))\n",
        "      elif '3class' in path:\n",
        "        cl_3.extend(doc.split('\\n'))\n",
        "      else:\n",
        "        cl_4.extend(doc.split('\\n'))\n",
        "      # print(path,'\\n')\n",
        "      # print(doc.split('\\n')[:10])\n",
        "print (len(id), len(review), len(rating), len(cl_3), len(cl_4))\n",
        "\n",
        "df = pd.DataFrame(zip(id, review, rating, cl_3, cl_4), columns = ['id', 'review', 'rating', '3class', '4class'])\n",
        "data = df[['review', '3class', '4class']].dropna()\n",
        "data"
      ],
      "execution_count": 5,
      "outputs": [
        {
          "output_type": "stream",
          "name": "stdout",
          "text": [
            "5010 5010 5010 5010 5010\n"
          ]
        },
        {
          "output_type": "execute_result",
          "data": {
            "text/html": [
              "<div>\n",
              "<style scoped>\n",
              "    .dataframe tbody tr th:only-of-type {\n",
              "        vertical-align: middle;\n",
              "    }\n",
              "\n",
              "    .dataframe tbody tr th {\n",
              "        vertical-align: top;\n",
              "    }\n",
              "\n",
              "    .dataframe thead th {\n",
              "        text-align: right;\n",
              "    }\n",
              "</style>\n",
              "<table border=\"1\" class=\"dataframe\">\n",
              "  <thead>\n",
              "    <tr style=\"text-align: right;\">\n",
              "      <th></th>\n",
              "      <th>review</th>\n",
              "      <th>3class</th>\n",
              "      <th>4class</th>\n",
              "    </tr>\n",
              "  </thead>\n",
              "  <tbody>\n",
              "    <tr>\n",
              "      <th>0</th>\n",
              "      <td>in my opinion , a movie reviewer's most import...</td>\n",
              "      <td>0</td>\n",
              "      <td>0</td>\n",
              "    </tr>\n",
              "    <tr>\n",
              "      <th>1</th>\n",
              "      <td>you can watch this movie , that is based on a ...</td>\n",
              "      <td>0</td>\n",
              "      <td>0</td>\n",
              "    </tr>\n",
              "    <tr>\n",
              "      <th>2</th>\n",
              "      <td>this is asking a lot to believe , and though i...</td>\n",
              "      <td>0</td>\n",
              "      <td>0</td>\n",
              "    </tr>\n",
              "    <tr>\n",
              "      <th>3</th>\n",
              "      <td>no heroes and no story are the main attributes...</td>\n",
              "      <td>0</td>\n",
              "      <td>0</td>\n",
              "    </tr>\n",
              "    <tr>\n",
              "      <th>4</th>\n",
              "      <td>this is not an art movie , yet i saw it an art...</td>\n",
              "      <td>0</td>\n",
              "      <td>0</td>\n",
              "    </tr>\n",
              "    <tr>\n",
              "      <th>...</th>\n",
              "      <td>...</td>\n",
              "      <td>...</td>\n",
              "      <td>...</td>\n",
              "    </tr>\n",
              "    <tr>\n",
              "      <th>5005</th>\n",
              "      <td>screenplay : stanley tucci , joseph tropiano ....</td>\n",
              "      <td>2</td>\n",
              "      <td>3</td>\n",
              "    </tr>\n",
              "    <tr>\n",
              "      <th>5006</th>\n",
              "      <td>it is the kind of situation you might have see...</td>\n",
              "      <td>2</td>\n",
              "      <td>3</td>\n",
              "    </tr>\n",
              "    <tr>\n",
              "      <th>5007</th>\n",
              "      <td>billy bob thornton has presented me with a won...</td>\n",
              "      <td>2</td>\n",
              "      <td>3</td>\n",
              "    </tr>\n",
              "    <tr>\n",
              "      <th>5008</th>\n",
              "      <td>the two main characters in neil labute's in th...</td>\n",
              "      <td>2</td>\n",
              "      <td>3</td>\n",
              "    </tr>\n",
              "    <tr>\n",
              "      <th>5009</th>\n",
              "      <td></td>\n",
              "      <td></td>\n",
              "      <td></td>\n",
              "    </tr>\n",
              "  </tbody>\n",
              "</table>\n",
              "<p>5010 rows × 3 columns</p>\n",
              "</div>"
            ],
            "text/plain": [
              "                                                 review 3class 4class\n",
              "0     in my opinion , a movie reviewer's most import...      0      0\n",
              "1     you can watch this movie , that is based on a ...      0      0\n",
              "2     this is asking a lot to believe , and though i...      0      0\n",
              "3     no heroes and no story are the main attributes...      0      0\n",
              "4     this is not an art movie , yet i saw it an art...      0      0\n",
              "...                                                 ...    ...    ...\n",
              "5005  screenplay : stanley tucci , joseph tropiano ....      2      3\n",
              "5006  it is the kind of situation you might have see...      2      3\n",
              "5007  billy bob thornton has presented me with a won...      2      3\n",
              "5008  the two main characters in neil labute's in th...      2      3\n",
              "5009                                                                 \n",
              "\n",
              "[5010 rows x 3 columns]"
            ]
          },
          "metadata": {},
          "execution_count": 5
        }
      ]
    },
    {
      "cell_type": "markdown",
      "metadata": {
        "id": "XvO0V2e8Oqso"
      },
      "source": [
        "# Pre-processing the data"
      ]
    },
    {
      "cell_type": "code",
      "metadata": {
        "id": "YBWQTz_5OqAQ",
        "colab": {
          "base_uri": "https://localhost:8080/"
        },
        "outputId": "ae21cc84-ef83-4f31-8c68-f741ae1dad24"
      },
      "source": [
        "data['3class'].value_counts()"
      ],
      "execution_count": 6,
      "outputs": [
        {
          "output_type": "execute_result",
          "data": {
            "text/plain": [
              "1    1915\n",
              "2    1894\n",
              "0    1197\n",
              "        4\n",
              "Name: 3class, dtype: int64"
            ]
          },
          "metadata": {},
          "execution_count": 6
        }
      ]
    },
    {
      "cell_type": "code",
      "metadata": {
        "id": "QZ9jP2WX_m-u"
      },
      "source": [
        "data = data[data['3class']!='']\n"
      ],
      "execution_count": 7,
      "outputs": []
    },
    {
      "cell_type": "code",
      "metadata": {
        "id": "qqCYX1GyNL0m",
        "colab": {
          "base_uri": "https://localhost:8080/"
        },
        "outputId": "64a3805a-fc21-4bfd-94d5-dc3439ea5e22"
      },
      "source": [
        "# Spliting the dataset for training and testing\n",
        "X_train, X_test, y_train, y_test = train_test_split (data['review'], data['3class'] , train_size = 0.8, random_state = 42, shuffle = True, stratify=data['3class'])\n",
        "print ('Shapes of X_train, y_train: ', X_train.shape, y_train.shape)\n",
        "print ('Shapes of X_test, y_test: ', X_test.shape, y_test.shape)"
      ],
      "execution_count": 8,
      "outputs": [
        {
          "output_type": "stream",
          "name": "stdout",
          "text": [
            "Shapes of X_train, y_train:  (4004,) (4004,)\n",
            "Shapes of X_test, y_test:  (1002,) (1002,)\n"
          ]
        }
      ]
    },
    {
      "cell_type": "code",
      "metadata": {
        "id": "vyzvklgbOvfZ",
        "colab": {
          "base_uri": "https://localhost:8080/"
        },
        "outputId": "c89c34f7-7f35-42e1-f98b-23fae19b204c"
      },
      "source": [
        "# Vectorizing the documents\n",
        "vectorizer = CountVectorizer(binary = True)\n",
        "X_train = vectorizer.fit_transform(X_train.to_list())\n",
        "X_test = vectorizer.transform(X_test.to_list())\n",
        "print ('Shapes of X_train, y_train: ', X_train.shape, y_train.shape)\n",
        "print ('Shapes of X_test, y_test: ', X_test.shape, y_test.shape)"
      ],
      "execution_count": 9,
      "outputs": [
        {
          "output_type": "stream",
          "name": "stdout",
          "text": [
            "Shapes of X_train, y_train:  (4004, 38615) (4004,)\n",
            "Shapes of X_test, y_test:  (1002, 38615) (1002,)\n"
          ]
        }
      ]
    },
    {
      "cell_type": "markdown",
      "metadata": {
        "id": "AvCkAJ00RH7D"
      },
      "source": [
        "# Linear models"
      ]
    },
    {
      "cell_type": "markdown",
      "metadata": {
        "id": "APzuE9I8hDnE"
      },
      "source": [
        "### Default"
      ]
    },
    {
      "cell_type": "code",
      "metadata": {
        "id": "u53BC-tySKGK"
      },
      "source": [
        "def printing_eval_scores (y_true, y_pred, report=''):\n",
        "  accuracy = sklearn.metrics.accuracy_score(y_true, y_pred)\n",
        "  precision = sklearn.metrics.precision_score(y_true, y_pred, average = 'weighted')\n",
        "  recall = sklearn.metrics.recall_score(y_true, y_pred, average = 'weighted')\n",
        "  f1 = sklearn.metrics.f1_score(y_true, y_pred, average = 'weighted')\n",
        "  print('accuracy score: {:.3f}'.format(accuracy))\n",
        "  print('precision score: {:.3f}'.format(precision))\n",
        "  print('recall score: {:.3f}'.format(recall))\n",
        "  print('F1 score: {:.3f}'.format(f1))\n",
        "  if report is True:\n",
        "    print(classification_report(y_true, y_pred))\n",
        "  else:\n",
        "    pass\n",
        "  return accuracy, precision, recall, f1"
      ],
      "execution_count": 10,
      "outputs": []
    },
    {
      "cell_type": "code",
      "metadata": {
        "id": "xWkVLHPYRLGL",
        "colab": {
          "base_uri": "https://localhost:8080/"
        },
        "outputId": "cbc185e2-766d-4c05-bf01-5f111dddc933"
      },
      "source": [
        "\n",
        "def training (penalty, max_iter): #penalty=\"l2\", max_iter=100\n",
        "  SGD = SGDClassifier( penalty=penalty, max_iter=max_iter, shuffle=True).fit(X_train, y_train)\n",
        "  y_pred = SGD.predict(X_test)\n",
        "  printing_eval_scores (y_test, y_pred, report=True)\n",
        "\n",
        "penalties = ['l1','l2']\n",
        "for penalty in penalties:\n",
        "  print('\\n-------training linear model with penalty = {}'.format(penalty ))\n",
        "  training (penalty='l2', max_iter=100)"
      ],
      "execution_count": 11,
      "outputs": [
        {
          "output_type": "stream",
          "name": "stdout",
          "text": [
            "\n",
            "-------training linear model with penalty = l1\n",
            "accuracy score: 0.653\n",
            "precision score: 0.649\n",
            "recall score: 0.653\n",
            "F1 score: 0.649\n",
            "              precision    recall  f1-score   support\n",
            "\n",
            "           0       0.65      0.60      0.62       240\n",
            "           1       0.59      0.55      0.57       383\n",
            "           2       0.71      0.79      0.75       379\n",
            "\n",
            "    accuracy                           0.65      1002\n",
            "   macro avg       0.65      0.65      0.65      1002\n",
            "weighted avg       0.65      0.65      0.65      1002\n",
            "\n",
            "\n",
            "-------training linear model with penalty = l2\n",
            "accuracy score: 0.668\n",
            "precision score: 0.665\n",
            "recall score: 0.668\n",
            "F1 score: 0.664\n",
            "              precision    recall  f1-score   support\n",
            "\n",
            "           0       0.68      0.60      0.64       240\n",
            "           1       0.62      0.58      0.60       383\n",
            "           2       0.70      0.80      0.75       379\n",
            "\n",
            "    accuracy                           0.67      1002\n",
            "   macro avg       0.67      0.66      0.66      1002\n",
            "weighted avg       0.66      0.67      0.66      1002\n",
            "\n"
          ]
        }
      ]
    },
    {
      "cell_type": "markdown",
      "metadata": {
        "id": "fw8gnX8LhIpc"
      },
      "source": [
        ""
      ]
    },
    {
      "cell_type": "markdown",
      "metadata": {
        "id": "GC2IatzMgpFe"
      },
      "source": [
        "Penalty = L2, and loss = log (logistic regression model) yeild the best performance on F1 score (0.657)"
      ]
    },
    {
      "cell_type": "markdown",
      "metadata": {
        "id": "mGbctRPkhP_E"
      },
      "source": [
        "### Searching the best parameter"
      ]
    },
    {
      "cell_type": "code",
      "metadata": {
        "id": "t8hoW9GIeuZs",
        "colab": {
          "base_uri": "https://localhost:8080/"
        },
        "outputId": "de1cc217-a9ba-47a8-dd36-cbf0d0c04217"
      },
      "source": [
        "# Set the parameters by cross-validation\n",
        "tuned_parameters = [{'alpha': [i for i in np.arange (0.0001, 0.01, 0.001 )]}] #, 'loss': ['log','hinge', 'perceptron']}]\n",
        "score = 'f1'\n",
        "\n",
        "print(\"# Searching hyper-parameters for %s\" % score)\n",
        "clf = GridSearchCV(SGDClassifier(shuffle=True), tuned_parameters, scoring='%s_macro' % score, cv = 5, refit = True, n_jobs = -1 )\n",
        "clf.fit(X_train, y_train)\n",
        "print('Best parameters set found on development set: {}'.format(clf.best_params_))\n",
        "print(\"Grid scores on development set:\")\n",
        "means = clf.cv_results_['mean_test_score']\n",
        "stds = clf.cv_results_['std_test_score']\n",
        "\n",
        "y_pred =  clf.predict(X_test)\n",
        "printing_eval_scores (y_test, y_pred, report=True)\n",
        "\n"
      ],
      "execution_count": 12,
      "outputs": [
        {
          "output_type": "stream",
          "name": "stdout",
          "text": [
            "# Searching hyper-parameters for f1\n",
            "Best parameters set found on development set: {'alpha': 0.0041}\n",
            "Grid scores on development set:\n",
            "accuracy score: 0.642\n",
            "precision score: 0.645\n",
            "recall score: 0.642\n",
            "F1 score: 0.642\n",
            "              precision    recall  f1-score   support\n",
            "\n",
            "           0       0.68      0.55      0.61       240\n",
            "           1       0.55      0.60      0.58       383\n",
            "           2       0.72      0.74      0.73       379\n",
            "\n",
            "    accuracy                           0.64      1002\n",
            "   macro avg       0.65      0.63      0.64      1002\n",
            "weighted avg       0.65      0.64      0.64      1002\n",
            "\n"
          ]
        },
        {
          "output_type": "execute_result",
          "data": {
            "text/plain": [
              "(0.6417165668662674, 0.645438692804393, 0.6417165668662674, 0.6415493721091068)"
            ]
          },
          "metadata": {},
          "execution_count": 12
        }
      ]
    },
    {
      "cell_type": "markdown",
      "metadata": {
        "id": "Mmg1ajLk_qF2"
      },
      "source": [
        "**(4)  SGDClassifier used “one versus all” (OVA) strategy to handle multi-class strategy. For each of K classes, the binary classifier will try to predict that class and the rest other K-1 classes.**"
      ]
    },
    {
      "cell_type": "code",
      "metadata": {
        "colab": {
          "base_uri": "https://localhost:8080/"
        },
        "id": "rF8SMd919XVH",
        "outputId": "eb94fa2b-1435-4683-d824-199ff8d65e4c"
      },
      "source": [
        "# Printing features with highest weights.\n",
        "best_SGD = SGDClassifier( penalty='l2',  shuffle=True, alpha=0.0081).fit(X_train, y_train)\n",
        "y_pred = best_SGD.predict(X_test)\n",
        "weights = best_SGD.coef_\n",
        "weights"
      ],
      "execution_count": 13,
      "outputs": [
        {
          "output_type": "execute_result",
          "data": {
            "text/plain": [
              "array([[ 0.031659  , -0.04582223, -0.02999273, ...,  0.        ,\n",
              "         0.        ,  0.00249939],\n",
              "       [ 0.00880765, -0.05578175,  0.01834926, ..., -0.00660573,\n",
              "         0.00073397, -0.01688132],\n",
              "       [-0.06960352,  0.08252989,  0.04474512, ...,  0.01590938,\n",
              "         0.00696035,  0.        ]])"
            ]
          },
          "metadata": {},
          "execution_count": 13
        }
      ]
    },
    {
      "cell_type": "code",
      "metadata": {
        "colab": {
          "base_uri": "https://localhost:8080/"
        },
        "id": "k41E0kWSG7_p",
        "outputId": "7a669c10-66df-4c21-d422-866e237326b9"
      },
      "source": [
        "features = vectorizer.get_feature_names()\n",
        "\n",
        "feature_weights = {}\n",
        "for i in range(len(weights)):\n",
        "  print('\\n==============================================')\n",
        "  print ('\\nclass: {}'.format(i+1))\n",
        "  for w in range(len(weights[i])):\n",
        "     feature_weights[features[w]] = np.abs(weights[i][w])\n",
        "  # Sorting the dictionary in descending order\n",
        "  sorted_feature_weights = {k:v for k, v in sorted(feature_weights.items(), key = lambda item: item[1], reverse=True)}\n",
        "\n",
        "  # Print the weights learned for each class\n",
        "  print('10 most important features (in descending order): ')\n",
        "  for k, v in list(sorted_feature_weights.items())[:20]:\n",
        "    print ('{}: {:.5f}'. format(k,v))\n"
      ],
      "execution_count": 14,
      "outputs": [
        {
          "output_type": "stream",
          "name": "stdout",
          "text": [
            "\n",
            "==============================================\n",
            "\n",
            "class: 1\n",
            "10 most important features (in descending order): \n",
            "ridiculous: 0.27493\n",
            "bad: 0.27077\n",
            "routine: 0.26744\n",
            "contrived: 0.24078\n",
            "watchable: 0.22994\n",
            "boring: 0.22828\n",
            "fans: 0.22661\n",
            "problems: 0.22411\n",
            "fine: 0.22328\n",
            "worst: 0.21745\n",
            "although: 0.21411\n",
            "dull: 0.21245\n",
            "flat: 0.21245\n",
            "failed: 0.20828\n",
            "awake: 0.20578\n",
            "wasted: 0.20412\n",
            "single: 0.19995\n",
            "mike: 0.19745\n",
            "satisfying: 0.19579\n",
            "attempt: 0.19245\n",
            "\n",
            "==============================================\n",
            "\n",
            "class: 2\n",
            "10 most important features (in descending order): \n",
            "unfortunately: 0.27891\n",
            "able: 0.27230\n",
            "perfect: 0.26423\n",
            "add: 0.24074\n",
            "executed: 0.24001\n",
            "frustrating: 0.23487\n",
            "villain: 0.23487\n",
            "hope: 0.22753\n",
            "problems: 0.22459\n",
            "difficult: 0.22019\n",
            "recommending: 0.22019\n",
            "nice: 0.21799\n",
            "problem: 0.21652\n",
            "entertaining: 0.21579\n",
            "thumbs: 0.21212\n",
            "myself: 0.21065\n",
            "suitable: 0.21065\n",
            "terrific: 0.20918\n",
            "era: 0.20845\n",
            "constant: 0.20625\n",
            "\n",
            "==============================================\n",
            "\n",
            "class: 3\n",
            "10 most important features (in descending order): \n",
            "unfortunately: 0.33907\n",
            "perfect: 0.26847\n",
            "flat: 0.25157\n",
            "interesting: 0.24858\n",
            "watchable: 0.23665\n",
            "great: 0.23466\n",
            "problem: 0.23367\n",
            "predictable: 0.23069\n",
            "thumbs: 0.22870\n",
            "delightful: 0.21975\n",
            "strongly: 0.21478\n",
            "the: 0.20682\n",
            "dull: 0.20384\n",
            "tries: 0.19191\n",
            "intensity: 0.18992\n",
            "favorite: 0.18992\n",
            "delight: 0.18892\n",
            "traditional: 0.18793\n",
            "seriously: 0.18694\n",
            "and: 0.18594\n"
          ]
        }
      ]
    },
    {
      "cell_type": "markdown",
      "metadata": {
        "id": "FEf_4Mt6IBJC"
      },
      "source": [
        "**Q6. How does the hyperplane of the classifier look like?**"
      ]
    },
    {
      "cell_type": "code",
      "metadata": {
        "id": "xzfB1cFVIFBQ",
        "colab": {
          "base_uri": "https://localhost:8080/"
        },
        "outputId": "0bde69d8-0db2-42b3-a6ad-b7fd2c412ab0"
      },
      "source": [
        "import seaborn as sns\n",
        "# sns.displot(weights)\n",
        "hyperplane = best_SGD.decision_function(X_train).T\n",
        "#sns.displot(np.flatnonzero(hyperplane))\n",
        "hyperplane"
      ],
      "execution_count": 15,
      "outputs": [
        {
          "output_type": "execute_result",
          "data": {
            "text/plain": [
              "array([[-1.74612289, -1.05045808, -1.13043871, ..., -2.41679375,\n",
              "        -2.04188457, -1.12210739],\n",
              "       [ 1.47007337,  1.19263254, -0.86321865, ..., -0.8940454 ,\n",
              "        -1.0305639 , -2.04491104],\n",
              "       [-1.63897062, -1.69564777,  0.92542183, ...,  1.09943062,\n",
              "         1.07158922,  1.22471696]])"
            ]
          },
          "metadata": {},
          "execution_count": 15
        }
      ]
    },
    {
      "cell_type": "code",
      "metadata": {
        "id": "Dddef30XpBNi",
        "colab": {
          "base_uri": "https://localhost:8080/",
          "height": 1000
        },
        "outputId": "d1ba1ac6-cee2-49c6-8a25-4516e2b9e462"
      },
      "source": [
        "for i in range(3):\n",
        "  sns.displot(hyperplane[i], kind = 'hist')\n"
      ],
      "execution_count": 16,
      "outputs": [
        {
          "output_type": "display_data",
          "data": {
            "image/png": "[encoded data removed]",
            "text/plain": [
              "<Figure size 360x360 with 1 Axes>"
            ]
          },
          "metadata": {
            "needs_background": "light"
          }
        },
        {
          "output_type": "display_data",
          "data": {
            "image/png": "[encoded data removed]",
            "text/plain": [
              "<Figure size 360x360 with 1 Axes>"
            ]
          },
          "metadata": {
            "needs_background": "light"
          }
        },
        {
          "output_type": "display_data",
          "data": {
            "image/png": "[encoded data removed]",
            "text/plain": [
              "<Figure size 360x360 with 1 Axes>"
            ]
          },
          "metadata": {
            "needs_background": "light"
          }
        }
      ]
    },
    {
      "cell_type": "markdown",
      "metadata": {
        "id": "ZCObzt9s8LNl"
      },
      "source": [
        "**Q7. Model with log loss function**"
      ]
    },
    {
      "cell_type": "code",
      "metadata": {
        "id": "u_uRSKZiqoBX",
        "colab": {
          "base_uri": "https://localhost:8080/"
        },
        "outputId": "d53206ba-2df8-4d47-8abf-872545ea23f1"
      },
      "source": [
        "log_SGD = SGDClassifier(loss='log', penalty='l2',  shuffle=True, alpha=0.0081).fit(X_train, y_train)\n",
        "y_pred = log_SGD.predict(X_test)\n",
        "printing_eval_scores (y_test, y_pred, report=True)\n"
      ],
      "execution_count": 17,
      "outputs": [
        {
          "output_type": "stream",
          "name": "stdout",
          "text": [
            "accuracy score: 0.681\n",
            "precision score: 0.682\n",
            "recall score: 0.681\n",
            "F1 score: 0.678\n",
            "              precision    recall  f1-score   support\n",
            "\n",
            "           0       0.73      0.56      0.64       240\n",
            "           1       0.61      0.63      0.62       383\n",
            "           2       0.72      0.81      0.76       379\n",
            "\n",
            "    accuracy                           0.68      1002\n",
            "   macro avg       0.69      0.67      0.67      1002\n",
            "weighted avg       0.68      0.68      0.68      1002\n",
            "\n"
          ]
        },
        {
          "output_type": "execute_result",
          "data": {
            "text/plain": [
              "(0.6806387225548902, 0.6824390236903339, 0.6806387225548902, 0.677872526107305)"
            ]
          },
          "metadata": {},
          "execution_count": 17
        }
      ]
    },
    {
      "cell_type": "code",
      "metadata": {
        "id": "uNIp41-2LsDd"
      },
      "source": [
        "y_pred_cl = [ for i y_pred] "
      ],
      "execution_count": null,
      "outputs": []
    },
    {
      "cell_type": "markdown",
      "metadata": {
        "id": "jFMb2r5s8h_d"
      },
      "source": [
        "**8. Building a linear model to compare the result**"
      ]
    },
    {
      "cell_type": "code",
      "metadata": {
        "id": "xxZXLnk98hSd"
      },
      "source": [
        "df = pd.DataFrame(zip(id, review, rating, cl_3, cl_4), columns = ['id', 'review', 'rating', '3class', '4class'])\n",
        "new_df = df[['review', 'rating']].dropna()\n",
        "new_df = new_df[new_df['rating'] != '']\n",
        "new_df['rating'] =new_df['rating'].apply(lambda x: float(x))\n",
        "     \n",
        "   "
      ],
      "execution_count": 18,
      "outputs": []
    },
    {
      "cell_type": "code",
      "metadata": {
        "id": "8NSbrMBo1j_g",
        "colab": {
          "base_uri": "https://localhost:8080/"
        },
        "outputId": "c44415de-abfa-4589-84fd-592fd5702423"
      },
      "source": [
        "new_df['rating'].describe()"
      ],
      "execution_count": 19,
      "outputs": [
        {
          "output_type": "execute_result",
          "data": {
            "text/plain": [
              "count    5006.000000\n",
              "mean        0.581422\n",
              "std         0.181725\n",
              "min         0.000000\n",
              "25%         0.490000\n",
              "50%         0.600000\n",
              "75%         0.700000\n",
              "max         1.000000\n",
              "Name: rating, dtype: float64"
            ]
          },
          "metadata": {},
          "execution_count": 19
        }
      ]
    },
    {
      "cell_type": "code",
      "metadata": {
        "id": "CkrIt25JtiVt",
        "colab": {
          "base_uri": "https://localhost:8080/",
          "height": 497
        },
        "outputId": "6c039206-1cfb-41a0-9060-ff41445cf97f"
      },
      "source": [
        "plt.figure(figsize=(10,8))\n",
        "sns.histplot(data = new_df, x = 'rating', bins = 20)\n",
        "plt.show()\n"
      ],
      "execution_count": 20,
      "outputs": [
        {
          "output_type": "display_data",
          "data": {
            "image/png": "[encoded data removed]",
            "text/plain": [
              "<Figure size 720x576 with 1 Axes>"
            ]
          },
          "metadata": {
            "needs_background": "light"
          }
        }
      ]
    },
    {
      "cell_type": "code",
      "metadata": {
        "colab": {
          "base_uri": "https://localhost:8080/"
        },
        "id": "A4ukaneBAJAo",
        "outputId": "4de6f8cd-8a73-4742-e8e5-00d4e7ee60c6"
      },
      "source": [
        "# Spliting the dataset for training and testing\n",
        "X_train_, X_test_, y_train_, y_test_ = train_test_split (new_df['review'], new_df['rating'] , train_size = 0.8, random_state = 42, shuffle = True)\n",
        "print ('Shapes of X_train, y_train: ', X_train.shape, y_train.shape)\n",
        "print ('Shapes of X_test, y_test: ', X_test.shape, y_test.shape)"
      ],
      "execution_count": 21,
      "outputs": [
        {
          "output_type": "stream",
          "name": "stdout",
          "text": [
            "Shapes of X_train, y_train:  (4004, 38615) (4004,)\n",
            "Shapes of X_test, y_test:  (1002, 38615) (1002,)\n"
          ]
        }
      ]
    },
    {
      "cell_type": "code",
      "metadata": {
        "colab": {
          "base_uri": "https://localhost:8080/"
        },
        "id": "bXqfjmvrAJAp",
        "outputId": "fb132221-99f0-43cf-d7bf-a7e92f26e9d5"
      },
      "source": [
        "# Vectorizing the documents\n",
        "vectorizer = CountVectorizer(binary = True)\n",
        "X_train_ = vectorizer.fit_transform(X_train_.to_list())\n",
        "X_test_ = vectorizer.transform(X_test_.to_list())\n",
        "print ('Shapes of X_train, y_train: ', X_train.shape, y_train.shape)\n",
        "print ('Shapes of X_test, y_test: ', X_test.shape, y_test.shape)"
      ],
      "execution_count": 22,
      "outputs": [
        {
          "output_type": "stream",
          "name": "stdout",
          "text": [
            "Shapes of X_train, y_train:  (4004, 38615) (4004,)\n",
            "Shapes of X_test, y_test:  (1002, 38615) (1002,)\n"
          ]
        }
      ]
    },
    {
      "cell_type": "code",
      "metadata": {
        "id": "E98URH1HCAJw",
        "colab": {
          "base_uri": "https://localhost:8080/"
        },
        "outputId": "779f1e3a-ec50-4a92-eb00-aca22199d5e6"
      },
      "source": [
        "from sklearn.linear_model import LinearRegression\n",
        "from sklearn.metrics import mean_squared_error, r2_score\n",
        "reg = LinearRegression().fit(X_train_, y_train_)\n",
        "y_pred = reg.predict(X_test_)\n",
        "print('mean squared error: {:.3f}'.format(mean_squared_error(y_test_, y_pred)))\n",
        "print('r2 score: {:.3f}'.format(r2_score(y_test_, y_pred)))"
      ],
      "execution_count": 23,
      "outputs": [
        {
          "output_type": "stream",
          "name": "stdout",
          "text": [
            "mean squared error: 0.019\n",
            "r2 score: 0.430\n"
          ]
        }
      ]
    },
    {
      "cell_type": "markdown",
      "metadata": {
        "id": "SK3hGX2fcxUf"
      },
      "source": [
        "# Implementing minibatches\n"
      ]
    },
    {
      "cell_type": "code",
      "metadata": {
        "colab": {
          "base_uri": "https://localhost:8080/"
        },
        "id": "lvvbxyo8iRK9",
        "outputId": "bcdec96a-5c1e-451a-a434-0a60e6c7541b"
      },
      "source": [
        "from sklearn.linear_model import SGDClassifier\n",
        "import random\n",
        "log_SGD_2 = SGDClassifier(loss='log', penalty='l2',  shuffle=True, alpha=0.0081).fit(X_train, y_train)\n",
        "n_iter = 10\n",
        "batch_size = 32\n",
        "for n in range(n_iter):\n",
        "  print ('----------iteration {}-----------'.format(n+1))\n",
        "  n_instances, n_features = X_train.shape\n",
        "  i=0 \n",
        "  while i<= round(n_instances/batch_size):\n",
        "    m = batch_size * i\n",
        "    n = m + batch_size\n",
        "    log_SGD_2.partial_fit(X_train[m:n], y_train[m:n], classes=np.unique(y_train))\n",
        "    i+=1    \n",
        "  y_pred = log_SGD_2.predict(X_test)\n",
        "  printing_eval_scores(y_test, y_pred, report = True)"
      ],
      "execution_count": 30,
      "outputs": [
        {
          "output_type": "stream",
          "name": "stdout",
          "text": [
            "----------iteration 1-----------\n",
            "accuracy score: 0.680\n",
            "precision score: 0.684\n",
            "recall score: 0.680\n",
            "F1 score: 0.678\n",
            "              precision    recall  f1-score   support\n",
            "\n",
            "           0       0.73      0.55      0.63       240\n",
            "           1       0.60      0.66      0.63       383\n",
            "           2       0.74      0.79      0.76       379\n",
            "\n",
            "    accuracy                           0.68      1002\n",
            "   macro avg       0.69      0.66      0.67      1002\n",
            "weighted avg       0.68      0.68      0.68      1002\n",
            "\n",
            "----------iteration 2-----------\n",
            "accuracy score: 0.681\n",
            "precision score: 0.685\n",
            "recall score: 0.681\n",
            "F1 score: 0.679\n",
            "              precision    recall  f1-score   support\n",
            "\n",
            "           0       0.73      0.55      0.62       240\n",
            "           1       0.60      0.65      0.62       383\n",
            "           2       0.74      0.79      0.77       379\n",
            "\n",
            "    accuracy                           0.68      1002\n",
            "   macro avg       0.69      0.66      0.67      1002\n",
            "weighted avg       0.68      0.68      0.68      1002\n",
            "\n",
            "----------iteration 3-----------\n",
            "accuracy score: 0.678\n",
            "precision score: 0.681\n",
            "recall score: 0.678\n",
            "F1 score: 0.676\n",
            "              precision    recall  f1-score   support\n",
            "\n",
            "           0       0.73      0.55      0.63       240\n",
            "           1       0.60      0.64      0.62       383\n",
            "           2       0.74      0.79      0.76       379\n",
            "\n",
            "    accuracy                           0.68      1002\n",
            "   macro avg       0.69      0.66      0.67      1002\n",
            "weighted avg       0.68      0.68      0.68      1002\n",
            "\n",
            "----------iteration 4-----------\n",
            "accuracy score: 0.675\n",
            "precision score: 0.678\n",
            "recall score: 0.675\n",
            "F1 score: 0.673\n",
            "              precision    recall  f1-score   support\n",
            "\n",
            "           0       0.73      0.55      0.63       240\n",
            "           1       0.60      0.63      0.61       383\n",
            "           2       0.73      0.79      0.76       379\n",
            "\n",
            "    accuracy                           0.67      1002\n",
            "   macro avg       0.68      0.66      0.67      1002\n",
            "weighted avg       0.68      0.67      0.67      1002\n",
            "\n",
            "----------iteration 5-----------\n",
            "accuracy score: 0.678\n",
            "precision score: 0.680\n",
            "recall score: 0.678\n",
            "F1 score: 0.675\n",
            "              precision    recall  f1-score   support\n",
            "\n",
            "           0       0.73      0.55      0.63       240\n",
            "           1       0.60      0.63      0.62       383\n",
            "           2       0.73      0.80      0.76       379\n",
            "\n",
            "    accuracy                           0.68      1002\n",
            "   macro avg       0.69      0.66      0.67      1002\n",
            "weighted avg       0.68      0.68      0.68      1002\n",
            "\n",
            "----------iteration 6-----------\n",
            "accuracy score: 0.677\n",
            "precision score: 0.679\n",
            "recall score: 0.677\n",
            "F1 score: 0.674\n",
            "              precision    recall  f1-score   support\n",
            "\n",
            "           0       0.72      0.55      0.63       240\n",
            "           1       0.60      0.63      0.61       383\n",
            "           2       0.73      0.80      0.76       379\n",
            "\n",
            "    accuracy                           0.68      1002\n",
            "   macro avg       0.68      0.66      0.67      1002\n",
            "weighted avg       0.68      0.68      0.67      1002\n",
            "\n",
            "----------iteration 7-----------\n",
            "accuracy score: 0.677\n",
            "precision score: 0.679\n",
            "recall score: 0.677\n",
            "F1 score: 0.674\n",
            "              precision    recall  f1-score   support\n",
            "\n",
            "           0       0.72      0.55      0.63       240\n",
            "           1       0.60      0.63      0.61       383\n",
            "           2       0.73      0.80      0.76       379\n",
            "\n",
            "    accuracy                           0.68      1002\n",
            "   macro avg       0.68      0.66      0.67      1002\n",
            "weighted avg       0.68      0.68      0.67      1002\n",
            "\n",
            "----------iteration 8-----------\n",
            "accuracy score: 0.677\n",
            "precision score: 0.679\n",
            "recall score: 0.677\n",
            "F1 score: 0.674\n",
            "              precision    recall  f1-score   support\n",
            "\n",
            "           0       0.72      0.56      0.63       240\n",
            "           1       0.60      0.63      0.61       383\n",
            "           2       0.73      0.80      0.76       379\n",
            "\n",
            "    accuracy                           0.68      1002\n",
            "   macro avg       0.68      0.66      0.67      1002\n",
            "weighted avg       0.68      0.68      0.67      1002\n",
            "\n",
            "----------iteration 9-----------\n",
            "accuracy score: 0.678\n",
            "precision score: 0.680\n",
            "recall score: 0.678\n",
            "F1 score: 0.675\n",
            "              precision    recall  f1-score   support\n",
            "\n",
            "           0       0.73      0.56      0.63       240\n",
            "           1       0.60      0.63      0.61       383\n",
            "           2       0.73      0.80      0.76       379\n",
            "\n",
            "    accuracy                           0.68      1002\n",
            "   macro avg       0.69      0.66      0.67      1002\n",
            "weighted avg       0.68      0.68      0.68      1002\n",
            "\n",
            "----------iteration 10-----------\n",
            "accuracy score: 0.678\n",
            "precision score: 0.680\n",
            "recall score: 0.678\n",
            "F1 score: 0.675\n",
            "              precision    recall  f1-score   support\n",
            "\n",
            "           0       0.72      0.56      0.63       240\n",
            "           1       0.60      0.63      0.61       383\n",
            "           2       0.73      0.80      0.76       379\n",
            "\n",
            "    accuracy                           0.68      1002\n",
            "   macro avg       0.69      0.66      0.67      1002\n",
            "weighted avg       0.68      0.68      0.68      1002\n",
            "\n"
          ]
        }
      ]
    }
  ]
}