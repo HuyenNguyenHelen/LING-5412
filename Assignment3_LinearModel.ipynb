{
  "nbformat": 4,
  "nbformat_minor": 0,
  "metadata": {
    "colab": {
      "name": "Untitled19.ipynb",
      "provenance": [],
      "collapsed_sections": [],
      "authorship_tag": "ABX9TyMbd1XiVAwNW3MXj4skv58I",
      "include_colab_link": true
    },
    "kernelspec": {
      "name": "python3",
      "display_name": "Python 3"
    },
    "language_info": {
      "name": "python"
    }
  },
  "cells": [
    {
      "cell_type": "markdown",
      "metadata": {
        "id": "view-in-github",
        "colab_type": "text"
      },
      "source": [
        "<a href=\"https://colab.research.google.com/github/HuyenNguyenHelen/LING-5412/blob/main/Assignment3_LinearModel.ipynb\" target=\"_parent\"><img src=\"https://colab.research.google.com/assets/colab-badge.svg\" alt=\"Open In Colab\"/></a>"
      ]
    },
    {
      "cell_type": "code",
      "metadata": {
        "colab": {
          "base_uri": "https://localhost:8080/"
        },
        "id": "wZTlx8cNJtee",
        "outputId": "f178ed01-585d-4cac-83d7-cc99d3004535"
      },
      "source": [
        "# Importing libraries that will be used \n",
        "import numpy as np\n",
        "import tarfile\n",
        "import glob\n",
        "import re\n",
        "import pandas as pd\n",
        "#from nltk.corpus import stopwords\n",
        "import nltk\n",
        "nltk.download('wordnet')\n",
        "import sklearn\n",
        "from sklearn.feature_extraction.text import CountVectorizer\n",
        "from sklearn.linear_model import SGDClassifier\n",
        "from sklearn.model_selection import train_test_split\n",
        "from sklearn.metrics import accuracy_score, classification_report\n",
        "from sklearn.metrics import confusion_matrix, ConfusionMatrixDisplay"
      ],
      "execution_count": 1,
      "outputs": [
        {
          "output_type": "stream",
          "name": "stdout",
          "text": [
            "[nltk_data] Downloading package wordnet to /root/nltk_data...\n",
            "[nltk_data]   Package wordnet is already up-to-date!\n"
          ]
        }
      ]
    },
    {
      "cell_type": "markdown",
      "metadata": {
        "id": "mc2pTdPrJTp8"
      },
      "source": [
        "# Loading the dataset"
      ]
    },
    {
      "cell_type": "code",
      "metadata": {
        "colab": {
          "base_uri": "https://localhost:8080/"
        },
        "id": "6q_HpztUInR9",
        "outputId": "99c4c789-193f-492c-b1ad-03f0f69d357c"
      },
      "source": [
        "!wget http://www.cs.cornell.edu/people/pabo/movie-review-data/scale_data.tar.gz"
      ],
      "execution_count": 2,
      "outputs": [
        {
          "output_type": "stream",
          "name": "stdout",
          "text": [
            "--2021-10-04 21:55:25--  http://www.cs.cornell.edu/people/pabo/movie-review-data/scale_data.tar.gz\n",
            "Resolving www.cs.cornell.edu (www.cs.cornell.edu)... 132.236.207.36\n",
            "Connecting to www.cs.cornell.edu (www.cs.cornell.edu)|132.236.207.36|:80... connected.\n",
            "HTTP request sent, awaiting response... 200 OK\n",
            "Length: 4029756 (3.8M) [application/x-gzip]\n",
            "Saving to: ‘scale_data.tar.gz.1’\n",
            "\n",
            "scale_data.tar.gz.1 100%[===================>]   3.84M  17.8MB/s    in 0.2s    \n",
            "\n",
            "2021-10-04 21:55:25 (17.8 MB/s) - ‘scale_data.tar.gz.1’ saved [4029756/4029756]\n",
            "\n"
          ]
        }
      ]
    },
    {
      "cell_type": "code",
      "metadata": {
        "id": "wxlFbhDlJcT7"
      },
      "source": [
        "# Untar the dataset\n",
        "my_tar = tarfile.open('/content/scale_data.tar.gz')\n",
        "my_tar.extractall('/content/') \n",
        "my_tar.close()\n"
      ],
      "execution_count": 3,
      "outputs": []
    },
    {
      "cell_type": "code",
      "metadata": {
        "colab": {
          "base_uri": "https://localhost:8080/",
          "height": 441
        },
        "id": "oXoCmCDBNUac",
        "outputId": "531dd097-524c-41b6-950e-88121fc80712"
      },
      "source": [
        "id, review, rating, cl_3, cl_4 = [],[],[],[], []\n",
        "for root in glob.glob ('/content/scaledata/*'):\n",
        "  for path in glob.glob(root+'/*'): \n",
        "      fo = open(path)\n",
        "      doc = fo.read()\n",
        "      if 'id' in path:\n",
        "        id.extend(doc.split('\\n'))\n",
        "      elif 'subj' in path:\n",
        "        review.extend(doc.split('\\n'))\n",
        "      elif 'rating' in path:\n",
        "        rating.extend(doc.split('\\n'))\n",
        "      elif '3class' in path:\n",
        "        cl_3.extend(doc.split('\\n'))\n",
        "      else:\n",
        "        cl_4.extend(doc.split('\\n'))\n",
        "      # print(path,'\\n')\n",
        "      # print(doc.split('\\n')[:10])\n",
        "print (len(id), len(review), len(rating), len(cl_3), len(cl_4))\n",
        "\n",
        "data = pd.DataFrame(zip(id, review, rating, cl_3, cl_4), columns = ['id', 'review', 'rating', '3class', '4class'])\n",
        "data = data[['review', '3class', '4class']].dropna()\n",
        "data"
      ],
      "execution_count": 20,
      "outputs": [
        {
          "output_type": "stream",
          "name": "stdout",
          "text": [
            "5010 5010 5010 5010 5010\n"
          ]
        },
        {
          "output_type": "execute_result",
          "data": {
            "text/html": [
              "<div>\n",
              "<style scoped>\n",
              "    .dataframe tbody tr th:only-of-type {\n",
              "        vertical-align: middle;\n",
              "    }\n",
              "\n",
              "    .dataframe tbody tr th {\n",
              "        vertical-align: top;\n",
              "    }\n",
              "\n",
              "    .dataframe thead th {\n",
              "        text-align: right;\n",
              "    }\n",
              "</style>\n",
              "<table border=\"1\" class=\"dataframe\">\n",
              "  <thead>\n",
              "    <tr style=\"text-align: right;\">\n",
              "      <th></th>\n",
              "      <th>review</th>\n",
              "      <th>3class</th>\n",
              "      <th>4class</th>\n",
              "    </tr>\n",
              "  </thead>\n",
              "  <tbody>\n",
              "    <tr>\n",
              "      <th>0</th>\n",
              "      <td>in my opinion , a movie reviewer's most import...</td>\n",
              "      <td>0</td>\n",
              "      <td>0</td>\n",
              "    </tr>\n",
              "    <tr>\n",
              "      <th>1</th>\n",
              "      <td>you can watch this movie , that is based on a ...</td>\n",
              "      <td>0</td>\n",
              "      <td>0</td>\n",
              "    </tr>\n",
              "    <tr>\n",
              "      <th>2</th>\n",
              "      <td>this is asking a lot to believe , and though i...</td>\n",
              "      <td>0</td>\n",
              "      <td>0</td>\n",
              "    </tr>\n",
              "    <tr>\n",
              "      <th>3</th>\n",
              "      <td>no heroes and no story are the main attributes...</td>\n",
              "      <td>0</td>\n",
              "      <td>0</td>\n",
              "    </tr>\n",
              "    <tr>\n",
              "      <th>4</th>\n",
              "      <td>this is not an art movie , yet i saw it an art...</td>\n",
              "      <td>0</td>\n",
              "      <td>0</td>\n",
              "    </tr>\n",
              "    <tr>\n",
              "      <th>...</th>\n",
              "      <td>...</td>\n",
              "      <td>...</td>\n",
              "      <td>...</td>\n",
              "    </tr>\n",
              "    <tr>\n",
              "      <th>5005</th>\n",
              "      <td>nicolas roeg's mesmerizing 1971 film walkabout...</td>\n",
              "      <td>2</td>\n",
              "      <td>3</td>\n",
              "    </tr>\n",
              "    <tr>\n",
              "      <th>5006</th>\n",
              "      <td>the movie air force one should require a docto...</td>\n",
              "      <td>2</td>\n",
              "      <td>3</td>\n",
              "    </tr>\n",
              "    <tr>\n",
              "      <th>5007</th>\n",
              "      <td>\" well , jones , at least you haven't forgotte...</td>\n",
              "      <td>2</td>\n",
              "      <td>3</td>\n",
              "    </tr>\n",
              "    <tr>\n",
              "      <th>5008</th>\n",
              "      <td>in a time of bloated productions where special...</td>\n",
              "      <td>2</td>\n",
              "      <td>3</td>\n",
              "    </tr>\n",
              "    <tr>\n",
              "      <th>5009</th>\n",
              "      <td></td>\n",
              "      <td></td>\n",
              "      <td></td>\n",
              "    </tr>\n",
              "  </tbody>\n",
              "</table>\n",
              "<p>5010 rows × 3 columns</p>\n",
              "</div>"
            ],
            "text/plain": [
              "                                                 review 3class 4class\n",
              "0     in my opinion , a movie reviewer's most import...      0      0\n",
              "1     you can watch this movie , that is based on a ...      0      0\n",
              "2     this is asking a lot to believe , and though i...      0      0\n",
              "3     no heroes and no story are the main attributes...      0      0\n",
              "4     this is not an art movie , yet i saw it an art...      0      0\n",
              "...                                                 ...    ...    ...\n",
              "5005  nicolas roeg's mesmerizing 1971 film walkabout...      2      3\n",
              "5006  the movie air force one should require a docto...      2      3\n",
              "5007  \" well , jones , at least you haven't forgotte...      2      3\n",
              "5008  in a time of bloated productions where special...      2      3\n",
              "5009                                                                 \n",
              "\n",
              "[5010 rows x 3 columns]"
            ]
          },
          "metadata": {},
          "execution_count": 20
        }
      ]
    },
    {
      "cell_type": "code",
      "metadata": {
        "id": "YBWQTz_5OqAQ",
        "outputId": "50492267-f1f8-4035-c1d4-e7913a502799",
        "colab": {
          "base_uri": "https://localhost:8080/"
        }
      },
      "source": [
        "data['3class'].value_counts()"
      ],
      "execution_count": 19,
      "outputs": [
        {
          "output_type": "execute_result",
          "data": {
            "text/plain": [
              "1    1915\n",
              "2    1894\n",
              "0    1197\n",
              "        4\n",
              "Name: 3class, dtype: int64"
            ]
          },
          "metadata": {},
          "execution_count": 19
        }
      ]
    },
    {
      "cell_type": "markdown",
      "metadata": {
        "id": "XvO0V2e8Oqso"
      },
      "source": [
        "# Pre-processing the data"
      ]
    },
    {
      "cell_type": "code",
      "metadata": {
        "id": "qqCYX1GyNL0m",
        "outputId": "9dbc4fd0-d617-44e0-c865-5de0e9cc627f",
        "colab": {
          "base_uri": "https://localhost:8080/"
        }
      },
      "source": [
        "# Spliting the dataset for training and testing\n",
        "X_train, X_test, y_train, y_test = train_test_split (data['review'], data['3class'] , train_size = 0.8, random_state = 42, shuffle = True, stratify=data['3class'])\n",
        "print ('Shapes of X_train, y_train: ', X_train.shape, y_train.shape)\n",
        "print ('Shapes of X_test, y_test: ', X_test.shape, y_test.shape)"
      ],
      "execution_count": 5,
      "outputs": [
        {
          "output_type": "stream",
          "name": "stdout",
          "text": [
            "Shapes of X_train, y_train:  (4008,) (4008,)\n",
            "Shapes of X_test, y_test:  (1002,) (1002,)\n"
          ]
        }
      ]
    },
    {
      "cell_type": "code",
      "metadata": {
        "id": "vyzvklgbOvfZ",
        "outputId": "4bc9af24-1990-45f9-e9b3-3609669c1133",
        "colab": {
          "base_uri": "https://localhost:8080/"
        }
      },
      "source": [
        "# Vectorizing the documents\n",
        "vectorizer = CountVectorizer(binary = True)\n",
        "X_train = vectorizer.fit_transform(X_train.to_list())\n",
        "X_test = vectorizer.transform(X_test.to_list())\n",
        "print ('Shapes of X_train, y_train: ', X_train.shape, y_train.shape)\n",
        "print ('Shapes of X_test, y_test: ', X_test.shape, y_test.shape)"
      ],
      "execution_count": 6,
      "outputs": [
        {
          "output_type": "stream",
          "name": "stdout",
          "text": [
            "Shapes of X_train, y_train:  (4008, 38596) (4008,)\n",
            "Shapes of X_test, y_test:  (1002, 38596) (1002,)\n"
          ]
        }
      ]
    },
    {
      "cell_type": "markdown",
      "metadata": {
        "id": "AvCkAJ00RH7D"
      },
      "source": [
        "# Linear models"
      ]
    },
    {
      "cell_type": "markdown",
      "metadata": {
        "id": "APzuE9I8hDnE"
      },
      "source": [
        "### Default"
      ]
    },
    {
      "cell_type": "code",
      "metadata": {
        "id": "u53BC-tySKGK"
      },
      "source": [
        "def printing_eval_scores (y_true, y_pred, report=''):\n",
        "  accuracy = sklearn.metrics.accuracy_score(y_true, y_pred)\n",
        "  precision = sklearn.metrics.precision_score(y_true, y_pred, average = 'weighted')\n",
        "  recall = sklearn.metrics.recall_score(y_true, y_pred, average = 'weighted')\n",
        "  f1 = sklearn.metrics.f1_score(y_true, y_pred, average = 'weighted')\n",
        "  print('accuracy score: {:.3f}'.format(accuracy))\n",
        "  print('precision score: {:.3f}'.format(precision))\n",
        "  print('recall score: {:.3f}'.format(recall))\n",
        "  print('F1 score: {:.3f}'.format(f1))\n",
        "  if report is True:\n",
        "    print(classification_report(y_true, y_pred))\n",
        "  else:\n",
        "    pass\n",
        "  return accuracy, precision, recall, f1"
      ],
      "execution_count": 9,
      "outputs": []
    },
    {
      "cell_type": "code",
      "metadata": {
        "id": "xWkVLHPYRLGL",
        "outputId": "47fe0704-855d-4ce1-c5ec-67c56d1bc30d",
        "colab": {
          "base_uri": "https://localhost:8080/"
        }
      },
      "source": [
        "def training (loss, penalty, max_iter): #penalty=\"l2\", max_iter=100\n",
        "  clf = SGDClassifier(loss=loss, penalty=penalty, max_iter=max_iter, shuffle=True).fit(X_train, y_train)\n",
        "  y_pred = clf.predict(X_test)\n",
        "  printing_eval_scores (y_test, y_pred, report=True)\n",
        "\n",
        "losses = ['log','hinge', 'perceptron' ]\n",
        "penalties = ['l1','l2']\n",
        "for penalty in penalties:\n",
        "  for loss in losses:\n",
        "    print('\\n-------training linear model with loss = {}, penalty = {}'.format(loss,penalty ))\n",
        "    training(loss = loss,penalty=penalty, max_iter=100 )\n"
      ],
      "execution_count": 22,
      "outputs": [
        {
          "output_type": "stream",
          "name": "stdout",
          "text": [
            "\n",
            "-------training linear model with loss = log, penalty = l1\n",
            "accuracy score: 0.633\n",
            "precision score: 0.671\n",
            "recall score: 0.633\n",
            "F1 score: 0.650\n",
            "              precision    recall  f1-score   support\n",
            "\n",
            "                   0.02      1.00      0.03         1\n",
            "           0       0.69      0.64      0.66       239\n",
            "           1       0.60      0.54      0.57       383\n",
            "           2       0.74      0.72      0.73       379\n",
            "\n",
            "    accuracy                           0.63      1002\n",
            "   macro avg       0.51      0.73      0.50      1002\n",
            "weighted avg       0.67      0.63      0.65      1002\n",
            "\n",
            "\n",
            "-------training linear model with loss = hinge, penalty = l1\n",
            "accuracy score: 0.646\n",
            "precision score: 0.645\n",
            "recall score: 0.646\n",
            "F1 score: 0.645\n",
            "              precision    recall  f1-score   support\n",
            "\n",
            "                   1.00      1.00      1.00         1\n",
            "           0       0.63      0.62      0.62       239\n",
            "           1       0.58      0.57      0.58       383\n",
            "           2       0.72      0.74      0.73       379\n",
            "\n",
            "    accuracy                           0.65      1002\n",
            "   macro avg       0.73      0.73      0.73      1002\n",
            "weighted avg       0.64      0.65      0.65      1002\n",
            "\n",
            "\n",
            "-------training linear model with loss = perceptron, penalty = l1\n",
            "accuracy score: 0.641\n",
            "precision score: 0.640\n",
            "recall score: 0.641\n",
            "F1 score: 0.640\n",
            "              precision    recall  f1-score   support\n",
            "\n",
            "                   1.00      1.00      1.00         1\n",
            "           0       0.63      0.63      0.63       239\n",
            "           1       0.58      0.57      0.57       383\n",
            "           2       0.71      0.72      0.71       379\n",
            "\n",
            "    accuracy                           0.64      1002\n",
            "   macro avg       0.73      0.73      0.73      1002\n",
            "weighted avg       0.64      0.64      0.64      1002\n",
            "\n",
            "\n",
            "-------training linear model with loss = log, penalty = l2\n",
            "accuracy score: 0.672\n",
            "precision score: 0.672\n",
            "recall score: 0.672\n",
            "F1 score: 0.671\n",
            "              precision    recall  f1-score   support\n",
            "\n",
            "                   1.00      1.00      1.00         1\n",
            "           0       0.68      0.64      0.66       239\n",
            "           1       0.60      0.61      0.61       383\n",
            "           2       0.74      0.75      0.75       379\n",
            "\n",
            "    accuracy                           0.67      1002\n",
            "   macro avg       0.75      0.75      0.75      1002\n",
            "weighted avg       0.67      0.67      0.67      1002\n",
            "\n",
            "\n",
            "-------training linear model with loss = hinge, penalty = l2\n",
            "accuracy score: 0.656\n",
            "precision score: 0.656\n",
            "recall score: 0.656\n",
            "F1 score: 0.656\n",
            "              precision    recall  f1-score   support\n",
            "\n",
            "                   1.00      1.00      1.00         1\n",
            "           0       0.65      0.62      0.64       239\n",
            "           1       0.59      0.60      0.59       383\n",
            "           2       0.73      0.73      0.73       379\n",
            "\n",
            "    accuracy                           0.66      1002\n",
            "   macro avg       0.74      0.74      0.74      1002\n",
            "weighted avg       0.66      0.66      0.66      1002\n",
            "\n",
            "\n",
            "-------training linear model with loss = perceptron, penalty = l2\n",
            "accuracy score: 0.665\n",
            "precision score: 0.665\n",
            "recall score: 0.665\n",
            "F1 score: 0.665\n",
            "              precision    recall  f1-score   support\n",
            "\n",
            "                   1.00      1.00      1.00         1\n",
            "           0       0.66      0.63      0.65       239\n",
            "           1       0.60      0.61      0.60       383\n",
            "           2       0.74      0.74      0.74       379\n",
            "\n",
            "    accuracy                           0.66      1002\n",
            "   macro avg       0.75      0.75      0.75      1002\n",
            "weighted avg       0.67      0.66      0.66      1002\n",
            "\n"
          ]
        }
      ]
    },
    {
      "cell_type": "markdown",
      "metadata": {
        "id": "fw8gnX8LhIpc"
      },
      "source": [
        ""
      ]
    },
    {
      "cell_type": "markdown",
      "metadata": {
        "id": "GC2IatzMgpFe"
      },
      "source": [
        "Penalty = L2, and loss = log (logistic regression model) yeild the best performance on F1 score (0.671)"
      ]
    },
    {
      "cell_type": "markdown",
      "metadata": {
        "id": "mGbctRPkhP_E"
      },
      "source": [
        "### Searching the best parameter"
      ]
    },
    {
      "cell_type": "code",
      "metadata": {
        "id": "t8hoW9GIeuZs"
      },
      "source": [
        "# Set the parameters by cross-validation\n",
        "tuned_parameters = [{'kernel': ['rbf'], 'gamma': [1e-3, 1e-4],\n",
        "                     'C': [1, 10, 100, 1000]},\n",
        "                    {'kernel': ['linear'], 'C': [1, 10, 100, 1000]}]\n",
        "\n",
        "scores = ['precision', 'recall']\n",
        "\n",
        "for score in scores:\n",
        "    print(\"# Tuning hyper-parameters for %s\" % score)\n",
        "    print()\n",
        "\n",
        "    clf = GridSearchCV(\n",
        "        SVC(), tuned_parameters, scoring='%s_macro' % score\n",
        "    )\n",
        "    clf.fit(X_train, y_train)\n",
        "\n",
        "    print(\"Best parameters set found on development set:\")\n",
        "    print()\n",
        "    print(clf.best_params_)\n",
        "    print()\n",
        "    print(\"Grid scores on development set:\")\n",
        "    print()\n",
        "    means = clf.cv_results_['mean_test_score']\n",
        "    stds = clf.cv_results_['std_test_score']\n",
        "    for mean, std, params in zip(means, stds, clf.cv_results_['params']):\n",
        "        print(\"%0.3f (+/-%0.03f) for %r\"\n",
        "              % (mean, std * 2, params))\n",
        "    print()\n",
        "\n",
        "    print(\"Detailed classification report:\")\n",
        "    print()\n",
        "    print(\"The model is trained on the full development set.\")\n",
        "    print(\"The scores are computed on the full evaluation set.\")\n",
        "    print()\n",
        "    y_true, y_pred = y_test, clf.predict(X_test)\n",
        "    print(classification_report(y_true, y_pred))\n",
        "    print()"
      ],
      "execution_count": null,
      "outputs": []
    }
  ]
}