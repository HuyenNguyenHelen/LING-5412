{
  "nbformat": 4,
  "nbformat_minor": 0,
  "metadata": {
    "colab": {
      "name": "Untitled19.ipynb",
      "provenance": [],
      "collapsed_sections": [],
      "authorship_tag": "ABX9TyO7elymMAUKYa/w5+qroqTz",
      "include_colab_link": true
    },
    "kernelspec": {
      "name": "python3",
      "display_name": "Python 3"
    },
    "language_info": {
      "name": "python"
    }
  },
  "cells": [
    {
      "cell_type": "markdown",
      "metadata": {
        "id": "view-in-github",
        "colab_type": "text"
      },
      "source": [
        "<a href=\"https://colab.research.google.com/github/HuyenNguyenHelen/LING-5412/blob/main/Assignment3_LinearModel.ipynb\" target=\"_parent\"><img src=\"https://colab.research.google.com/assets/colab-badge.svg\" alt=\"Open In Colab\"/></a>"
      ]
    },
    {
      "cell_type": "code",
      "metadata": {
        "colab": {
          "base_uri": "https://localhost:8080/"
        },
        "id": "wZTlx8cNJtee",
        "outputId": "2fcab978-8386-4333-c5ab-7dde7ba024b0"
      },
      "source": [
        "# Importing libraries that will be used \n",
        "import numpy as np\n",
        "import tarfile\n",
        "import glob\n",
        "import re\n",
        "import pandas as pd\n",
        "#from nltk.corpus import stopwords\n",
        "import nltk\n",
        "nltk.download('wordnet')\n",
        "import sklearn\n",
        "from sklearn.model_selection import GridSearchCV\n",
        "from sklearn.feature_extraction.text import CountVectorizer\n",
        "from sklearn.linear_model import SGDClassifier\n",
        "from sklearn.model_selection import train_test_split\n",
        "from sklearn.metrics import accuracy_score, classification_report\n",
        "from sklearn.metrics import confusion_matrix, ConfusionMatrixDisplay"
      ],
      "execution_count": 1,
      "outputs": [
        {
          "output_type": "stream",
          "name": "stdout",
          "text": [
            "[nltk_data] Downloading package wordnet to /root/nltk_data...\n",
            "[nltk_data]   Package wordnet is already up-to-date!\n"
          ]
        }
      ]
    },
    {
      "cell_type": "markdown",
      "metadata": {
        "id": "mc2pTdPrJTp8"
      },
      "source": [
        "# Loading the dataset"
      ]
    },
    {
      "cell_type": "code",
      "metadata": {
        "colab": {
          "base_uri": "https://localhost:8080/"
        },
        "id": "6q_HpztUInR9",
        "outputId": "c5da34e8-c2fa-4a8d-d670-00be3cf7a38b"
      },
      "source": [
        "!wget http://www.cs.cornell.edu/people/pabo/movie-review-data/scale_data.tar.gz"
      ],
      "execution_count": 2,
      "outputs": [
        {
          "output_type": "stream",
          "name": "stdout",
          "text": [
            "--2021-10-05 01:38:12--  http://www.cs.cornell.edu/people/pabo/movie-review-data/scale_data.tar.gz\n",
            "Resolving www.cs.cornell.edu (www.cs.cornell.edu)... 132.236.207.36\n",
            "Connecting to www.cs.cornell.edu (www.cs.cornell.edu)|132.236.207.36|:80... connected.\n",
            "HTTP request sent, awaiting response... 200 OK\n",
            "Length: 4029756 (3.8M) [application/x-gzip]\n",
            "Saving to: ‘scale_data.tar.gz.5’\n",
            "\n",
            "scale_data.tar.gz.5 100%[===================>]   3.84M  16.3MB/s    in 0.2s    \n",
            "\n",
            "2021-10-05 01:38:13 (16.3 MB/s) - ‘scale_data.tar.gz.5’ saved [4029756/4029756]\n",
            "\n"
          ]
        }
      ]
    },
    {
      "cell_type": "code",
      "metadata": {
        "id": "wxlFbhDlJcT7"
      },
      "source": [
        "# Untar the dataset\n",
        "my_tar = tarfile.open('/content/scale_data.tar.gz')\n",
        "my_tar.extractall('/content/') \n",
        "my_tar.close()\n"
      ],
      "execution_count": 3,
      "outputs": []
    },
    {
      "cell_type": "code",
      "metadata": {
        "colab": {
          "base_uri": "https://localhost:8080/",
          "height": 438
        },
        "id": "oXoCmCDBNUac",
        "outputId": "646cb96b-83fc-4fde-ca38-3740fe6d52e9"
      },
      "source": [
        "id, review, rating, cl_3, cl_4 = [],[],[],[], []\n",
        "for root in glob.glob ('/content/scaledata/*'):\n",
        "  for path in glob.glob(root+'/*'): \n",
        "      fo = open(path)\n",
        "      doc = fo.read()\n",
        "      if 'id' in path:\n",
        "        id.extend(doc.split('\\n'))\n",
        "      elif 'subj' in path:\n",
        "        review.extend(doc.split('\\n'))\n",
        "      elif 'rating' in path:\n",
        "        rating.extend(doc.split('\\n'))\n",
        "      elif '3class' in path:\n",
        "        cl_3.extend(doc.split('\\n'))\n",
        "      else:\n",
        "        cl_4.extend(doc.split('\\n'))\n",
        "      # print(path,'\\n')\n",
        "      # print(doc.split('\\n')[:10])\n",
        "print (len(id), len(review), len(rating), len(cl_3), len(cl_4))\n",
        "\n",
        "data = pd.DataFrame(zip(id, review, rating, cl_3, cl_4), columns = ['id', 'review', 'rating', '3class', '4class'])\n",
        "data = data[['review', '3class', '4class']].dropna()\n",
        "data"
      ],
      "execution_count": 4,
      "outputs": [
        {
          "output_type": "stream",
          "name": "stdout",
          "text": [
            "5010 5010 5010 5010 5010\n"
          ]
        },
        {
          "output_type": "execute_result",
          "data": {
            "text/html": [
              "<div>\n",
              "<style scoped>\n",
              "    .dataframe tbody tr th:only-of-type {\n",
              "        vertical-align: middle;\n",
              "    }\n",
              "\n",
              "    .dataframe tbody tr th {\n",
              "        vertical-align: top;\n",
              "    }\n",
              "\n",
              "    .dataframe thead th {\n",
              "        text-align: right;\n",
              "    }\n",
              "</style>\n",
              "<table border=\"1\" class=\"dataframe\">\n",
              "  <thead>\n",
              "    <tr style=\"text-align: right;\">\n",
              "      <th></th>\n",
              "      <th>review</th>\n",
              "      <th>3class</th>\n",
              "      <th>4class</th>\n",
              "    </tr>\n",
              "  </thead>\n",
              "  <tbody>\n",
              "    <tr>\n",
              "      <th>0</th>\n",
              "      <td>in my opinion , a movie reviewer's most import...</td>\n",
              "      <td>0</td>\n",
              "      <td>0</td>\n",
              "    </tr>\n",
              "    <tr>\n",
              "      <th>1</th>\n",
              "      <td>you can watch this movie , that is based on a ...</td>\n",
              "      <td>0</td>\n",
              "      <td>0</td>\n",
              "    </tr>\n",
              "    <tr>\n",
              "      <th>2</th>\n",
              "      <td>this is asking a lot to believe , and though i...</td>\n",
              "      <td>0</td>\n",
              "      <td>0</td>\n",
              "    </tr>\n",
              "    <tr>\n",
              "      <th>3</th>\n",
              "      <td>no heroes and no story are the main attributes...</td>\n",
              "      <td>0</td>\n",
              "      <td>0</td>\n",
              "    </tr>\n",
              "    <tr>\n",
              "      <th>4</th>\n",
              "      <td>this is not an art movie , yet i saw it an art...</td>\n",
              "      <td>0</td>\n",
              "      <td>0</td>\n",
              "    </tr>\n",
              "    <tr>\n",
              "      <th>...</th>\n",
              "      <td>...</td>\n",
              "      <td>...</td>\n",
              "      <td>...</td>\n",
              "    </tr>\n",
              "    <tr>\n",
              "      <th>5005</th>\n",
              "      <td>nicolas roeg's mesmerizing 1971 film walkabout...</td>\n",
              "      <td>2</td>\n",
              "      <td>3</td>\n",
              "    </tr>\n",
              "    <tr>\n",
              "      <th>5006</th>\n",
              "      <td>the movie air force one should require a docto...</td>\n",
              "      <td>2</td>\n",
              "      <td>3</td>\n",
              "    </tr>\n",
              "    <tr>\n",
              "      <th>5007</th>\n",
              "      <td>\" well , jones , at least you haven't forgotte...</td>\n",
              "      <td>2</td>\n",
              "      <td>3</td>\n",
              "    </tr>\n",
              "    <tr>\n",
              "      <th>5008</th>\n",
              "      <td>in a time of bloated productions where special...</td>\n",
              "      <td>2</td>\n",
              "      <td>3</td>\n",
              "    </tr>\n",
              "    <tr>\n",
              "      <th>5009</th>\n",
              "      <td></td>\n",
              "      <td></td>\n",
              "      <td></td>\n",
              "    </tr>\n",
              "  </tbody>\n",
              "</table>\n",
              "<p>5010 rows × 3 columns</p>\n",
              "</div>"
            ],
            "text/plain": [
              "                                                 review 3class 4class\n",
              "0     in my opinion , a movie reviewer's most import...      0      0\n",
              "1     you can watch this movie , that is based on a ...      0      0\n",
              "2     this is asking a lot to believe , and though i...      0      0\n",
              "3     no heroes and no story are the main attributes...      0      0\n",
              "4     this is not an art movie , yet i saw it an art...      0      0\n",
              "...                                                 ...    ...    ...\n",
              "5005  nicolas roeg's mesmerizing 1971 film walkabout...      2      3\n",
              "5006  the movie air force one should require a docto...      2      3\n",
              "5007  \" well , jones , at least you haven't forgotte...      2      3\n",
              "5008  in a time of bloated productions where special...      2      3\n",
              "5009                                                                 \n",
              "\n",
              "[5010 rows x 3 columns]"
            ]
          },
          "metadata": {},
          "execution_count": 4
        }
      ]
    },
    {
      "cell_type": "code",
      "metadata": {
        "id": "YBWQTz_5OqAQ",
        "colab": {
          "base_uri": "https://localhost:8080/"
        },
        "outputId": "7c93329e-9856-42b8-9e59-27ac4a8e812b"
      },
      "source": [
        "data['3class'].value_counts()"
      ],
      "execution_count": 5,
      "outputs": [
        {
          "output_type": "execute_result",
          "data": {
            "text/plain": [
              "1    1915\n",
              "2    1894\n",
              "0    1197\n",
              "        4\n",
              "Name: 3class, dtype: int64"
            ]
          },
          "metadata": {},
          "execution_count": 5
        }
      ]
    },
    {
      "cell_type": "markdown",
      "metadata": {
        "id": "XvO0V2e8Oqso"
      },
      "source": [
        "# Pre-processing the data"
      ]
    },
    {
      "cell_type": "code",
      "metadata": {
        "id": "qqCYX1GyNL0m",
        "colab": {
          "base_uri": "https://localhost:8080/"
        },
        "outputId": "afd1f298-e22a-4ac0-9f2b-6466c4056545"
      },
      "source": [
        "# Spliting the dataset for training and testing\n",
        "X_train, X_test, y_train, y_test = train_test_split (data['review'], data['3class'] , train_size = 0.8, random_state = 42, shuffle = True, stratify=data['3class'])\n",
        "print ('Shapes of X_train, y_train: ', X_train.shape, y_train.shape)\n",
        "print ('Shapes of X_test, y_test: ', X_test.shape, y_test.shape)"
      ],
      "execution_count": 6,
      "outputs": [
        {
          "output_type": "stream",
          "name": "stdout",
          "text": [
            "Shapes of X_train, y_train:  (4008,) (4008,)\n",
            "Shapes of X_test, y_test:  (1002,) (1002,)\n"
          ]
        }
      ]
    },
    {
      "cell_type": "code",
      "metadata": {
        "id": "vyzvklgbOvfZ",
        "colab": {
          "base_uri": "https://localhost:8080/"
        },
        "outputId": "d636b31c-4d73-4817-e4b7-7e367f3147fc"
      },
      "source": [
        "# Vectorizing the documents\n",
        "vectorizer = CountVectorizer(binary = True)\n",
        "X_train = vectorizer.fit_transform(X_train.to_list())\n",
        "X_test = vectorizer.transform(X_test.to_list())\n",
        "print ('Shapes of X_train, y_train: ', X_train.shape, y_train.shape)\n",
        "print ('Shapes of X_test, y_test: ', X_test.shape, y_test.shape)"
      ],
      "execution_count": 7,
      "outputs": [
        {
          "output_type": "stream",
          "name": "stdout",
          "text": [
            "Shapes of X_train, y_train:  (4008, 38596) (4008,)\n",
            "Shapes of X_test, y_test:  (1002, 38596) (1002,)\n"
          ]
        }
      ]
    },
    {
      "cell_type": "markdown",
      "metadata": {
        "id": "AvCkAJ00RH7D"
      },
      "source": [
        "# Linear models"
      ]
    },
    {
      "cell_type": "markdown",
      "metadata": {
        "id": "APzuE9I8hDnE"
      },
      "source": [
        "### Default"
      ]
    },
    {
      "cell_type": "code",
      "metadata": {
        "id": "u53BC-tySKGK"
      },
      "source": [
        "def printing_eval_scores (y_true, y_pred, report=''):\n",
        "  accuracy = sklearn.metrics.accuracy_score(y_true, y_pred)\n",
        "  precision = sklearn.metrics.precision_score(y_true, y_pred, average = 'weighted')\n",
        "  recall = sklearn.metrics.recall_score(y_true, y_pred, average = 'weighted')\n",
        "  f1 = sklearn.metrics.f1_score(y_true, y_pred, average = 'weighted')\n",
        "  print('accuracy score: {:.3f}'.format(accuracy))\n",
        "  print('precision score: {:.3f}'.format(precision))\n",
        "  print('recall score: {:.3f}'.format(recall))\n",
        "  print('F1 score: {:.3f}'.format(f1))\n",
        "  if report is True:\n",
        "    print(classification_report(y_true, y_pred))\n",
        "  else:\n",
        "    pass\n",
        "  return accuracy, precision, recall, f1"
      ],
      "execution_count": 8,
      "outputs": []
    },
    {
      "cell_type": "code",
      "metadata": {
        "id": "xWkVLHPYRLGL",
        "colab": {
          "base_uri": "https://localhost:8080/"
        },
        "outputId": "934ce114-8a0d-479c-8d63-8085b516e645"
      },
      "source": [
        "\n",
        "def training (penalty, max_iter): #penalty=\"l2\", max_iter=100\n",
        "  SGD = SGDClassifier( penalty=penalty, max_iter=max_iter, shuffle=True).fit(X_train, y_train)\n",
        "  y_pred = SGD.predict(X_test)\n",
        "  printing_eval_scores (y_test, y_pred, report=True)\n",
        "\n",
        "penalties = ['l1','l2']\n",
        "for penalty in penalties:\n",
        "  print('\\n-------training linear model with penalty = {}'.format(penalty ))\n",
        "  training (penalty='l2', max_iter=100)"
      ],
      "execution_count": 9,
      "outputs": [
        {
          "output_type": "stream",
          "name": "stdout",
          "text": [
            "\n",
            "-------training linear model with penalty = l1\n",
            "accuracy score: 0.665\n",
            "precision score: 0.662\n",
            "recall score: 0.665\n",
            "F1 score: 0.663\n",
            "              precision    recall  f1-score   support\n",
            "\n",
            "                   1.00      1.00      1.00         1\n",
            "           0       0.67      0.63      0.65       239\n",
            "           1       0.60      0.58      0.59       383\n",
            "           2       0.72      0.77      0.74       379\n",
            "\n",
            "    accuracy                           0.66      1002\n",
            "   macro avg       0.75      0.75      0.75      1002\n",
            "weighted avg       0.66      0.66      0.66      1002\n",
            "\n",
            "\n",
            "-------training linear model with penalty = l2\n",
            "accuracy score: 0.670\n",
            "precision score: 0.670\n",
            "recall score: 0.670\n",
            "F1 score: 0.669\n",
            "              precision    recall  f1-score   support\n",
            "\n",
            "                   1.00      1.00      1.00         1\n",
            "           0       0.72      0.64      0.68       239\n",
            "           1       0.60      0.60      0.60       383\n",
            "           2       0.71      0.75      0.73       379\n",
            "\n",
            "    accuracy                           0.67      1002\n",
            "   macro avg       0.76      0.75      0.75      1002\n",
            "weighted avg       0.67      0.67      0.67      1002\n",
            "\n"
          ]
        }
      ]
    },
    {
      "cell_type": "markdown",
      "metadata": {
        "id": "fw8gnX8LhIpc"
      },
      "source": [
        ""
      ]
    },
    {
      "cell_type": "markdown",
      "metadata": {
        "id": "GC2IatzMgpFe"
      },
      "source": [
        "Penalty = L2, and loss = log (logistic regression model) yeild the best performance on F1 score (0.657)"
      ]
    },
    {
      "cell_type": "markdown",
      "metadata": {
        "id": "mGbctRPkhP_E"
      },
      "source": [
        "### Searching the best parameter"
      ]
    },
    {
      "cell_type": "code",
      "metadata": {
        "id": "t8hoW9GIeuZs",
        "colab": {
          "base_uri": "https://localhost:8080/"
        },
        "outputId": "9111e548-ef01-48b9-bba1-970e0386ee4f"
      },
      "source": [
        "# Set the parameters by cross-validation\n",
        "tuned_parameters = [{'alpha': [i for i in np.arange (0.0001, 0.01, 0.001 )], 'loss': ['log','hinge', 'perceptron']}]\n",
        "scores = ['precision', 'f1']\n",
        "\n",
        "for score in scores:\n",
        "    print(\"# Tuning hyper-parameters for %s\" % score)\n",
        "    print()\n",
        "\n",
        "    clf = GridSearchCV(SGDClassifier(max_iter=100, shuffle=True), tuned_parameters, scoring='%s_macro' % score, n_jobs = -1 )\n",
        "    clf.fit(X_train, y_train)\n",
        "\n",
        "    print(\"Best parameters set found on development set:\")\n",
        "    print()\n",
        "    print(clf.best_params_)\n",
        "    print()\n",
        "    print(\"Grid scores on development set:\")\n",
        "    print()\n",
        "    means = clf.cv_results_['mean_test_score']\n",
        "    stds = clf.cv_results_['std_test_score']\n",
        "    for mean, std, params in zip(means, stds, clf.cv_results_['params']):\n",
        "        print(\"%0.3f (+/-%0.03f) for %r\" % (mean, std * 2, params))\n",
        "\n",
        "    y_pred =  clf.predict(X_test)\n",
        "    printing_eval_scores (y_test, y_pred, report=True)\n",
        "\n"
      ],
      "execution_count": 10,
      "outputs": [
        {
          "output_type": "stream",
          "name": "stdout",
          "text": [
            "# Tuning hyper-parameters for precision\n",
            "\n"
          ]
        },
        {
          "output_type": "stream",
          "name": "stderr",
          "text": [
            "/usr/local/lib/python3.7/dist-packages/sklearn/model_selection/_split.py:667: UserWarning: The least populated class in y has only 3 members, which is less than n_splits=5.\n",
            "  % (min_groups, self.n_splits)), UserWarning)\n"
          ]
        },
        {
          "output_type": "stream",
          "name": "stdout",
          "text": [
            "Best parameters set found on development set:\n",
            "\n",
            "{'alpha': 0.0001, 'loss': 'perceptron'}\n",
            "\n",
            "Grid scores on development set:\n",
            "\n",
            "0.531 (+/-0.123) for {'alpha': 0.0001, 'loss': 'log'}\n",
            "0.699 (+/-0.088) for {'alpha': 0.0001, 'loss': 'hinge'}\n",
            "0.700 (+/-0.102) for {'alpha': 0.0001, 'loss': 'perceptron'}\n",
            "0.557 (+/-0.155) for {'alpha': 0.0011, 'loss': 'log'}\n",
            "0.546 (+/-0.143) for {'alpha': 0.0011, 'loss': 'hinge'}\n",
            "0.551 (+/-0.160) for {'alpha': 0.0011, 'loss': 'perceptron'}\n",
            "0.564 (+/-0.171) for {'alpha': 0.0021, 'loss': 'log'}\n",
            "0.558 (+/-0.156) for {'alpha': 0.0021, 'loss': 'hinge'}\n",
            "0.542 (+/-0.165) for {'alpha': 0.0021, 'loss': 'perceptron'}\n",
            "0.567 (+/-0.158) for {'alpha': 0.0031, 'loss': 'log'}\n",
            "0.545 (+/-0.148) for {'alpha': 0.0031, 'loss': 'hinge'}\n",
            "0.513 (+/-0.123) for {'alpha': 0.0031, 'loss': 'perceptron'}\n",
            "0.568 (+/-0.171) for {'alpha': 0.0041, 'loss': 'log'}\n",
            "0.541 (+/-0.160) for {'alpha': 0.0041, 'loss': 'hinge'}\n",
            "0.511 (+/-0.127) for {'alpha': 0.0041, 'loss': 'perceptron'}\n",
            "0.572 (+/-0.170) for {'alpha': 0.0051, 'loss': 'log'}\n",
            "0.546 (+/-0.158) for {'alpha': 0.0051, 'loss': 'hinge'}\n",
            "0.526 (+/-0.141) for {'alpha': 0.0051, 'loss': 'perceptron'}\n",
            "0.568 (+/-0.156) for {'alpha': 0.0061, 'loss': 'log'}\n",
            "0.540 (+/-0.161) for {'alpha': 0.0061, 'loss': 'hinge'}\n",
            "0.520 (+/-0.115) for {'alpha': 0.0061, 'loss': 'perceptron'}\n",
            "0.567 (+/-0.152) for {'alpha': 0.0071, 'loss': 'log'}\n",
            "0.544 (+/-0.170) for {'alpha': 0.0071, 'loss': 'hinge'}\n",
            "0.549 (+/-0.154) for {'alpha': 0.0071, 'loss': 'perceptron'}\n",
            "0.575 (+/-0.164) for {'alpha': 0.0081, 'loss': 'log'}\n",
            "0.544 (+/-0.166) for {'alpha': 0.0081, 'loss': 'hinge'}\n",
            "0.483 (+/-0.021) for {'alpha': 0.0081, 'loss': 'perceptron'}\n",
            "0.574 (+/-0.159) for {'alpha': 0.0091, 'loss': 'log'}\n",
            "0.548 (+/-0.171) for {'alpha': 0.0091, 'loss': 'hinge'}\n",
            "0.484 (+/-0.008) for {'alpha': 0.0091, 'loss': 'perceptron'}\n",
            "accuracy score: 0.665\n",
            "precision score: 0.666\n",
            "recall score: 0.665\n",
            "F1 score: 0.665\n",
            "              precision    recall  f1-score   support\n",
            "\n",
            "                   1.00      1.00      1.00         1\n",
            "           0       0.68      0.64      0.66       239\n",
            "           1       0.59      0.61      0.60       383\n",
            "           2       0.73      0.73      0.73       379\n",
            "\n",
            "    accuracy                           0.66      1002\n",
            "   macro avg       0.75      0.75      0.75      1002\n",
            "weighted avg       0.67      0.66      0.66      1002\n",
            "\n",
            "# Tuning hyper-parameters for f1\n",
            "\n"
          ]
        },
        {
          "output_type": "stream",
          "name": "stderr",
          "text": [
            "/usr/local/lib/python3.7/dist-packages/sklearn/model_selection/_split.py:667: UserWarning: The least populated class in y has only 3 members, which is less than n_splits=5.\n",
            "  % (min_groups, self.n_splits)), UserWarning)\n"
          ]
        },
        {
          "output_type": "stream",
          "name": "stdout",
          "text": [
            "Best parameters set found on development set:\n",
            "\n",
            "{'alpha': 0.0001, 'loss': 'hinge'}\n",
            "\n",
            "Grid scores on development set:\n",
            "\n",
            "0.535 (+/-0.133) for {'alpha': 0.0001, 'loss': 'log'}\n",
            "0.697 (+/-0.102) for {'alpha': 0.0001, 'loss': 'hinge'}\n",
            "0.696 (+/-0.087) for {'alpha': 0.0001, 'loss': 'perceptron'}\n",
            "0.553 (+/-0.165) for {'alpha': 0.0011, 'loss': 'log'}\n",
            "0.592 (+/-0.198) for {'alpha': 0.0011, 'loss': 'hinge'}\n",
            "0.599 (+/-0.201) for {'alpha': 0.0011, 'loss': 'perceptron'}\n",
            "0.556 (+/-0.155) for {'alpha': 0.0021, 'loss': 'log'}\n",
            "0.540 (+/-0.146) for {'alpha': 0.0021, 'loss': 'hinge'}\n",
            "0.513 (+/-0.124) for {'alpha': 0.0021, 'loss': 'perceptron'}\n",
            "0.560 (+/-0.160) for {'alpha': 0.0031, 'loss': 'log'}\n",
            "0.542 (+/-0.156) for {'alpha': 0.0031, 'loss': 'hinge'}\n",
            "0.546 (+/-0.153) for {'alpha': 0.0031, 'loss': 'perceptron'}\n",
            "0.565 (+/-0.162) for {'alpha': 0.0041, 'loss': 'log'}\n",
            "0.544 (+/-0.160) for {'alpha': 0.0041, 'loss': 'hinge'}\n",
            "0.550 (+/-0.180) for {'alpha': 0.0041, 'loss': 'perceptron'}\n",
            "0.558 (+/-0.156) for {'alpha': 0.0051, 'loss': 'log'}\n",
            "0.543 (+/-0.169) for {'alpha': 0.0051, 'loss': 'hinge'}\n",
            "0.552 (+/-0.162) for {'alpha': 0.0051, 'loss': 'perceptron'}\n",
            "0.564 (+/-0.156) for {'alpha': 0.0061, 'loss': 'log'}\n",
            "0.543 (+/-0.160) for {'alpha': 0.0061, 'loss': 'hinge'}\n",
            "0.519 (+/-0.136) for {'alpha': 0.0061, 'loss': 'perceptron'}\n",
            "0.569 (+/-0.162) for {'alpha': 0.0071, 'loss': 'log'}\n",
            "0.545 (+/-0.170) for {'alpha': 0.0071, 'loss': 'hinge'}\n",
            "0.481 (+/-0.023) for {'alpha': 0.0071, 'loss': 'perceptron'}\n",
            "0.566 (+/-0.160) for {'alpha': 0.0081, 'loss': 'log'}\n",
            "0.547 (+/-0.170) for {'alpha': 0.0081, 'loss': 'hinge'}\n",
            "0.516 (+/-0.130) for {'alpha': 0.0081, 'loss': 'perceptron'}\n",
            "0.567 (+/-0.168) for {'alpha': 0.0091, 'loss': 'log'}\n",
            "0.545 (+/-0.171) for {'alpha': 0.0091, 'loss': 'hinge'}\n",
            "0.515 (+/-0.127) for {'alpha': 0.0091, 'loss': 'perceptron'}\n",
            "accuracy score: 0.651\n",
            "precision score: 0.652\n",
            "recall score: 0.651\n",
            "F1 score: 0.651\n",
            "              precision    recall  f1-score   support\n",
            "\n",
            "                   1.00      1.00      1.00         1\n",
            "           0       0.65      0.62      0.64       239\n",
            "           1       0.58      0.60      0.59       383\n",
            "           2       0.73      0.72      0.72       379\n",
            "\n",
            "    accuracy                           0.65      1002\n",
            "   macro avg       0.74      0.74      0.74      1002\n",
            "weighted avg       0.65      0.65      0.65      1002\n",
            "\n"
          ]
        }
      ]
    },
    {
      "cell_type": "markdown",
      "metadata": {
        "id": "Mmg1ajLk_qF2"
      },
      "source": [
        "(4)  multi-class classification by combining multiple binary classifiers in a “one versus all” (OVA) scheme. https://scikit-learn.org/stable/modules/sgd.html#sgd"
      ]
    },
    {
      "cell_type": "code",
      "metadata": {
        "colab": {
          "base_uri": "https://localhost:8080/"
        },
        "id": "rF8SMd919XVH",
        "outputId": "b49f8c0b-f998-4205-bcd8-976380e262d7"
      },
      "source": [
        "# Printing features with highest weights.\n",
        "\n",
        "best_SGD = SGDClassifier(loss = 'hinge', penalty='l2', max_iter=100, shuffle=True, alpha=0.001).fit(X_train, y_train)\n",
        "y_pred = best_SGD.predict(X_test)\n",
        "weights = best_SGD.coef_\n",
        "weights"
      ],
      "execution_count": 12,
      "outputs": [
        {
          "output_type": "execute_result",
          "data": {
            "text/plain": [
              "array([[ 0.00000000e+00,  0.00000000e+00,  0.00000000e+00, ...,\n",
              "         0.00000000e+00,  0.00000000e+00,  0.00000000e+00],\n",
              "       [ 2.16542017e-02, -5.41355043e-02, -5.41355043e-02, ...,\n",
              "         0.00000000e+00, -1.08271009e-02,  1.08271009e-02],\n",
              "       [ 1.47137339e-01, -1.47137339e-01, -4.52730274e-02, ...,\n",
              "        -3.39547705e-02,  2.26365137e-02, -2.26365137e-02],\n",
              "       [-2.33263978e-01,  1.24407455e-01,  1.39958387e-01, ...,\n",
              "         3.11018638e-02,  2.44234790e-18, -1.55509319e-02]])"
            ]
          },
          "metadata": {},
          "execution_count": 12
        }
      ]
    },
    {
      "cell_type": "code",
      "metadata": {
        "id": "k41E0kWSG7_p"
      },
      "source": [
        "get_feature_names_out()"
      ],
      "execution_count": null,
      "outputs": []
    }
  ]
}