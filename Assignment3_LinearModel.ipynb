{
  "nbformat": 4,
  "nbformat_minor": 0,
  "metadata": {
    "colab": {
      "name": "Untitled19.ipynb",
      "provenance": [],
      "collapsed_sections": [],
      "authorship_tag": "ABX9TyOhKYsdhOPSX0v9DgYBg88h",
      "include_colab_link": true
    },
    "kernelspec": {
      "name": "python3",
      "display_name": "Python 3"
    },
    "language_info": {
      "name": "python"
    }
  },
  "cells": [
    {
      "cell_type": "markdown",
      "metadata": {
        "id": "view-in-github",
        "colab_type": "text"
      },
      "source": [
        "<a href=\"https://colab.research.google.com/github/HuyenNguyenHelen/LING-5412/blob/main/Assignment3_LinearModel.ipynb\" target=\"_parent\"><img src=\"https://colab.research.google.com/assets/colab-badge.svg\" alt=\"Open In Colab\"/></a>"
      ]
    },
    {
      "cell_type": "code",
      "metadata": {
        "colab": {
          "base_uri": "https://localhost:8080/"
        },
        "id": "wZTlx8cNJtee",
        "outputId": "525492f2-965f-4ee5-b51a-33ab8e07ef00"
      },
      "source": [
        "# Importing libraries that will be used \n",
        "import numpy as np\n",
        "import tarfile\n",
        "import glob\n",
        "import re\n",
        "import pandas as pd\n",
        "import nltk\n",
        "nltk.download('wordnet')\n",
        "import matplotlib.pyplot as plt\n",
        "\n",
        "import sklearn\n",
        "from sklearn.model_selection import GridSearchCV\n",
        "from sklearn.feature_extraction.text import CountVectorizer\n",
        "from sklearn.linear_model import SGDClassifier\n",
        "from sklearn.model_selection import train_test_split\n",
        "from sklearn.metrics import accuracy_score, classification_report\n",
        "from sklearn.metrics import confusion_matrix, ConfusionMatrixDisplay"
      ],
      "execution_count": 1,
      "outputs": [
        {
          "output_type": "stream",
          "name": "stdout",
          "text": [
            "[nltk_data] Downloading package wordnet to /root/nltk_data...\n",
            "[nltk_data]   Package wordnet is already up-to-date!\n"
          ]
        }
      ]
    },
    {
      "cell_type": "markdown",
      "metadata": {
        "id": "mc2pTdPrJTp8"
      },
      "source": [
        "# Loading the dataset"
      ]
    },
    {
      "cell_type": "code",
      "metadata": {
        "colab": {
          "base_uri": "https://localhost:8080/"
        },
        "id": "6q_HpztUInR9",
        "outputId": "611b5240-7be9-4732-86ee-5e09b61fdb98"
      },
      "source": [
        "!wget http://www.cs.cornell.edu/people/pabo/movie-review-data/scale_data.tar.gz"
      ],
      "execution_count": 2,
      "outputs": [
        {
          "output_type": "stream",
          "name": "stdout",
          "text": [
            "--2021-10-15 21:47:53--  http://www.cs.cornell.edu/people/pabo/movie-review-data/scale_data.tar.gz\n",
            "Resolving www.cs.cornell.edu (www.cs.cornell.edu)... 132.236.207.36\n",
            "Connecting to www.cs.cornell.edu (www.cs.cornell.edu)|132.236.207.36|:80... connected.\n",
            "HTTP request sent, awaiting response... 200 OK\n",
            "Length: 4029756 (3.8M) [application/x-gzip]\n",
            "Saving to: ‘scale_data.tar.gz.3’\n",
            "\n",
            "scale_data.tar.gz.3 100%[===================>]   3.84M  17.8MB/s    in 0.2s    \n",
            "\n",
            "2021-10-15 21:47:54 (17.8 MB/s) - ‘scale_data.tar.gz.3’ saved [4029756/4029756]\n",
            "\n"
          ]
        }
      ]
    },
    {
      "cell_type": "code",
      "metadata": {
        "id": "wxlFbhDlJcT7"
      },
      "source": [
        "# Untar the dataset\n",
        "my_tar = tarfile.open('/content/scale_data.tar.gz')\n",
        "my_tar.extractall('/content/') \n",
        "my_tar.close()\n"
      ],
      "execution_count": 3,
      "outputs": []
    },
    {
      "cell_type": "code",
      "metadata": {
        "colab": {
          "base_uri": "https://localhost:8080/",
          "height": 432
        },
        "id": "oXoCmCDBNUac",
        "outputId": "6bcee9cb-cf2f-4b9f-9755-2716d31134c9"
      },
      "source": [
        "# Reformatting the dataset into a single dataframe for our convinience\n",
        "id, review, rating, cl_3, cl_4 = [],[],[],[], []\n",
        "for root in glob.glob ('/content/scaledata/*'):\n",
        "  for path in glob.glob(root+'/*'): \n",
        "      fo = open(path)\n",
        "      doc = fo.read()\n",
        "      if 'id' in path:\n",
        "        id.extend(doc.split('\\n'))\n",
        "      elif 'subj' in path:\n",
        "          review.extend(doc.split('\\n'))\n",
        "      elif 'rating' in path:\n",
        "        rating.extend(doc.split('\\n'))\n",
        "      elif '3class' in path:\n",
        "        cl_3.extend(doc.split('\\n'))\n",
        "      else:\n",
        "        cl_4.extend(doc.split('\\n'))\n",
        "\n",
        "print (len(id), len(review), len(rating), len(cl_3), len(cl_4))\n",
        "df = pd.DataFrame(zip(id, review, rating, cl_3, cl_4), columns = ['id', 'review', 'rating', '3class', '4class'])\n",
        "\n",
        "\n",
        "# Using these 2 columns to build a dataset for a 3-class classifier\n",
        "data = df[['review', '3class']].dropna()\n",
        "data\n",
        "\n",
        "# Using these 2 columns to build a dataset for a rating-based regressor\n",
        "# df = pd.DataFrame(zip(id, review, rating, cl_3, cl_4), columns = ['id', 'review', 'rating', '3class', '4class'])\n",
        "# new_df = df[['review', 'rating']].dropna()\n",
        "# new_df = new_df[new_df['rating'] != '']\n",
        "# new_df['rating'] =new_df['rating'].apply(lambda x: float(x))"
      ],
      "execution_count": 4,
      "outputs": [
        {
          "output_type": "stream",
          "name": "stdout",
          "text": [
            "5010 5010 5010 5010 5010\n"
          ]
        },
        {
          "output_type": "execute_result",
          "data": {
            "text/html": [
              "<div>\n",
              "<style scoped>\n",
              "    .dataframe tbody tr th:only-of-type {\n",
              "        vertical-align: middle;\n",
              "    }\n",
              "\n",
              "    .dataframe tbody tr th {\n",
              "        vertical-align: top;\n",
              "    }\n",
              "\n",
              "    .dataframe thead th {\n",
              "        text-align: right;\n",
              "    }\n",
              "</style>\n",
              "<table border=\"1\" class=\"dataframe\">\n",
              "  <thead>\n",
              "    <tr style=\"text-align: right;\">\n",
              "      <th></th>\n",
              "      <th>review</th>\n",
              "      <th>3class</th>\n",
              "      <th>4class</th>\n",
              "    </tr>\n",
              "  </thead>\n",
              "  <tbody>\n",
              "    <tr>\n",
              "      <th>0</th>\n",
              "      <td>in my opinion , a movie reviewer's most import...</td>\n",
              "      <td>0</td>\n",
              "      <td>0</td>\n",
              "    </tr>\n",
              "    <tr>\n",
              "      <th>1</th>\n",
              "      <td>you can watch this movie , that is based on a ...</td>\n",
              "      <td>0</td>\n",
              "      <td>0</td>\n",
              "    </tr>\n",
              "    <tr>\n",
              "      <th>2</th>\n",
              "      <td>this is asking a lot to believe , and though i...</td>\n",
              "      <td>0</td>\n",
              "      <td>0</td>\n",
              "    </tr>\n",
              "    <tr>\n",
              "      <th>3</th>\n",
              "      <td>no heroes and no story are the main attributes...</td>\n",
              "      <td>0</td>\n",
              "      <td>0</td>\n",
              "    </tr>\n",
              "    <tr>\n",
              "      <th>4</th>\n",
              "      <td>this is not an art movie , yet i saw it an art...</td>\n",
              "      <td>0</td>\n",
              "      <td>0</td>\n",
              "    </tr>\n",
              "    <tr>\n",
              "      <th>...</th>\n",
              "      <td>...</td>\n",
              "      <td>...</td>\n",
              "      <td>...</td>\n",
              "    </tr>\n",
              "    <tr>\n",
              "      <th>5005</th>\n",
              "      <td>nicolas roeg's mesmerizing 1971 film walkabout...</td>\n",
              "      <td>2</td>\n",
              "      <td>3</td>\n",
              "    </tr>\n",
              "    <tr>\n",
              "      <th>5006</th>\n",
              "      <td>the movie air force one should require a docto...</td>\n",
              "      <td>2</td>\n",
              "      <td>3</td>\n",
              "    </tr>\n",
              "    <tr>\n",
              "      <th>5007</th>\n",
              "      <td>\" well , jones , at least you haven't forgotte...</td>\n",
              "      <td>2</td>\n",
              "      <td>3</td>\n",
              "    </tr>\n",
              "    <tr>\n",
              "      <th>5008</th>\n",
              "      <td>in a time of bloated productions where special...</td>\n",
              "      <td>2</td>\n",
              "      <td>3</td>\n",
              "    </tr>\n",
              "    <tr>\n",
              "      <th>5009</th>\n",
              "      <td></td>\n",
              "      <td></td>\n",
              "      <td></td>\n",
              "    </tr>\n",
              "  </tbody>\n",
              "</table>\n",
              "<p>5010 rows × 3 columns</p>\n",
              "</div>"
            ],
            "text/plain": [
              "                                                 review 3class 4class\n",
              "0     in my opinion , a movie reviewer's most import...      0      0\n",
              "1     you can watch this movie , that is based on a ...      0      0\n",
              "2     this is asking a lot to believe , and though i...      0      0\n",
              "3     no heroes and no story are the main attributes...      0      0\n",
              "4     this is not an art movie , yet i saw it an art...      0      0\n",
              "...                                                 ...    ...    ...\n",
              "5005  nicolas roeg's mesmerizing 1971 film walkabout...      2      3\n",
              "5006  the movie air force one should require a docto...      2      3\n",
              "5007  \" well , jones , at least you haven't forgotte...      2      3\n",
              "5008  in a time of bloated productions where special...      2      3\n",
              "5009                                                                 \n",
              "\n",
              "[5010 rows x 3 columns]"
            ]
          },
          "metadata": {},
          "execution_count": 4
        }
      ]
    },
    {
      "cell_type": "markdown",
      "metadata": {
        "id": "XvO0V2e8Oqso"
      },
      "source": [
        "# Pre-processing the data"
      ]
    },
    {
      "cell_type": "code",
      "metadata": {
        "id": "YBWQTz_5OqAQ",
        "colab": {
          "base_uri": "https://localhost:8080/"
        },
        "outputId": "d636fc1a-41e2-44d4-9c18-fee4debff6f3"
      },
      "source": [
        "data['3class'].value_counts()"
      ],
      "execution_count": 5,
      "outputs": [
        {
          "output_type": "execute_result",
          "data": {
            "text/plain": [
              "1    1915\n",
              "2    1894\n",
              "0    1197\n",
              "        4\n",
              "Name: 3class, dtype: int64"
            ]
          },
          "metadata": {},
          "execution_count": 5
        }
      ]
    },
    {
      "cell_type": "code",
      "metadata": {
        "id": "QZ9jP2WX_m-u"
      },
      "source": [
        "data = data[data['3class']!='']\n"
      ],
      "execution_count": 6,
      "outputs": []
    },
    {
      "cell_type": "code",
      "metadata": {
        "id": "qqCYX1GyNL0m",
        "colab": {
          "base_uri": "https://localhost:8080/"
        },
        "outputId": "3f41f94f-835e-4d1b-c039-a27c4a606fd6"
      },
      "source": [
        "# Spliting the dataset for training and testing\n",
        "X_train, X_test, y_train, y_test = train_test_split (data['review'], data['3class'] , train_size = 0.8, random_state = 42, shuffle = True, stratify=data['3class'])\n",
        "print ('Shapes of X_train, y_train: ', X_train.shape, y_train.shape)\n",
        "print ('Shapes of X_test, y_test: ', X_test.shape, y_test.shape)"
      ],
      "execution_count": 7,
      "outputs": [
        {
          "output_type": "stream",
          "name": "stdout",
          "text": [
            "Shapes of X_train, y_train:  (4004,) (4004,)\n",
            "Shapes of X_test, y_test:  (1002,) (1002,)\n"
          ]
        }
      ]
    },
    {
      "cell_type": "code",
      "metadata": {
        "id": "vyzvklgbOvfZ",
        "colab": {
          "base_uri": "https://localhost:8080/"
        },
        "outputId": "0e30a9b3-587a-415d-f0d9-96cb01fcd0d6"
      },
      "source": [
        "# Vectorizing the documents\n",
        "vectorizer = CountVectorizer(binary = True)\n",
        "X_train = vectorizer.fit_transform(X_train.to_list())\n",
        "X_test = vectorizer.transform(X_test.to_list())\n",
        "print ('Shapes of X_train, y_train: ', X_train.shape, y_train.shape)\n",
        "print ('Shapes of X_test, y_test: ', X_test.shape, y_test.shape)"
      ],
      "execution_count": 8,
      "outputs": [
        {
          "output_type": "stream",
          "name": "stdout",
          "text": [
            "Shapes of X_train, y_train:  (4004, 38629) (4004,)\n",
            "Shapes of X_test, y_test:  (1002, 38629) (1002,)\n"
          ]
        }
      ]
    },
    {
      "cell_type": "markdown",
      "metadata": {
        "id": "AvCkAJ00RH7D"
      },
      "source": [
        "# Linear models"
      ]
    },
    {
      "cell_type": "markdown",
      "metadata": {
        "id": "APzuE9I8hDnE"
      },
      "source": [
        "### Default"
      ]
    },
    {
      "cell_type": "code",
      "metadata": {
        "id": "u53BC-tySKGK"
      },
      "source": [
        "def printing_eval_scores (y_true, y_pred, report=''):\n",
        "  accuracy = sklearn.metrics.accuracy_score(y_true, y_pred)\n",
        "  precision = sklearn.metrics.precision_score(y_true, y_pred, average = 'weighted')\n",
        "  recall = sklearn.metrics.recall_score(y_true, y_pred, average = 'weighted')\n",
        "  f1 = sklearn.metrics.f1_score(y_true, y_pred, average = 'weighted')\n",
        "  print('accuracy score: {:.3f}'.format(accuracy))\n",
        "  print('precision score: {:.3f}'.format(precision))\n",
        "  print('recall score: {:.3f}'.format(recall))\n",
        "  print('F1 score: {:.3f}'.format(f1))\n",
        "  if report is True:\n",
        "    print(classification_report(y_true, y_pred))\n",
        "  else:\n",
        "    pass\n",
        "  return accuracy, precision, recall, f1"
      ],
      "execution_count": 9,
      "outputs": []
    },
    {
      "cell_type": "code",
      "metadata": {
        "id": "xWkVLHPYRLGL",
        "colab": {
          "base_uri": "https://localhost:8080/"
        },
        "outputId": "0f5fd24c-4b12-4861-b34b-493d276e945f"
      },
      "source": [
        "\n",
        "def training (penalty, max_iter): #penalty=\"l2\", max_iter=100\n",
        "  SGD = SGDClassifier( penalty=penalty, max_iter=max_iter, shuffle=True).fit(X_train, y_train)\n",
        "  y_pred = SGD.predict(X_test)\n",
        "  printing_eval_scores (y_test, y_pred, report=True)\n",
        "\n",
        "penalties = ['l1','l2']\n",
        "for penalty in penalties:\n",
        "  print('\\n-------training linear model with penalty = {}'.format(penalty ))\n",
        "  training (penalty='l2', max_iter=100)"
      ],
      "execution_count": 10,
      "outputs": [
        {
          "output_type": "stream",
          "name": "stdout",
          "text": [
            "\n",
            "-------training linear model with penalty = l1\n",
            "accuracy score: 0.657\n",
            "precision score: 0.658\n",
            "recall score: 0.657\n",
            "F1 score: 0.656\n",
            "              precision    recall  f1-score   support\n",
            "\n",
            "           0       0.69      0.58      0.63       240\n",
            "           1       0.59      0.62      0.60       383\n",
            "           2       0.70      0.75      0.72       379\n",
            "\n",
            "    accuracy                           0.66      1002\n",
            "   macro avg       0.66      0.65      0.65      1002\n",
            "weighted avg       0.66      0.66      0.66      1002\n",
            "\n",
            "\n",
            "-------training linear model with penalty = l2\n",
            "accuracy score: 0.656\n",
            "precision score: 0.660\n",
            "recall score: 0.656\n",
            "F1 score: 0.656\n",
            "              precision    recall  f1-score   support\n",
            "\n",
            "           0       0.69      0.56      0.62       240\n",
            "           1       0.58      0.65      0.62       383\n",
            "           2       0.72      0.72      0.72       379\n",
            "\n",
            "    accuracy                           0.66      1002\n",
            "   macro avg       0.66      0.64      0.65      1002\n",
            "weighted avg       0.66      0.66      0.66      1002\n",
            "\n"
          ]
        }
      ]
    },
    {
      "cell_type": "markdown",
      "metadata": {
        "id": "fw8gnX8LhIpc"
      },
      "source": [
        ""
      ]
    },
    {
      "cell_type": "markdown",
      "metadata": {
        "id": "GC2IatzMgpFe"
      },
      "source": [
        "Penalty = L2, and loss = log (logistic regression model) yeild the best performance on F1 score (0.657)"
      ]
    },
    {
      "cell_type": "markdown",
      "metadata": {
        "id": "mGbctRPkhP_E"
      },
      "source": [
        "### Searching the best parameter"
      ]
    },
    {
      "cell_type": "code",
      "metadata": {
        "id": "t8hoW9GIeuZs",
        "colab": {
          "base_uri": "https://localhost:8080/"
        },
        "outputId": "f1ef7e3a-6eb4-450b-865c-18c64f674f90"
      },
      "source": [
        "# Set the parameters by cross-validation\n",
        "tuned_parameters = [{'alpha': [i for i in np.arange (0.0001, 0.01, 0.001 )]}] #, 'loss': ['log','hinge', 'perceptron']}]\n",
        "score = 'f1'\n",
        "\n",
        "print(\"# Searching hyper-parameters for %s\" % score)\n",
        "clf = GridSearchCV(SGDClassifier(shuffle=True), tuned_parameters, scoring='%s_macro' % score, cv = 5, refit = True, n_jobs = -1 )\n",
        "clf.fit(X_train, y_train)\n",
        "print('Best parameters set found on development set: {}'.format(clf.best_params_))\n",
        "print(\"Grid scores on development set:\")\n",
        "means = clf.cv_results_['mean_test_score']\n",
        "stds = clf.cv_results_['std_test_score']\n",
        "\n",
        "y_pred =  clf.predict(X_test)\n",
        "printing_eval_scores (y_test, y_pred, report=True)\n",
        "\n"
      ],
      "execution_count": 11,
      "outputs": [
        {
          "output_type": "stream",
          "name": "stdout",
          "text": [
            "# Searching hyper-parameters for f1\n",
            "Best parameters set found on development set: {'alpha': 0.0081}\n",
            "Grid scores on development set:\n",
            "accuracy score: 0.653\n",
            "precision score: 0.652\n",
            "recall score: 0.653\n",
            "F1 score: 0.652\n",
            "              precision    recall  f1-score   support\n",
            "\n",
            "           0       0.66      0.60      0.63       240\n",
            "           1       0.58      0.59      0.59       383\n",
            "           2       0.72      0.74      0.73       379\n",
            "\n",
            "    accuracy                           0.65      1002\n",
            "   macro avg       0.65      0.65      0.65      1002\n",
            "weighted avg       0.65      0.65      0.65      1002\n",
            "\n"
          ]
        },
        {
          "output_type": "execute_result",
          "data": {
            "text/plain": [
              "(0.6526946107784432,\n",
              " 0.6523620595138327,\n",
              " 0.6526946107784432,\n",
              " 0.6520933652058369)"
            ]
          },
          "metadata": {},
          "execution_count": 11
        }
      ]
    },
    {
      "cell_type": "markdown",
      "metadata": {
        "id": "Mmg1ajLk_qF2"
      },
      "source": [
        "**(4)  SGDClassifier used “one versus all” (OVA) strategy to handle multi-class strategy. For each of K classes, the binary classifier will try to predict that class and the rest other K-1 classes.**"
      ]
    },
    {
      "cell_type": "code",
      "metadata": {
        "colab": {
          "base_uri": "https://localhost:8080/"
        },
        "id": "rF8SMd919XVH",
        "outputId": "a7b16d6b-45e7-4e73-91d3-63f58d44c8c2"
      },
      "source": [
        "# Printing features with highest weights.\n",
        "best_SGD = SGDClassifier( penalty='l2',  shuffle=True, alpha=0.0081).fit(X_train, y_train)\n",
        "y_pred = best_SGD.predict(X_test)\n",
        "weights = best_SGD.coef_\n",
        "weights"
      ],
      "execution_count": 12,
      "outputs": [
        {
          "output_type": "execute_result",
          "data": {
            "text/plain": [
              "array([[ 0.01401134, -0.03642949, -0.03642949, ...,  0.        ,\n",
              "        -0.00186818,  0.        ],\n",
              "       [ 0.04786152, -0.04786152, -0.02109152, ..., -0.01946909,\n",
              "         0.00730091, -0.01135697],\n",
              "       [-0.08807268,  0.06781596,  0.05460506, ...,  0.01849526,\n",
              "         0.00264218,  0.        ]])"
            ]
          },
          "metadata": {},
          "execution_count": 12
        }
      ]
    },
    {
      "cell_type": "code",
      "metadata": {
        "colab": {
          "base_uri": "https://localhost:8080/"
        },
        "id": "k41E0kWSG7_p",
        "outputId": "0eea1e58-fd91-46de-939b-4c61e95d4bb1"
      },
      "source": [
        "features = vectorizer.get_feature_names()\n",
        "\n",
        "feature_weights = {}\n",
        "for i in range(len(weights)):\n",
        "  print('\\n==============================================')\n",
        "  print ('\\nclass: {}'.format(i+1))\n",
        "  for w in range(len(weights[i])):\n",
        "     feature_weights[features[w]] = np.abs(weights[i][w])\n",
        "  # Sorting the dictionary in descending order\n",
        "  sorted_feature_weights = {k:v for k, v in sorted(feature_weights.items(), key = lambda item: item[1], reverse=True)}\n",
        "\n",
        "  # Print the weights learned for each class\n",
        "  print('10 most important features (in descending order): ')\n",
        "  for k, v in list(sorted_feature_weights.items())[:20]:\n",
        "    print ('{}: {:.5f}'. format(k,v))\n"
      ],
      "execution_count": 13,
      "outputs": [
        {
          "output_type": "stream",
          "name": "stdout",
          "text": [
            "\n",
            "==============================================\n",
            "\n",
            "class: 1\n",
            "10 most important features (in descending order): \n",
            "bad: 0.29144\n",
            "boring: 0.26902\n",
            "awake: 0.25034\n",
            "ridiculous: 0.24380\n",
            "suppose: 0.23165\n",
            "watchable: 0.23165\n",
            "problems: 0.22418\n",
            "dull: 0.22138\n",
            "unfunny: 0.21951\n",
            "fine: 0.21764\n",
            "inane: 0.21484\n",
            "yet: 0.21017\n",
            "top: 0.20830\n",
            "failed: 0.20363\n",
            "routine: 0.19896\n",
            "worst: 0.19803\n",
            "although: 0.19709\n",
            "satisfying: 0.19709\n",
            "highly: 0.19242\n",
            "keeps: 0.19149\n",
            "\n",
            "==============================================\n",
            "\n",
            "class: 2\n",
            "10 most important features (in descending order): \n",
            "problems: 0.31151\n",
            "able: 0.28555\n",
            "unfortunately: 0.26770\n",
            "problem: 0.26202\n",
            "terrific: 0.25959\n",
            "ve: 0.23850\n",
            "add: 0.23687\n",
            "changes: 0.23687\n",
            "marriage: 0.23687\n",
            "fits: 0.23363\n",
            "albeit: 0.23282\n",
            "leads: 0.23120\n",
            "nice: 0.22957\n",
            "myself: 0.22795\n",
            "thumbs: 0.22552\n",
            "cute: 0.21822\n",
            "entertaining: 0.21659\n",
            "though: 0.21659\n",
            "cool: 0.21254\n",
            "mixed: 0.20605\n",
            "\n",
            "==============================================\n",
            "\n",
            "class: 3\n",
            "10 most important features (in descending order): \n",
            "unfortunately: 0.35581\n",
            "interesting: 0.26862\n",
            "flat: 0.26158\n",
            "problem: 0.25453\n",
            "great: 0.24660\n",
            "thumbs: 0.24660\n",
            "predictable: 0.23515\n",
            "tries: 0.23075\n",
            "the: 0.22987\n",
            "traditional: 0.22370\n",
            "intelligent: 0.21842\n",
            "bad: 0.21754\n",
            "perfect: 0.21490\n",
            "favorite: 0.21490\n",
            "delightful: 0.21402\n",
            "nice: 0.21137\n",
            "worse: 0.20609\n",
            "turns: 0.20345\n",
            "strongly: 0.19992\n",
            "terrific: 0.19816\n"
          ]
        }
      ]
    },
    {
      "cell_type": "markdown",
      "metadata": {
        "id": "FEf_4Mt6IBJC"
      },
      "source": [
        "**Q6. How does the hyperplane of the classifier look like?**"
      ]
    },
    {
      "cell_type": "code",
      "metadata": {
        "id": "xzfB1cFVIFBQ",
        "colab": {
          "base_uri": "https://localhost:8080/"
        },
        "outputId": "eb3f5c17-ea91-4247-fa00-beefda206dd7"
      },
      "source": [
        "import seaborn as sns\n",
        "# sns.displot(weights)\n",
        "hyperplane = best_SGD.decision_function(X_train).T\n",
        "#sns.displot(np.flatnonzero(hyperplane))\n",
        "hyperplane"
      ],
      "execution_count": 14,
      "outputs": [
        {
          "output_type": "execute_result",
          "data": {
            "text/plain": [
              "array([[-1.3595285 , -1.02512442, -2.73544249, ..., -2.86434686,\n",
              "        -1.37073757, -1.24370138],\n",
              "       [ 0.9792596 ,  1.0198202 , -1.56470182, ..., -1.08121936,\n",
              "        -1.06256148, -2.49840704],\n",
              "       [-1.09774786, -1.05899588,  2.30626116, ...,  1.25907701,\n",
              "         0.97988662,  1.53210232]])"
            ]
          },
          "metadata": {},
          "execution_count": 14
        }
      ]
    },
    {
      "cell_type": "code",
      "metadata": {
        "id": "Dddef30XpBNi",
        "colab": {
          "base_uri": "https://localhost:8080/",
          "height": 1000
        },
        "outputId": "c50c4499-6d2e-4cb5-d3ac-cb028f4cf43a"
      },
      "source": [
        "for i in range(3):\n",
        "  sns.displot(hyperplane[i], kind = 'hist')\n"
      ],
      "execution_count": 15,
      "outputs": [
        {
          "output_type": "display_data",
          "data": {
            "image/png": "[encoded data removed]",
            "text/plain": [
              "<Figure size 360x360 with 1 Axes>"
            ]
          },
          "metadata": {
            "needs_background": "light"
          }
        },
        {
          "output_type": "display_data",
          "data": {
            "image/png": "[encoded data removed]",
            "text/plain": [
              "<Figure size 360x360 with 1 Axes>"
            ]
          },
          "metadata": {
            "needs_background": "light"
          }
        },
        {
          "output_type": "display_data",
          "data": {
            "image/png": "[encoded data removed]",
            "text/plain": [
              "<Figure size 360x360 with 1 Axes>"
            ]
          },
          "metadata": {
            "needs_background": "light"
          }
        }
      ]
    },
    {
      "cell_type": "markdown",
      "metadata": {
        "id": "ZCObzt9s8LNl"
      },
      "source": [
        "**Q7. Model with log loss function**"
      ]
    },
    {
      "cell_type": "code",
      "metadata": {
        "id": "u_uRSKZiqoBX",
        "colab": {
          "base_uri": "https://localhost:8080/"
        },
        "outputId": "f0887e1f-af17-4166-ddee-5266cb44b247"
      },
      "source": [
        "log_SGD = SGDClassifier(loss='log', penalty='l2',  shuffle=True, alpha=0.0081).fit(X_train, y_train)\n",
        "y_pred = log_SGD.predict(X_test)\n",
        "printing_eval_scores (y_test, y_pred, report=True)\n"
      ],
      "execution_count": 16,
      "outputs": [
        {
          "output_type": "stream",
          "name": "stdout",
          "text": [
            "accuracy score: 0.661\n",
            "precision score: 0.674\n",
            "recall score: 0.661\n",
            "F1 score: 0.662\n",
            "              precision    recall  f1-score   support\n",
            "\n",
            "           0       0.72      0.56      0.63       240\n",
            "           1       0.57      0.70      0.63       383\n",
            "           2       0.75      0.69      0.72       379\n",
            "\n",
            "    accuracy                           0.66      1002\n",
            "   macro avg       0.68      0.65      0.66      1002\n",
            "weighted avg       0.67      0.66      0.66      1002\n",
            "\n"
          ]
        },
        {
          "output_type": "execute_result",
          "data": {
            "text/plain": [
              "(0.6606786427145709,\n",
              " 0.6739651297015309,\n",
              " 0.6606786427145709,\n",
              " 0.6620314647160789)"
            ]
          },
          "metadata": {},
          "execution_count": 16
        }
      ]
    },
    {
      "cell_type": "markdown",
      "metadata": {
        "id": "jFMb2r5s8h_d"
      },
      "source": [
        "**8. Building a linear model to compare the result**"
      ]
    },
    {
      "cell_type": "code",
      "metadata": {
        "id": "xxZXLnk98hSd"
      },
      "source": [
        "# df = pd.DataFrame(zip(id, review, rating, cl_3, cl_4), columns = ['id', 'review', 'rating', '3class', '4class'])\n",
        "# new_df = df[['review', 'rating']].dropna()\n",
        "# new_df = new_df[new_df['rating'] != '']\n",
        "# new_df['rating'] =new_df['rating'].apply(lambda x: float(x))\n",
        "     \n",
        "   "
      ],
      "execution_count": 17,
      "outputs": []
    },
    {
      "cell_type": "code",
      "metadata": {
        "id": "8NSbrMBo1j_g",
        "colab": {
          "base_uri": "https://localhost:8080/"
        },
        "outputId": "b1d7fca7-1141-461e-93b8-9f704a83ea1b"
      },
      "source": [
        "new_df['rating'].describe()"
      ],
      "execution_count": 18,
      "outputs": [
        {
          "output_type": "execute_result",
          "data": {
            "text/plain": [
              "count    5006.000000\n",
              "mean        0.581422\n",
              "std         0.181725\n",
              "min         0.000000\n",
              "25%         0.490000\n",
              "50%         0.600000\n",
              "75%         0.700000\n",
              "max         1.000000\n",
              "Name: rating, dtype: float64"
            ]
          },
          "metadata": {},
          "execution_count": 18
        }
      ]
    },
    {
      "cell_type": "code",
      "metadata": {
        "id": "CkrIt25JtiVt",
        "colab": {
          "base_uri": "https://localhost:8080/",
          "height": 497
        },
        "outputId": "6f53bf4f-5767-485a-fd6d-3a7285037258"
      },
      "source": [
        "plt.figure(figsize=(10,8))\n",
        "sns.histplot(data = new_df, x = 'rating', bins = 20)\n",
        "plt.show()\n"
      ],
      "execution_count": 19,
      "outputs": [
        {
          "output_type": "display_data",
          "data": {
            "image/png": "[encoded data removed]",
            "text/plain": [
              "<Figure size 720x576 with 1 Axes>"
            ]
          },
          "metadata": {
            "needs_background": "light"
          }
        }
      ]
    },
    {
      "cell_type": "code",
      "metadata": {
        "colab": {
          "base_uri": "https://localhost:8080/"
        },
        "id": "A4ukaneBAJAo",
        "outputId": "3d19b1d4-ceff-44ee-ff87-2966511cc646"
      },
      "source": [
        "# Spliting the dataset for training and testing\n",
        "X_train_, X_test_, y_train_, y_test_ = train_test_split (new_df['review'], new_df['rating'] , train_size = 0.8, random_state = 42, shuffle = True)\n",
        "print ('Shapes of X_train, y_train: ', X_train.shape, y_train.shape)\n",
        "print ('Shapes of X_test, y_test: ', X_test.shape, y_test.shape)"
      ],
      "execution_count": 20,
      "outputs": [
        {
          "output_type": "stream",
          "name": "stdout",
          "text": [
            "Shapes of X_train, y_train:  (4004, 38629) (4004,)\n",
            "Shapes of X_test, y_test:  (1002, 38629) (1002,)\n"
          ]
        }
      ]
    },
    {
      "cell_type": "code",
      "metadata": {
        "colab": {
          "base_uri": "https://localhost:8080/"
        },
        "id": "bXqfjmvrAJAp",
        "outputId": "d0718407-c1f0-41cf-cf2b-373b15f1e26e"
      },
      "source": [
        "# Vectorizing the documents\n",
        "vectorizer = CountVectorizer(binary = True)\n",
        "X_train_ = vectorizer.fit_transform(X_train_.to_list())\n",
        "X_test_ = vectorizer.transform(X_test_.to_list())\n",
        "print ('Shapes of X_train, y_train: ', X_train.shape, y_train.shape)\n",
        "print ('Shapes of X_test, y_test: ', X_test.shape, y_test.shape)"
      ],
      "execution_count": 21,
      "outputs": [
        {
          "output_type": "stream",
          "name": "stdout",
          "text": [
            "Shapes of X_train, y_train:  (4004, 38629) (4004,)\n",
            "Shapes of X_test, y_test:  (1002, 38629) (1002,)\n"
          ]
        }
      ]
    },
    {
      "cell_type": "code",
      "metadata": {
        "id": "E98URH1HCAJw",
        "colab": {
          "base_uri": "https://localhost:8080/"
        },
        "outputId": "f81460e6-6e1c-4ba9-b466-5a937fa9c0d5"
      },
      "source": [
        "from sklearn.linear_model import LinearRegression\n",
        "from sklearn.metrics import mean_squared_error, r2_score\n",
        "reg = LinearRegression().fit(X_train_, y_train_)\n",
        "y_pred = reg.predict(X_test_)\n",
        "print('mean squared error: {:.3f}'.format(mean_squared_error(y_test_, y_pred)))\n",
        "print('r2 score: {:.3f}'.format(r2_score(y_test_, y_pred)))"
      ],
      "execution_count": 22,
      "outputs": [
        {
          "output_type": "stream",
          "name": "stdout",
          "text": [
            "mean squared error: 0.019\n",
            "r2 score: 0.413\n"
          ]
        }
      ]
    },
    {
      "cell_type": "code",
      "metadata": {
        "id": "uNIp41-2LsDd",
        "outputId": "0d00e21e-8b2c-4d8e-ffdc-d09ea67b6fa1",
        "colab": {
          "base_uri": "https://localhost:8080/"
        }
      },
      "source": [
        "y_pred_cl = []\n",
        "for i in y_pred:\n",
        "  if i <=0.4:\n",
        "    y_pred_cl.append(\"0\")\n",
        "  elif i >=0.7:\n",
        "    y_pred_cl.append(\"2\")\n",
        "  else:\n",
        "    y_pred_cl.append(\"1\")\n",
        "printing_eval_scores(y_test, y_pred_cl, report = True)"
      ],
      "execution_count": 23,
      "outputs": [
        {
          "output_type": "stream",
          "name": "stdout",
          "text": [
            "accuracy score: 0.347\n",
            "precision score: 0.330\n",
            "recall score: 0.347\n",
            "F1 score: 0.315\n",
            "              precision    recall  f1-score   support\n",
            "\n",
            "           0       0.22      0.15      0.18       240\n",
            "           1       0.38      0.63      0.47       383\n",
            "           2       0.35      0.18      0.24       379\n",
            "\n",
            "    accuracy                           0.35      1002\n",
            "   macro avg       0.32      0.32      0.30      1002\n",
            "weighted avg       0.33      0.35      0.32      1002\n",
            "\n"
          ]
        },
        {
          "output_type": "execute_result",
          "data": {
            "text/plain": [
              "(0.3473053892215569,\n",
              " 0.33029549036644185,\n",
              " 0.3473053892215569,\n",
              " 0.31539444137412953)"
            ]
          },
          "metadata": {},
          "execution_count": 23
        }
      ]
    },
    {
      "cell_type": "markdown",
      "metadata": {
        "id": "SK3hGX2fcxUf"
      },
      "source": [
        "# Implementing minibatches\n"
      ]
    },
    {
      "cell_type": "code",
      "metadata": {
        "colab": {
          "base_uri": "https://localhost:8080/"
        },
        "id": "lvvbxyo8iRK9",
        "outputId": "27116845-7fef-44b6-fef7-c1335e8377bb"
      },
      "source": [
        "from sklearn.linear_model import SGDClassifier\n",
        "import random\n",
        "log_SGD_2 = SGDClassifier(loss='log', penalty='l2',  shuffle=True, alpha=0.0081).fit(X_train, y_train)\n",
        "n_iter = 10\n",
        "batch_size = 32\n",
        "for n in range(n_iter):\n",
        "  print ('----------iteration {}-----------'.format(n+1))\n",
        "  n_instances, n_features = X_train.shape\n",
        "  i=0 \n",
        "  while i<= round(n_instances/batch_size):\n",
        "    m = batch_size * i\n",
        "    n = m + batch_size\n",
        "    log_SGD_2.partial_fit(X_train[m:n], y_train[m:n], classes=np.unique(y_train))\n",
        "    i+=1    \n",
        "  y_pred = log_SGD_2.predict(X_test)\n",
        "  printing_eval_scores(y_test, y_pred, report = True)"
      ],
      "execution_count": 24,
      "outputs": [
        {
          "output_type": "stream",
          "name": "stdout",
          "text": [
            "----------iteration 1-----------\n",
            "accuracy score: 0.667\n",
            "precision score: 0.678\n",
            "recall score: 0.667\n",
            "F1 score: 0.666\n",
            "              precision    recall  f1-score   support\n",
            "\n",
            "           0       0.76      0.53      0.63       240\n",
            "           1       0.58      0.68      0.62       383\n",
            "           2       0.73      0.74      0.73       379\n",
            "\n",
            "    accuracy                           0.67      1002\n",
            "   macro avg       0.69      0.65      0.66      1002\n",
            "weighted avg       0.68      0.67      0.67      1002\n",
            "\n",
            "----------iteration 2-----------\n",
            "accuracy score: 0.665\n",
            "precision score: 0.675\n",
            "recall score: 0.665\n",
            "F1 score: 0.664\n",
            "              precision    recall  f1-score   support\n",
            "\n",
            "           0       0.75      0.54      0.63       240\n",
            "           1       0.58      0.67      0.62       383\n",
            "           2       0.72      0.74      0.73       379\n",
            "\n",
            "    accuracy                           0.66      1002\n",
            "   macro avg       0.68      0.65      0.66      1002\n",
            "weighted avg       0.67      0.66      0.66      1002\n",
            "\n",
            "----------iteration 3-----------\n",
            "accuracy score: 0.666\n",
            "precision score: 0.676\n",
            "recall score: 0.666\n",
            "F1 score: 0.666\n",
            "              precision    recall  f1-score   support\n",
            "\n",
            "           0       0.75      0.55      0.63       240\n",
            "           1       0.58      0.67      0.62       383\n",
            "           2       0.72      0.74      0.73       379\n",
            "\n",
            "    accuracy                           0.67      1002\n",
            "   macro avg       0.69      0.65      0.66      1002\n",
            "weighted avg       0.68      0.67      0.67      1002\n",
            "\n",
            "----------iteration 4-----------\n",
            "accuracy score: 0.662\n",
            "precision score: 0.670\n",
            "recall score: 0.662\n",
            "F1 score: 0.661\n",
            "              precision    recall  f1-score   support\n",
            "\n",
            "           0       0.74      0.55      0.63       240\n",
            "           1       0.58      0.65      0.61       383\n",
            "           2       0.72      0.74      0.73       379\n",
            "\n",
            "    accuracy                           0.66      1002\n",
            "   macro avg       0.68      0.65      0.66      1002\n",
            "weighted avg       0.67      0.66      0.66      1002\n",
            "\n",
            "----------iteration 5-----------\n",
            "accuracy score: 0.663\n",
            "precision score: 0.672\n",
            "recall score: 0.663\n",
            "F1 score: 0.663\n",
            "              precision    recall  f1-score   support\n",
            "\n",
            "           0       0.75      0.55      0.63       240\n",
            "           1       0.58      0.66      0.62       383\n",
            "           2       0.72      0.74      0.73       379\n",
            "\n",
            "    accuracy                           0.66      1002\n",
            "   macro avg       0.68      0.65      0.66      1002\n",
            "weighted avg       0.67      0.66      0.66      1002\n",
            "\n",
            "----------iteration 6-----------\n",
            "accuracy score: 0.663\n",
            "precision score: 0.672\n",
            "recall score: 0.663\n",
            "F1 score: 0.663\n",
            "              precision    recall  f1-score   support\n",
            "\n",
            "           0       0.75      0.55      0.63       240\n",
            "           1       0.58      0.66      0.62       383\n",
            "           2       0.72      0.74      0.73       379\n",
            "\n",
            "    accuracy                           0.66      1002\n",
            "   macro avg       0.68      0.65      0.66      1002\n",
            "weighted avg       0.67      0.66      0.66      1002\n",
            "\n",
            "----------iteration 7-----------\n",
            "accuracy score: 0.664\n",
            "precision score: 0.673\n",
            "recall score: 0.664\n",
            "F1 score: 0.664\n",
            "              precision    recall  f1-score   support\n",
            "\n",
            "           0       0.75      0.55      0.63       240\n",
            "           1       0.58      0.66      0.62       383\n",
            "           2       0.72      0.74      0.73       379\n",
            "\n",
            "    accuracy                           0.66      1002\n",
            "   macro avg       0.68      0.65      0.66      1002\n",
            "weighted avg       0.67      0.66      0.66      1002\n",
            "\n",
            "----------iteration 8-----------\n",
            "accuracy score: 0.661\n",
            "precision score: 0.668\n",
            "recall score: 0.661\n",
            "F1 score: 0.660\n",
            "              precision    recall  f1-score   support\n",
            "\n",
            "           0       0.73      0.55      0.63       240\n",
            "           1       0.58      0.65      0.61       383\n",
            "           2       0.72      0.74      0.73       379\n",
            "\n",
            "    accuracy                           0.66      1002\n",
            "   macro avg       0.68      0.65      0.66      1002\n",
            "weighted avg       0.67      0.66      0.66      1002\n",
            "\n",
            "----------iteration 9-----------\n",
            "accuracy score: 0.661\n",
            "precision score: 0.668\n",
            "recall score: 0.661\n",
            "F1 score: 0.660\n",
            "              precision    recall  f1-score   support\n",
            "\n",
            "           0       0.73      0.55      0.63       240\n",
            "           1       0.58      0.65      0.61       383\n",
            "           2       0.72      0.74      0.73       379\n",
            "\n",
            "    accuracy                           0.66      1002\n",
            "   macro avg       0.68      0.65      0.66      1002\n",
            "weighted avg       0.67      0.66      0.66      1002\n",
            "\n",
            "----------iteration 10-----------\n",
            "accuracy score: 0.661\n",
            "precision score: 0.667\n",
            "recall score: 0.661\n",
            "F1 score: 0.660\n",
            "              precision    recall  f1-score   support\n",
            "\n",
            "           0       0.73      0.55      0.63       240\n",
            "           1       0.58      0.64      0.61       383\n",
            "           2       0.71      0.74      0.73       379\n",
            "\n",
            "    accuracy                           0.66      1002\n",
            "   macro avg       0.68      0.65      0.66      1002\n",
            "weighted avg       0.67      0.66      0.66      1002\n",
            "\n"
          ]
        }
      ]
    }
  ]
}