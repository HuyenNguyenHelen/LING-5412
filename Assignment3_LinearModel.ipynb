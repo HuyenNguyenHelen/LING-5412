{
  "nbformat": 4,
  "nbformat_minor": 0,
  "metadata": {
    "colab": {
      "name": "Untitled19.ipynb",
      "provenance": [],
      "collapsed_sections": [],
      "authorship_tag": "ABX9TyMrxkdG64cM0VA2zXGtOp3B",
      "include_colab_link": true
    },
    "kernelspec": {
      "name": "python3",
      "display_name": "Python 3"
    },
    "language_info": {
      "name": "python"
    }
  },
  "cells": [
    {
      "cell_type": "markdown",
      "metadata": {
        "id": "view-in-github",
        "colab_type": "text"
      },
      "source": [
        "<a href=\"https://colab.research.google.com/github/HuyenNguyenHelen/LING-5412/blob/main/Assignment3_LinearModel.ipynb\" target=\"_parent\"><img src=\"https://colab.research.google.com/assets/colab-badge.svg\" alt=\"Open In Colab\"/></a>"
      ]
    },
    {
      "cell_type": "code",
      "metadata": {
        "colab": {
          "base_uri": "https://localhost:8080/"
        },
        "id": "wZTlx8cNJtee",
        "outputId": "e12b1675-3b4c-4bd7-f24a-bda5fbf0a201"
      },
      "source": [
        "# Importing libraries that will be used \n",
        "import numpy as np\n",
        "import tarfile\n",
        "import glob\n",
        "import re\n",
        "import pandas as pd\n",
        "#from nltk.corpus import stopwords\n",
        "import nltk\n",
        "nltk.download('wordnet')\n",
        "import matplotlib.pyplot as plt\n",
        "\n",
        "import sklearn\n",
        "from sklearn.model_selection import GridSearchCV\n",
        "from sklearn.feature_extraction.text import CountVectorizer\n",
        "from sklearn.linear_model import SGDClassifier\n",
        "from sklearn.model_selection import train_test_split\n",
        "from sklearn.metrics import accuracy_score, classification_report\n",
        "from sklearn.metrics import confusion_matrix, ConfusionMatrixDisplay"
      ],
      "execution_count": 103,
      "outputs": [
        {
          "output_type": "stream",
          "name": "stdout",
          "text": [
            "[nltk_data] Downloading package wordnet to /root/nltk_data...\n",
            "[nltk_data]   Package wordnet is already up-to-date!\n"
          ]
        }
      ]
    },
    {
      "cell_type": "markdown",
      "metadata": {
        "id": "mc2pTdPrJTp8"
      },
      "source": [
        "# Loading the dataset"
      ]
    },
    {
      "cell_type": "code",
      "metadata": {
        "colab": {
          "base_uri": "https://localhost:8080/"
        },
        "id": "6q_HpztUInR9",
        "outputId": "c87f4a51-a356-495d-c65f-9bde0c22641f"
      },
      "source": [
        "!wget http://www.cs.cornell.edu/people/pabo/movie-review-data/scale_data.tar.gz"
      ],
      "execution_count": 104,
      "outputs": [
        {
          "output_type": "stream",
          "name": "stdout",
          "text": [
            "--2021-10-14 04:17:12--  http://www.cs.cornell.edu/people/pabo/movie-review-data/scale_data.tar.gz\n",
            "Resolving www.cs.cornell.edu (www.cs.cornell.edu)... 132.236.207.36\n",
            "Connecting to www.cs.cornell.edu (www.cs.cornell.edu)|132.236.207.36|:80... connected.\n",
            "HTTP request sent, awaiting response... 200 OK\n",
            "Length: 4029756 (3.8M) [application/x-gzip]\n",
            "Saving to: ‘scale_data.tar.gz.2’\n",
            "\n",
            "\rscale_data.tar.gz.2   0%[                    ]       0  --.-KB/s               \rscale_data.tar.gz.2 100%[===================>]   3.84M  --.-KB/s    in 0.1s    \n",
            "\n",
            "2021-10-14 04:17:12 (29.9 MB/s) - ‘scale_data.tar.gz.2’ saved [4029756/4029756]\n",
            "\n"
          ]
        }
      ]
    },
    {
      "cell_type": "code",
      "metadata": {
        "id": "wxlFbhDlJcT7"
      },
      "source": [
        "# Untar the dataset\n",
        "my_tar = tarfile.open('/content/scale_data.tar.gz')\n",
        "my_tar.extractall('/content/') \n",
        "my_tar.close()\n"
      ],
      "execution_count": 105,
      "outputs": []
    },
    {
      "cell_type": "code",
      "metadata": {
        "colab": {
          "base_uri": "https://localhost:8080/",
          "height": 438
        },
        "id": "oXoCmCDBNUac",
        "outputId": "e67b35f5-5e7c-4863-aaec-2964b14c8517"
      },
      "source": [
        "id, review, rating, cl_3, cl_4 = [],[],[],[], []\n",
        "for root in glob.glob ('/content/scaledata/*'):\n",
        "  for path in glob.glob(root+'/*'): \n",
        "      fo = open(path)\n",
        "      doc = fo.read()\n",
        "      if 'id' in path:\n",
        "        id.extend(doc.split('\\n'))\n",
        "      elif 'subj' in path:\n",
        "          review.extend(doc.split('\\n'))\n",
        "      elif 'rating' in path:\n",
        "        rating.extend(doc.split('\\n'))\n",
        "      elif '3class' in path:\n",
        "        cl_3.extend(doc.split('\\n'))\n",
        "      else:\n",
        "        cl_4.extend(doc.split('\\n'))\n",
        "      # print(path,'\\n')\n",
        "      # print(doc.split('\\n')[:10])\n",
        "print (len(id), len(review), len(rating), len(cl_3), len(cl_4))\n",
        "\n",
        "df = pd.DataFrame(zip(id, review, rating, cl_3, cl_4), columns = ['id', 'review', 'rating', '3class', '4class'])\n",
        "data = df[['review', '3class', '4class']].dropna()\n",
        "data"
      ],
      "execution_count": 106,
      "outputs": [
        {
          "output_type": "stream",
          "name": "stdout",
          "text": [
            "5010 5010 5010 5010 5010\n"
          ]
        },
        {
          "output_type": "execute_result",
          "data": {
            "text/html": [
              "<div>\n",
              "<style scoped>\n",
              "    .dataframe tbody tr th:only-of-type {\n",
              "        vertical-align: middle;\n",
              "    }\n",
              "\n",
              "    .dataframe tbody tr th {\n",
              "        vertical-align: top;\n",
              "    }\n",
              "\n",
              "    .dataframe thead th {\n",
              "        text-align: right;\n",
              "    }\n",
              "</style>\n",
              "<table border=\"1\" class=\"dataframe\">\n",
              "  <thead>\n",
              "    <tr style=\"text-align: right;\">\n",
              "      <th></th>\n",
              "      <th>review</th>\n",
              "      <th>3class</th>\n",
              "      <th>4class</th>\n",
              "    </tr>\n",
              "  </thead>\n",
              "  <tbody>\n",
              "    <tr>\n",
              "      <th>0</th>\n",
              "      <td>i'm guessing -- and from the available evidenc...</td>\n",
              "      <td>0</td>\n",
              "      <td>0</td>\n",
              "    </tr>\n",
              "    <tr>\n",
              "      <th>1</th>\n",
              "      <td>there's bad buzz , and then there's the the ba...</td>\n",
              "      <td>0</td>\n",
              "      <td>0</td>\n",
              "    </tr>\n",
              "    <tr>\n",
              "      <th>2</th>\n",
              "      <td>director : richard rush . director richard rus...</td>\n",
              "      <td>0</td>\n",
              "      <td>0</td>\n",
              "    </tr>\n",
              "    <tr>\n",
              "      <th>3</th>\n",
              "      <td>screenplay : johnny brennan &amp; kamal ahmed and ...</td>\n",
              "      <td>0</td>\n",
              "      <td>0</td>\n",
              "    </tr>\n",
              "    <tr>\n",
              "      <th>4</th>\n",
              "      <td>screenplay : tim burns &amp; tom stern and anthony...</td>\n",
              "      <td>0</td>\n",
              "      <td>0</td>\n",
              "    </tr>\n",
              "    <tr>\n",
              "      <th>...</th>\n",
              "      <td>...</td>\n",
              "      <td>...</td>\n",
              "      <td>...</td>\n",
              "    </tr>\n",
              "    <tr>\n",
              "      <th>5005</th>\n",
              "      <td>since the film didn't have a director , the fi...</td>\n",
              "      <td>2</td>\n",
              "      <td>3</td>\n",
              "    </tr>\n",
              "    <tr>\n",
              "      <th>5006</th>\n",
              "      <td>claire denis ( i can't sleep/nenette and boni/...</td>\n",
              "      <td>2</td>\n",
              "      <td>3</td>\n",
              "    </tr>\n",
              "    <tr>\n",
              "      <th>5007</th>\n",
              "      <td>the young kid doesn't know what to say . yang-...</td>\n",
              "      <td>2</td>\n",
              "      <td>3</td>\n",
              "    </tr>\n",
              "    <tr>\n",
              "      <th>5008</th>\n",
              "      <td>the film's theme is about how women are made t...</td>\n",
              "      <td>2</td>\n",
              "      <td>3</td>\n",
              "    </tr>\n",
              "    <tr>\n",
              "      <th>5009</th>\n",
              "      <td></td>\n",
              "      <td></td>\n",
              "      <td></td>\n",
              "    </tr>\n",
              "  </tbody>\n",
              "</table>\n",
              "<p>5010 rows × 3 columns</p>\n",
              "</div>"
            ],
            "text/plain": [
              "                                                 review 3class 4class\n",
              "0     i'm guessing -- and from the available evidenc...      0      0\n",
              "1     there's bad buzz , and then there's the the ba...      0      0\n",
              "2     director : richard rush . director richard rus...      0      0\n",
              "3     screenplay : johnny brennan & kamal ahmed and ...      0      0\n",
              "4     screenplay : tim burns & tom stern and anthony...      0      0\n",
              "...                                                 ...    ...    ...\n",
              "5005  since the film didn't have a director , the fi...      2      3\n",
              "5006  claire denis ( i can't sleep/nenette and boni/...      2      3\n",
              "5007  the young kid doesn't know what to say . yang-...      2      3\n",
              "5008  the film's theme is about how women are made t...      2      3\n",
              "5009                                                                 \n",
              "\n",
              "[5010 rows x 3 columns]"
            ]
          },
          "metadata": {},
          "execution_count": 106
        }
      ]
    },
    {
      "cell_type": "markdown",
      "metadata": {
        "id": "XvO0V2e8Oqso"
      },
      "source": [
        "# Pre-processing the data"
      ]
    },
    {
      "cell_type": "code",
      "metadata": {
        "id": "YBWQTz_5OqAQ",
        "colab": {
          "base_uri": "https://localhost:8080/"
        },
        "outputId": "3b71bb61-7422-420f-8644-8c4c3b2812ee"
      },
      "source": [
        "data['3class'].value_counts()"
      ],
      "execution_count": 107,
      "outputs": [
        {
          "output_type": "execute_result",
          "data": {
            "text/plain": [
              "1    1915\n",
              "2    1894\n",
              "0    1197\n",
              "        4\n",
              "Name: 3class, dtype: int64"
            ]
          },
          "metadata": {},
          "execution_count": 107
        }
      ]
    },
    {
      "cell_type": "code",
      "metadata": {
        "id": "QZ9jP2WX_m-u"
      },
      "source": [
        "data = data[data['3class']!='']\n"
      ],
      "execution_count": 108,
      "outputs": []
    },
    {
      "cell_type": "code",
      "metadata": {
        "id": "qqCYX1GyNL0m",
        "colab": {
          "base_uri": "https://localhost:8080/"
        },
        "outputId": "a662089e-8223-4824-a149-b9d2457d8cb4"
      },
      "source": [
        "# Spliting the dataset for training and testing\n",
        "X_train, X_test, y_train, y_test = train_test_split (data['review'], data['3class'] , train_size = 0.8, random_state = 42, shuffle = True, stratify=data['3class'])\n",
        "print ('Shapes of X_train, y_train: ', X_train.shape, y_train.shape)\n",
        "print ('Shapes of X_test, y_test: ', X_test.shape, y_test.shape)"
      ],
      "execution_count": 109,
      "outputs": [
        {
          "output_type": "stream",
          "name": "stdout",
          "text": [
            "Shapes of X_train, y_train:  (4004,) (4004,)\n",
            "Shapes of X_test, y_test:  (1002,) (1002,)\n"
          ]
        }
      ]
    },
    {
      "cell_type": "code",
      "metadata": {
        "id": "vyzvklgbOvfZ",
        "colab": {
          "base_uri": "https://localhost:8080/"
        },
        "outputId": "cef3ebc3-09f5-4541-b458-a72220c27c2c"
      },
      "source": [
        "# Vectorizing the documents\n",
        "vectorizer = CountVectorizer(binary = True)\n",
        "X_train = vectorizer.fit_transform(X_train.to_list())\n",
        "X_test = vectorizer.transform(X_test.to_list())\n",
        "print ('Shapes of X_train, y_train: ', X_train.shape, y_train.shape)\n",
        "print ('Shapes of X_test, y_test: ', X_test.shape, y_test.shape)"
      ],
      "execution_count": 110,
      "outputs": [
        {
          "output_type": "stream",
          "name": "stdout",
          "text": [
            "Shapes of X_train, y_train:  (4004, 38553) (4004,)\n",
            "Shapes of X_test, y_test:  (1002, 38553) (1002,)\n"
          ]
        }
      ]
    },
    {
      "cell_type": "markdown",
      "metadata": {
        "id": "AvCkAJ00RH7D"
      },
      "source": [
        "# Linear models"
      ]
    },
    {
      "cell_type": "markdown",
      "metadata": {
        "id": "APzuE9I8hDnE"
      },
      "source": [
        "### Default"
      ]
    },
    {
      "cell_type": "code",
      "metadata": {
        "id": "u53BC-tySKGK"
      },
      "source": [
        "def printing_eval_scores (y_true, y_pred, report=''):\n",
        "  accuracy = sklearn.metrics.accuracy_score(y_true, y_pred)\n",
        "  precision = sklearn.metrics.precision_score(y_true, y_pred, average = 'weighted')\n",
        "  recall = sklearn.metrics.recall_score(y_true, y_pred, average = 'weighted')\n",
        "  f1 = sklearn.metrics.f1_score(y_true, y_pred, average = 'weighted')\n",
        "  print('accuracy score: {:.3f}'.format(accuracy))\n",
        "  print('precision score: {:.3f}'.format(precision))\n",
        "  print('recall score: {:.3f}'.format(recall))\n",
        "  print('F1 score: {:.3f}'.format(f1))\n",
        "  if report is True:\n",
        "    print(classification_report(y_true, y_pred))\n",
        "  else:\n",
        "    pass\n",
        "  return accuracy, precision, recall, f1"
      ],
      "execution_count": 111,
      "outputs": []
    },
    {
      "cell_type": "code",
      "metadata": {
        "id": "xWkVLHPYRLGL",
        "colab": {
          "base_uri": "https://localhost:8080/"
        },
        "outputId": "0275fa7c-1587-4d2f-c98d-a3bc16dc373b"
      },
      "source": [
        "\n",
        "def training (penalty, max_iter): #penalty=\"l2\", max_iter=100\n",
        "  SGD = SGDClassifier( penalty=penalty, max_iter=max_iter, shuffle=True).fit(X_train, y_train)\n",
        "  y_pred = SGD.predict(X_test)\n",
        "  printing_eval_scores (y_test, y_pred, report=True)\n",
        "\n",
        "penalties = ['l1','l2']\n",
        "for penalty in penalties:\n",
        "  print('\\n-------training linear model with penalty = {}'.format(penalty ))\n",
        "  training (penalty='l2', max_iter=100)"
      ],
      "execution_count": 112,
      "outputs": [
        {
          "output_type": "stream",
          "name": "stdout",
          "text": [
            "\n",
            "-------training linear model with penalty = l1\n",
            "accuracy score: 0.645\n",
            "precision score: 0.646\n",
            "recall score: 0.645\n",
            "F1 score: 0.644\n",
            "              precision    recall  f1-score   support\n",
            "\n",
            "           0       0.65      0.55      0.60       240\n",
            "           1       0.58      0.62      0.60       383\n",
            "           2       0.71      0.73      0.72       379\n",
            "\n",
            "    accuracy                           0.64      1002\n",
            "   macro avg       0.65      0.63      0.64      1002\n",
            "weighted avg       0.65      0.64      0.64      1002\n",
            "\n",
            "\n",
            "-------training linear model with penalty = l2\n",
            "accuracy score: 0.644\n",
            "precision score: 0.646\n",
            "recall score: 0.644\n",
            "F1 score: 0.644\n",
            "              precision    recall  f1-score   support\n",
            "\n",
            "           0       0.61      0.57      0.59       240\n",
            "           1       0.57      0.60      0.58       383\n",
            "           2       0.75      0.73      0.74       379\n",
            "\n",
            "    accuracy                           0.64      1002\n",
            "   macro avg       0.64      0.63      0.64      1002\n",
            "weighted avg       0.65      0.64      0.64      1002\n",
            "\n"
          ]
        }
      ]
    },
    {
      "cell_type": "markdown",
      "metadata": {
        "id": "fw8gnX8LhIpc"
      },
      "source": [
        ""
      ]
    },
    {
      "cell_type": "markdown",
      "metadata": {
        "id": "GC2IatzMgpFe"
      },
      "source": [
        "Penalty = L2, and loss = log (logistic regression model) yeild the best performance on F1 score (0.657)"
      ]
    },
    {
      "cell_type": "markdown",
      "metadata": {
        "id": "mGbctRPkhP_E"
      },
      "source": [
        "### Searching the best parameter"
      ]
    },
    {
      "cell_type": "code",
      "metadata": {
        "id": "t8hoW9GIeuZs",
        "colab": {
          "base_uri": "https://localhost:8080/"
        },
        "outputId": "8634f6b3-4364-4d61-bc3e-bd139b2c3e78"
      },
      "source": [
        "# Set the parameters by cross-validation\n",
        "tuned_parameters = [{'alpha': [i for i in np.arange (0.0001, 0.01, 0.001 )]}] #, 'loss': ['log','hinge', 'perceptron']}]\n",
        "score = 'f1'\n",
        "\n",
        "print(\"# Searching hyper-parameters for %s\" % score)\n",
        "clf = GridSearchCV(SGDClassifier(shuffle=True), tuned_parameters, scoring='%s_macro' % score, cv = 5, refit = True, n_jobs = -1 )\n",
        "clf.fit(X_train, y_train)\n",
        "print('Best parameters set found on development set: {}'.format(clf.best_params_))\n",
        "print(\"Grid scores on development set:\")\n",
        "means = clf.cv_results_['mean_test_score']\n",
        "stds = clf.cv_results_['std_test_score']\n",
        "\n",
        "y_pred =  clf.predict(X_test)\n",
        "printing_eval_scores (y_test, y_pred, report=True)\n",
        "\n"
      ],
      "execution_count": 113,
      "outputs": [
        {
          "output_type": "stream",
          "name": "stdout",
          "text": [
            "# Searching hyper-parameters for f1\n",
            "Best parameters set found on development set: {'alpha': 0.0001}\n",
            "Grid scores on development set:\n",
            "accuracy score: 0.632\n",
            "precision score: 0.633\n",
            "recall score: 0.632\n",
            "F1 score: 0.632\n",
            "              precision    recall  f1-score   support\n",
            "\n",
            "           0       0.60      0.55      0.57       240\n",
            "           1       0.56      0.59      0.58       383\n",
            "           2       0.73      0.72      0.72       379\n",
            "\n",
            "    accuracy                           0.63      1002\n",
            "   macro avg       0.63      0.62      0.62      1002\n",
            "weighted avg       0.63      0.63      0.63      1002\n",
            "\n"
          ]
        },
        {
          "output_type": "execute_result",
          "data": {
            "text/plain": [
              "(0.6317365269461078,\n",
              " 0.6327370182045454,\n",
              " 0.6317365269461078,\n",
              " 0.6318443469411966)"
            ]
          },
          "metadata": {},
          "execution_count": 113
        }
      ]
    },
    {
      "cell_type": "markdown",
      "metadata": {
        "id": "Mmg1ajLk_qF2"
      },
      "source": [
        "**(4)  SGDClassifier used “one versus all” (OVA) strategy to handle multi-class strategy. For each of K classes, the binary classifier will try to predict that class and the rest other K-1 classes.**"
      ]
    },
    {
      "cell_type": "code",
      "metadata": {
        "colab": {
          "base_uri": "https://localhost:8080/"
        },
        "id": "rF8SMd919XVH",
        "outputId": "97c54b15-888a-4b82-8e91-056a1875a03c"
      },
      "source": [
        "# Printing features with highest weights.\n",
        "best_SGD = SGDClassifier( penalty='l2',  shuffle=True, alpha=0.0081).fit(X_train, y_train)\n",
        "y_pred = best_SGD.predict(X_test)\n",
        "weights = best_SGD.coef_\n",
        "weights"
      ],
      "execution_count": 114,
      "outputs": [
        {
          "output_type": "execute_result",
          "data": {
            "text/plain": [
              "array([[ 0.02311852, -0.04334723, -0.00866945, ...,  0.        ,\n",
              "        -0.0067429 ,  0.        ],\n",
              "       [ 0.02730253, -0.06957742, -0.02554108, ..., -0.01497236,\n",
              "         0.00264218, -0.0132109 ],\n",
              "       [-0.0636375 ,  0.10639395,  0.05170547, ...,  0.01590938,\n",
              "         0.00497168,  0.        ]])"
            ]
          },
          "metadata": {},
          "execution_count": 114
        }
      ]
    },
    {
      "cell_type": "code",
      "metadata": {
        "colab": {
          "base_uri": "https://localhost:8080/"
        },
        "id": "k41E0kWSG7_p",
        "outputId": "c4754fdb-709a-4a65-bb68-fdef0a17ce1a"
      },
      "source": [
        "features = vectorizer.get_feature_names()\n",
        "\n",
        "feature_weights = {}\n",
        "for i in range(len(weights)):\n",
        "  print('\\n==============================================')\n",
        "  print ('\\nclass: {}'.format(i+1))\n",
        "  for w in range(len(weights[i])):\n",
        "     feature_weights[features[w]] = np.abs(weights[i][w])\n",
        "  # Sorting the dictionary in descending order\n",
        "  sorted_feature_weights = {k:v for k, v in sorted(feature_weights.items(), key = lambda item: item[1], reverse=True)}\n",
        "\n",
        "  # Print the weights learned for each class\n",
        "  print('10 most important features (in descending order): ')\n",
        "  for k, v in list(sorted_feature_weights.items())[:20]:\n",
        "    print ('{}: {:.5f}'. format(k,v))\n"
      ],
      "execution_count": 115,
      "outputs": [
        {
          "output_type": "stream",
          "name": "stdout",
          "text": [
            "\n",
            "==============================================\n",
            "\n",
            "class: 1\n",
            "10 most important features (in descending order): \n",
            "boring: 0.26586\n",
            "ridiculous: 0.25623\n",
            "fine: 0.24660\n",
            "satisfying: 0.24274\n",
            "fans: 0.23504\n",
            "flat: 0.22926\n",
            "poorly: 0.22637\n",
            "bad: 0.22252\n",
            "awake: 0.22059\n",
            "unfunny: 0.21288\n",
            "watchable: 0.20999\n",
            "effective: 0.20036\n",
            "routine: 0.19843\n",
            "fascinating: 0.19554\n",
            "inane: 0.19362\n",
            "problems: 0.19265\n",
            "worst: 0.18591\n",
            "entertaining: 0.18302\n",
            "able: 0.18206\n",
            "inspired: 0.18013\n",
            "\n",
            "==============================================\n",
            "\n",
            "class: 2\n",
            "10 most important features (in descending order): \n",
            "thumbs: 0.31618\n",
            "add: 0.30385\n",
            "problem: 0.28800\n",
            "able: 0.27567\n",
            "unfortunately: 0.26598\n",
            "terrific: 0.25453\n",
            "difficult: 0.25013\n",
            "awake: 0.24836\n",
            "sadly: 0.24220\n",
            "frustrating: 0.24220\n",
            "changes: 0.23868\n",
            "masterpiece: 0.23163\n",
            "albeit: 0.23075\n",
            "choose: 0.23075\n",
            "problems: 0.22635\n",
            "promise: 0.22370\n",
            "nice: 0.22282\n",
            "though: 0.22018\n",
            "interesting: 0.21842\n",
            "dream: 0.21754\n",
            "\n",
            "==============================================\n",
            "\n",
            "class: 3\n",
            "10 most important features (in descending order): \n",
            "unfortunately: 0.29233\n",
            "great: 0.28239\n",
            "interesting: 0.27344\n",
            "thumbs: 0.24660\n",
            "perfect: 0.22870\n",
            "flat: 0.22571\n",
            "seriously: 0.22174\n",
            "masterpiece: 0.21179\n",
            "worse: 0.21179\n",
            "intensity: 0.20384\n",
            "problem: 0.20284\n",
            "tries: 0.20086\n",
            "nice: 0.20086\n",
            "strongly: 0.20086\n",
            "delightful: 0.19986\n",
            "mistake: 0.19986\n",
            "simple: 0.19688\n",
            "the: 0.19588\n",
            "wonderfully: 0.19489\n",
            "supposed: 0.19489\n"
          ]
        }
      ]
    },
    {
      "cell_type": "markdown",
      "metadata": {
        "id": "FEf_4Mt6IBJC"
      },
      "source": [
        "**Q6. How does the hyperplane of the classifier look like?**"
      ]
    },
    {
      "cell_type": "code",
      "metadata": {
        "id": "xzfB1cFVIFBQ",
        "colab": {
          "base_uri": "https://localhost:8080/"
        },
        "outputId": "ac0276a9-6b6f-4cd6-f48a-b6b278963d9f"
      },
      "source": [
        "import seaborn as sns\n",
        "# sns.displot(weights)\n",
        "hyperplane = best_SGD.decision_function(X_train).T\n",
        "#sns.displot(np.flatnonzero(hyperplane))\n",
        "hyperplane"
      ],
      "execution_count": 116,
      "outputs": [
        {
          "output_type": "execute_result",
          "data": {
            "text/plain": [
              "array([[-1.10832476, -1.1035084 , -1.98971837, ..., -1.19501921,\n",
              "        -1.72096556, -2.93950427],\n",
              "       [ 1.0149452 ,  1.02287174, -1.05300128, ..., -1.01689148,\n",
              "        -0.99135041, -1.05916637],\n",
              "       [-1.0984601 , -1.44448901,  0.92203058, ...,  1.11095442,\n",
              "         1.0552716 ,  1.10598274]])"
            ]
          },
          "metadata": {},
          "execution_count": 116
        }
      ]
    },
    {
      "cell_type": "code",
      "metadata": {
        "id": "Dddef30XpBNi",
        "colab": {
          "base_uri": "https://localhost:8080/",
          "height": 1000
        },
        "outputId": "0c4ecd20-588e-4a04-f831-190e013169de"
      },
      "source": [
        "for i in range(3):\n",
        "  sns.displot(hyperplane[i], kind = 'hist')\n"
      ],
      "execution_count": 117,
      "outputs": [
        {
          "output_type": "display_data",
          "data": {
            "image/png": "[encoded data removed]",
            "text/plain": [
              "<Figure size 360x360 with 1 Axes>"
            ]
          },
          "metadata": {
            "needs_background": "light"
          }
        },
        {
          "output_type": "display_data",
          "data": {
            "image/png": "[encoded data removed]",
            "text/plain": [
              "<Figure size 360x360 with 1 Axes>"
            ]
          },
          "metadata": {
            "needs_background": "light"
          }
        },
        {
          "output_type": "display_data",
          "data": {
            "image/png": "[encoded data removed]",
            "text/plain": [
              "<Figure size 360x360 with 1 Axes>"
            ]
          },
          "metadata": {
            "needs_background": "light"
          }
        }
      ]
    },
    {
      "cell_type": "markdown",
      "metadata": {
        "id": "ZCObzt9s8LNl"
      },
      "source": [
        "**Q7. Model with log loss function**"
      ]
    },
    {
      "cell_type": "code",
      "metadata": {
        "id": "u_uRSKZiqoBX",
        "colab": {
          "base_uri": "https://localhost:8080/"
        },
        "outputId": "721ec90e-02d2-4815-85d9-8fb33a603e19"
      },
      "source": [
        "log_SGD = SGDClassifier(loss='log', penalty='l2',  shuffle=True, alpha=0.0081).fit(X_train, y_train)\n",
        "y_pred = log_SGD.predict(X_test)\n",
        "printing_eval_scores (y_test, y_pred, report=True)\n"
      ],
      "execution_count": 118,
      "outputs": [
        {
          "output_type": "stream",
          "name": "stdout",
          "text": [
            "accuracy score: 0.672\n",
            "precision score: 0.678\n",
            "recall score: 0.672\n",
            "F1 score: 0.672\n",
            "              precision    recall  f1-score   support\n",
            "\n",
            "           0       0.66      0.56      0.61       240\n",
            "           1       0.59      0.68      0.63       383\n",
            "           2       0.78      0.73      0.75       379\n",
            "\n",
            "    accuracy                           0.67      1002\n",
            "   macro avg       0.68      0.66      0.66      1002\n",
            "weighted avg       0.68      0.67      0.67      1002\n",
            "\n"
          ]
        },
        {
          "output_type": "execute_result",
          "data": {
            "text/plain": [
              "(0.6716566866267465,\n",
              " 0.6783191784890963,\n",
              " 0.6716566866267465,\n",
              " 0.6724313473288569)"
            ]
          },
          "metadata": {},
          "execution_count": 118
        }
      ]
    },
    {
      "cell_type": "markdown",
      "metadata": {
        "id": "jFMb2r5s8h_d"
      },
      "source": [
        "**8. Building a linear model to compare the result**"
      ]
    },
    {
      "cell_type": "code",
      "metadata": {
        "id": "xxZXLnk98hSd"
      },
      "source": [
        "df = pd.DataFrame(zip(id, review, rating, cl_3, cl_4), columns = ['id', 'review', 'rating', '3class', '4class'])\n",
        "new_df = df[['review', 'rating']].dropna()\n",
        "new_df = new_df[new_df['rating'] != '']\n",
        "new_df['rating'] =new_df['rating'].apply(lambda x: float(x))\n",
        "     \n",
        "   "
      ],
      "execution_count": 119,
      "outputs": []
    },
    {
      "cell_type": "code",
      "metadata": {
        "id": "8NSbrMBo1j_g",
        "outputId": "0844fbfa-db4b-45b6-9da0-9e9be54d2b45",
        "colab": {
          "base_uri": "https://localhost:8080/"
        }
      },
      "source": [
        "new_df['rating'].describe()"
      ],
      "execution_count": 120,
      "outputs": [
        {
          "output_type": "execute_result",
          "data": {
            "text/plain": [
              "count    5006.000000\n",
              "mean        0.581422\n",
              "std         0.181725\n",
              "min         0.000000\n",
              "25%         0.490000\n",
              "50%         0.600000\n",
              "75%         0.700000\n",
              "max         1.000000\n",
              "Name: rating, dtype: float64"
            ]
          },
          "metadata": {},
          "execution_count": 120
        }
      ]
    },
    {
      "cell_type": "code",
      "metadata": {
        "id": "CkrIt25JtiVt",
        "outputId": "78052592-a533-4b1f-c84a-a14b20d471ce",
        "colab": {
          "base_uri": "https://localhost:8080/",
          "height": 497
        }
      },
      "source": [
        "plt.figure(figsize=(10,8))\n",
        "sns.histplot(data = new_df, x = 'rating', bins = 20)\n",
        "plt.show()\n"
      ],
      "execution_count": 121,
      "outputs": [
        {
          "output_type": "display_data",
          "data": {
            "image/png": "[encoded data removed]",
            "text/plain": [
              "<Figure size 720x576 with 1 Axes>"
            ]
          },
          "metadata": {
            "needs_background": "light"
          }
        }
      ]
    },
    {
      "cell_type": "code",
      "metadata": {
        "colab": {
          "base_uri": "https://localhost:8080/"
        },
        "id": "A4ukaneBAJAo",
        "outputId": "42a95d7a-6cbb-4eed-810b-c10667aa2dc4"
      },
      "source": [
        "# Spliting the dataset for training and testing\n",
        "X_train, X_test, y_train, y_test = train_test_split (new_df['review'], new_df['rating'] , train_size = 0.8, random_state = 42, shuffle = True)\n",
        "print ('Shapes of X_train, y_train: ', X_train.shape, y_train.shape)\n",
        "print ('Shapes of X_test, y_test: ', X_test.shape, y_test.shape)"
      ],
      "execution_count": 122,
      "outputs": [
        {
          "output_type": "stream",
          "name": "stdout",
          "text": [
            "Shapes of X_train, y_train:  (4004,) (4004,)\n",
            "Shapes of X_test, y_test:  (1002,) (1002,)\n"
          ]
        }
      ]
    },
    {
      "cell_type": "code",
      "metadata": {
        "colab": {
          "base_uri": "https://localhost:8080/"
        },
        "id": "bXqfjmvrAJAp",
        "outputId": "f7505670-2238-4782-defe-8ba910095146"
      },
      "source": [
        "# Vectorizing the documents\n",
        "vectorizer = CountVectorizer(binary = True)\n",
        "X_train = vectorizer.fit_transform(X_train.to_list())\n",
        "X_test = vectorizer.transform(X_test.to_list())\n",
        "print ('Shapes of X_train, y_train: ', X_train.shape, y_train.shape)\n",
        "print ('Shapes of X_test, y_test: ', X_test.shape, y_test.shape)"
      ],
      "execution_count": 123,
      "outputs": [
        {
          "output_type": "stream",
          "name": "stdout",
          "text": [
            "Shapes of X_train, y_train:  (4004, 38647) (4004,)\n",
            "Shapes of X_test, y_test:  (1002, 38647) (1002,)\n"
          ]
        }
      ]
    },
    {
      "cell_type": "code",
      "metadata": {
        "id": "E98URH1HCAJw",
        "outputId": "8960d63f-ed0c-46ec-afa0-88ae64de62ba",
        "colab": {
          "base_uri": "https://localhost:8080/",
          "height": 360
        }
      },
      "source": [
        "from sklearn.svm import LinearSVC\n",
        "reg = LinearSVC().fit(X_train, y_train)\n",
        "y_pred = reg.predict(X_test)\n",
        "printing_eval_scores(y_test, y_pred)"
      ],
      "execution_count": 125,
      "outputs": [
        {
          "output_type": "error",
          "ename": "ValueError",
          "evalue": "ignored",
          "traceback": [
            "\u001b[0;31m---------------------------------------------------------------------------\u001b[0m",
            "\u001b[0;31mValueError\u001b[0m                                Traceback (most recent call last)",
            "\u001b[0;32m<ipython-input-125-5188abf122a0>\u001b[0m in \u001b[0;36m<module>\u001b[0;34m()\u001b[0m\n\u001b[1;32m      1\u001b[0m \u001b[0;32mfrom\u001b[0m \u001b[0msklearn\u001b[0m\u001b[0;34m.\u001b[0m\u001b[0msvm\u001b[0m \u001b[0;32mimport\u001b[0m \u001b[0mLinearSVC\u001b[0m\u001b[0;34m\u001b[0m\u001b[0;34m\u001b[0m\u001b[0m\n\u001b[0;32m----> 2\u001b[0;31m \u001b[0mreg\u001b[0m \u001b[0;34m=\u001b[0m \u001b[0mLinearSVC\u001b[0m\u001b[0;34m(\u001b[0m\u001b[0;34m)\u001b[0m\u001b[0;34m.\u001b[0m\u001b[0mfit\u001b[0m\u001b[0;34m(\u001b[0m\u001b[0mX_train\u001b[0m\u001b[0;34m,\u001b[0m \u001b[0my_train\u001b[0m\u001b[0;34m)\u001b[0m\u001b[0;34m\u001b[0m\u001b[0;34m\u001b[0m\u001b[0m\n\u001b[0m\u001b[1;32m      3\u001b[0m \u001b[0my_pred\u001b[0m \u001b[0;34m=\u001b[0m \u001b[0mreg\u001b[0m\u001b[0;34m.\u001b[0m\u001b[0mpredict\u001b[0m\u001b[0;34m(\u001b[0m\u001b[0mX_test\u001b[0m\u001b[0;34m)\u001b[0m\u001b[0;34m\u001b[0m\u001b[0;34m\u001b[0m\u001b[0m\n\u001b[1;32m      4\u001b[0m \u001b[0mprinting_eval_scores\u001b[0m\u001b[0;34m(\u001b[0m\u001b[0my_test\u001b[0m\u001b[0;34m,\u001b[0m \u001b[0my_pred\u001b[0m\u001b[0;34m)\u001b[0m\u001b[0;34m\u001b[0m\u001b[0;34m\u001b[0m\u001b[0m\n",
            "\u001b[0;32m/usr/local/lib/python3.7/dist-packages/sklearn/svm/_classes.py\u001b[0m in \u001b[0;36mfit\u001b[0;34m(self, X, y, sample_weight)\u001b[0m\n\u001b[1;32m    234\u001b[0m                          \u001b[0mdtype\u001b[0m\u001b[0;34m=\u001b[0m\u001b[0mnp\u001b[0m\u001b[0;34m.\u001b[0m\u001b[0mfloat64\u001b[0m\u001b[0;34m,\u001b[0m \u001b[0morder\u001b[0m\u001b[0;34m=\u001b[0m\u001b[0;34m\"C\"\u001b[0m\u001b[0;34m,\u001b[0m\u001b[0;34m\u001b[0m\u001b[0;34m\u001b[0m\u001b[0m\n\u001b[1;32m    235\u001b[0m                          accept_large_sparse=False)\n\u001b[0;32m--> 236\u001b[0;31m         \u001b[0mcheck_classification_targets\u001b[0m\u001b[0;34m(\u001b[0m\u001b[0my\u001b[0m\u001b[0;34m)\u001b[0m\u001b[0;34m\u001b[0m\u001b[0;34m\u001b[0m\u001b[0m\n\u001b[0m\u001b[1;32m    237\u001b[0m         \u001b[0mself\u001b[0m\u001b[0;34m.\u001b[0m\u001b[0mclasses_\u001b[0m \u001b[0;34m=\u001b[0m \u001b[0mnp\u001b[0m\u001b[0;34m.\u001b[0m\u001b[0munique\u001b[0m\u001b[0;34m(\u001b[0m\u001b[0my\u001b[0m\u001b[0;34m)\u001b[0m\u001b[0;34m\u001b[0m\u001b[0;34m\u001b[0m\u001b[0m\n\u001b[1;32m    238\u001b[0m \u001b[0;34m\u001b[0m\u001b[0m\n",
            "\u001b[0;32m/usr/local/lib/python3.7/dist-packages/sklearn/utils/multiclass.py\u001b[0m in \u001b[0;36mcheck_classification_targets\u001b[0;34m(y)\u001b[0m\n\u001b[1;32m    167\u001b[0m     if y_type not in ['binary', 'multiclass', 'multiclass-multioutput',\n\u001b[1;32m    168\u001b[0m                       'multilabel-indicator', 'multilabel-sequences']:\n\u001b[0;32m--> 169\u001b[0;31m         \u001b[0;32mraise\u001b[0m \u001b[0mValueError\u001b[0m\u001b[0;34m(\u001b[0m\u001b[0;34m\"Unknown label type: %r\"\u001b[0m \u001b[0;34m%\u001b[0m \u001b[0my_type\u001b[0m\u001b[0;34m)\u001b[0m\u001b[0;34m\u001b[0m\u001b[0;34m\u001b[0m\u001b[0m\n\u001b[0m\u001b[1;32m    170\u001b[0m \u001b[0;34m\u001b[0m\u001b[0m\n\u001b[1;32m    171\u001b[0m \u001b[0;34m\u001b[0m\u001b[0m\n",
            "\u001b[0;31mValueError\u001b[0m: Unknown label type: 'continuous'"
          ]
        }
      ]
    }
  ]
}