{
  "nbformat": 4,
  "nbformat_minor": 0,
  "metadata": {
    "colab": {
      "name": "Untitled19.ipynb",
      "provenance": [],
      "collapsed_sections": [],
      "authorship_tag": "ABX9TyNdlONw0C1Yq3LamH0asfm0",
      "include_colab_link": true
    },
    "kernelspec": {
      "name": "python3",
      "display_name": "Python 3"
    },
    "language_info": {
      "name": "python"
    }
  },
  "cells": [
    {
      "cell_type": "markdown",
      "metadata": {
        "id": "view-in-github",
        "colab_type": "text"
      },
      "source": [
        "<a href=\"https://colab.research.google.com/github/HuyenNguyenHelen/LING-5412/blob/main/Assignment3_LinearModel.ipynb\" target=\"_parent\"><img src=\"https://colab.research.google.com/assets/colab-badge.svg\" alt=\"Open In Colab\"/></a>"
      ]
    },
    {
      "cell_type": "code",
      "metadata": {
        "colab": {
          "base_uri": "https://localhost:8080/"
        },
        "id": "wZTlx8cNJtee",
        "outputId": "6a89bcfb-b9b5-4c80-89e6-011b7baa1a6a"
      },
      "source": [
        "# Importing libraries that will be used \n",
        "import numpy as np\n",
        "import tarfile\n",
        "import glob\n",
        "import re\n",
        "import pandas as pd\n",
        "#from nltk.corpus import stopwords\n",
        "import nltk\n",
        "nltk.download('wordnet')\n",
        "import sklearn\n",
        "from sklearn.model_selection import train_test_split\n",
        "from sklearn.metrics import accuracy_score, classification_report\n",
        "from sklearn.metrics import confusion_matrix, ConfusionMatrixDisplay"
      ],
      "execution_count": null,
      "outputs": [
        {
          "output_type": "stream",
          "name": "stdout",
          "text": [
            "[nltk_data] Downloading package wordnet to /root/nltk_data...\n",
            "[nltk_data]   Unzipping corpora/wordnet.zip.\n"
          ]
        }
      ]
    },
    {
      "cell_type": "markdown",
      "metadata": {
        "id": "mc2pTdPrJTp8"
      },
      "source": [
        "# Downloading the dataset"
      ]
    },
    {
      "cell_type": "code",
      "metadata": {
        "colab": {
          "base_uri": "https://localhost:8080/"
        },
        "id": "6q_HpztUInR9",
        "outputId": "522d1b54-d7a3-403a-81ec-f11a41884204"
      },
      "source": [
        "!wget http://www.cs.cornell.edu/people/pabo/movie-review-data/scale_data.tar.gz"
      ],
      "execution_count": null,
      "outputs": [
        {
          "output_type": "stream",
          "name": "stdout",
          "text": [
            "--2021-10-01 04:37:53--  http://www.cs.cornell.edu/people/pabo/movie-review-data/scale_data.tar.gz\n",
            "Resolving www.cs.cornell.edu (www.cs.cornell.edu)... 132.236.207.36\n",
            "Connecting to www.cs.cornell.edu (www.cs.cornell.edu)|132.236.207.36|:80... connected.\n",
            "HTTP request sent, awaiting response... 200 OK\n",
            "Length: 4029756 (3.8M) [application/x-gzip]\n",
            "Saving to: ‘scale_data.tar.gz’\n",
            "\n",
            "scale_data.tar.gz   100%[===================>]   3.84M  5.40MB/s    in 0.7s    \n",
            "\n",
            "2021-10-01 04:37:54 (5.40 MB/s) - ‘scale_data.tar.gz’ saved [4029756/4029756]\n",
            "\n"
          ]
        }
      ]
    },
    {
      "cell_type": "code",
      "metadata": {
        "colab": {
          "base_uri": "https://localhost:8080/"
        },
        "id": "wxlFbhDlJcT7",
        "outputId": "14b12265-f750-4796-95b4-fa5554e09d9e"
      },
      "source": [
        "# Untar the dataset\n",
        "my_tar = tarfile.open('/content/scale_data.tar.gz')\n",
        "my_tar.extractall('/content/') \n",
        "my_tar.close()\n"
      ],
      "execution_count": null,
      "outputs": [
        {
          "output_type": "execute_result",
          "data": {
            "text/plain": [
              "<tarfile.TarFile at 0x7f20da9a1d10>"
            ]
          },
          "metadata": {},
          "execution_count": 5
        }
      ]
    },
    {
      "cell_type": "code",
      "metadata": {
        "colab": {
          "base_uri": "https://localhost:8080/"
        },
        "id": "oXoCmCDBNUac",
        "outputId": "70c8ec93-882e-4e89-c7fa-cc9f9bd7cd20"
      },
      "source": [
        "for path in glob.glob('/content/scaledata/*/*'):\n",
        "    fo = open(path)\n",
        "    doc = fo.read()\n",
        "    print(path,'\\n')\n",
        "    print(doc[:10])"
      ],
      "execution_count": null,
      "outputs": [
        {
          "output_type": "stream",
          "name": "stdout",
          "text": [
            "/content/scaledata/Scott+Renshaw/label.3class.Scott+Renshaw \n",
            "\n",
            "0\n",
            "0\n",
            "0\n",
            "0\n",
            "0\n",
            "\n",
            "/content/scaledata/Scott+Renshaw/label.4class.Scott+Renshaw \n",
            "\n",
            "0\n",
            "0\n",
            "0\n",
            "0\n",
            "0\n",
            "\n",
            "/content/scaledata/Scott+Renshaw/rating.Scott+Renshaw \n",
            "\n",
            "0\n",
            "0\n",
            "0\n",
            "0\n",
            "0.\n",
            "/content/scaledata/Scott+Renshaw/subj.Scott+Renshaw \n",
            "\n",
            "i'm guessi\n",
            "/content/scaledata/Scott+Renshaw/id.Scott+Renshaw \n",
            "\n",
            "11961\n",
            "1391\n",
            "/content/scaledata/Dennis+Schwartz/subj.Dennis+Schwartz \n",
            "\n",
            "in my opin\n",
            "/content/scaledata/Dennis+Schwartz/label.4class.Dennis+Schwartz \n",
            "\n",
            "0\n",
            "0\n",
            "0\n",
            "0\n",
            "0\n",
            "\n",
            "/content/scaledata/Dennis+Schwartz/rating.Dennis+Schwartz \n",
            "\n",
            "0.1\n",
            "0.2\n",
            "0.\n",
            "/content/scaledata/Dennis+Schwartz/label.3class.Dennis+Schwartz \n",
            "\n",
            "0\n",
            "0\n",
            "0\n",
            "0\n",
            "0\n",
            "\n",
            "/content/scaledata/Dennis+Schwartz/id.Dennis+Schwartz \n",
            "\n",
            "29420\n",
            "1721\n",
            "/content/scaledata/Steve+Rhodes/subj.Steve+Rhodes \n",
            "\n",
            "this bit o\n",
            "/content/scaledata/Steve+Rhodes/id.Steve+Rhodes \n",
            "\n",
            "11790\n",
            "1762\n",
            "/content/scaledata/Steve+Rhodes/label.4class.Steve+Rhodes \n",
            "\n",
            "0\n",
            "0\n",
            "0\n",
            "0\n",
            "0\n",
            "\n",
            "/content/scaledata/Steve+Rhodes/rating.Steve+Rhodes \n",
            "\n",
            "0.1\n",
            "0.1\n",
            "0.\n",
            "/content/scaledata/Steve+Rhodes/label.3class.Steve+Rhodes \n",
            "\n",
            "0\n",
            "0\n",
            "0\n",
            "0\n",
            "0\n",
            "\n",
            "/content/scaledata/James+Berardinelli/label.3class.James+Berardinelli \n",
            "\n",
            "0\n",
            "0\n",
            "0\n",
            "0\n",
            "0\n",
            "\n",
            "/content/scaledata/James+Berardinelli/id.James+Berardinelli \n",
            "\n",
            "2321\n",
            "3337\n",
            "\n",
            "/content/scaledata/James+Berardinelli/subj.James+Berardinelli \n",
            "\n",
            "i didn't e\n",
            "/content/scaledata/James+Berardinelli/rating.James+Berardinelli \n",
            "\n",
            "0.05\n",
            "0.05\n",
            "\n",
            "/content/scaledata/James+Berardinelli/label.4class.James+Berardinelli \n",
            "\n",
            "0\n",
            "0\n",
            "0\n",
            "0\n",
            "0\n",
            "\n"
          ]
        }
      ]
    }
  ]
}