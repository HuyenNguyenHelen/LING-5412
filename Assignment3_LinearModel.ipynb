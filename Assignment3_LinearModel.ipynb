{
  "nbformat": 4,
  "nbformat_minor": 0,
  "metadata": {
    "colab": {
      "name": "Untitled19.ipynb",
      "provenance": [],
      "collapsed_sections": [],
      "authorship_tag": "ABX9TyNv7x/1hXk3U3iLD6x5pJKT",
      "include_colab_link": true
    },
    "kernelspec": {
      "name": "python3",
      "display_name": "Python 3"
    },
    "language_info": {
      "name": "python"
    }
  },
  "cells": [
    {
      "cell_type": "markdown",
      "metadata": {
        "id": "view-in-github",
        "colab_type": "text"
      },
      "source": [
        "<a href=\"https://colab.research.google.com/github/HuyenNguyenHelen/LING-5412/blob/main/Assignment3_LinearModel.ipynb\" target=\"_parent\"><img src=\"https://colab.research.google.com/assets/colab-badge.svg\" alt=\"Open In Colab\"/></a>"
      ]
    },
    {
      "cell_type": "code",
      "metadata": {
        "colab": {
          "base_uri": "https://localhost:8080/"
        },
        "id": "wZTlx8cNJtee",
        "outputId": "27aaf7a7-06f0-4511-92a3-3c2f61f63fb1"
      },
      "source": [
        "# Importing libraries that will be used \n",
        "import numpy as np\n",
        "import tarfile\n",
        "import glob\n",
        "import re\n",
        "import pandas as pd\n",
        "#from nltk.corpus import stopwords\n",
        "import nltk\n",
        "nltk.download('wordnet')\n",
        "import matplotlib.pyplot as plt\n",
        "\n",
        "import sklearn\n",
        "from sklearn.model_selection import GridSearchCV\n",
        "from sklearn.feature_extraction.text import CountVectorizer\n",
        "from sklearn.linear_model import SGDClassifier\n",
        "from sklearn.model_selection import train_test_split\n",
        "from sklearn.metrics import accuracy_score, classification_report\n",
        "from sklearn.metrics import confusion_matrix, ConfusionMatrixDisplay"
      ],
      "execution_count": 1,
      "outputs": [
        {
          "output_type": "stream",
          "name": "stdout",
          "text": [
            "[nltk_data] Downloading package wordnet to /root/nltk_data...\n",
            "[nltk_data]   Package wordnet is already up-to-date!\n"
          ]
        }
      ]
    },
    {
      "cell_type": "markdown",
      "metadata": {
        "id": "mc2pTdPrJTp8"
      },
      "source": [
        "# Loading the dataset"
      ]
    },
    {
      "cell_type": "code",
      "metadata": {
        "colab": {
          "base_uri": "https://localhost:8080/"
        },
        "id": "6q_HpztUInR9",
        "outputId": "c5321519-4f05-48bc-e783-c8a50c2fcb80"
      },
      "source": [
        "!wget http://www.cs.cornell.edu/people/pabo/movie-review-data/scale_data.tar.gz"
      ],
      "execution_count": 2,
      "outputs": [
        {
          "output_type": "stream",
          "name": "stdout",
          "text": [
            "--2021-10-14 21:08:18--  http://www.cs.cornell.edu/people/pabo/movie-review-data/scale_data.tar.gz\n",
            "Resolving www.cs.cornell.edu (www.cs.cornell.edu)... 132.236.207.36\n",
            "Connecting to www.cs.cornell.edu (www.cs.cornell.edu)|132.236.207.36|:80... connected.\n",
            "HTTP request sent, awaiting response... 200 OK\n",
            "Length: 4029756 (3.8M) [application/x-gzip]\n",
            "Saving to: ‘scale_data.tar.gz.2’\n",
            "\n",
            "scale_data.tar.gz.2 100%[===================>]   3.84M  2.48MB/s    in 1.5s    \n",
            "\n",
            "2021-10-14 21:08:20 (2.48 MB/s) - ‘scale_data.tar.gz.2’ saved [4029756/4029756]\n",
            "\n"
          ]
        }
      ]
    },
    {
      "cell_type": "code",
      "metadata": {
        "id": "wxlFbhDlJcT7"
      },
      "source": [
        "# Untar the dataset\n",
        "my_tar = tarfile.open('/content/scale_data.tar.gz')\n",
        "my_tar.extractall('/content/') \n",
        "my_tar.close()\n"
      ],
      "execution_count": 3,
      "outputs": []
    },
    {
      "cell_type": "code",
      "metadata": {
        "colab": {
          "base_uri": "https://localhost:8080/",
          "height": 432
        },
        "id": "oXoCmCDBNUac",
        "outputId": "429ff57d-9ad6-4117-cd97-4fa11795b424"
      },
      "source": [
        "id, review, rating, cl_3, cl_4 = [],[],[],[], []\n",
        "for root in glob.glob ('/content/scaledata/*'):\n",
        "  for path in glob.glob(root+'/*'): \n",
        "      fo = open(path)\n",
        "      doc = fo.read()\n",
        "      if 'id' in path:\n",
        "        id.extend(doc.split('\\n'))\n",
        "      elif 'subj' in path:\n",
        "          review.extend(doc.split('\\n'))\n",
        "      elif 'rating' in path:\n",
        "        rating.extend(doc.split('\\n'))\n",
        "      elif '3class' in path:\n",
        "        cl_3.extend(doc.split('\\n'))\n",
        "      else:\n",
        "        cl_4.extend(doc.split('\\n'))\n",
        "      # print(path,'\\n')\n",
        "      # print(doc.split('\\n')[:10])\n",
        "print (len(id), len(review), len(rating), len(cl_3), len(cl_4))\n",
        "\n",
        "df = pd.DataFrame(zip(id, review, rating, cl_3, cl_4), columns = ['id', 'review', 'rating', '3class', '4class'])\n",
        "data = df[['review', '3class', '4class']].dropna()\n",
        "data"
      ],
      "execution_count": 4,
      "outputs": [
        {
          "output_type": "stream",
          "name": "stdout",
          "text": [
            "5010 5010 5010 5010 5010\n"
          ]
        },
        {
          "output_type": "execute_result",
          "data": {
            "text/html": [
              "<div>\n",
              "<style scoped>\n",
              "    .dataframe tbody tr th:only-of-type {\n",
              "        vertical-align: middle;\n",
              "    }\n",
              "\n",
              "    .dataframe tbody tr th {\n",
              "        vertical-align: top;\n",
              "    }\n",
              "\n",
              "    .dataframe thead th {\n",
              "        text-align: right;\n",
              "    }\n",
              "</style>\n",
              "<table border=\"1\" class=\"dataframe\">\n",
              "  <thead>\n",
              "    <tr style=\"text-align: right;\">\n",
              "      <th></th>\n",
              "      <th>review</th>\n",
              "      <th>3class</th>\n",
              "      <th>4class</th>\n",
              "    </tr>\n",
              "  </thead>\n",
              "  <tbody>\n",
              "    <tr>\n",
              "      <th>0</th>\n",
              "      <td>in my opinion , a movie reviewer's most import...</td>\n",
              "      <td>0</td>\n",
              "      <td>0</td>\n",
              "    </tr>\n",
              "    <tr>\n",
              "      <th>1</th>\n",
              "      <td>you can watch this movie , that is based on a ...</td>\n",
              "      <td>0</td>\n",
              "      <td>0</td>\n",
              "    </tr>\n",
              "    <tr>\n",
              "      <th>2</th>\n",
              "      <td>this is asking a lot to believe , and though i...</td>\n",
              "      <td>0</td>\n",
              "      <td>0</td>\n",
              "    </tr>\n",
              "    <tr>\n",
              "      <th>3</th>\n",
              "      <td>no heroes and no story are the main attributes...</td>\n",
              "      <td>0</td>\n",
              "      <td>0</td>\n",
              "    </tr>\n",
              "    <tr>\n",
              "      <th>4</th>\n",
              "      <td>this is not an art movie , yet i saw it an art...</td>\n",
              "      <td>0</td>\n",
              "      <td>0</td>\n",
              "    </tr>\n",
              "    <tr>\n",
              "      <th>...</th>\n",
              "      <td>...</td>\n",
              "      <td>...</td>\n",
              "      <td>...</td>\n",
              "    </tr>\n",
              "    <tr>\n",
              "      <th>5005</th>\n",
              "      <td>screenplay : stanley tucci , joseph tropiano ....</td>\n",
              "      <td>2</td>\n",
              "      <td>3</td>\n",
              "    </tr>\n",
              "    <tr>\n",
              "      <th>5006</th>\n",
              "      <td>it is the kind of situation you might have see...</td>\n",
              "      <td>2</td>\n",
              "      <td>3</td>\n",
              "    </tr>\n",
              "    <tr>\n",
              "      <th>5007</th>\n",
              "      <td>billy bob thornton has presented me with a won...</td>\n",
              "      <td>2</td>\n",
              "      <td>3</td>\n",
              "    </tr>\n",
              "    <tr>\n",
              "      <th>5008</th>\n",
              "      <td>the two main characters in neil labute's in th...</td>\n",
              "      <td>2</td>\n",
              "      <td>3</td>\n",
              "    </tr>\n",
              "    <tr>\n",
              "      <th>5009</th>\n",
              "      <td></td>\n",
              "      <td></td>\n",
              "      <td></td>\n",
              "    </tr>\n",
              "  </tbody>\n",
              "</table>\n",
              "<p>5010 rows × 3 columns</p>\n",
              "</div>"
            ],
            "text/plain": [
              "                                                 review 3class 4class\n",
              "0     in my opinion , a movie reviewer's most import...      0      0\n",
              "1     you can watch this movie , that is based on a ...      0      0\n",
              "2     this is asking a lot to believe , and though i...      0      0\n",
              "3     no heroes and no story are the main attributes...      0      0\n",
              "4     this is not an art movie , yet i saw it an art...      0      0\n",
              "...                                                 ...    ...    ...\n",
              "5005  screenplay : stanley tucci , joseph tropiano ....      2      3\n",
              "5006  it is the kind of situation you might have see...      2      3\n",
              "5007  billy bob thornton has presented me with a won...      2      3\n",
              "5008  the two main characters in neil labute's in th...      2      3\n",
              "5009                                                                 \n",
              "\n",
              "[5010 rows x 3 columns]"
            ]
          },
          "metadata": {},
          "execution_count": 4
        }
      ]
    },
    {
      "cell_type": "markdown",
      "metadata": {
        "id": "XvO0V2e8Oqso"
      },
      "source": [
        "# Pre-processing the data"
      ]
    },
    {
      "cell_type": "code",
      "metadata": {
        "id": "YBWQTz_5OqAQ",
        "colab": {
          "base_uri": "https://localhost:8080/"
        },
        "outputId": "5cfaf352-03f4-491d-aff4-52201a9dbafc"
      },
      "source": [
        "data['3class'].value_counts()"
      ],
      "execution_count": 5,
      "outputs": [
        {
          "output_type": "execute_result",
          "data": {
            "text/plain": [
              "1    1915\n",
              "2    1894\n",
              "0    1197\n",
              "        4\n",
              "Name: 3class, dtype: int64"
            ]
          },
          "metadata": {},
          "execution_count": 5
        }
      ]
    },
    {
      "cell_type": "code",
      "metadata": {
        "id": "QZ9jP2WX_m-u"
      },
      "source": [
        "data = data[data['3class']!='']\n"
      ],
      "execution_count": 6,
      "outputs": []
    },
    {
      "cell_type": "code",
      "metadata": {
        "id": "qqCYX1GyNL0m",
        "colab": {
          "base_uri": "https://localhost:8080/"
        },
        "outputId": "834f0b70-dda0-40c2-8831-219a7f4ac45b"
      },
      "source": [
        "# Spliting the dataset for training and testing\n",
        "X_train, X_test, y_train, y_test = train_test_split (data['review'], data['3class'] , train_size = 0.8, random_state = 42, shuffle = True, stratify=data['3class'])\n",
        "print ('Shapes of X_train, y_train: ', X_train.shape, y_train.shape)\n",
        "print ('Shapes of X_test, y_test: ', X_test.shape, y_test.shape)"
      ],
      "execution_count": 7,
      "outputs": [
        {
          "output_type": "stream",
          "name": "stdout",
          "text": [
            "Shapes of X_train, y_train:  (4004,) (4004,)\n",
            "Shapes of X_test, y_test:  (1002,) (1002,)\n"
          ]
        }
      ]
    },
    {
      "cell_type": "code",
      "metadata": {
        "id": "vyzvklgbOvfZ",
        "colab": {
          "base_uri": "https://localhost:8080/"
        },
        "outputId": "f76f685a-057e-4658-fbc3-a3c1713f6a58"
      },
      "source": [
        "# Vectorizing the documents\n",
        "vectorizer = CountVectorizer(binary = True)\n",
        "X_train = vectorizer.fit_transform(X_train.to_list())\n",
        "X_test = vectorizer.transform(X_test.to_list())\n",
        "print ('Shapes of X_train, y_train: ', X_train.shape, y_train.shape)\n",
        "print ('Shapes of X_test, y_test: ', X_test.shape, y_test.shape)"
      ],
      "execution_count": 8,
      "outputs": [
        {
          "output_type": "stream",
          "name": "stdout",
          "text": [
            "Shapes of X_train, y_train:  (4004, 38615) (4004,)\n",
            "Shapes of X_test, y_test:  (1002, 38615) (1002,)\n"
          ]
        }
      ]
    },
    {
      "cell_type": "markdown",
      "metadata": {
        "id": "AvCkAJ00RH7D"
      },
      "source": [
        "# Linear models"
      ]
    },
    {
      "cell_type": "markdown",
      "metadata": {
        "id": "APzuE9I8hDnE"
      },
      "source": [
        "### Default"
      ]
    },
    {
      "cell_type": "code",
      "metadata": {
        "id": "u53BC-tySKGK"
      },
      "source": [
        "def printing_eval_scores (y_true, y_pred, report=''):\n",
        "  accuracy = sklearn.metrics.accuracy_score(y_true, y_pred)\n",
        "  precision = sklearn.metrics.precision_score(y_true, y_pred, average = 'weighted')\n",
        "  recall = sklearn.metrics.recall_score(y_true, y_pred, average = 'weighted')\n",
        "  f1 = sklearn.metrics.f1_score(y_true, y_pred, average = 'weighted')\n",
        "  print('accuracy score: {:.3f}'.format(accuracy))\n",
        "  print('precision score: {:.3f}'.format(precision))\n",
        "  print('recall score: {:.3f}'.format(recall))\n",
        "  print('F1 score: {:.3f}'.format(f1))\n",
        "  if report is True:\n",
        "    print(classification_report(y_true, y_pred))\n",
        "  else:\n",
        "    pass\n",
        "  return accuracy, precision, recall, f1"
      ],
      "execution_count": 9,
      "outputs": []
    },
    {
      "cell_type": "code",
      "metadata": {
        "id": "xWkVLHPYRLGL",
        "colab": {
          "base_uri": "https://localhost:8080/"
        },
        "outputId": "430fd83e-7c82-4d0e-a113-fe84b9734e6c"
      },
      "source": [
        "\n",
        "def training (penalty, max_iter): #penalty=\"l2\", max_iter=100\n",
        "  SGD = SGDClassifier( penalty=penalty, max_iter=max_iter, shuffle=True).fit(X_train, y_train)\n",
        "  y_pred = SGD.predict(X_test)\n",
        "  printing_eval_scores (y_test, y_pred, report=True)\n",
        "\n",
        "penalties = ['l1','l2']\n",
        "for penalty in penalties:\n",
        "  print('\\n-------training linear model with penalty = {}'.format(penalty ))\n",
        "  training (penalty='l2', max_iter=100)"
      ],
      "execution_count": 10,
      "outputs": [
        {
          "output_type": "stream",
          "name": "stdout",
          "text": [
            "\n",
            "-------training linear model with penalty = l1\n",
            "accuracy score: 0.648\n",
            "precision score: 0.645\n",
            "recall score: 0.648\n",
            "F1 score: 0.645\n",
            "              precision    recall  f1-score   support\n",
            "\n",
            "           0       0.63      0.55      0.59       240\n",
            "           1       0.59      0.58      0.58       383\n",
            "           2       0.72      0.78      0.75       379\n",
            "\n",
            "    accuracy                           0.65      1002\n",
            "   macro avg       0.64      0.64      0.64      1002\n",
            "weighted avg       0.64      0.65      0.65      1002\n",
            "\n",
            "\n",
            "-------training linear model with penalty = l2\n",
            "accuracy score: 0.645\n",
            "precision score: 0.644\n",
            "recall score: 0.645\n",
            "F1 score: 0.644\n",
            "              precision    recall  f1-score   support\n",
            "\n",
            "           0       0.64      0.57      0.60       240\n",
            "           1       0.57      0.59      0.58       383\n",
            "           2       0.71      0.75      0.73       379\n",
            "\n",
            "    accuracy                           0.64      1002\n",
            "   macro avg       0.64      0.64      0.64      1002\n",
            "weighted avg       0.64      0.64      0.64      1002\n",
            "\n"
          ]
        }
      ]
    },
    {
      "cell_type": "markdown",
      "metadata": {
        "id": "fw8gnX8LhIpc"
      },
      "source": [
        ""
      ]
    },
    {
      "cell_type": "markdown",
      "metadata": {
        "id": "GC2IatzMgpFe"
      },
      "source": [
        "Penalty = L2, and loss = log (logistic regression model) yeild the best performance on F1 score (0.657)"
      ]
    },
    {
      "cell_type": "markdown",
      "metadata": {
        "id": "mGbctRPkhP_E"
      },
      "source": [
        "### Searching the best parameter"
      ]
    },
    {
      "cell_type": "code",
      "metadata": {
        "id": "t8hoW9GIeuZs",
        "colab": {
          "base_uri": "https://localhost:8080/"
        },
        "outputId": "ae432133-f219-429f-ad3d-27bb006e5b43"
      },
      "source": [
        "# Set the parameters by cross-validation\n",
        "tuned_parameters = [{'alpha': [i for i in np.arange (0.0001, 0.01, 0.001 )]}] #, 'loss': ['log','hinge', 'perceptron']}]\n",
        "score = 'f1'\n",
        "\n",
        "print(\"# Searching hyper-parameters for %s\" % score)\n",
        "clf = GridSearchCV(SGDClassifier(shuffle=True), tuned_parameters, scoring='%s_macro' % score, cv = 5, refit = True, n_jobs = -1 )\n",
        "clf.fit(X_train, y_train)\n",
        "print('Best parameters set found on development set: {}'.format(clf.best_params_))\n",
        "print(\"Grid scores on development set:\")\n",
        "means = clf.cv_results_['mean_test_score']\n",
        "stds = clf.cv_results_['std_test_score']\n",
        "\n",
        "y_pred =  clf.predict(X_test)\n",
        "printing_eval_scores (y_test, y_pred, report=True)\n",
        "\n"
      ],
      "execution_count": 11,
      "outputs": [
        {
          "output_type": "stream",
          "name": "stdout",
          "text": [
            "# Searching hyper-parameters for f1\n",
            "Best parameters set found on development set: {'alpha': 0.0031}\n",
            "Grid scores on development set:\n",
            "accuracy score: 0.643\n",
            "precision score: 0.641\n",
            "recall score: 0.643\n",
            "F1 score: 0.641\n",
            "              precision    recall  f1-score   support\n",
            "\n",
            "           0       0.64      0.59      0.61       240\n",
            "           1       0.57      0.57      0.57       383\n",
            "           2       0.71      0.75      0.73       379\n",
            "\n",
            "    accuracy                           0.64      1002\n",
            "   macro avg       0.64      0.64      0.64      1002\n",
            "weighted avg       0.64      0.64      0.64      1002\n",
            "\n"
          ]
        },
        {
          "output_type": "execute_result",
          "data": {
            "text/plain": [
              "(0.6427145708582834, 0.641124888511237, 0.6427145708582834, 0.6414867954068116)"
            ]
          },
          "metadata": {},
          "execution_count": 11
        }
      ]
    },
    {
      "cell_type": "markdown",
      "metadata": {
        "id": "Mmg1ajLk_qF2"
      },
      "source": [
        "**(4)  SGDClassifier used “one versus all” (OVA) strategy to handle multi-class strategy. For each of K classes, the binary classifier will try to predict that class and the rest other K-1 classes.**"
      ]
    },
    {
      "cell_type": "code",
      "metadata": {
        "colab": {
          "base_uri": "https://localhost:8080/"
        },
        "id": "rF8SMd919XVH",
        "outputId": "2cc712cb-75d3-4747-9478-8576d7ad0c91"
      },
      "source": [
        "# Printing features with highest weights.\n",
        "best_SGD = SGDClassifier( penalty='l2',  shuffle=True, alpha=0.0081).fit(X_train, y_train)\n",
        "y_pred = best_SGD.predict(X_test)\n",
        "weights = best_SGD.coef_\n",
        "weights"
      ],
      "execution_count": 12,
      "outputs": [
        {
          "output_type": "execute_result",
          "data": {
            "text/plain": [
              "array([[ 0.03082496, -0.04950675, -0.03175905, ...,  0.        ,\n",
              "         0.        ,  0.00373636],\n",
              "       [ 0.00440382, -0.05137793,  0.01761529, ..., -0.00660573,\n",
              "         0.00073397, -0.01688132],\n",
              "       [-0.07162327,  0.07887626,  0.04533118, ...,  0.0154126 ,\n",
              "         0.00815961,  0.        ]])"
            ]
          },
          "metadata": {},
          "execution_count": 12
        }
      ]
    },
    {
      "cell_type": "code",
      "metadata": {
        "colab": {
          "base_uri": "https://localhost:8080/"
        },
        "id": "k41E0kWSG7_p",
        "outputId": "4091106d-7e9b-4d3b-894a-9cf218610193"
      },
      "source": [
        "features = vectorizer.get_feature_names()\n",
        "\n",
        "feature_weights = {}\n",
        "for i in range(len(weights)):\n",
        "  print('\\n==============================================')\n",
        "  print ('\\nclass: {}'.format(i+1))\n",
        "  for w in range(len(weights[i])):\n",
        "     feature_weights[features[w]] = np.abs(weights[i][w])\n",
        "  # Sorting the dictionary in descending order\n",
        "  sorted_feature_weights = {k:v for k, v in sorted(feature_weights.items(), key = lambda item: item[1], reverse=True)}\n",
        "\n",
        "  # Print the weights learned for each class\n",
        "  print('10 most important features (in descending order): ')\n",
        "  for k, v in list(sorted_feature_weights.items())[:20]:\n",
        "    print ('{}: {:.5f}'. format(k,v))\n"
      ],
      "execution_count": 13,
      "outputs": [
        {
          "output_type": "stream",
          "name": "stdout",
          "text": [
            "\n",
            "==============================================\n",
            "\n",
            "class: 1\n",
            "10 most important features (in descending order): \n",
            "ridiculous: 0.26995\n",
            "bad: 0.26902\n",
            "routine: 0.25968\n",
            "watchable: 0.23352\n",
            "contrived: 0.23352\n",
            "fans: 0.23072\n",
            "boring: 0.22885\n",
            "problems: 0.22605\n",
            "flat: 0.22605\n",
            "although: 0.21671\n",
            "fine: 0.21297\n",
            "worst: 0.21204\n",
            "failed: 0.20924\n",
            "wasted: 0.20830\n",
            "dull: 0.20737\n",
            "single: 0.20643\n",
            "awake: 0.20643\n",
            "satisfying: 0.20363\n",
            "mike: 0.19616\n",
            "attempt: 0.19522\n",
            "\n",
            "==============================================\n",
            "\n",
            "class: 2\n",
            "10 most important features (in descending order): \n",
            "unfortunately: 0.27964\n",
            "able: 0.27377\n",
            "perfect: 0.25909\n",
            "executed: 0.23560\n",
            "add: 0.23414\n",
            "villain: 0.23414\n",
            "frustrating: 0.23340\n",
            "hope: 0.22900\n",
            "problems: 0.22533\n",
            "problem: 0.22459\n",
            "nice: 0.22239\n",
            "recommending: 0.22166\n",
            "difficult: 0.21432\n",
            "thumbs: 0.21359\n",
            "terrific: 0.21359\n",
            "signature: 0.21138\n",
            "entertaining: 0.20992\n",
            "myself: 0.20918\n",
            "credible: 0.20845\n",
            "mixed: 0.20771\n",
            "\n",
            "==============================================\n",
            "\n",
            "class: 3\n",
            "10 most important features (in descending order): \n",
            "unfortunately: 0.33454\n",
            "perfect: 0.26111\n",
            "flat: 0.25113\n",
            "interesting: 0.24660\n",
            "watchable: 0.23663\n",
            "great: 0.23300\n",
            "predictable: 0.22847\n",
            "thumbs: 0.22756\n",
            "problem: 0.22575\n",
            "strongly: 0.21940\n",
            "delightful: 0.21306\n",
            "the: 0.20762\n",
            "dull: 0.19402\n",
            "tries: 0.19130\n",
            "intensity: 0.19130\n",
            "seriously: 0.19130\n",
            "traditional: 0.19039\n",
            "worse: 0.19039\n",
            "delight: 0.19039\n",
            "exercise: 0.18948\n"
          ]
        }
      ]
    },
    {
      "cell_type": "markdown",
      "metadata": {
        "id": "FEf_4Mt6IBJC"
      },
      "source": [
        "**Q6. How does the hyperplane of the classifier look like?**"
      ]
    },
    {
      "cell_type": "code",
      "metadata": {
        "id": "xzfB1cFVIFBQ",
        "colab": {
          "base_uri": "https://localhost:8080/"
        },
        "outputId": "a9d886b2-78ff-4b8f-994b-ca83d7dfc15f"
      },
      "source": [
        "import seaborn as sns\n",
        "# sns.displot(weights)\n",
        "hyperplane = best_SGD.decision_function(X_train).T\n",
        "#sns.displot(np.flatnonzero(hyperplane))\n",
        "hyperplane"
      ],
      "execution_count": 14,
      "outputs": [
        {
          "output_type": "execute_result",
          "data": {
            "text/plain": [
              "array([[-1.79945615, -1.11009802, -1.19883653, ..., -2.6485436 ,\n",
              "        -2.07034213, -1.20630925],\n",
              "       [ 1.41417674,  0.99140977, -1.05930363, ..., -1.17820684,\n",
              "        -1.18701448, -2.14264399],\n",
              "       [-1.64611254, -1.56632966,  0.88608733, ...,  1.04927959,\n",
              "         1.06741206,  1.11093   ]])"
            ]
          },
          "metadata": {},
          "execution_count": 14
        }
      ]
    },
    {
      "cell_type": "code",
      "metadata": {
        "id": "Dddef30XpBNi",
        "colab": {
          "base_uri": "https://localhost:8080/",
          "height": 1000
        },
        "outputId": "c45b91b4-e5ba-4e75-d95a-967154115271"
      },
      "source": [
        "for i in range(3):\n",
        "  sns.displot(hyperplane[i], kind = 'hist')\n"
      ],
      "execution_count": 15,
      "outputs": [
        {
          "output_type": "display_data",
          "data": {
            "image/png": "[encoded data removed]",
            "text/plain": [
              "<Figure size 360x360 with 1 Axes>"
            ]
          },
          "metadata": {
            "needs_background": "light"
          }
        },
        {
          "output_type": "display_data",
          "data": {
            "image/png": "[encoded data removed]",
            "text/plain": [
              "<Figure size 360x360 with 1 Axes>"
            ]
          },
          "metadata": {
            "needs_background": "light"
          }
        },
        {
          "output_type": "display_data",
          "data": {
            "image/png": "[encoded data removed]",
            "text/plain": [
              "<Figure size 360x360 with 1 Axes>"
            ]
          },
          "metadata": {
            "needs_background": "light"
          }
        }
      ]
    },
    {
      "cell_type": "markdown",
      "metadata": {
        "id": "ZCObzt9s8LNl"
      },
      "source": [
        "**Q7. Model with log loss function**"
      ]
    },
    {
      "cell_type": "code",
      "metadata": {
        "id": "u_uRSKZiqoBX",
        "colab": {
          "base_uri": "https://localhost:8080/"
        },
        "outputId": "f3c6a3d9-38ce-432a-ab1c-a32f5566203a"
      },
      "source": [
        "log_SGD = SGDClassifier(loss='log', penalty='l2',  shuffle=True, alpha=0.0081).fit(X_train, y_train)\n",
        "y_pred = log_SGD.predict(X_test)\n",
        "printing_eval_scores (y_test, y_pred, report=True)\n"
      ],
      "execution_count": 16,
      "outputs": [
        {
          "output_type": "stream",
          "name": "stdout",
          "text": [
            "accuracy score: 0.674\n",
            "precision score: 0.682\n",
            "recall score: 0.674\n",
            "F1 score: 0.672\n",
            "              precision    recall  f1-score   support\n",
            "\n",
            "           0       0.74      0.53      0.62       240\n",
            "           1       0.58      0.67      0.62       383\n",
            "           2       0.74      0.77      0.76       379\n",
            "\n",
            "    accuracy                           0.67      1002\n",
            "   macro avg       0.69      0.66      0.67      1002\n",
            "weighted avg       0.68      0.67      0.67      1002\n",
            "\n"
          ]
        },
        {
          "output_type": "execute_result",
          "data": {
            "text/plain": [
              "(0.6736526946107785,\n",
              " 0.6822160620930388,\n",
              " 0.6736526946107785,\n",
              " 0.6724978488963647)"
            ]
          },
          "metadata": {},
          "execution_count": 16
        }
      ]
    },
    {
      "cell_type": "markdown",
      "metadata": {
        "id": "jFMb2r5s8h_d"
      },
      "source": [
        "**8. Building a linear model to compare the result**"
      ]
    },
    {
      "cell_type": "code",
      "metadata": {
        "id": "xxZXLnk98hSd"
      },
      "source": [
        "df = pd.DataFrame(zip(id, review, rating, cl_3, cl_4), columns = ['id', 'review', 'rating', '3class', '4class'])\n",
        "new_df = df[['review', 'rating']].dropna()\n",
        "new_df = new_df[new_df['rating'] != '']\n",
        "new_df['rating'] =new_df['rating'].apply(lambda x: float(x))\n",
        "     \n",
        "   "
      ],
      "execution_count": 17,
      "outputs": []
    },
    {
      "cell_type": "code",
      "metadata": {
        "id": "8NSbrMBo1j_g",
        "colab": {
          "base_uri": "https://localhost:8080/"
        },
        "outputId": "b9f1fd73-b85d-4438-f95d-571ead35b924"
      },
      "source": [
        "new_df['rating'].describe()"
      ],
      "execution_count": 18,
      "outputs": [
        {
          "output_type": "execute_result",
          "data": {
            "text/plain": [
              "count    5006.000000\n",
              "mean        0.581422\n",
              "std         0.181725\n",
              "min         0.000000\n",
              "25%         0.490000\n",
              "50%         0.600000\n",
              "75%         0.700000\n",
              "max         1.000000\n",
              "Name: rating, dtype: float64"
            ]
          },
          "metadata": {},
          "execution_count": 18
        }
      ]
    },
    {
      "cell_type": "code",
      "metadata": {
        "id": "CkrIt25JtiVt",
        "colab": {
          "base_uri": "https://localhost:8080/",
          "height": 497
        },
        "outputId": "7f3ebb6a-1147-4bd0-f237-d2d20fb30f3d"
      },
      "source": [
        "plt.figure(figsize=(10,8))\n",
        "sns.histplot(data = new_df, x = 'rating', bins = 20)\n",
        "plt.show()\n"
      ],
      "execution_count": 19,
      "outputs": [
        {
          "output_type": "display_data",
          "data": {
            "image/png": "[encoded data removed]",
            "text/plain": [
              "<Figure size 720x576 with 1 Axes>"
            ]
          },
          "metadata": {
            "needs_background": "light"
          }
        }
      ]
    },
    {
      "cell_type": "code",
      "metadata": {
        "colab": {
          "base_uri": "https://localhost:8080/"
        },
        "id": "A4ukaneBAJAo",
        "outputId": "83538933-d3e3-4ede-a371-8b44db1fa588"
      },
      "source": [
        "# Spliting the dataset for training and testing\n",
        "X_train_, X_test_, y_train_, y_test_ = train_test_split (new_df['review'], new_df['rating'] , train_size = 0.8, random_state = 42, shuffle = True)\n",
        "print ('Shapes of X_train, y_train: ', X_train.shape, y_train.shape)\n",
        "print ('Shapes of X_test, y_test: ', X_test.shape, y_test.shape)"
      ],
      "execution_count": 20,
      "outputs": [
        {
          "output_type": "stream",
          "name": "stdout",
          "text": [
            "Shapes of X_train, y_train:  (4004, 38615) (4004,)\n",
            "Shapes of X_test, y_test:  (1002, 38615) (1002,)\n"
          ]
        }
      ]
    },
    {
      "cell_type": "code",
      "metadata": {
        "colab": {
          "base_uri": "https://localhost:8080/"
        },
        "id": "bXqfjmvrAJAp",
        "outputId": "49efe570-c201-4b6f-88fc-4c0ee9e3f3d9"
      },
      "source": [
        "# Vectorizing the documents\n",
        "vectorizer = CountVectorizer(binary = True)\n",
        "X_train_ = vectorizer.fit_transform(X_train_.to_list())\n",
        "X_test_ = vectorizer.transform(X_test_.to_list())\n",
        "print ('Shapes of X_train, y_train: ', X_train.shape, y_train.shape)\n",
        "print ('Shapes of X_test, y_test: ', X_test.shape, y_test.shape)"
      ],
      "execution_count": 21,
      "outputs": [
        {
          "output_type": "stream",
          "name": "stdout",
          "text": [
            "Shapes of X_train, y_train:  (4004, 38615) (4004,)\n",
            "Shapes of X_test, y_test:  (1002, 38615) (1002,)\n"
          ]
        }
      ]
    },
    {
      "cell_type": "code",
      "metadata": {
        "id": "E98URH1HCAJw",
        "colab": {
          "base_uri": "https://localhost:8080/"
        },
        "outputId": "70e2ece9-f94b-4bc2-85fb-07a3080600d9"
      },
      "source": [
        "from sklearn.linear_model import LinearRegression\n",
        "from sklearn.metrics import mean_squared_error, r2_score\n",
        "reg = LinearRegression().fit(X_train_, y_train_)\n",
        "y_pred = reg.predict(X_test_)\n",
        "print('mean squared error: {:.3f}'.format(mean_squared_error(y_test_, y_pred)))\n",
        "print('r2 score: {:.3f}'.format(r2_score(y_test_, y_pred)))"
      ],
      "execution_count": 22,
      "outputs": [
        {
          "output_type": "stream",
          "name": "stdout",
          "text": [
            "mean squared error: 0.019\n",
            "r2 score: 0.430\n"
          ]
        }
      ]
    },
    {
      "cell_type": "markdown",
      "metadata": {
        "id": "SK3hGX2fcxUf"
      },
      "source": [
        "# Implementing minibatches\n"
      ]
    },
    {
      "cell_type": "code",
      "metadata": {
        "id": "lvvbxyo8iRK9",
        "outputId": "c3775f36-254f-49db-9309-776b4e1dcc4f",
        "colab": {
          "base_uri": "https://localhost:8080/"
        }
      },
      "source": [
        "from sklearn.linear_model import SGDClassifier\n",
        "import random\n",
        "log_SGD_2 = SGDClassifier(loss='log', penalty='l2',  shuffle=True, alpha=0.0081).fit(X_train, y_train)\n",
        "n_iter = 10\n",
        "batch_size = 32\n",
        "for n in range(n_iter):\n",
        "  n_instances, n_features = X_train.shape\n",
        "  i=0 \n",
        "  while i<= round(n_instances/batch_size):\n",
        "    m = batch_size * i\n",
        "    n = m + batch_size\n",
        "    log_SGD_2.partial_fit(X_train[m:n], y_train[m:n], classes=np.unique(y_train))\n",
        "    i+=1    \n",
        "  y_pred = svm2.predict(X_test)\n",
        "  printing_eval_scores(y_test, y_pred, report = True)"
      ],
      "execution_count": 29,
      "outputs": [
        {
          "output_type": "stream",
          "name": "stdout",
          "text": [
            "accuracy score: 0.663\n",
            "precision score: 0.670\n",
            "recall score: 0.663\n",
            "F1 score: 0.664\n",
            "              precision    recall  f1-score   support\n",
            "\n",
            "           0       0.68      0.55      0.61       240\n",
            "           1       0.58      0.67      0.62       383\n",
            "           2       0.76      0.73      0.74       379\n",
            "\n",
            "    accuracy                           0.66      1002\n",
            "   macro avg       0.67      0.65      0.66      1002\n",
            "weighted avg       0.67      0.66      0.66      1002\n",
            "\n",
            "accuracy score: 0.663\n",
            "precision score: 0.670\n",
            "recall score: 0.663\n",
            "F1 score: 0.664\n",
            "              precision    recall  f1-score   support\n",
            "\n",
            "           0       0.68      0.55      0.61       240\n",
            "           1       0.58      0.67      0.62       383\n",
            "           2       0.76      0.73      0.74       379\n",
            "\n",
            "    accuracy                           0.66      1002\n",
            "   macro avg       0.67      0.65      0.66      1002\n",
            "weighted avg       0.67      0.66      0.66      1002\n",
            "\n",
            "accuracy score: 0.663\n",
            "precision score: 0.670\n",
            "recall score: 0.663\n",
            "F1 score: 0.664\n",
            "              precision    recall  f1-score   support\n",
            "\n",
            "           0       0.68      0.55      0.61       240\n",
            "           1       0.58      0.67      0.62       383\n",
            "           2       0.76      0.73      0.74       379\n",
            "\n",
            "    accuracy                           0.66      1002\n",
            "   macro avg       0.67      0.65      0.66      1002\n",
            "weighted avg       0.67      0.66      0.66      1002\n",
            "\n",
            "accuracy score: 0.663\n",
            "precision score: 0.670\n",
            "recall score: 0.663\n",
            "F1 score: 0.664\n",
            "              precision    recall  f1-score   support\n",
            "\n",
            "           0       0.68      0.55      0.61       240\n",
            "           1       0.58      0.67      0.62       383\n",
            "           2       0.76      0.73      0.74       379\n",
            "\n",
            "    accuracy                           0.66      1002\n",
            "   macro avg       0.67      0.65      0.66      1002\n",
            "weighted avg       0.67      0.66      0.66      1002\n",
            "\n",
            "accuracy score: 0.663\n",
            "precision score: 0.670\n",
            "recall score: 0.663\n",
            "F1 score: 0.664\n",
            "              precision    recall  f1-score   support\n",
            "\n",
            "           0       0.68      0.55      0.61       240\n",
            "           1       0.58      0.67      0.62       383\n",
            "           2       0.76      0.73      0.74       379\n",
            "\n",
            "    accuracy                           0.66      1002\n",
            "   macro avg       0.67      0.65      0.66      1002\n",
            "weighted avg       0.67      0.66      0.66      1002\n",
            "\n",
            "accuracy score: 0.663\n",
            "precision score: 0.670\n",
            "recall score: 0.663\n",
            "F1 score: 0.664\n",
            "              precision    recall  f1-score   support\n",
            "\n",
            "           0       0.68      0.55      0.61       240\n",
            "           1       0.58      0.67      0.62       383\n",
            "           2       0.76      0.73      0.74       379\n",
            "\n",
            "    accuracy                           0.66      1002\n",
            "   macro avg       0.67      0.65      0.66      1002\n",
            "weighted avg       0.67      0.66      0.66      1002\n",
            "\n",
            "accuracy score: 0.663\n",
            "precision score: 0.670\n",
            "recall score: 0.663\n",
            "F1 score: 0.664\n",
            "              precision    recall  f1-score   support\n",
            "\n",
            "           0       0.68      0.55      0.61       240\n",
            "           1       0.58      0.67      0.62       383\n",
            "           2       0.76      0.73      0.74       379\n",
            "\n",
            "    accuracy                           0.66      1002\n",
            "   macro avg       0.67      0.65      0.66      1002\n",
            "weighted avg       0.67      0.66      0.66      1002\n",
            "\n",
            "accuracy score: 0.663\n",
            "precision score: 0.670\n",
            "recall score: 0.663\n",
            "F1 score: 0.664\n",
            "              precision    recall  f1-score   support\n",
            "\n",
            "           0       0.68      0.55      0.61       240\n",
            "           1       0.58      0.67      0.62       383\n",
            "           2       0.76      0.73      0.74       379\n",
            "\n",
            "    accuracy                           0.66      1002\n",
            "   macro avg       0.67      0.65      0.66      1002\n",
            "weighted avg       0.67      0.66      0.66      1002\n",
            "\n",
            "accuracy score: 0.663\n",
            "precision score: 0.670\n",
            "recall score: 0.663\n",
            "F1 score: 0.664\n",
            "              precision    recall  f1-score   support\n",
            "\n",
            "           0       0.68      0.55      0.61       240\n",
            "           1       0.58      0.67      0.62       383\n",
            "           2       0.76      0.73      0.74       379\n",
            "\n",
            "    accuracy                           0.66      1002\n",
            "   macro avg       0.67      0.65      0.66      1002\n",
            "weighted avg       0.67      0.66      0.66      1002\n",
            "\n",
            "accuracy score: 0.663\n",
            "precision score: 0.670\n",
            "recall score: 0.663\n",
            "F1 score: 0.664\n",
            "              precision    recall  f1-score   support\n",
            "\n",
            "           0       0.68      0.55      0.61       240\n",
            "           1       0.58      0.67      0.62       383\n",
            "           2       0.76      0.73      0.74       379\n",
            "\n",
            "    accuracy                           0.66      1002\n",
            "   macro avg       0.67      0.65      0.66      1002\n",
            "weighted avg       0.67      0.66      0.66      1002\n",
            "\n"
          ]
        }
      ]
    },
    {
      "cell_type": "code",
      "metadata": {
        "id": "mxq2e9iEo6e0",
        "outputId": "36628a50-49b7-41e1-8f2f-fd48ee47cb59",
        "colab": {
          "base_uri": "https://localhost:8080/"
        }
      },
      "source": [
        "y_pred = svm2.predict(X_test)\n",
        "printing_eval_scores(y_test, y_pred, report = True)"
      ],
      "execution_count": 27,
      "outputs": [
        {
          "output_type": "stream",
          "name": "stdout",
          "text": [
            "accuracy score: 0.663\n",
            "precision score: 0.670\n",
            "recall score: 0.663\n",
            "F1 score: 0.664\n",
            "              precision    recall  f1-score   support\n",
            "\n",
            "           0       0.68      0.55      0.61       240\n",
            "           1       0.58      0.67      0.62       383\n",
            "           2       0.76      0.73      0.74       379\n",
            "\n",
            "    accuracy                           0.66      1002\n",
            "   macro avg       0.67      0.65      0.66      1002\n",
            "weighted avg       0.67      0.66      0.66      1002\n",
            "\n"
          ]
        },
        {
          "output_type": "execute_result",
          "data": {
            "text/plain": [
              "(0.6626746506986028,\n",
              " 0.6702598166934688,\n",
              " 0.6626746506986028,\n",
              " 0.6635213089807721)"
            ]
          },
          "metadata": {},
          "execution_count": 27
        }
      ]
    }
  ]
}