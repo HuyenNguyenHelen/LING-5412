{
  "nbformat": 4,
  "nbformat_minor": 0,
  "metadata": {
    "colab": {
      "name": "Untitled19.ipynb",
      "provenance": [],
      "collapsed_sections": [],
      "authorship_tag": "ABX9TyNbDFGYniXNjxkzyliIjn+R",
      "include_colab_link": true
    },
    "kernelspec": {
      "name": "python3",
      "display_name": "Python 3"
    },
    "language_info": {
      "name": "python"
    }
  },
  "cells": [
    {
      "cell_type": "markdown",
      "metadata": {
        "id": "view-in-github",
        "colab_type": "text"
      },
      "source": [
        "<a href=\"https://colab.research.google.com/github/HuyenNguyenHelen/LING-5412/blob/main/Assignment3_LinearModel.ipynb\" target=\"_parent\"><img src=\"https://colab.research.google.com/assets/colab-badge.svg\" alt=\"Open In Colab\"/></a>"
      ]
    },
    {
      "cell_type": "code",
      "metadata": {
        "colab": {
          "base_uri": "https://localhost:8080/"
        },
        "id": "wZTlx8cNJtee",
        "outputId": "6e524cbe-dcc7-4c74-c898-c9da89d76ad4"
      },
      "source": [
        "# Importing libraries that will be used \n",
        "import numpy as np\n",
        "import tarfile\n",
        "import glob\n",
        "import re\n",
        "import pandas as pd\n",
        "import nltk\n",
        "nltk.download('wordnet')\n",
        "import matplotlib.pyplot as plt\n",
        "\n",
        "import sklearn\n",
        "from sklearn.model_selection import GridSearchCV\n",
        "from sklearn.feature_extraction.text import CountVectorizer\n",
        "from sklearn.linear_model import SGDClassifier\n",
        "from sklearn.model_selection import train_test_split\n",
        "from sklearn.metrics import accuracy_score, classification_report\n",
        "from sklearn.metrics import confusion_matrix, ConfusionMatrixDisplay"
      ],
      "execution_count": 1,
      "outputs": [
        {
          "output_type": "stream",
          "name": "stdout",
          "text": [
            "[nltk_data] Downloading package wordnet to /root/nltk_data...\n",
            "[nltk_data]   Package wordnet is already up-to-date!\n"
          ]
        }
      ]
    },
    {
      "cell_type": "markdown",
      "metadata": {
        "id": "mc2pTdPrJTp8"
      },
      "source": [
        "# Loading the dataset"
      ]
    },
    {
      "cell_type": "code",
      "metadata": {
        "colab": {
          "base_uri": "https://localhost:8080/"
        },
        "id": "6q_HpztUInR9",
        "outputId": "36491ba9-bfe2-4d41-9570-e1ef718eee55"
      },
      "source": [
        "!wget http://www.cs.cornell.edu/people/pabo/movie-review-data/scale_data.tar.gz"
      ],
      "execution_count": 2,
      "outputs": [
        {
          "output_type": "stream",
          "name": "stdout",
          "text": [
            "--2021-10-16 01:19:48--  http://www.cs.cornell.edu/people/pabo/movie-review-data/scale_data.tar.gz\n",
            "Resolving www.cs.cornell.edu (www.cs.cornell.edu)... 132.236.207.36\n",
            "Connecting to www.cs.cornell.edu (www.cs.cornell.edu)|132.236.207.36|:80... connected.\n",
            "HTTP request sent, awaiting response... 200 OK\n",
            "Length: 4029756 (3.8M) [application/x-gzip]\n",
            "Saving to: ‘scale_data.tar.gz.6’\n",
            "\n",
            "scale_data.tar.gz.6 100%[===================>]   3.84M  2.47MB/s    in 1.6s    \n",
            "\n",
            "2021-10-16 01:19:50 (2.47 MB/s) - ‘scale_data.tar.gz.6’ saved [4029756/4029756]\n",
            "\n"
          ]
        }
      ]
    },
    {
      "cell_type": "code",
      "metadata": {
        "id": "wxlFbhDlJcT7"
      },
      "source": [
        "# Untar the dataset\n",
        "my_tar = tarfile.open('/content/scale_data.tar.gz')\n",
        "my_tar.extractall('/content/') \n",
        "my_tar.close()\n"
      ],
      "execution_count": 3,
      "outputs": []
    },
    {
      "cell_type": "code",
      "metadata": {
        "colab": {
          "base_uri": "https://localhost:8080/",
          "height": 438
        },
        "id": "oXoCmCDBNUac",
        "outputId": "e3b3ecb1-3d5e-4cb0-f677-f19e10c0d322"
      },
      "source": [
        "# Reformatting the dataset into a single dataframe for our convinience\n",
        "id, review, rating, cl_3, cl_4 = [],[],[],[], []\n",
        "for root in glob.glob ('/content/scaledata/*'):\n",
        "  for path in glob.glob(root+'/*'): \n",
        "      fo = open(path)\n",
        "      doc = fo.read()\n",
        "      if 'id' in path:\n",
        "        id.extend(doc.split('\\n'))\n",
        "      elif 'subj' in path:\n",
        "          review.extend(doc.split('\\n'))\n",
        "      elif 'rating' in path:\n",
        "        rating.extend(doc.split('\\n'))\n",
        "      elif '3class' in path:\n",
        "        cl_3.extend(doc.split('\\n'))\n",
        "      else:\n",
        "        cl_4.extend(doc.split('\\n'))\n",
        "\n",
        "print (len(id), len(review), len(rating), len(cl_3), len(cl_4))\n",
        "df = pd.DataFrame(zip(id, review, rating, cl_3, cl_4), columns = ['id', 'review', 'rating', '3class', '4class'])\n",
        "\n",
        "# Using these 2 columns to build a dataset for a rating-based regressor\n",
        "new_df = df[['review', 'rating']].dropna()\n",
        "new_df = new_df[new_df['rating'] != '']\n",
        "new_df['rating'] =new_df['rating'].apply(lambda x: float(x))\n",
        "\n",
        "# Using these 2 columns to build a dataset for a 3-class classifier\n",
        "data = df[['review', '3class']].dropna()\n",
        "data = data[data['3class']!='']\n",
        "data\n",
        "\n",
        "\n"
      ],
      "execution_count": 4,
      "outputs": [
        {
          "output_type": "stream",
          "name": "stdout",
          "text": [
            "5010 5010 5010 5010 5010\n"
          ]
        },
        {
          "output_type": "execute_result",
          "data": {
            "text/html": [
              "<div>\n",
              "<style scoped>\n",
              "    .dataframe tbody tr th:only-of-type {\n",
              "        vertical-align: middle;\n",
              "    }\n",
              "\n",
              "    .dataframe tbody tr th {\n",
              "        vertical-align: top;\n",
              "    }\n",
              "\n",
              "    .dataframe thead th {\n",
              "        text-align: right;\n",
              "    }\n",
              "</style>\n",
              "<table border=\"1\" class=\"dataframe\">\n",
              "  <thead>\n",
              "    <tr style=\"text-align: right;\">\n",
              "      <th></th>\n",
              "      <th>review</th>\n",
              "      <th>3class</th>\n",
              "    </tr>\n",
              "  </thead>\n",
              "  <tbody>\n",
              "    <tr>\n",
              "      <th>0</th>\n",
              "      <td>in my opinion , a movie reviewer's most import...</td>\n",
              "      <td>0</td>\n",
              "    </tr>\n",
              "    <tr>\n",
              "      <th>1</th>\n",
              "      <td>you can watch this movie , that is based on a ...</td>\n",
              "      <td>0</td>\n",
              "    </tr>\n",
              "    <tr>\n",
              "      <th>2</th>\n",
              "      <td>this is asking a lot to believe , and though i...</td>\n",
              "      <td>0</td>\n",
              "    </tr>\n",
              "    <tr>\n",
              "      <th>3</th>\n",
              "      <td>no heroes and no story are the main attributes...</td>\n",
              "      <td>0</td>\n",
              "    </tr>\n",
              "    <tr>\n",
              "      <th>4</th>\n",
              "      <td>this is not an art movie , yet i saw it an art...</td>\n",
              "      <td>0</td>\n",
              "    </tr>\n",
              "    <tr>\n",
              "      <th>...</th>\n",
              "      <td>...</td>\n",
              "      <td>...</td>\n",
              "    </tr>\n",
              "    <tr>\n",
              "      <th>5004</th>\n",
              "      <td>the conventional wisdom is that movie sequels ...</td>\n",
              "      <td>2</td>\n",
              "    </tr>\n",
              "    <tr>\n",
              "      <th>5005</th>\n",
              "      <td>nicolas roeg's mesmerizing 1971 film walkabout...</td>\n",
              "      <td>2</td>\n",
              "    </tr>\n",
              "    <tr>\n",
              "      <th>5006</th>\n",
              "      <td>the movie air force one should require a docto...</td>\n",
              "      <td>2</td>\n",
              "    </tr>\n",
              "    <tr>\n",
              "      <th>5007</th>\n",
              "      <td>\" well , jones , at least you haven't forgotte...</td>\n",
              "      <td>2</td>\n",
              "    </tr>\n",
              "    <tr>\n",
              "      <th>5008</th>\n",
              "      <td>in a time of bloated productions where special...</td>\n",
              "      <td>2</td>\n",
              "    </tr>\n",
              "  </tbody>\n",
              "</table>\n",
              "<p>5006 rows × 2 columns</p>\n",
              "</div>"
            ],
            "text/plain": [
              "                                                 review 3class\n",
              "0     in my opinion , a movie reviewer's most import...      0\n",
              "1     you can watch this movie , that is based on a ...      0\n",
              "2     this is asking a lot to believe , and though i...      0\n",
              "3     no heroes and no story are the main attributes...      0\n",
              "4     this is not an art movie , yet i saw it an art...      0\n",
              "...                                                 ...    ...\n",
              "5004  the conventional wisdom is that movie sequels ...      2\n",
              "5005  nicolas roeg's mesmerizing 1971 film walkabout...      2\n",
              "5006  the movie air force one should require a docto...      2\n",
              "5007  \" well , jones , at least you haven't forgotte...      2\n",
              "5008  in a time of bloated productions where special...      2\n",
              "\n",
              "[5006 rows x 2 columns]"
            ]
          },
          "metadata": {},
          "execution_count": 4
        }
      ]
    },
    {
      "cell_type": "markdown",
      "metadata": {
        "id": "XvO0V2e8Oqso"
      },
      "source": [
        "# Splitting the data and vectorizing it"
      ]
    },
    {
      "cell_type": "code",
      "metadata": {
        "id": "qqCYX1GyNL0m",
        "colab": {
          "base_uri": "https://localhost:8080/"
        },
        "outputId": "22c94759-6ee4-45d8-a24e-7551bf1d52f8"
      },
      "source": [
        "# Spliting the dataset for training and testing\n",
        "X_train, X_test, y_train, y_test = train_test_split (data['review'], data['3class'] , train_size = 0.8, random_state = 42, shuffle = True, stratify=data['3class'])\n",
        "print ('Shapes of X_train, y_train: ', X_train.shape, y_train.shape)\n",
        "print ('Shapes of X_test, y_test: ', X_test.shape, y_test.shape)"
      ],
      "execution_count": 5,
      "outputs": [
        {
          "output_type": "stream",
          "name": "stdout",
          "text": [
            "Shapes of X_train, y_train:  (4004,) (4004,)\n",
            "Shapes of X_test, y_test:  (1002,) (1002,)\n"
          ]
        }
      ]
    },
    {
      "cell_type": "code",
      "metadata": {
        "id": "vyzvklgbOvfZ",
        "colab": {
          "base_uri": "https://localhost:8080/"
        },
        "outputId": "02df1ebc-b49c-4bdd-8633-8aa153df64f8"
      },
      "source": [
        "# Vectorizing the documents\n",
        "vectorizer = CountVectorizer(binary = True)\n",
        "X_train = vectorizer.fit_transform(X_train.to_list())\n",
        "X_test = vectorizer.transform(X_test.to_list())\n",
        "print ('Shapes of X_train, y_train: ', X_train.shape, y_train.shape)\n",
        "print ('Shapes of X_test, y_test: ', X_test.shape, y_test.shape)"
      ],
      "execution_count": 6,
      "outputs": [
        {
          "output_type": "stream",
          "name": "stdout",
          "text": [
            "Shapes of X_train, y_train:  (4004, 38629) (4004,)\n",
            "Shapes of X_test, y_test:  (1002, 38629) (1002,)\n"
          ]
        }
      ]
    },
    {
      "cell_type": "markdown",
      "metadata": {
        "id": "AvCkAJ00RH7D"
      },
      "source": [
        "# Linear models"
      ]
    },
    {
      "cell_type": "markdown",
      "metadata": {
        "id": "APzuE9I8hDnE"
      },
      "source": [
        "### Default model"
      ]
    },
    {
      "cell_type": "code",
      "metadata": {
        "id": "xWkVLHPYRLGL",
        "colab": {
          "base_uri": "https://localhost:8080/"
        },
        "outputId": "baf94f41-4148-4f76-9f09-d75b930d2e00"
      },
      "source": [
        "\n",
        "def printing_eval_scores (y_true, y_pred, report=''):\n",
        "  accuracy = sklearn.metrics.accuracy_score(y_true, y_pred)\n",
        "  precision = sklearn.metrics.precision_score(y_true, y_pred, average = 'weighted')\n",
        "  recall = sklearn.metrics.recall_score(y_true, y_pred, average = 'weighted')\n",
        "  f1 = sklearn.metrics.f1_score(y_true, y_pred, average = 'weighted')\n",
        "  print('accuracy score: {:.3f}'.format(accuracy))\n",
        "  print('precision score: {:.3f}'.format(precision))\n",
        "  print('recall score: {:.3f}'.format(recall))\n",
        "  print('F1 score: {:.3f}'.format(f1))\n",
        "  if report is True:\n",
        "    print(classification_report(y_true, y_pred))\n",
        "  else:\n",
        "    pass\n",
        "  return accuracy, precision, recall, f1\n",
        "\n",
        "def training (penalty=''): \n",
        "  if penalty is True:\n",
        "    SGD = SGDClassifier( penalty=penalty, shuffle=True).fit(X_train, y_train)\n",
        "  else:\n",
        "    SGD = SGDClassifier(shuffle=True).fit(X_train, y_train)\n",
        "  y_pred = SGD.predict(X_test)\n",
        "  ## on training set\n",
        "  print('Model performance on training set:')\n",
        "  printing_eval_scores (y_train, SGD.predict(X_train), report = False)\n",
        "  ## on test set\n",
        "  print('\\nModel performance on test set:')\n",
        "  printing_eval_scores (y_test, y_pred, report=True)\n",
        "\n",
        "\n",
        "print('--------default sgd model-----------')\n",
        "training (penalty='default')\n",
        "\n",
        "penalties = ['l1','l2']\n",
        "for penalty in penalties:\n",
        "  print('\\n-------training linear model with penalty = {}'.format(penalty ))\n",
        "  training (penalty=penalty)"
      ],
      "execution_count": 8,
      "outputs": [
        {
          "output_type": "stream",
          "name": "stdout",
          "text": [
            "--------default sgd model-----------\n",
            "Model performance on training set:\n",
            "accuracy score: 1.000\n",
            "precision score: 1.000\n",
            "recall score: 1.000\n",
            "F1 score: 1.000\n",
            "\n",
            "Model performance on test set:\n",
            "accuracy score: 0.658\n",
            "precision score: 0.657\n",
            "recall score: 0.658\n",
            "F1 score: 0.657\n",
            "              precision    recall  f1-score   support\n",
            "\n",
            "           0       0.63      0.66      0.65       240\n",
            "           1       0.60      0.58      0.59       383\n",
            "           2       0.73      0.73      0.73       379\n",
            "\n",
            "    accuracy                           0.66      1002\n",
            "   macro avg       0.65      0.66      0.66      1002\n",
            "weighted avg       0.66      0.66      0.66      1002\n",
            "\n",
            "\n",
            "-------training linear model with penalty = l1\n",
            "Model performance on training set:\n",
            "accuracy score: 1.000\n",
            "precision score: 1.000\n",
            "recall score: 1.000\n",
            "F1 score: 1.000\n",
            "\n",
            "Model performance on test set:\n",
            "accuracy score: 0.664\n",
            "precision score: 0.664\n",
            "recall score: 0.664\n",
            "F1 score: 0.664\n",
            "              precision    recall  f1-score   support\n",
            "\n",
            "           0       0.67      0.64      0.65       240\n",
            "           1       0.60      0.61      0.60       383\n",
            "           2       0.72      0.74      0.73       379\n",
            "\n",
            "    accuracy                           0.66      1002\n",
            "   macro avg       0.66      0.66      0.66      1002\n",
            "weighted avg       0.66      0.66      0.66      1002\n",
            "\n",
            "\n",
            "-------training linear model with penalty = l2\n",
            "Model performance on training set:\n",
            "accuracy score: 1.000\n",
            "precision score: 1.000\n",
            "recall score: 1.000\n",
            "F1 score: 1.000\n",
            "\n",
            "Model performance on test set:\n",
            "accuracy score: 0.651\n",
            "precision score: 0.649\n",
            "recall score: 0.651\n",
            "F1 score: 0.648\n",
            "              precision    recall  f1-score   support\n",
            "\n",
            "           0       0.67      0.58      0.62       240\n",
            "           1       0.59      0.57      0.58       383\n",
            "           2       0.69      0.78      0.73       379\n",
            "\n",
            "    accuracy                           0.65      1002\n",
            "   macro avg       0.65      0.64      0.64      1002\n",
            "weighted avg       0.65      0.65      0.65      1002\n",
            "\n"
          ]
        }
      ]
    },
    {
      "cell_type": "markdown",
      "metadata": {
        "id": "fw8gnX8LhIpc"
      },
      "source": [
        "**1. What is the performance of the trained classifier on the test dataset?**\n",
        "The model has the overfitting issue. Although the model got maximum performance in the training set, it only got from 0.64 to 0.67 on F1 score. \n",
        "\n",
        "**2. Which regularization is performing the best on the test dataset: L1 or L2? Use the default settings.**\n",
        "As shown above, the default model with L1 regulazation achieved a better result, with a F1 score of 0.664 on the test set while using L2 regulation, the model got a slighly lower F1 score, 0.648."
      ]
    },
    {
      "cell_type": "markdown",
      "metadata": {
        "id": "mGbctRPkhP_E"
      },
      "source": [
        "### Searching the best parameter"
      ]
    },
    {
      "cell_type": "code",
      "metadata": {
        "id": "t8hoW9GIeuZs",
        "colab": {
          "base_uri": "https://localhost:8080/"
        },
        "outputId": "6f819bf1-8cc2-4fb4-f017-40d17b598501"
      },
      "source": [
        "# Set the parameters by cross-validation\n",
        "tuned_parameters = [{'alpha': [i for i in np.arange (0.0001, 0.01, 0.001 )]}] #, 'loss': ['log','hinge', 'perceptron']}]\n",
        "\n",
        "regularizations = ['l1', 'l2']\n",
        "for l in regularizations:\n",
        "  print ('---------with {}----------'.format(l))\n",
        "  clf = GridSearchCV(SGDClassifier(penalty = l, shuffle=True), tuned_parameters, scoring='f1_macro', cv = 5, refit = True, n_jobs = -1 )\n",
        "  clf.fit(X_train, y_train)\n",
        "  print('Best parameters set found on development set: {}'.format(clf.best_params_))\n",
        "  y_pred =  clf.predict(X_test)\n",
        "  printing_eval_scores (y_test, y_pred, report=True)\n",
        "\n"
      ],
      "execution_count": 17,
      "outputs": [
        {
          "output_type": "stream",
          "name": "stdout",
          "text": [
            "---------with L1----------\n",
            "Best parameters set found on development set: {'alpha': 0.0001}\n",
            "accuracy score: 0.647\n",
            "precision score: 0.645\n",
            "recall score: 0.647\n",
            "F1 score: 0.646\n",
            "              precision    recall  f1-score   support\n",
            "\n",
            "           0       0.65      0.61      0.63       240\n",
            "           1       0.58      0.58      0.58       383\n",
            "           2       0.70      0.74      0.72       379\n",
            "\n",
            "    accuracy                           0.65      1002\n",
            "   macro avg       0.65      0.64      0.64      1002\n",
            "weighted avg       0.65      0.65      0.65      1002\n",
            "\n",
            "---------with L2----------\n",
            "Best parameters set found on development set: {'alpha': 0.0091}\n",
            "accuracy score: 0.648\n",
            "precision score: 0.648\n",
            "recall score: 0.648\n",
            "F1 score: 0.648\n",
            "              precision    recall  f1-score   support\n",
            "\n",
            "           0       0.64      0.61      0.62       240\n",
            "           1       0.58      0.59      0.59       383\n",
            "           2       0.73      0.73      0.73       379\n",
            "\n",
            "    accuracy                           0.65      1002\n",
            "   macro avg       0.65      0.64      0.64      1002\n",
            "weighted avg       0.65      0.65      0.65      1002\n",
            "\n"
          ]
        }
      ]
    },
    {
      "cell_type": "markdown",
      "metadata": {
        "id": "Wvu--a2FwYvz"
      },
      "source": [
        "**3. We will use cross-validation to get the best value of the α parameter for regularization. What is the value of the α? Is regularization important? You can use 5-fold cross validation. Note that the cross-validation should be used ONLY on the training dataset.**\n",
        "\n",
        "We used gridsearch function built in Sklearn to search for the best α from 0.0001 to 0.01, with 5 folds on training set. We found that with L2 regularization, the model got the best performance on F1 score (0.648) with ***α=0.0091***. We also found that regularization affects selection of the best α because with L1 regularization, the best α is ***α=0.0001*** ; however, it seems L1 and L2 resulted in quite similar performances.\n",
        "\n"
      ]
    },
    {
      "cell_type": "markdown",
      "metadata": {
        "id": "Mmg1ajLk_qF2"
      },
      "source": [
        "**(4) What kind of multi-class strategy does SGDClassifier use?***\n",
        "\n",
        "SGDClassifier used “one versus all” (OVA) strategy to handle multi-class strategy. For each of K classes, the binary classifier will try to predict that class and the rest other K-1 classes."
      ]
    },
    {
      "cell_type": "markdown",
      "metadata": {
        "id": "c9NHpIk4_icm"
      },
      "source": [
        "**5. In any regularization: which features are ranked the highest? You can sort the feature weights.**"
      ]
    },
    {
      "cell_type": "code",
      "metadata": {
        "colab": {
          "base_uri": "https://localhost:8080/"
        },
        "id": "rF8SMd919XVH",
        "outputId": "ee200e68-2209-44b1-d612-cea85a94f848"
      },
      "source": [
        "# Printing features with highest weights.\n",
        "best_SGD = SGDClassifier( penalty='l2',  shuffle=True, alpha=0.0091).fit(X_train, y_train)\n",
        "y_pred = best_SGD.predict(X_test)\n",
        "weights = best_SGD.coef_\n",
        "weights"
      ],
      "execution_count": 18,
      "outputs": [
        {
          "output_type": "execute_result",
          "data": {
            "text/plain": [
              "array([[ 0.01614026, -0.03873663, -0.03550857, ..., -0.00080701,\n",
              "        -0.00161403,  0.00080701],\n",
              "       [ 0.04432735, -0.04116111, -0.01899744, ..., -0.02005285,\n",
              "         0.00633248, -0.01213725],\n",
              "       [-0.08745872,  0.062593  ,  0.05487606, ...,  0.01800621,\n",
              "         0.00342975,  0.        ]])"
            ]
          },
          "metadata": {},
          "execution_count": 18
        }
      ]
    },
    {
      "cell_type": "code",
      "metadata": {
        "colab": {
          "base_uri": "https://localhost:8080/"
        },
        "id": "k41E0kWSG7_p",
        "outputId": "910d807d-53c9-4c61-e11d-46f12823c191"
      },
      "source": [
        "features = vectorizer.get_feature_names()\n",
        "\n",
        "feature_weights = {}\n",
        "for i in range(len(weights)):\n",
        "  print('\\n==============================================')\n",
        "  print ('\\nclass: {}'.format(i+1))\n",
        "  for w in range(len(weights[i])):\n",
        "     feature_weights[features[w]] = weights[i][w] #np.abs\n",
        "  # Sorting the dictionary in descending order\n",
        "  sorted_feature_weights = {k:v for k, v in sorted(feature_weights.items(), key = lambda item: item[1], reverse=True)}\n",
        "\n",
        "  # Print the weights learned for each class\n",
        "  print('10 most important features (in descending order): ')\n",
        "  for k, v in list(sorted_feature_weights.items())[:20]:\n",
        "    print ('{}: {:.5f}'. format(k,v))\n"
      ],
      "execution_count": 20,
      "outputs": [
        {
          "output_type": "stream",
          "name": "stdout",
          "text": [
            "\n",
            "==============================================\n",
            "\n",
            "class: 1\n",
            "10 most important features (in descending order): \n",
            "bad: 0.28165\n",
            "boring: 0.25744\n",
            "ridiculous: 0.24614\n",
            "awake: 0.23807\n",
            "watchable: 0.22112\n",
            "suppose: 0.22031\n",
            "dull: 0.21628\n",
            "unfunny: 0.21224\n",
            "inane: 0.20740\n",
            "failed: 0.19449\n",
            "worst: 0.19288\n",
            "flat: 0.18238\n",
            "routine: 0.18077\n",
            "poorly: 0.17996\n",
            "remotely: 0.17916\n",
            "sitcom: 0.17431\n",
            "contrived: 0.17109\n",
            "peter: 0.16786\n",
            "attempt: 0.16786\n",
            "wasted: 0.16786\n",
            "\n",
            "==============================================\n",
            "\n",
            "class: 2\n",
            "10 most important features (in descending order): \n",
            "problems: 0.29393\n",
            "able: 0.26860\n",
            "unfortunately: 0.26333\n",
            "problem: 0.25752\n",
            "fits: 0.23377\n",
            "ve: 0.23272\n",
            "leads: 0.23008\n",
            "nice: 0.22797\n",
            "albeit: 0.22744\n",
            "add: 0.22691\n",
            "myself: 0.22639\n",
            "marriage: 0.22428\n",
            "changes: 0.22216\n",
            "thumbs: 0.22111\n",
            "entertaining: 0.21847\n",
            "though: 0.21636\n",
            "cute: 0.21583\n",
            "interesting: 0.20317\n",
            "cool: 0.19842\n",
            "in: 0.19525\n",
            "\n",
            "==============================================\n",
            "\n",
            "class: 3\n",
            "10 most important features (in descending order): \n",
            "great: 0.23580\n",
            "traditional: 0.22636\n",
            "perfect: 0.22036\n",
            "intelligent: 0.21522\n",
            "delightful: 0.21179\n",
            "favorite: 0.21179\n",
            "turns: 0.19807\n",
            "terrific: 0.19807\n",
            "strongly: 0.19635\n",
            "wonderfully: 0.19207\n",
            "intensity: 0.18778\n",
            "superb: 0.18092\n",
            "charming: 0.17749\n",
            "simple: 0.17492\n",
            "satisfying: 0.17492\n",
            "false: 0.17406\n",
            "world: 0.16977\n",
            "elements: 0.16720\n",
            "fascinating: 0.16463\n",
            "master: 0.16206\n"
          ]
        }
      ]
    },
    {
      "cell_type": "markdown",
      "metadata": {
        "id": "bfTygJKs__w6"
      },
      "source": [
        "The above output includes the most important features according to weights. The higher learned weights, the more important the features are. Looking at the most important features in each class, we can see they make a lot of sense. For example, the most important features in the class 0 (negative) are negative sentiment words such as bad, boring, ridiculous, dull, unfunny, failed, worst, etc. while the positive class (class 2) includes very positive words as the most important features such as: great, perfect, intelligent, delightful,\n",
        "favorite, terrific, strongly, wonderfully, intensity, etc. The neutral class contains some possitive words, and some negative words."
      ]
    },
    {
      "cell_type": "markdown",
      "metadata": {
        "id": "FEf_4Mt6IBJC"
      },
      "source": [
        "**Q6. How does the hyperplane of the classifier look like?**\n",
        "Since there are 38629 features used in the model, it's hard to plot a hyperlane with these high dimensions. One way is using pca to reduce the number of features to 2 dimensions. However, for convinience, we can use decision_function, a function of SGD model in sklearn, to examine the distance of that samples to the hyperplane. "
      ]
    },
    {
      "cell_type": "code",
      "metadata": {
        "id": "xzfB1cFVIFBQ",
        "colab": {
          "base_uri": "https://localhost:8080/"
        },
        "outputId": "93dd120d-f0a3-4049-ebb8-65c8ede1f884"
      },
      "source": [
        "import seaborn as sns\n",
        "hyperplane = best_SGD.decision_function(X_train).T\n",
        "hyperplane"
      ],
      "execution_count": 21,
      "outputs": [
        {
          "output_type": "execute_result",
          "data": {
            "text/plain": [
              "array([[-1.17831983, -1.09923255, -2.62206615, ..., -2.74634616,\n",
              "        -1.27677542, -1.30582789],\n",
              "       [ 0.935393  ,  0.95069649, -1.5506326 , ..., -1.12899506,\n",
              "        -1.13374441, -2.45512164],\n",
              "       [-1.00311192, -1.01683094,  2.39748871, ...,  1.17392414,\n",
              "         1.14991586,  1.58120737]])"
            ]
          },
          "metadata": {},
          "execution_count": 21
        }
      ]
    },
    {
      "cell_type": "code",
      "metadata": {
        "id": "Dddef30XpBNi",
        "colab": {
          "base_uri": "https://localhost:8080/",
          "height": 1000
        },
        "outputId": "9b0d1e19-b712-47d1-c403-1866f0371e44"
      },
      "source": [
        "for i in range(3):\n",
        "  sns.displot(hyperplane[i], kind = 'hist', legend=True)\n"
      ],
      "execution_count": 23,
      "outputs": [
        {
          "output_type": "display_data",
          "data": {
            "image/png": "[encoded data removed]",
            "text/plain": [
              "<Figure size 360x360 with 1 Axes>"
            ]
          },
          "metadata": {
            "needs_background": "light"
          }
        },
        {
          "output_type": "display_data",
          "data": {
            "image/png": "[encoded data removed]",
            "text/plain": [
              "<Figure size 360x360 with 1 Axes>"
            ]
          },
          "metadata": {
            "needs_background": "light"
          }
        },
        {
          "output_type": "display_data",
          "data": {
            "image/png": "[encoded data removed]",
            "text/plain": [
              "<Figure size 360x360 with 1 Axes>"
            ]
          },
          "metadata": {
            "needs_background": "light"
          }
        }
      ]
    },
    {
      "cell_type": "markdown",
      "metadata": {
        "id": "MLBP51tTRyuH"
      },
      "source": [
        "The histograms show the distribution of distances from data points to the hypelane. The negative and positive distances means which sides of the hypelane the data points belong to. It seems very few data points close to the hypelane. "
      ]
    },
    {
      "cell_type": "markdown",
      "metadata": {
        "id": "ZCObzt9s8LNl"
      },
      "source": [
        "**Model with log loss function**"
      ]
    },
    {
      "cell_type": "code",
      "metadata": {
        "id": "u_uRSKZiqoBX",
        "colab": {
          "base_uri": "https://localhost:8080/"
        },
        "outputId": "95c5ac49-3626-499f-ec2a-2edcf095097c"
      },
      "source": [
        "log_SGD = SGDClassifier(loss='log', penalty='l2',  shuffle=True, alpha=0.0091).fit(X_train, y_train)\n",
        "y_pred = log_SGD.predict(X_test)\n",
        "printing_eval_scores (y_test, y_pred, report=True)\n"
      ],
      "execution_count": 24,
      "outputs": [
        {
          "output_type": "stream",
          "name": "stdout",
          "text": [
            "accuracy score: 0.667\n",
            "precision score: 0.677\n",
            "recall score: 0.667\n",
            "F1 score: 0.667\n",
            "              precision    recall  f1-score   support\n",
            "\n",
            "           0       0.73      0.56      0.63       240\n",
            "           1       0.58      0.69      0.63       383\n",
            "           2       0.74      0.72      0.73       379\n",
            "\n",
            "    accuracy                           0.67      1002\n",
            "   macro avg       0.68      0.65      0.66      1002\n",
            "weighted avg       0.68      0.67      0.67      1002\n",
            "\n"
          ]
        },
        {
          "output_type": "execute_result",
          "data": {
            "text/plain": [
              "(0.6666666666666666,\n",
              " 0.6770963176166473,\n",
              " 0.6666666666666666,\n",
              " 0.6673483560745256)"
            ]
          },
          "metadata": {},
          "execution_count": 24
        }
      ]
    },
    {
      "cell_type": "markdown",
      "metadata": {
        "id": "0zBP97kuVvsj"
      },
      "source": [
        "Compared the best model (F1 = 0.648) we built using loss = 'hinge' (SVM loss), the model with loss = 'log' (Logistic regression) performs better, with a F1 score = 0.667."
      ]
    },
    {
      "cell_type": "markdown",
      "metadata": {
        "id": "jFMb2r5s8h_d"
      },
      "source": [
        "**8. Building a linear model to compare the result**"
      ]
    },
    {
      "cell_type": "code",
      "metadata": {
        "id": "8NSbrMBo1j_g",
        "colab": {
          "base_uri": "https://localhost:8080/"
        },
        "outputId": "08ecdb01-c6fc-43b4-c07f-e125478d7aca"
      },
      "source": [
        "new_df['rating'].describe()"
      ],
      "execution_count": 25,
      "outputs": [
        {
          "output_type": "execute_result",
          "data": {
            "text/plain": [
              "count    5006.000000\n",
              "mean        0.581422\n",
              "std         0.181725\n",
              "min         0.000000\n",
              "25%         0.490000\n",
              "50%         0.600000\n",
              "75%         0.700000\n",
              "max         1.000000\n",
              "Name: rating, dtype: float64"
            ]
          },
          "metadata": {},
          "execution_count": 25
        }
      ]
    },
    {
      "cell_type": "code",
      "metadata": {
        "id": "CkrIt25JtiVt",
        "colab": {
          "base_uri": "https://localhost:8080/",
          "height": 497
        },
        "outputId": "51608057-d247-43bb-b3d2-c24ed9d50e32"
      },
      "source": [
        "plt.figure(figsize=(10,8))\n",
        "sns.histplot(data = new_df, x = 'rating', bins = 20)\n",
        "plt.show()\n"
      ],
      "execution_count": 26,
      "outputs": [
        {
          "output_type": "display_data",
          "data": {
            "image/png": "[encoded data removed]",
            "text/plain": [
              "<Figure size 720x576 with 1 Axes>"
            ]
          },
          "metadata": {
            "needs_background": "light"
          }
        }
      ]
    },
    {
      "cell_type": "code",
      "metadata": {
        "colab": {
          "base_uri": "https://localhost:8080/"
        },
        "id": "A4ukaneBAJAo",
        "outputId": "c13a4ed4-9988-4a19-c369-423af5213ab2"
      },
      "source": [
        "# Spliting the dataset for training and testing\n",
        "X_train_, X_test_, y_train_, y_test_ = train_test_split (new_df['review'], new_df['rating'] , train_size = 0.8, random_state = 42, shuffle = True)\n",
        "print ('Shapes of X_train, y_train: ', X_train.shape, y_train.shape)\n",
        "print ('Shapes of X_test, y_test: ', X_test.shape, y_test.shape)"
      ],
      "execution_count": 27,
      "outputs": [
        {
          "output_type": "stream",
          "name": "stdout",
          "text": [
            "Shapes of X_train, y_train:  (4004, 38629) (4004,)\n",
            "Shapes of X_test, y_test:  (1002, 38629) (1002,)\n"
          ]
        }
      ]
    },
    {
      "cell_type": "code",
      "metadata": {
        "colab": {
          "base_uri": "https://localhost:8080/"
        },
        "id": "bXqfjmvrAJAp",
        "outputId": "1ff41e0c-4b65-4794-cff8-4cd2d44c9dfe"
      },
      "source": [
        "# Vectorizing the documents\n",
        "vectorizer = CountVectorizer(binary = True)\n",
        "X_train_ = vectorizer.fit_transform(X_train_.to_list())\n",
        "X_test_ = vectorizer.transform(X_test_.to_list())\n",
        "print ('Shapes of X_train, y_train: ', X_train.shape, y_train.shape)\n",
        "print ('Shapes of X_test, y_test: ', X_test.shape, y_test.shape)"
      ],
      "execution_count": 28,
      "outputs": [
        {
          "output_type": "stream",
          "name": "stdout",
          "text": [
            "Shapes of X_train, y_train:  (4004, 38629) (4004,)\n",
            "Shapes of X_test, y_test:  (1002, 38629) (1002,)\n"
          ]
        }
      ]
    },
    {
      "cell_type": "code",
      "metadata": {
        "id": "E98URH1HCAJw",
        "colab": {
          "base_uri": "https://localhost:8080/"
        },
        "outputId": "b6c89af0-d727-487a-8236-0906b5c54f1c"
      },
      "source": [
        "from sklearn.linear_model import LinearRegression\n",
        "from sklearn.metrics import mean_squared_error, r2_score\n",
        "reg = LinearRegression().fit(X_train_, y_train_)\n",
        "y_pred = reg.predict(X_test_)\n",
        "print('mean squared error: {:.3f}'.format(mean_squared_error(y_test_, y_pred)))\n",
        "print('r2 score: {:.3f}'.format(r2_score(y_test_, y_pred)))"
      ],
      "execution_count": 29,
      "outputs": [
        {
          "output_type": "stream",
          "name": "stdout",
          "text": [
            "mean squared error: 0.019\n",
            "r2 score: 0.413\n"
          ]
        }
      ]
    },
    {
      "cell_type": "markdown",
      "metadata": {
        "id": "SsenvLLcWufC"
      },
      "source": [
        "Above is the performance of the linear regression model. The Mean Squared Error is close to 0 (0.019), however, the R2 is not good enough, 0.413. However, given different evaluation matrix, it is very hard to compare the performance of the regression model with the classification model we built before. Therefore, we can use the annotation scheme provided in README file to convert continous values in y_predicted into three categories as we had before."
      ]
    },
    {
      "cell_type": "code",
      "metadata": {
        "id": "uNIp41-2LsDd",
        "colab": {
          "base_uri": "https://localhost:8080/"
        },
        "outputId": "5917a5fb-d7a5-4d8f-bbd1-2ef478e4c5bb"
      },
      "source": [
        "# Encoding the y_predicted (continous values) into 3 classes\n",
        "y_pred_cl = []\n",
        "for i in y_pred:\n",
        "  if i <=0.4:\n",
        "    y_pred_cl.append(\"0\")\n",
        "  elif i >=0.7:\n",
        "    y_pred_cl.append(\"2\")\n",
        "  else:\n",
        "    y_pred_cl.append(\"1\")\n",
        "printing_eval_scores(y_test, y_pred_cl, report = True)"
      ],
      "execution_count": 30,
      "outputs": [
        {
          "output_type": "stream",
          "name": "stdout",
          "text": [
            "accuracy score: 0.347\n",
            "precision score: 0.330\n",
            "recall score: 0.347\n",
            "F1 score: 0.315\n",
            "              precision    recall  f1-score   support\n",
            "\n",
            "           0       0.22      0.15      0.18       240\n",
            "           1       0.38      0.63      0.47       383\n",
            "           2       0.35      0.18      0.24       379\n",
            "\n",
            "    accuracy                           0.35      1002\n",
            "   macro avg       0.32      0.32      0.30      1002\n",
            "weighted avg       0.33      0.35      0.32      1002\n",
            "\n"
          ]
        },
        {
          "output_type": "execute_result",
          "data": {
            "text/plain": [
              "(0.3473053892215569,\n",
              " 0.33029549036644185,\n",
              " 0.3473053892215569,\n",
              " 0.31539444137412953)"
            ]
          },
          "metadata": {},
          "execution_count": 30
        }
      ]
    },
    {
      "cell_type": "markdown",
      "metadata": {
        "id": "cUi5trNzY0k_"
      },
      "source": [
        "Looking at the performance of the model on F1 score, we can see the regression model performed much worse than the classification models we built before. This indicates an inconsistence between rating, and the classes assigned accordingly."
      ]
    },
    {
      "cell_type": "markdown",
      "metadata": {
        "id": "SK3hGX2fcxUf"
      },
      "source": [
        "# Implementing minibatches\n"
      ]
    },
    {
      "cell_type": "code",
      "metadata": {
        "colab": {
          "base_uri": "https://localhost:8080/"
        },
        "id": "lvvbxyo8iRK9",
        "outputId": "44d99ba9-a852-476f-8a42-0a0dfb4c56a2"
      },
      "source": [
        "from sklearn.linear_model import SGDClassifier\n",
        "import random\n",
        "log_SGD_2 = SGDClassifier(loss='log', penalty='l2',  shuffle=True, alpha=0.0081).fit(X_train, y_train)\n",
        "n_iter = 10\n",
        "batch_size = 32\n",
        "F1_tr = []\n",
        "F1_test = []\n",
        "for n in range(n_iter):\n",
        "  print ('----------iteration {}-----------'.format(n+1))\n",
        "  n_instances, n_features = X_train.shape\n",
        "  i=0 \n",
        "  while i<= round(n_instances/batch_size):\n",
        "    m = batch_size * i\n",
        "    n = m + batch_size\n",
        "    log_SGD_2.partial_fit(X_train[m:n], y_train[m:n], classes=np.unique(y_train))\n",
        "    i+=1    \n",
        "  y_pred = log_SGD_2.predict(X_test)\n",
        "  print('Model performance on training set:')\n",
        "  _, _,_, f1_tr = printing_eval_scores (y_train, log_SGD_2.predict(X_train), report = False)\n",
        "  print('\\nModel performance on test set:')\n",
        "  _, _,_, f1_test = printing_eval_scores (y_test, y_pred, report = True)\n",
        "  F1_tr.append (f1_tr)\n",
        "  F1_test.append (f1_test)\n",
        "\n",
        "max_f1 = max(F1_test)\n",
        "idx_max_f1 = F1_test.index(max(F1_test))\n",
        "print('Best performance is in iteration {}: F1 = {:.3f}'.format(idx_max_f1 +1, max_f1))"
      ],
      "execution_count": 37,
      "outputs": [
        {
          "output_type": "stream",
          "name": "stdout",
          "text": [
            "----------iteration 1-----------\n",
            "Model performance on training set:\n",
            "accuracy score: 0.968\n",
            "precision score: 0.969\n",
            "recall score: 0.968\n",
            "F1 score: 0.968\n",
            "\n",
            "Model performance on test set:\n",
            "accuracy score: 0.666\n",
            "precision score: 0.678\n",
            "recall score: 0.666\n",
            "F1 score: 0.666\n",
            "              precision    recall  f1-score   support\n",
            "\n",
            "           0       0.76      0.53      0.63       240\n",
            "           1       0.58      0.68      0.63       383\n",
            "           2       0.73      0.73      0.73       379\n",
            "\n",
            "    accuracy                           0.67      1002\n",
            "   macro avg       0.69      0.65      0.66      1002\n",
            "weighted avg       0.68      0.67      0.67      1002\n",
            "\n",
            "----------iteration 2-----------\n",
            "Model performance on training set:\n",
            "accuracy score: 0.968\n",
            "precision score: 0.970\n",
            "recall score: 0.968\n",
            "F1 score: 0.968\n",
            "\n",
            "Model performance on test set:\n",
            "accuracy score: 0.663\n",
            "precision score: 0.675\n",
            "recall score: 0.663\n",
            "F1 score: 0.663\n",
            "              precision    recall  f1-score   support\n",
            "\n",
            "           0       0.76      0.54      0.63       240\n",
            "           1       0.57      0.67      0.62       383\n",
            "           2       0.72      0.73      0.73       379\n",
            "\n",
            "    accuracy                           0.66      1002\n",
            "   macro avg       0.69      0.65      0.66      1002\n",
            "weighted avg       0.67      0.66      0.66      1002\n",
            "\n",
            "----------iteration 3-----------\n",
            "Model performance on training set:\n",
            "accuracy score: 0.969\n",
            "precision score: 0.970\n",
            "recall score: 0.969\n",
            "F1 score: 0.969\n",
            "\n",
            "Model performance on test set:\n",
            "accuracy score: 0.663\n",
            "precision score: 0.674\n",
            "recall score: 0.663\n",
            "F1 score: 0.662\n",
            "              precision    recall  f1-score   support\n",
            "\n",
            "           0       0.76      0.53      0.63       240\n",
            "           1       0.58      0.67      0.62       383\n",
            "           2       0.72      0.74      0.73       379\n",
            "\n",
            "    accuracy                           0.66      1002\n",
            "   macro avg       0.68      0.65      0.66      1002\n",
            "weighted avg       0.67      0.66      0.66      1002\n",
            "\n",
            "----------iteration 4-----------\n",
            "Model performance on training set:\n",
            "accuracy score: 0.968\n",
            "precision score: 0.969\n",
            "recall score: 0.968\n",
            "F1 score: 0.968\n",
            "\n",
            "Model performance on test set:\n",
            "accuracy score: 0.664\n",
            "precision score: 0.675\n",
            "recall score: 0.664\n",
            "F1 score: 0.664\n",
            "              precision    recall  f1-score   support\n",
            "\n",
            "           0       0.76      0.54      0.63       240\n",
            "           1       0.58      0.67      0.62       383\n",
            "           2       0.72      0.74      0.73       379\n",
            "\n",
            "    accuracy                           0.66      1002\n",
            "   macro avg       0.69      0.65      0.66      1002\n",
            "weighted avg       0.68      0.66      0.66      1002\n",
            "\n",
            "----------iteration 5-----------\n",
            "Model performance on training set:\n",
            "accuracy score: 0.968\n",
            "precision score: 0.969\n",
            "recall score: 0.968\n",
            "F1 score: 0.968\n",
            "\n",
            "Model performance on test set:\n",
            "accuracy score: 0.664\n",
            "precision score: 0.676\n",
            "recall score: 0.664\n",
            "F1 score: 0.664\n",
            "              precision    recall  f1-score   support\n",
            "\n",
            "           0       0.76      0.54      0.63       240\n",
            "           1       0.58      0.67      0.62       383\n",
            "           2       0.72      0.74      0.73       379\n",
            "\n",
            "    accuracy                           0.66      1002\n",
            "   macro avg       0.69      0.65      0.66      1002\n",
            "weighted avg       0.68      0.66      0.66      1002\n",
            "\n",
            "----------iteration 6-----------\n",
            "Model performance on training set:\n",
            "accuracy score: 0.969\n",
            "precision score: 0.970\n",
            "recall score: 0.969\n",
            "F1 score: 0.969\n",
            "\n",
            "Model performance on test set:\n",
            "accuracy score: 0.663\n",
            "precision score: 0.673\n",
            "recall score: 0.663\n",
            "F1 score: 0.662\n",
            "              precision    recall  f1-score   support\n",
            "\n",
            "           0       0.75      0.54      0.63       240\n",
            "           1       0.58      0.66      0.62       383\n",
            "           2       0.72      0.74      0.73       379\n",
            "\n",
            "    accuracy                           0.66      1002\n",
            "   macro avg       0.68      0.65      0.66      1002\n",
            "weighted avg       0.67      0.66      0.66      1002\n",
            "\n",
            "----------iteration 7-----------\n",
            "Model performance on training set:\n",
            "accuracy score: 0.969\n",
            "precision score: 0.970\n",
            "recall score: 0.969\n",
            "F1 score: 0.969\n",
            "\n",
            "Model performance on test set:\n",
            "accuracy score: 0.663\n",
            "precision score: 0.674\n",
            "recall score: 0.663\n",
            "F1 score: 0.662\n",
            "              precision    recall  f1-score   support\n",
            "\n",
            "           0       0.76      0.54      0.63       240\n",
            "           1       0.58      0.67      0.62       383\n",
            "           2       0.72      0.74      0.73       379\n",
            "\n",
            "    accuracy                           0.66      1002\n",
            "   macro avg       0.68      0.65      0.66      1002\n",
            "weighted avg       0.67      0.66      0.66      1002\n",
            "\n",
            "----------iteration 8-----------\n",
            "Model performance on training set:\n",
            "accuracy score: 0.969\n",
            "precision score: 0.970\n",
            "recall score: 0.969\n",
            "F1 score: 0.969\n",
            "\n",
            "Model performance on test set:\n",
            "accuracy score: 0.664\n",
            "precision score: 0.673\n",
            "recall score: 0.664\n",
            "F1 score: 0.663\n",
            "              precision    recall  f1-score   support\n",
            "\n",
            "           0       0.75      0.54      0.63       240\n",
            "           1       0.58      0.66      0.62       383\n",
            "           2       0.72      0.74      0.73       379\n",
            "\n",
            "    accuracy                           0.66      1002\n",
            "   macro avg       0.68      0.65      0.66      1002\n",
            "weighted avg       0.67      0.66      0.66      1002\n",
            "\n",
            "----------iteration 9-----------\n",
            "Model performance on training set:\n",
            "accuracy score: 0.969\n",
            "precision score: 0.970\n",
            "recall score: 0.969\n",
            "F1 score: 0.969\n",
            "\n",
            "Model performance on test set:\n",
            "accuracy score: 0.664\n",
            "precision score: 0.671\n",
            "recall score: 0.664\n",
            "F1 score: 0.663\n",
            "              precision    recall  f1-score   support\n",
            "\n",
            "           0       0.74      0.55      0.63       240\n",
            "           1       0.58      0.65      0.62       383\n",
            "           2       0.72      0.74      0.73       379\n",
            "\n",
            "    accuracy                           0.66      1002\n",
            "   macro avg       0.68      0.65      0.66      1002\n",
            "weighted avg       0.67      0.66      0.66      1002\n",
            "\n",
            "----------iteration 10-----------\n",
            "Model performance on training set:\n",
            "accuracy score: 0.968\n",
            "precision score: 0.969\n",
            "recall score: 0.968\n",
            "F1 score: 0.968\n",
            "\n",
            "Model performance on test set:\n",
            "accuracy score: 0.662\n",
            "precision score: 0.671\n",
            "recall score: 0.662\n",
            "F1 score: 0.662\n",
            "              precision    recall  f1-score   support\n",
            "\n",
            "           0       0.74      0.55      0.63       240\n",
            "           1       0.58      0.66      0.62       383\n",
            "           2       0.72      0.74      0.73       379\n",
            "\n",
            "    accuracy                           0.66      1002\n",
            "   macro avg       0.68      0.65      0.66      1002\n",
            "weighted avg       0.67      0.66      0.66      1002\n",
            "\n",
            "Best performance is in iteration 1: F1 = 0.666\n"
          ]
        }
      ]
    }
  ]
}