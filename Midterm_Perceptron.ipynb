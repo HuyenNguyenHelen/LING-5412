{
  "nbformat": 4,
  "nbformat_minor": 0,
  "metadata": {
    "colab": {
      "name": "Untitled20.ipynb",
      "provenance": [],
      "toc_visible": true,
      "authorship_tag": "ABX9TyPseg6lGXQ4KEJ/zavI5LOW",
      "include_colab_link": true
    },
    "kernelspec": {
      "name": "python3",
      "display_name": "Python 3"
    },
    "language_info": {
      "name": "python"
    }
  },
  "cells": [
    {
      "cell_type": "markdown",
      "metadata": {
        "id": "view-in-github",
        "colab_type": "text"
      },
      "source": [
        "<a href=\"https://colab.research.google.com/github/HuyenNguyenHelen/LING-5412/blob/main/Midterm_Perceptron.ipynb\" target=\"_parent\"><img src=\"https://colab.research.google.com/assets/colab-badge.svg\" alt=\"Open In Colab\"/></a>"
      ]
    },
    {
      "cell_type": "code",
      "metadata": {
        "id": "R6fvETmJYz2a",
        "colab": {
          "base_uri": "https://localhost:8080/"
        },
        "outputId": "c22424f8-1bf9-4847-a949-a8b247458bae"
      },
      "source": [
        "# Importing libraries that will be used \n",
        "import numpy as np\n",
        "import tarfile\n",
        "import glob\n",
        "import re\n",
        "import pandas as pd\n",
        "#from nltk.corpus import stopwords\n",
        "import nltk\n",
        "nltk.download('wordnet')\n",
        "import sklearn\n",
        "from sklearn.model_selection import train_test_split\n",
        "from sklearn.metrics import accuracy_score, classification_report\n",
        "from sklearn.metrics import confusion_matrix, ConfusionMatrixDisplay\n",
        "import matplotlib.pyplot as plt"
      ],
      "execution_count": 1,
      "outputs": [
        {
          "output_type": "stream",
          "name": "stdout",
          "text": [
            "[nltk_data] Downloading package wordnet to /root/nltk_data...\n",
            "[nltk_data]   Unzipping corpora/wordnet.zip.\n"
          ]
        }
      ]
    },
    {
      "cell_type": "markdown",
      "metadata": {
        "id": "65qNJ8-yen4t"
      },
      "source": [
        "# Loading the data"
      ]
    },
    {
      "cell_type": "code",
      "metadata": {
        "id": "HYaWyrUfY24W",
        "colab": {
          "base_uri": "https://localhost:8080/"
        },
        "outputId": "981787e4-e7ad-484d-9bac-f55becc6d52c"
      },
      "source": [
        "!wget http://www.cs.cornell.edu/people/pabo/movie-review-data/review_polarity.tar.gz"
      ],
      "execution_count": 2,
      "outputs": [
        {
          "output_type": "stream",
          "name": "stdout",
          "text": [
            "--2021-10-12 02:42:23--  http://www.cs.cornell.edu/people/pabo/movie-review-data/review_polarity.tar.gz\n",
            "Resolving www.cs.cornell.edu (www.cs.cornell.edu)... 132.236.207.36\n",
            "Connecting to www.cs.cornell.edu (www.cs.cornell.edu)|132.236.207.36|:80... connected.\n",
            "HTTP request sent, awaiting response... 200 OK\n",
            "Length: 3127238 (3.0M) [application/x-gzip]\n",
            "Saving to: ‘review_polarity.tar.gz’\n",
            "\n",
            "review_polarity.tar 100%[===================>]   2.98M  5.25MB/s    in 0.6s    \n",
            "\n",
            "2021-10-12 02:42:24 (5.25 MB/s) - ‘review_polarity.tar.gz’ saved [3127238/3127238]\n",
            "\n"
          ]
        }
      ]
    },
    {
      "cell_type": "code",
      "metadata": {
        "id": "rCi6oTkvdiOb"
      },
      "source": [
        "# Untar the dataset\n",
        "my_tar = tarfile.open('/content/review_polarity.tar.gz')\n",
        "my_tar.extractall('/content/') \n",
        "my_tar.close()\n"
      ],
      "execution_count": 3,
      "outputs": []
    },
    {
      "cell_type": "code",
      "metadata": {
        "colab": {
          "base_uri": "https://localhost:8080/"
        },
        "id": "MPYKmVRad4Cj",
        "outputId": "f7b7bf16-4b0a-4b99-a789-df1a73921a17"
      },
      "source": [
        "# Exploring the data sizes\n",
        "\n",
        "paths_pos = glob.glob('/content/txt_sentoken/pos/*.txt')\n",
        "paths_neg = glob.glob('/content/txt_sentoken/neg/*.txt')\n",
        "pos_neg_paths = paths_pos + paths_neg\n",
        "\n",
        "n_pos = len(paths_pos)\n",
        "n_neg = len(paths_neg)\n",
        "\n",
        "print('the number of positive instances: {} \\nthe number of negative instances: {}'.format(n_pos, n_neg))"
      ],
      "execution_count": 4,
      "outputs": [
        {
          "output_type": "stream",
          "name": "stdout",
          "text": [
            "the number of positive instances: 1000 \n",
            "the number of negative instances: 1000\n"
          ]
        }
      ]
    },
    {
      "cell_type": "code",
      "metadata": {
        "colab": {
          "base_uri": "https://localhost:8080/",
          "height": 205
        },
        "id": "XcY-9sswexuM",
        "outputId": "df23becd-58d5-4724-efb4-3787219d0ffc"
      },
      "source": [
        "# Reformating the dataset into csv for convenience \n",
        "\n",
        "def to_df (folder):\n",
        "  data_dic = {}\n",
        "  data_dic['doc'], data_dic['label'] = [], []\n",
        "  for file in folder:\n",
        "    fo = open(file)\n",
        "    doc = fo.read()\n",
        "    data_dic['doc'].append(doc)\n",
        "    if 'pos' in file:\n",
        "      data_dic['label'].append(1)\n",
        "    elif 'neg' in file:\n",
        "      data_dic['label'].append(-1)\n",
        "    else:\n",
        "      print('error', file)\n",
        "  df = pd.DataFrame.from_dict(data_dic)\n",
        "  return df\n",
        "    \n",
        "data = to_df(pos_neg_paths)\n",
        "\n",
        "data.head()"
      ],
      "execution_count": 5,
      "outputs": [
        {
          "output_type": "execute_result",
          "data": {
            "text/html": [
              "<div>\n",
              "<style scoped>\n",
              "    .dataframe tbody tr th:only-of-type {\n",
              "        vertical-align: middle;\n",
              "    }\n",
              "\n",
              "    .dataframe tbody tr th {\n",
              "        vertical-align: top;\n",
              "    }\n",
              "\n",
              "    .dataframe thead th {\n",
              "        text-align: right;\n",
              "    }\n",
              "</style>\n",
              "<table border=\"1\" class=\"dataframe\">\n",
              "  <thead>\n",
              "    <tr style=\"text-align: right;\">\n",
              "      <th></th>\n",
              "      <th>doc</th>\n",
              "      <th>label</th>\n",
              "    </tr>\n",
              "  </thead>\n",
              "  <tbody>\n",
              "    <tr>\n",
              "      <th>0</th>\n",
              "      <td>star wars : episode i - the phantom menace rev...</td>\n",
              "      <td>1</td>\n",
              "    </tr>\n",
              "    <tr>\n",
              "      <th>1</th>\n",
              "      <td>'contact' shows why jodie foster is one of our...</td>\n",
              "      <td>1</td>\n",
              "    </tr>\n",
              "    <tr>\n",
              "      <th>2</th>\n",
              "      <td>\" the deep end \" uses a color palette of rich...</td>\n",
              "      <td>1</td>\n",
              "    </tr>\n",
              "    <tr>\n",
              "      <th>3</th>\n",
              "      <td>steven spielberg's \" amistad , \" which is base...</td>\n",
              "      <td>1</td>\n",
              "    </tr>\n",
              "    <tr>\n",
              "      <th>4</th>\n",
              "      <td>corey yuen's latest film , \" hero \" is notable...</td>\n",
              "      <td>1</td>\n",
              "    </tr>\n",
              "  </tbody>\n",
              "</table>\n",
              "</div>"
            ],
            "text/plain": [
              "                                                 doc  label\n",
              "0  star wars : episode i - the phantom menace rev...      1\n",
              "1  'contact' shows why jodie foster is one of our...      1\n",
              "2   \" the deep end \" uses a color palette of rich...      1\n",
              "3  steven spielberg's \" amistad , \" which is base...      1\n",
              "4  corey yuen's latest film , \" hero \" is notable...      1"
            ]
          },
          "metadata": {},
          "execution_count": 5
        }
      ]
    },
    {
      "cell_type": "markdown",
      "metadata": {
        "id": "bhRWqMNWe8i2"
      },
      "source": [
        "# Data pre-processing"
      ]
    },
    {
      "cell_type": "code",
      "metadata": {
        "colab": {
          "base_uri": "https://localhost:8080/"
        },
        "id": "ikvi98c4fAqk",
        "outputId": "0bc519e8-3599-4678-862c-900bbc7d241b"
      },
      "source": [
        "# Data preprocessing\n",
        "\n",
        "from nltk.corpus import stopwords\n",
        "nltk.download('stopwords')\n",
        "stopwords = set(stopwords.words('english'))\n",
        "stemmer = nltk.stem.porter.PorterStemmer()\n",
        "lemmatizer = nltk.stem.wordnet.WordNetLemmatizer()\n",
        "\n",
        "def tokenizer (doc):\n",
        "  return re.split(\"\\W+\", doc)   # return a list of tokens without punctuations\n",
        "\n",
        "def stopword_remover (bow):\n",
        "  filtered_bow = [w for w in bow if not w.lower() in stopwords]\n",
        "  return filtered_bow\n",
        "\n",
        "def top_freq_w (freq_dic, top_n, stopword_removing = ''):\n",
        "  sorted_dic = {k:v for k, v in sorted(freq_dic.items(), key = lambda item: item[1], reverse=True)}\n",
        "  if stopword_removing is False:\n",
        "    return {k:v for k, v in list(sorted_dic.items())[:top_n]}\n",
        "  elif stopword_removing is True:\n",
        "    filtered_dic = {k: v for k, v in sorted_dic.items() if k not in stopwords}\n",
        "    return {k:v for k, v in list(filtered_dic.items())[:top_n]}\n",
        "  \n",
        "\n",
        "def preprocessor (text):\n",
        "  ## removing punctuations and characters\n",
        "  text = re.sub(r'[^\\w\\s]', '', text)\n",
        "  ## stripping\n",
        "  text = ' '.join([w.strip() for w in text.split()])\n",
        "  ## lowcasing\n",
        "  text = text.lower()\n",
        "  ## removing stopword\n",
        "  text = stopword_remover (text.split())\n",
        "  ##stemmming\n",
        "  text = [stemmer.stem(w) for w in text]\n",
        "  ## lematization\n",
        "  text = [lemmatizer.lemmatize(w) for w in text]\n",
        "  return ' '.join([w for w in text])\n",
        "\n",
        "data['doc'] = data['doc'].apply(lambda x:  preprocessor (x) )\n",
        "data"
      ],
      "execution_count": null,
      "outputs": [
        {
          "output_type": "stream",
          "name": "stdout",
          "text": [
            "[nltk_data] Downloading package stopwords to /root/nltk_data...\n",
            "[nltk_data]   Unzipping corpora/stopwords.zip.\n"
          ]
        }
      ]
    },
    {
      "cell_type": "markdown",
      "metadata": {
        "id": "h_XCiTB1gi78"
      },
      "source": [
        "# Feature Representation\n",
        "As requested, we are going to extract 10000 words from the training set for representing the documents"
      ]
    },
    {
      "cell_type": "code",
      "metadata": {
        "id": "0AhzXloFf2oH"
      },
      "source": [
        "# Spliting the dataset for training and testing\n",
        "X_train, X_test, y_train, y_test = train_test_split (data['doc'], data['label'] , train_size = 0.8, random_state = 42, shuffle = True, stratify=data['label'])\n",
        "print ('Shapes of X_train, y_train: ', X_train.shape, y_train.shape)\n",
        "print ('Shapes of X_test, y_test: ', X_test.shape, y_test.shape)"
      ],
      "execution_count": null,
      "outputs": []
    },
    {
      "cell_type": "code",
      "metadata": {
        "id": "U2nFPTBZhLbu"
      },
      "source": [
        "# we will use 10000 most frequent word from training, excluding stopwords\n",
        "## Getting terms and their frequency \n",
        "word_freq = {}\n",
        "for doc in X_train.to_list():\n",
        "  for token in tokenizer (doc):\n",
        "    word_freq[token] = word_freq.get(token,0)+1\n",
        "\n",
        "## Getting 10000 terms with highest frequency, excluding stopwords\n",
        "vocabulary = top_freq_w(word_freq, 10000, stopword_removing = True)\n"
      ],
      "execution_count": null,
      "outputs": []
    },
    {
      "cell_type": "code",
      "metadata": {
        "id": "GjiESrxGkH31"
      },
      "source": [
        "# Binary representing documents based on occurrance of features in documents\n",
        "def doc_representor (doc):\n",
        "  doc_vec = []\n",
        "  token_list = tokenizer (doc)\n",
        "  for feature in vocabulary.keys():\n",
        "    if feature in token_list:\n",
        "      doc_vec.append(1)\n",
        "    else:\n",
        "       doc_vec.append(0)\n",
        "  return doc_vec\n",
        "\n",
        "X_train = X_train.apply(lambda x: doc_representor(x))\n",
        "X_test = X_test.apply(lambda x: doc_representor(x))\n"
      ],
      "execution_count": null,
      "outputs": []
    },
    {
      "cell_type": "code",
      "metadata": {
        "id": "bjrsboWyjF10"
      },
      "source": [
        "# Visualize the data after representing\n",
        "print('feature representation of documents in TRAINING set')\n",
        "X_train = X_train.apply(pd.Series)\n",
        "X_train.columns = vocabulary.keys()\n",
        "print(X_train.shape)\n",
        "X_train"
      ],
      "execution_count": null,
      "outputs": []
    },
    {
      "cell_type": "code",
      "metadata": {
        "id": "ZB33oqEFlvsz"
      },
      "source": [
        "# Visualize the data after representing\n",
        "print('feature representation of documents in TEST set')\n",
        "X_test = X_test.apply(pd.Series)\n",
        "X_test.columns = vocabulary.keys()\n",
        "print(X_test.shape)\n",
        "X_test"
      ],
      "execution_count": null,
      "outputs": []
    },
    {
      "cell_type": "markdown",
      "metadata": {
        "id": "BKqQ3JXfnQas"
      },
      "source": [
        "# Building Perceptron Models"
      ]
    },
    {
      "cell_type": "code",
      "metadata": {
        "id": "WEuP70C5nVRb"
      },
      "source": [
        "# Defining functions\n",
        "\n",
        "## Defining the Vanilla perceptron model function\n",
        "def vanila_perceptron (X, Y, weight, bias):\n",
        "  idx = np.random.permutation(X.index)\n",
        "  X = X.reindex(idx).reset_index(drop = True, inplace = True)\n",
        "  Y = Y.reindex(idx).reset_index(drop = True, inplace = True)\n",
        "  tr_loss = 0\n",
        "  for x, y in zip(X.values,Y):\n",
        "    a = np.dot(weight, x) + bias\n",
        "    ya = np.dot(y, a)\n",
        "    if ya <=0:\n",
        "      weight += np.dot(x, y)\n",
        "      bias +=  y\n",
        "    tr_loss += np.max([0, ya*(-1)])\n",
        "  avg_loss = tr_loss/X.shape[0]\n",
        "  return weight, bias, avg_loss \n",
        "\n",
        "## Defining the Averaged perceptron model function\n",
        "def avg_perceptron (X, Y, weight, bias, u, beta, c):\n",
        "  X = X.reindex(idx).reset_index(drop = True, inplace = True)\n",
        "  Y = Y.reindex(idx).reset_index(drop = True, inplace = True)\n",
        "  tr_loss = 0\n",
        "  for x, y in zip(X.values,Y):\n",
        "    a = np.dot(weight, x) + bias\n",
        "    ya = np.dot(y, a)\n",
        "    if ya <=0:\n",
        "      weight += np.dot(x, y)\n",
        "      bias +=  y\n",
        "      u += np.dot (y, c, x)\n",
        "      beta += np.dot (y, c)\n",
        "    else:\n",
        "      pass\n",
        "    c+=1\n",
        "    tr_loss += np.max([0, ya*(-1)])\n",
        "  avg_loss = tr_loss/X.shape[0]\n",
        "  avg_weight = weight - (u/c)\n",
        "  avg_bias = bias - (beta/c)\n",
        "  return avg_weight, avg_bias, avg_loss\n",
        "\n",
        "## Defining a prediction function\n",
        "def predict (X, Y, weight, bias):\n",
        "  a = np.dot(weight, X.values.T) + bias\n",
        "  y_class = [1 if y_pred > 0 else -1 for y_pred in a]\n",
        "  ya = [np.dot(y_true, y_pred) for y_true, y_pred in zip (Y, a)]\n",
        "  loss = np.sum([np.max([0, i*(-1)]) for i in ya])/X.shape[0]                \n",
        "  return y_class, loss\n",
        "\n",
        "## Defining a function to print model's performance \n",
        "def printing_eval_scores (y_true, y_pred, report=''):\n",
        "  accuracy = sklearn.metrics.accuracy_score(y_true, y_pred)\n",
        "  precision = sklearn.metrics.precision_score(y_true, y_pred)\n",
        "  recall = sklearn.metrics.recall_score(y_true, y_pred)\n",
        "  f1 = sklearn.metrics.f1_score(y_true, y_pred)\n",
        "  print('accuracy score: {:.3f}'.format(accuracy))\n",
        "  print('precision score: {:.3f}'.format(precision))\n",
        "  print('recall score: {:.3f}'.format(recall))\n",
        "  print('F1 score: {:.3f}'.format(f1))\n",
        "  if report is True:\n",
        "    print(classification_report(y_true, y_pred))\n",
        "  else:\n",
        "    pass\n",
        "  return accuracy, precision, recall, f1\n"
      ],
      "execution_count": null,
      "outputs": []
    },
    {
      "cell_type": "code",
      "metadata": {
        "id": "KMb-Kf3l8_OC"
      },
      "source": [
        "# Training the vanilla model\n",
        "print('..............Training the Vanilla Perceptron .........................................')\n",
        "n_iter = 10\n",
        "weight = np.zeros(X_train.shape[1])\n",
        "bias = 0\n",
        "all_tr_loss = []\n",
        "all_test_loss = []\n",
        "F1_tr = []\n",
        "F1_test = []\n",
        "for iter in range(n_iter):\n",
        "  print('\\n====================iteration %s=======================' % str(iter+1))\n",
        "  weight, bias, tr_loss = vanila_perceptron (X_train, y_train, weight, bias)\n",
        "  y_predict, test_loss = predict(X_test, y_test, weight, bias)\n",
        "  all_tr_loss.append(tr_loss)\n",
        "  all_test_loss.append (test_loss)\n",
        "  ## on training set\n",
        "  print('Model performance on training set:')\n",
        "  print ('average loss in training: ', tr_loss )\n",
        "  _, _,_, f1 = printing_eval_scores (y_train, predict(X_train, y_train, weight, bias)[0], report = False)\n",
        "  F1_tr.append (f1)\n",
        "  ## on test set\n",
        "  print('\\nModel performance on test set:')\n",
        "  print ('average loss in testing: ', test_loss )\n",
        "  _, _,_, f1 = printing_eval_scores (y_test, y_predict, report = True)\n",
        "  F1_test.append (f1)\n",
        "\n",
        "max_f1 = max(F1_test)\n",
        "idx_max_f1 = F1_test.index(max(F1_test))\n",
        "print('Best performance is in iteration {}: F1 = {:.3f}, loss = {:.3f}'.format(idx_max_f1 +1, max_f1, all_test_loss[idx_max_f1]))\n"
      ],
      "execution_count": null,
      "outputs": []
    },
    {
      "cell_type": "code",
      "metadata": {
        "id": "uGedl9_FfVaC"
      },
      "source": [
        "# Visualizing the loss and F1 in traning and testing over iterations\n",
        "fig, (axs1, axs2) = plt.subplots(2, figsize=(10,10)) \n",
        "axs1.plot([i for i in np.arange(1, n_iter+1, 1)], all_tr_loss, 'y', label='Training loss')\n",
        "axs1.plot([i for i in  np.arange(1, n_iter+1, 1)], all_test_loss, 'g', label='Testing loss')\n",
        "axs1.set_title('Loss in Training and Testing')\n",
        "axs1.set_ylabel('Loss')\n",
        "axs1.legend()\n",
        "\n",
        "axs2.plot([i for i in  np.arange(1, n_iter+1, 1)], F1_tr, 'r', label='Training F1')\n",
        "axs2.plot([i for i in  np.arange(1, n_iter+1, 1)], F1_test, 'b', label='Testing F1')\n",
        "axs2.set_title('F1 in Training and Testing')\n",
        "axs2.set_xlabel('Iteration')\n",
        "axs2.set_ylabel('f1')\n",
        "axs2.legend()\n",
        "\n",
        "fig.show()"
      ],
      "execution_count": null,
      "outputs": []
    },
    {
      "cell_type": "code",
      "metadata": {
        "id": "uig_lbTdQrPu"
      },
      "source": [
        "# Training the Averaged perceptron model\n",
        "\n",
        "print('..............Training Averaged Perceptron .........................................')\n",
        "n_iter = 10\n",
        "weight, bias = np.zeros(X_train.shape[1]), 0\n",
        "u, beta =  np.zeros(X_train.shape[1]), 0\n",
        "c = 1\n",
        "all_tr_avg_loss = []\n",
        "all_test_avg_loss = []\n",
        "F1_tr = []\n",
        "F1_test = []\n",
        "for iter in range(n_iter):\n",
        "  print('\\n====================iteration %s=======================' % str(iter+1))\n",
        "  weight, bias, avg_tr_loss = avg_perceptron (X_train, y_train, weight, bias, u, beta, c)\n",
        "  y_predict, test_loss = predict(X_test, y_test, weight, bias)\n",
        "  all_tr_avg_loss.append(avg_tr_loss)\n",
        "  all_test_avg_loss.append (test_loss)\n",
        "  ## on training set\n",
        "  print('Model performance on training set:')\n",
        "  print ('average loss in training: ', avg_tr_loss )\n",
        "  _, _,_, f1 = printing_eval_scores (y_train, predict(X_train, y_train, weight, bias)[0], report = False)\n",
        "  F1_tr.append (f1)\n",
        "  ## on test set\n",
        "  print('\\nModel performance on test set:')\n",
        "  print ('average loss in testing: ', test_loss )\n",
        "  _, _,_, f1 = printing_eval_scores (y_test, y_predict, report = True)\n",
        "  F1_test.append (f1)\n",
        "\n",
        "max_f1 = max(F1_test)\n",
        "idx_max_f1 = F1_test.index(max(F1_test))\n",
        "print('Best performance is in iteration {}: F1 = {:.3f}, loss = {:.3f}'.format(idx_max_f1 +1, max_f1, all_test_avg_loss[idx_max_f1]))"
      ],
      "execution_count": null,
      "outputs": []
    },
    {
      "cell_type": "code",
      "metadata": {
        "id": "99J9EQDxc_er"
      },
      "source": [
        "# Visualizing the loss and F1 in traning and testing over iterations\n",
        "fig, (axs1, axs2) = plt.subplots(2, figsize=(10,10)) \n",
        "axs1.plot([i for i in  np.arange(1, n_iter+1, 1)], all_tr_loss, 'y', label='Training loss')\n",
        "axs1.plot([i for i in  np.arange(1, n_iter+1, 1)], all_test_loss, 'g', label='Testing loss')\n",
        "axs1.set_title('Loss in Training and Testing')\n",
        "axs1.set_ylabel('Loss')\n",
        "axs1.legend()\n",
        "\n",
        "axs2.plot([i for i in  np.arange(1, n_iter+1, 1)], F1_tr, 'r', label='Training F1')\n",
        "axs2.plot([i for i in  np.arange(1, n_iter+1, 1)], F1_test, 'b', label='Testing F1')\n",
        "axs2.set_title('F1 in Training and Testing')\n",
        "axs2.set_xlabel('Iteration')\n",
        "axs2.set_ylabel('f1')\n",
        "axs2.legend()\n",
        "\n",
        "fig.show()"
      ],
      "execution_count": null,
      "outputs": []
    }
  ]
}