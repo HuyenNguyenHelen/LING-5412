{
  "nbformat": 4,
  "nbformat_minor": 0,
  "metadata": {
    "colab": {
      "name": "LING5412_Final_project.ipynb",
      "provenance": [],
      "collapsed_sections": [],
      "toc_visible": true,
      "mount_file_id": "https://github.com/HuyenNguyenHelen/LING-5412/blob/main/LING5412_Final_project.ipynb",
      "authorship_tag": "ABX9TyN7bsO5lWtcnuUIPYlVMzFX",
      "include_colab_link": true
    },
    "kernelspec": {
      "name": "python3",
      "display_name": "Python 3"
    },
    "language_info": {
      "name": "python"
    },
    "accelerator": "GPU"
  },
  "cells": [
    {
      "cell_type": "markdown",
      "metadata": {
        "id": "view-in-github",
        "colab_type": "text"
      },
      "source": [
        "<a href=\"https://colab.research.google.com/github/HuyenNguyenHelen/LING-5412/blob/main/Final_project/ClassicML-LSTM-CNN.ipynb\" target=\"_parent\"><img src=\"https://colab.research.google.com/assets/colab-badge.svg\" alt=\"Open In Colab\"/></a>"
      ]
    },
    {
      "cell_type": "code",
      "metadata": {
        "id": "G99qOVzxSOwP",
        "colab": {
          "base_uri": "https://localhost:8080/"
        },
        "outputId": "857e723a-391b-4884-93eb-5770121c003c"
      },
      "source": [
        "import os\n",
        "import tarfile\n",
        "import pandas as pd\n",
        "import csv\n",
        "import seaborn as sns\n",
        "import matplotlib.pyplot as plt\n",
        "import sklearn\n",
        "import numpy as np\n",
        "from sklearn.linear_model import LogisticRegression\n",
        "from sklearn.ensemble import RandomForestClassifier\n",
        "from sklearn import tree             # tree.DecisionTreeClassifier()\n",
        "from sklearn.neighbors import KNeighborsClassifier\n",
        "from sklearn import svm #clf = svm.SVC(decision_function_shape='ovo')\n",
        "from sklearn.metrics import accuracy_score, classification_report\n",
        "from sklearn.model_selection import cross_validate\n",
        "from sklearn.model_selection import KFold\n",
        "from sklearn.model_selection import StratifiedKFold\n",
        "!pip install imbalanced-learn\n",
        "import imblearn\n",
        "from imblearn.over_sampling import RandomOverSampler\n",
        "from imblearn.over_sampling import SMOTE\n",
        "from sklearn.metrics import recall_score, roc_auc_score\n",
        "\n",
        "import numpy as np\n",
        "import tensorflow_datasets as tfds\n",
        "import tensorflow as tf\n",
        "import torch\n",
        "import sklearn\n",
        "from sklearn.metrics import accuracy_score, classification_report\n",
        "tfds.disable_progress_bar()\n",
        "from keras import backend as K"
      ],
      "execution_count": null,
      "outputs": [
        {
          "output_type": "stream",
          "name": "stdout",
          "text": [
            "Requirement already satisfied: imbalanced-learn in /usr/local/lib/python3.7/dist-packages (0.8.1)\n",
            "Requirement already satisfied: scikit-learn>=0.24 in /usr/local/lib/python3.7/dist-packages (from imbalanced-learn) (1.0.1)\n",
            "Requirement already satisfied: scipy>=0.19.1 in /usr/local/lib/python3.7/dist-packages (from imbalanced-learn) (1.4.1)\n",
            "Requirement already satisfied: numpy>=1.13.3 in /usr/local/lib/python3.7/dist-packages (from imbalanced-learn) (1.19.5)\n",
            "Requirement already satisfied: joblib>=0.11 in /usr/local/lib/python3.7/dist-packages (from imbalanced-learn) (1.1.0)\n",
            "Requirement already satisfied: threadpoolctl>=2.0.0 in /usr/local/lib/python3.7/dist-packages (from scikit-learn>=0.24->imbalanced-learn) (3.0.0)\n"
          ]
        }
      ]
    },
    {
      "cell_type": "code",
      "metadata": {
        "colab": {
          "base_uri": "https://localhost:8080/"
        },
        "id": "4AkyZvLy5g72",
        "outputId": "55a4e86c-b637-4615-e802-953a12abefc6"
      },
      "source": [
        "# Get the GPU device name.\n",
        "device_name = tf.test.gpu_device_name()\n",
        "\n",
        "# The device name should look like the following:\n",
        "if device_name == '/device:GPU:0':\n",
        "    print('Found GPU at: {}'.format(device_name))\n",
        "else:\n",
        "    raise SystemError('GPU device not found')\n",
        "\n",
        "# If there's a GPU available...\n",
        "if torch.cuda.is_available():    \n",
        "\n",
        "    # Tell PyTorch to use the GPU.    \n",
        "    device = torch.device(\"cuda\")\n",
        "\n",
        "    print('There are %d GPU(s) available.' % torch.cuda.device_count())\n",
        "\n",
        "    print('We will use the GPU:', torch.cuda.get_device_name(0))\n",
        "\n",
        "# If not...\n",
        "else:\n",
        "    print('No GPU available, using the CPU instead.')\n",
        "    device = torch.device(\"cpu\")"
      ],
      "execution_count": null,
      "outputs": [
        {
          "output_type": "stream",
          "name": "stdout",
          "text": [
            "Found GPU at: /device:GPU:0\n",
            "There are 1 GPU(s) available.\n",
            "We will use the GPU: Tesla K80\n"
          ]
        }
      ]
    },
    {
      "cell_type": "code",
      "metadata": {
        "id": "N5u8SwyQcnwY"
      },
      "source": [
        "# import gensim\n",
        "# import gensim.downloader as api\n",
        "# nlp = api.load('word2vec-google-news-300')"
      ],
      "execution_count": null,
      "outputs": []
    },
    {
      "cell_type": "markdown",
      "metadata": {
        "id": "eHh5b74YomXY"
      },
      "source": [
        "# Loading data"
      ]
    },
    {
      "cell_type": "code",
      "metadata": {
        "id": "qvw2VYN_dTtE"
      },
      "source": [
        "\n",
        "# Unzip the dataset\n",
        "#!unzip \"/content/dontpatronizeme_v1.3.zip\" -d \"/content/drive/MyDrive/\""
      ],
      "execution_count": null,
      "outputs": []
    },
    {
      "cell_type": "code",
      "metadata": {
        "id": "K5DJ3zR_fCre"
      },
      "source": [
        "# Opening the file from MyDrive\n",
        "file = open(r'/content/drive/MyDrive/dontpatronizeme_v1.3/dontpatronizeme_pcl.tsv')\n",
        "reader = csv.reader(file, delimiter=\"\\t\")\n",
        "data = []\n",
        "for row in reader:\n",
        "  data.append(row)\n"
      ],
      "execution_count": null,
      "outputs": []
    },
    {
      "cell_type": "code",
      "metadata": {
        "colab": {
          "base_uri": "https://localhost:8080/",
          "height": 424
        },
        "id": "6W8pqT5PjG-L",
        "outputId": "9cd1a9ff-6902-47d6-e711-a33ef922138d"
      },
      "source": [
        "df = pd.DataFrame(data[5:],  columns = ['docID', 'keyword', 'country', 'paragraph', 'label' ] )\n",
        "df"
      ],
      "execution_count": null,
      "outputs": [
        {
          "output_type": "execute_result",
          "data": {
            "text/html": [
              "<div>\n",
              "<style scoped>\n",
              "    .dataframe tbody tr th:only-of-type {\n",
              "        vertical-align: middle;\n",
              "    }\n",
              "\n",
              "    .dataframe tbody tr th {\n",
              "        vertical-align: top;\n",
              "    }\n",
              "\n",
              "    .dataframe thead th {\n",
              "        text-align: right;\n",
              "    }\n",
              "</style>\n",
              "<table border=\"1\" class=\"dataframe\">\n",
              "  <thead>\n",
              "    <tr style=\"text-align: right;\">\n",
              "      <th></th>\n",
              "      <th>docID</th>\n",
              "      <th>keyword</th>\n",
              "      <th>country</th>\n",
              "      <th>paragraph</th>\n",
              "      <th>label</th>\n",
              "    </tr>\n",
              "  </thead>\n",
              "  <tbody>\n",
              "    <tr>\n",
              "      <th>0</th>\n",
              "      <td>@@4703096</td>\n",
              "      <td>immigrant</td>\n",
              "      <td>jm</td>\n",
              "      <td>NBC and Spanish-language Univision both declin...</td>\n",
              "      <td>0</td>\n",
              "    </tr>\n",
              "    <tr>\n",
              "      <th>1</th>\n",
              "      <td>@@25567226</td>\n",
              "      <td>in-need</td>\n",
              "      <td>hk</td>\n",
              "      <td>A second T-Home project is being launched in t...</td>\n",
              "      <td>0</td>\n",
              "    </tr>\n",
              "    <tr>\n",
              "      <th>2</th>\n",
              "      <td>@@1824078</td>\n",
              "      <td>poor-families</td>\n",
              "      <td>tz</td>\n",
              "      <td>Camfed would like to see this trend reversed ....</td>\n",
              "      <td>4</td>\n",
              "    </tr>\n",
              "    <tr>\n",
              "      <th>3</th>\n",
              "      <td>@@1921089</td>\n",
              "      <td>refugee</td>\n",
              "      <td>tz</td>\n",
              "      <td>Kagunga village was reported to lack necessary...</td>\n",
              "      <td>0</td>\n",
              "    </tr>\n",
              "    <tr>\n",
              "      <th>4</th>\n",
              "      <td>@@40039380</td>\n",
              "      <td>women</td>\n",
              "      <td>ng</td>\n",
              "      <td>Haruna stressed the need for specific approach...</td>\n",
              "      <td>0</td>\n",
              "    </tr>\n",
              "    <tr>\n",
              "      <th>...</th>\n",
              "      <td>...</td>\n",
              "      <td>...</td>\n",
              "      <td>...</td>\n",
              "      <td>...</td>\n",
              "      <td>...</td>\n",
              "    </tr>\n",
              "    <tr>\n",
              "      <th>10053</th>\n",
              "      <td>@@16413808</td>\n",
              "      <td>immigrant</td>\n",
              "      <td>my</td>\n",
              "      <td>To me , I am always mindful that we are dealin...</td>\n",
              "      <td>4</td>\n",
              "    </tr>\n",
              "    <tr>\n",
              "      <th>10054</th>\n",
              "      <td>@@8676630</td>\n",
              "      <td>vulnerable</td>\n",
              "      <td>jm</td>\n",
              "      <td>Other themes included promoting the inclusion ...</td>\n",
              "      <td>0</td>\n",
              "    </tr>\n",
              "    <tr>\n",
              "      <th>10055</th>\n",
              "      <td>@@7688552</td>\n",
              "      <td>immigrant</td>\n",
              "      <td>gb</td>\n",
              "      <td>It came as the CDU was also humiliated by the ...</td>\n",
              "      <td>0</td>\n",
              "    </tr>\n",
              "    <tr>\n",
              "      <th>10056</th>\n",
              "      <td>@@4916290</td>\n",
              "      <td>hopeless</td>\n",
              "      <td>in</td>\n",
              "      <td>Those were only days of helplessness , she say...</td>\n",
              "      <td>0</td>\n",
              "    </tr>\n",
              "    <tr>\n",
              "      <th>10057</th>\n",
              "      <td>@@2973614</td>\n",
              "      <td>immigrant</td>\n",
              "      <td>ie</td>\n",
              "      <td>They include a community college student , a c...</td>\n",
              "      <td>0</td>\n",
              "    </tr>\n",
              "  </tbody>\n",
              "</table>\n",
              "<p>10058 rows × 5 columns</p>\n",
              "</div>"
            ],
            "text/plain": [
              "            docID  ... label\n",
              "0       @@4703096  ...     0\n",
              "1      @@25567226  ...     0\n",
              "2       @@1824078  ...     4\n",
              "3       @@1921089  ...     0\n",
              "4      @@40039380  ...     0\n",
              "...           ...  ...   ...\n",
              "10053  @@16413808  ...     4\n",
              "10054   @@8676630  ...     0\n",
              "10055   @@7688552  ...     0\n",
              "10056   @@4916290  ...     0\n",
              "10057   @@2973614  ...     0\n",
              "\n",
              "[10058 rows x 5 columns]"
            ]
          },
          "metadata": {},
          "execution_count": 6
        }
      ]
    },
    {
      "cell_type": "markdown",
      "metadata": {
        "id": "VtakLrrIoo9_"
      },
      "source": [
        "# Exploring data"
      ]
    },
    {
      "cell_type": "code",
      "metadata": {
        "colab": {
          "base_uri": "https://localhost:8080/"
        },
        "id": "K6BfIKFam55W",
        "outputId": "11fde1e3-ffb4-4393-b4a0-425c3d97db42"
      },
      "source": [
        "# Length of text\n",
        "def length (txt):\n",
        "  length = len(txt.split())\n",
        "  return length\n",
        "\n",
        "txt_length = df['paragraph'].apply(lambda x: length(x))\n",
        "txt_length.sort_values(ascending = False)"
      ],
      "execution_count": null,
      "outputs": [
        {
          "output_type": "execute_result",
          "data": {
            "text/plain": [
              "3534    1519\n",
              "6266    1095\n",
              "8519    1040\n",
              "4613     772\n",
              "8819     729\n",
              "        ... \n",
              "1930       4\n",
              "1385       3\n",
              "7375       3\n",
              "5112       3\n",
              "5742       0\n",
              "Name: paragraph, Length: 10058, dtype: int64"
            ]
          },
          "metadata": {},
          "execution_count": 7
        }
      ]
    },
    {
      "cell_type": "code",
      "metadata": {
        "colab": {
          "base_uri": "https://localhost:8080/"
        },
        "id": "_nAz-vJxo_wn",
        "outputId": "48986247-74ac-434c-d7e1-b259c6eaec90"
      },
      "source": [
        "# Observing labels\n",
        "df['label'].value_counts()"
      ],
      "execution_count": null,
      "outputs": [
        {
          "output_type": "execute_result",
          "data": {
            "text/plain": [
              "0    8206\n",
              "1     906\n",
              "3     435\n",
              "4     369\n",
              "2     142\n",
              "Name: label, dtype: int64"
            ]
          },
          "metadata": {},
          "execution_count": 8
        }
      ]
    },
    {
      "cell_type": "code",
      "metadata": {
        "colab": {
          "base_uri": "https://localhost:8080/"
        },
        "id": "Iy38u3cFVWjW",
        "outputId": "bcd1e76d-58e5-4dfa-9c14-5fcc6acffa41"
      },
      "source": [
        "df['label'] = df['label'].astype(str)\n",
        "df['label']"
      ],
      "execution_count": null,
      "outputs": [
        {
          "output_type": "execute_result",
          "data": {
            "text/plain": [
              "0        0\n",
              "1        0\n",
              "2        4\n",
              "3        0\n",
              "4        0\n",
              "        ..\n",
              "10053    4\n",
              "10054    0\n",
              "10055    0\n",
              "10056    0\n",
              "10057    0\n",
              "Name: label, Length: 10058, dtype: object"
            ]
          },
          "metadata": {},
          "execution_count": 9
        }
      ]
    },
    {
      "cell_type": "code",
      "metadata": {
        "colab": {
          "base_uri": "https://localhost:8080/"
        },
        "id": "WlKftt3JVk-n",
        "outputId": "b80dd380-8e76-4c81-9aa1-9b7ddeb00f51"
      },
      "source": [
        "# Missing data\n",
        "#checking missing values\n",
        "print('Is null: \\n', df.isnull().sum() )\n"
      ],
      "execution_count": null,
      "outputs": [
        {
          "output_type": "stream",
          "name": "stdout",
          "text": [
            "Is null: \n",
            " docID        0\n",
            "keyword      0\n",
            "country      0\n",
            "paragraph    0\n",
            "label        0\n",
            "dtype: int64\n"
          ]
        }
      ]
    },
    {
      "cell_type": "code",
      "metadata": {
        "colab": {
          "base_uri": "https://localhost:8080/",
          "height": 334
        },
        "id": "JQyvG1B0pvEI",
        "outputId": "d82e0e49-c37b-4841-f33c-555bc9f1d101"
      },
      "source": [
        "# Turning labels to binary\n",
        "\n",
        "label_dic = {'0':0,\n",
        "             '1':0,\n",
        "             '2':1,\n",
        "             '3':1,\n",
        "             '4':1}\n",
        "df['label'] = df['label'].map(label_dic)\n",
        "print(df['label'].value_counts())\n",
        "sns.countplot(x='label', data=df)\n",
        "plt.show()"
      ],
      "execution_count": null,
      "outputs": [
        {
          "output_type": "stream",
          "name": "stdout",
          "text": [
            "0    9112\n",
            "1     946\n",
            "Name: label, dtype: int64\n"
          ]
        },
        {
          "output_type": "display_data",
          "data": {
            "image/png": "[encoded data removed]",
            "text/plain": [
              "<Figure size 432x288 with 1 Axes>"
            ]
          },
          "metadata": {
            "needs_background": "light"
          }
        }
      ]
    },
    {
      "cell_type": "markdown",
      "metadata": {
        "id": "ZcAMX5reo0e1"
      },
      "source": [
        "# Developing models"
      ]
    },
    {
      "cell_type": "code",
      "metadata": {
        "colab": {
          "base_uri": "https://localhost:8080/"
        },
        "id": "Nvza5K7YbJ4H",
        "outputId": "414b2db2-3bce-4751-a1cd-f91d8f9b52c5"
      },
      "source": [
        "# Splitting the data into training (80%) and test set(20%)\n",
        "from sklearn.model_selection import train_test_split\n",
        "X = df['paragraph']\n",
        "y = df['label']\n",
        "X_train_large, X_test, y_train_large, y_test = train_test_split (X, y, train_size = 0.8, random_state = 42, shuffle = True, stratify=y)\n",
        "X_train, X_val, y_train, y_val = train_test_split (X_train_large, y_train_large, train_size = 0.8, random_state = 42, shuffle = True, stratify=y_train_large)\n",
        "\n",
        "print ('Shapes of X_train, y_train: ', X_train.shape, y_train.shape)\n",
        "print ('Shapes of X_val, y_val: ', X_test.shape, y_test.shape)\n",
        "print ('Shapes of X_test, y_test: ', X_test.shape, y_test.shape)\n",
        "print(y_train.value_counts())"
      ],
      "execution_count": null,
      "outputs": [
        {
          "output_type": "stream",
          "name": "stdout",
          "text": [
            "Shapes of X_train, y_train:  (6436,) (6436,)\n",
            "Shapes of X_val, y_val:  (2012,) (2012,)\n",
            "Shapes of X_test, y_test:  (2012,) (2012,)\n",
            "0    5830\n",
            "1     606\n",
            "Name: label, dtype: int64\n"
          ]
        }
      ]
    },
    {
      "cell_type": "code",
      "metadata": {
        "colab": {
          "base_uri": "https://localhost:8080/"
        },
        "id": "255q78f67rV2",
        "outputId": "d61ee09a-329d-48a7-ed7e-13799859fe61"
      },
      "source": [
        "y_test.value_counts()"
      ],
      "execution_count": null,
      "outputs": [
        {
          "output_type": "execute_result",
          "data": {
            "text/plain": [
              "0    1823\n",
              "1     189\n",
              "Name: label, dtype: int64"
            ]
          },
          "metadata": {},
          "execution_count": 13
        }
      ]
    },
    {
      "cell_type": "markdown",
      "metadata": {
        "id": "UvxZkMMco7sB"
      },
      "source": [
        "## Classic ML models\n"
      ]
    },
    {
      "cell_type": "markdown",
      "metadata": {
        "id": "kso-92jebtft"
      },
      "source": [
        "### Text representation"
      ]
    },
    {
      "cell_type": "code",
      "metadata": {
        "colab": {
          "base_uri": "https://localhost:8080/"
        },
        "id": "5ez7hEFCa5_U",
        "outputId": "f0ad1dee-7a54-4b35-a1a3-fe0103b9e68d"
      },
      "source": [
        "!pip install stop-words\n",
        "from stop_words import get_stop_words\n",
        "stopwords = get_stop_words('en')\n",
        "from textblob import Word\n",
        "import re\n",
        "import nltk\n",
        "nltk.download('wordnet')\n",
        "\n",
        "#BOW based approaches\n",
        "nlp.init_sims(replace=True) # calling for using syn0norm\n",
        "\n",
        "def word_averaging(wv, words):\n",
        "    all_words, mean = set(), []\n",
        "    for word in words:\n",
        "        if isinstance(word, np.ndarray):\n",
        "            mean.append(word)\n",
        "        elif word in wv.vocab:\n",
        "            mean.append(wv.syn0norm[wv.vocab[word].index])\n",
        "            all_words.add(wv.vocab[word].index)\n",
        "    if not mean:\n",
        "        logging.warning(\"cannot compute similarity with no input %s\", words)\n",
        "        # FIXME: remove these examples in pre-processing\n",
        "        return np.zeros(wv.vector_size,)\n",
        "    mean = gensim.matutils.unitvec(np.array(mean).mean(axis=0)).astype(np.float32)\n",
        "    return mean\n",
        "\n",
        "def  word_averaging_list(wv, text_list):\n",
        "    return np.vstack([word_averaging(wv, post) for post in text_list ])"
      ],
      "execution_count": null,
      "outputs": [
        {
          "output_type": "stream",
          "name": "stdout",
          "text": [
            "Collecting stop-words\n",
            "  Downloading stop-words-2018.7.23.tar.gz (31 kB)\n",
            "Building wheels for collected packages: stop-words\n",
            "  Building wheel for stop-words (setup.py) ... \u001b[?25l\u001b[?25hdone\n",
            "  Created wheel for stop-words: filename=stop_words-2018.7.23-py3-none-any.whl size=32912 sha256=db9addeff132897a4c356695270ed834f3daf2ffbd17b4cc056ce93c1c7bc213\n",
            "  Stored in directory: /root/.cache/pip/wheels/fb/86/b2/277b10b1ce9f73ce15059bf6975d4547cc4ec3feeb651978e9\n",
            "Successfully built stop-words\n",
            "Installing collected packages: stop-words\n",
            "Successfully installed stop-words-2018.7.23\n",
            "[nltk_data] Downloading package wordnet to /root/nltk_data...\n",
            "[nltk_data]   Unzipping corpora/wordnet.zip.\n"
          ]
        }
      ]
    },
    {
      "cell_type": "code",
      "metadata": {
        "colab": {
          "base_uri": "https://localhost:8080/"
        },
        "id": "2aopPSRVb4lL",
        "outputId": "390dc503-61f8-4306-e64f-52672b669af6"
      },
      "source": [
        "# Tokenize, and apply word vector averaging to tokenized text\n",
        "import nltk\n",
        "nltk.download('punkt')\n",
        "import logging\n",
        "def w2v_tokenize_text(text):\n",
        "    tokens = []\n",
        "    for sent in nltk.sent_tokenize(text, language='english'):\n",
        "        for word in nltk.word_tokenize(sent, language='english'):\n",
        "            if len(word) < 2:\n",
        "                continue\n",
        "            tokens.append(word)\n",
        "    return tokens\n",
        "    \n",
        "\n",
        "X_train_tokenized = X_train.apply(lambda x: w2v_tokenize_text(x)).values\n",
        "X_test_tokenized = X_test.apply(lambda x: w2v_tokenize_text(x)).values\n",
        "\n",
        "X_train_word_average = word_averaging_list(nlp,X_train_tokenized)\n",
        "X_test_word_average = word_averaging_list(nlp,X_test_tokenized)"
      ],
      "execution_count": null,
      "outputs": [
        {
          "output_type": "stream",
          "name": "stdout",
          "text": [
            "[nltk_data] Downloading package punkt to /root/nltk_data...\n",
            "[nltk_data]   Unzipping tokenizers/punkt.zip.\n"
          ]
        },
        {
          "output_type": "stream",
          "name": "stderr",
          "text": [
            "/usr/local/lib/python3.7/dist-packages/ipykernel_launcher.py:18: DeprecationWarning: Call to deprecated `syn0norm` (Attribute will be removed in 4.0.0, use self.wv.vectors_norm instead).\n",
            "WARNING:root:cannot compute similarity with no input []\n"
          ]
        }
      ]
    },
    {
      "cell_type": "markdown",
      "metadata": {
        "id": "d0O8PduWdnjt"
      },
      "source": [
        "### Creating models"
      ]
    },
    {
      "cell_type": "code",
      "metadata": {
        "id": "hJdUeuNUdmij"
      },
      "source": [
        "# # Printing model performance \n",
        "# def printing_eval_scores (y_true, y_pred):\n",
        "#   print('accuracy score: {}'.format(sklearn.metrics.accuracy_score(y_true, y_pred)))\n",
        "#   print('precision score: {}'.format(sklearn.metrics.precision_score(y_true, y_pred, average = 'weighted', zero_division=1)))\n",
        "#   print('recall score: {}'.format(sklearn.metrics.recall_score(y_true, y_pred,  average = 'weighted', zero_division=1)))\n",
        "#   print('F1 score: {}'.format(sklearn.metrics.f1_score(y_true, y_pred,  average = 'weighted', zero_division=1)))\n",
        "#   print(classification_report(y_true, y_pred))"
      ],
      "execution_count": null,
      "outputs": []
    },
    {
      "cell_type": "code",
      "metadata": {
        "id": "V_Leugq1JOkg"
      },
      "source": [
        "# Defining an evaluation metric function\n",
        "def printing_eval_scores (y_true, y_pred, report=''):\n",
        "  accuracy = sklearn.metrics.accuracy_score(y_true, y_pred)\n",
        "  precision = sklearn.metrics.precision_score(y_true, y_pred, average='binary')\n",
        "  recall = sklearn.metrics.recall_score(y_true, y_pred, average='binary')\n",
        "  f1 = sklearn.metrics.f1_score(y_true, y_pred , average='binary')\n",
        "  print('accuracy score: {:.3f}'.format(accuracy))\n",
        "  print('precision score: {:.3f}'.format(precision))\n",
        "  print('recall score: {:.3f}'.format(recall))\n",
        "  print('F1 score: {:.3f}'.format(f1))\n",
        "  if report is True:\n",
        "    print(classification_report(y_true, y_pred))\n",
        "  else:\n",
        "    pass\n",
        "  return accuracy, precision, recall, f1"
      ],
      "execution_count": null,
      "outputs": []
    },
    {
      "cell_type": "code",
      "metadata": {
        "id": "Y2JRHYC7dxi8"
      },
      "source": [
        "# Define a function for creating over sampling \n",
        "def score_model(model):\n",
        "    cv = StratifiedKFold(n_splits=5, random_state=42, shuffle = True)\n",
        "\n",
        "    oversampler = SMOTE(random_state=42)\n",
        "    #oversampler = RandomOverSampler(sampling_strategy='minority')\n",
        "    scores = []\n",
        "\n",
        "    ## on training set, do cv\n",
        "    for train_fold_index, val_fold_index in cv.split(X_train_word_average, y_train):\n",
        "        # Get the training data\n",
        "        X_train_fold, y_train_fold = X_train_word_average[train_fold_index], y_train.iloc[train_fold_index]\n",
        "        # Get the validation data\n",
        "        X_val_fold, y_val_fold = X_train_word_average[val_fold_index], y_train.iloc[val_fold_index]\n",
        "\n",
        "        # Upsample only the data in the training section\n",
        "        X_train_fold_upsample, y_train_fold_upsample = oversampler.fit_resample(X_train_fold,\n",
        "                                                                           y_train_fold)\n",
        "        # Fit the model on the upsampled training data\n",
        "        model.fit(X_train_fold_upsample, y_train_fold_upsample)\n",
        "        # Score the model on the (non-upsampled) validation data\n",
        "        score = accuracy_score(y_val_fold, model.predict(X_val_fold)) #  average= 'weighted' for F1\n",
        "        scores.append(score)\n",
        "    print('Average of acuracy score in training: %s' % np.array(scores).mean())\n",
        "\n",
        "    ## on test set\n",
        "    y_pred = model.predict(X_test_word_average)\n",
        "    test_score = accuracy_score( y_test,y_pred)\n",
        "    printing_eval_scores (y_test, y_pred)\n",
        "    report_scores = {'accuracy_folds':np.array(scores),'accuracy_test':test_score, 'y_predicted':y_pred }\n",
        "    return report_scores #(np.array(scores),test_score,y_pred )       #(np.array(scores).mean(), np.array(scores).std())"
      ],
      "execution_count": null,
      "outputs": []
    },
    {
      "cell_type": "code",
      "metadata": {
        "id": "DzbE1tOCiUp9",
        "colab": {
          "base_uri": "https://localhost:8080/",
          "height": 1000
        },
        "outputId": "a7bd9ca4-7967-48e8-e939-5f6de8a2bd53"
      },
      "source": [
        "# Running all models together\n",
        "# Compare Algorithms\n",
        "import pandas\n",
        "import matplotlib.pyplot as plt\n",
        "from sklearn import model_selection\n",
        "from sklearn.linear_model import LogisticRegression\n",
        "from sklearn.tree import DecisionTreeClassifier\n",
        "from sklearn.neighbors import KNeighborsClassifier\n",
        "from sklearn.naive_bayes import GaussianNB\n",
        "from sklearn.svm import SVC\n",
        "models = []\n",
        "models.append(('LR', LogisticRegression(solver='lbfgs', max_iter=700)))\n",
        "models.append(('RF', RandomForestClassifier()))\n",
        "models.append(('KNN', KNeighborsClassifier()))\n",
        "models.append(('DT', DecisionTreeClassifier()))\n",
        "models.append(('NB', GaussianNB()))\n",
        "models.append(('SVM', SVC(decision_function_shape='ovo', probability=True)))\n",
        "# evaluate each model in turn\n",
        "results = []\n",
        "score_test = []\n",
        "names = []\n",
        "report_scores_all = []\n",
        "for name, model in models:\n",
        "  report_scores = score_model(model)\n",
        "  report_scores_all.append(report_scores)\n",
        "  results.append(report_scores['accuracy_folds'])\n",
        "  score_test.append(report_scores['accuracy_test'])\n",
        "  names.append(name)\n",
        "  # msg = \"%s: %f (%f)\" % (name, fold_scores.mean(), fold_scores.std())\n",
        "  msg = \"%s: %f (%f)\" % (name, report_scores['accuracy_folds'].mean(), report_scores['accuracy_folds'].std())\n",
        "  print(msg)\n",
        "# boxplot algorithm comparison\n",
        "fig = plt.figure()\n",
        "fig.suptitle('Algorithm Comparison')\n",
        "ax = fig.add_subplot(111)\n",
        "plt.boxplot(results)\n",
        "ax.set_xticklabels(names)\n",
        "plt.show()"
      ],
      "execution_count": null,
      "outputs": [
        {
          "output_type": "stream",
          "name": "stdout",
          "text": [
            "Average of acuracy score in training: 0.7895843643480578\n",
            "accuracy score: 0.794234592445328\n",
            "precision score: 0.9020001923515237\n",
            "recall score: 0.794234592445328\n",
            "F1 score: 0.8312229337890593\n",
            "              precision    recall  f1-score   support\n",
            "\n",
            "           0       0.97      0.80      0.88      1823\n",
            "           1       0.28      0.74      0.40       189\n",
            "\n",
            "    accuracy                           0.79      2012\n",
            "   macro avg       0.62      0.77      0.64      2012\n",
            "weighted avg       0.90      0.79      0.83      2012\n",
            "\n",
            "LR: 0.789584 (0.014373)\n",
            "Average of acuracy score in training: 0.8972159707236853\n",
            "accuracy score: 0.8881709741550696\n",
            "precision score: 0.859459956477054\n",
            "recall score: 0.8881709741550696\n",
            "F1 score: 0.8708209934332249\n",
            "              precision    recall  f1-score   support\n",
            "\n",
            "           0       0.92      0.96      0.94      1823\n",
            "           1       0.31      0.15      0.20       189\n",
            "\n",
            "    accuracy                           0.89      2012\n",
            "   macro avg       0.61      0.56      0.57      2012\n",
            "weighted avg       0.86      0.89      0.87      2012\n",
            "\n",
            "RF: 0.897216 (0.003722)\n",
            "Average of acuracy score in training: 0.29505599326768295\n",
            "accuracy score: 0.3290258449304175\n",
            "precision score: 0.9005722590905837\n",
            "recall score: 0.3290258449304175\n",
            "F1 score: 0.39723732842900744\n",
            "              precision    recall  f1-score   support\n",
            "\n",
            "           0       0.98      0.26      0.42      1823\n",
            "           1       0.12      0.95      0.21       189\n",
            "\n",
            "    accuracy                           0.33      2012\n",
            "   macro avg       0.55      0.61      0.31      2012\n",
            "weighted avg       0.90      0.33      0.40      2012\n",
            "\n",
            "KNN: 0.295056 (0.020794)\n",
            "Average of acuracy score in training: 0.7843651201124111\n",
            "accuracy score: 0.7957256461232605\n",
            "precision score: 0.8550949776670901\n",
            "recall score: 0.7957256461232605\n",
            "F1 score: 0.8215156210994665\n",
            "              precision    recall  f1-score   support\n",
            "\n",
            "           0       0.92      0.84      0.88      1823\n",
            "           1       0.18      0.34      0.24       189\n",
            "\n",
            "    accuracy                           0.80      2012\n",
            "   macro avg       0.55      0.59      0.56      2012\n",
            "weighted avg       0.86      0.80      0.82      2012\n",
            "\n",
            "DT: 0.784365 (0.022475)\n",
            "Average of acuracy score in training: 0.731544688456624\n",
            "accuracy score: 0.7301192842942346\n",
            "precision score: 0.859911327492484\n",
            "recall score: 0.7301192842942346\n",
            "F1 score: 0.7801946815003794\n",
            "              precision    recall  f1-score   support\n",
            "\n",
            "           0       0.93      0.76      0.84      1823\n",
            "           1       0.17      0.47      0.24       189\n",
            "\n",
            "    accuracy                           0.73      2012\n",
            "   macro avg       0.55      0.61      0.54      2012\n",
            "weighted avg       0.86      0.73      0.78      2012\n",
            "\n",
            "NB: 0.731545 (0.007794)\n",
            "Average of acuracy score in training: 0.8698731900142445\n",
            "accuracy score: 0.8717693836978131\n",
            "precision score: 0.8969428676021772\n",
            "recall score: 0.8717693836978131\n",
            "F1 score: 0.8822912318732842\n",
            "              precision    recall  f1-score   support\n",
            "\n",
            "           0       0.95      0.91      0.93      1823\n",
            "           1       0.38      0.55      0.45       189\n",
            "\n",
            "    accuracy                           0.87      2012\n",
            "   macro avg       0.66      0.73      0.69      2012\n",
            "weighted avg       0.90      0.87      0.88      2012\n",
            "\n",
            "SVM: 0.869873 (0.004544)\n"
          ]
        },
        {
          "output_type": "display_data",
          "data": {
            "image/png": "[encoded data removed]",
            "text/plain": [
              "<Figure size 432x288 with 1 Axes>"
            ]
          },
          "metadata": {
            "needs_background": "light"
          }
        }
      ]
    },
    {
      "cell_type": "markdown",
      "metadata": {
        "id": "sypNUEaOJyKd"
      },
      "source": [
        "## LSTM-based models"
      ]
    },
    {
      "cell_type": "code",
      "metadata": {
        "id": "I4rpOk5O7i0r"
      },
      "source": [
        "# Defining an evaluation metric function\n",
        "def get_roc_curve (y_true, y_pred):\n",
        "  # Get arrays of FPR and recall using roc_curve\n",
        "  FPR, recall, threshold = sklearn.metrics.roc_curve(y_true, y_pred)\n",
        "  # Get auc score\n",
        "  auc = sklearn.metrics.auc(FPR, recall)\n",
        "  roc = { 'fpr': FPR, 'tpr': recall, 'auc': auc}\n",
        "  return roc\n",
        "\n",
        "def printing_eval_scores (y_true, y_pred, report=''):\n",
        "  accuracy = sklearn.metrics.accuracy_score(y_true, y_pred)\n",
        "  precision = sklearn.metrics.precision_score(y_true, y_pred, average='macro', zero_division = 1)\n",
        "  recall = sklearn.metrics.recall_score(y_true, y_pred, average='macro', zero_division = 1)\n",
        "  f1 = sklearn.metrics.f1_score(y_true, y_pred , average='macro', zero_division = 1)\n",
        "  cmatrix = sklearn.metrics.confusion_matrix(y_true, y_pred)\n",
        "  print('accuracy score: {:.3f}'.format(accuracy))\n",
        "  print('precision score: {:.3f}'.format(precision))\n",
        "  print('recall score: {:.3f}'.format(recall))\n",
        "  print('F1 score: {:.3f}'.format(f1))\n",
        "  if report is True:\n",
        "    print(classification_report(y_true, y_pred))\n",
        "  else:\n",
        "    pass\n",
        "  return accuracy, precision, recall, f1\n",
        "\n",
        "roc = {}"
      ],
      "execution_count": null,
      "outputs": []
    },
    {
      "cell_type": "code",
      "metadata": {
        "id": "KlJERbvJ8Kzz"
      },
      "source": [
        "# Set up parameters\n",
        "n_epochs = 15\n",
        "n_units = 64\n",
        "optimizer = 'rmsprop'\n",
        "MAX_SEQUENCE_LENGTH = 120"
      ],
      "execution_count": null,
      "outputs": []
    },
    {
      "cell_type": "markdown",
      "metadata": {
        "id": "N4C5VWM4FZlo"
      },
      "source": [
        "### Oversampling"
      ]
    },
    {
      "cell_type": "code",
      "metadata": {
        "colab": {
          "base_uri": "https://localhost:8080/"
        },
        "id": "kUe9hwGSR4Pl",
        "outputId": "70676575-ac43-4c1a-f121-79d122ee7530"
      },
      "source": [
        "# Oversampling\n",
        "bool1_train_labels = y_train != 0\n",
        "\n",
        "X_train_1 = X_train[bool1_train_labels]\n",
        "X_train_0 = X_train[~bool1_train_labels]\n",
        "\n",
        "y_train_1 = y_train[bool1_train_labels]\n",
        "y_train_0 = y_train[~bool1_train_labels]\n",
        "\n",
        "print('shape of X_train - Class 1: {}, Class 0: {}'.format(X_train_1.shape, X_train_0.shape))\n",
        "print('shape of y_train - Class 1: {}, Class 0: {}'.format(y_train_1.shape, y_train_0.shape))\n",
        "\n",
        "# Oversampling the class 1\n",
        "ids = np.arange(len(X_train_1.to_list()))\n",
        "choices = np.random.choice(ids, size = len(X_train_0.to_list()))\n",
        "\n",
        "res_X_train_1 = np.array(X_train_1.to_list())[choices]\n",
        "res_y_train_1 = np.array(y_train_1)[choices]\n",
        "\n",
        "print('\\nWith oversampling: \\nshape of X_train - Class 1: {}, Class 0: {}'.format(res_X_train_1.shape, X_train_0.shape))\n",
        "print('shape of y_train - Class 1: {}, Class 0: {}'.format(res_y_train_1.shape, y_train_0.shape))\n",
        "\n",
        "# Concatenate oversalmpled class 1, and class 0\n",
        "res_X_train = np.concatenate([res_X_train_1, X_train_0], axis=0)\n",
        "res_y_train = np.concatenate([res_y_train_1, y_train_0], axis=0)\n",
        "\n",
        "# Shuffle after concatenate the two-class data.\n",
        "order = np.arange(len(res_y_train))\n",
        "np.random.shuffle(order)\n",
        "#np.random.shuffle(order)\n",
        "res_X_train = res_X_train[order]\n",
        "res_y_train = res_y_train[order]\n",
        "\n",
        "print('\\nWith oversampling and shuffling: \\nshape of resampled_X_train: {}, resampled_y_train: {}'.format(res_X_train.shape, res_y_train.shape))\n"
      ],
      "execution_count": null,
      "outputs": [
        {
          "output_type": "stream",
          "name": "stdout",
          "text": [
            "shape of X_train - Class 1: (606,), Class 0: (5830,)\n",
            "shape of y_train - Class 1: (606,), Class 0: (5830,)\n",
            "\n",
            "With oversampling: \n",
            "shape of X_train - Class 1: (5830,), Class 0: (5830,)\n",
            "shape of y_train - Class 1: (5830,), Class 0: (5830,)\n",
            "\n",
            "With oversampling and shuffling: \n",
            "shape of resampled_X_train: (11660,), resampled_y_train: (11660,)\n"
          ]
        }
      ]
    },
    {
      "cell_type": "markdown",
      "metadata": {
        "id": "ucPDcY6JZvoh"
      },
      "source": [
        "### Text representation"
      ]
    },
    {
      "cell_type": "code",
      "metadata": {
        "id": "IP9gtaG4bnHV"
      },
      "source": [
        "# Uncomment these codes for running with other Google account\n",
        "# !wget http://nlp.stanford.edu/data/glove.6B.zip\n",
        "# !unzip -q glove.6B.zip -d \"/content/drive/MyDrive/\""
      ],
      "execution_count": null,
      "outputs": []
    },
    {
      "cell_type": "code",
      "metadata": {
        "id": "-1oWkmp-21cO",
        "colab": {
          "base_uri": "https://localhost:8080/"
        },
        "outputId": "d1a2efba-555e-434e-fd2c-9db9d09f1286"
      },
      "source": [
        "from tensorflow.keras.layers import TextVectorization\n",
        "\n",
        "vectorizer = TextVectorization(max_tokens=20000, output_sequence_length=200)\n",
        "text_ds = tf.data.Dataset.from_tensor_slices(X_train.to_list()+X_val.to_list()).batch(32)\n",
        "vectorizer.adapt(text_ds)\n",
        "print(vectorizer.get_vocabulary()[:5])\n",
        "\n",
        "voc = vectorizer.get_vocabulary()\n",
        "word_index = dict(zip(voc, range(len(voc))))"
      ],
      "execution_count": null,
      "outputs": [
        {
          "output_type": "stream",
          "name": "stdout",
          "text": [
            "['', '[UNK]', 'the', 'to', 'of']\n"
          ]
        }
      ]
    },
    {
      "cell_type": "code",
      "metadata": {
        "id": "EqfU7beN24Ud"
      },
      "source": [
        "#X_train_vec = vectorizer(np.array([[s] for s in X_train.to_list()])).numpy()\n",
        "X_train_vec = vectorizer(np.array(res_X_train)).numpy()\n",
        "X_val_vec = vectorizer(np.array([[s] for s in X_val.to_list()])).numpy()\n",
        "X_test_vec = vectorizer(np.array([[s] for s in X_test.to_list()])).numpy()\n",
        "\n",
        "y_train = res_y_train #np.array(y_train)\n",
        "y_val = np.array(y_val)\n",
        "y_test = np.array(y_test)"
      ],
      "execution_count": null,
      "outputs": []
    },
    {
      "cell_type": "code",
      "metadata": {
        "colab": {
          "base_uri": "https://localhost:8080/"
        },
        "id": "XRSicYM4Zz5z",
        "outputId": "641ecf46-1698-4507-c4cc-48b073e72256"
      },
      "source": [
        "embeddings_index = {}\n",
        "EMBEDDING_DIM = 300\n",
        "hits = 0\n",
        "misses = 0\n",
        "\n",
        "f = open(os.path.join('/content/drive/MyDrive', 'glove.6B.300d.txt'))\n",
        "for line in f:\n",
        "    values = line.split()\n",
        "    word = values[0]\n",
        "    coefs = np.asarray(values[1:], dtype='float32')\n",
        "    embeddings_index[word] = coefs\n",
        "f.close()\n",
        "\n",
        "print('Found %s word vectors.' % len(embeddings_index))\n",
        "\n",
        "embedding_matrix = np.zeros((len(word_index) + 1, EMBEDDING_DIM))\n",
        "for word, i in word_index.items():\n",
        "    embedding_vector = embeddings_index.get(word)\n",
        "    if embedding_vector is not None:\n",
        "        # words not found in embedding index will be all-zeros.\n",
        "        embedding_matrix[i] = embedding_vector\n",
        "        hits += 1\n",
        "    else:\n",
        "        misses += 1\n",
        "print(\"Converted %d words (%d misses)\" % (hits, misses))"
      ],
      "execution_count": null,
      "outputs": [
        {
          "output_type": "stream",
          "name": "stdout",
          "text": [
            "Found 400000 word vectors.\n",
            "Converted 17967 words (2033 misses)\n"
          ]
        }
      ]
    },
    {
      "cell_type": "code",
      "metadata": {
        "colab": {
          "base_uri": "https://localhost:8080/"
        },
        "id": "Xq8F9wBNmBrL",
        "outputId": "bb7ef034-0fb1-4809-d3c8-d82d95fe6e84"
      },
      "source": [
        "embedding_matrix.shape"
      ],
      "execution_count": null,
      "outputs": [
        {
          "output_type": "execute_result",
          "data": {
            "text/plain": [
              "(20001, 300)"
            ]
          },
          "metadata": {},
          "execution_count": 21
        }
      ]
    },
    {
      "cell_type": "markdown",
      "metadata": {
        "id": "DkjIdh7WFuTV"
      },
      "source": [
        "### Vanilla biLSTM"
      ]
    },
    {
      "cell_type": "code",
      "metadata": {
        "colab": {
          "base_uri": "https://localhost:8080/"
        },
        "id": "4TrNNAsjJxaX",
        "outputId": "9812c7fa-6f10-403c-ac98-16bd81abc42d"
      },
      "source": [
        "#### Creating the model ########\n",
        "input_dim = len(word_index) + 1\n",
        "\n",
        "## Block 1\n",
        "embedding_layer = tf.keras.layers.Embedding(input_dim = input_dim,\n",
        "                                            output_dim = EMBEDDING_DIM, \n",
        "                                            weights=[embedding_matrix],   \n",
        "                                            trainable=True,\n",
        "                                            mask_zero = True) # turn into dense vector representation\n",
        "sequence_input = tf.keras.Input(shape=(X_train_vec.shape[1],), dtype=tf.int64)\n",
        "embedded_sequences = embedding_layer(sequence_input)\n",
        "\n",
        "x = tf.keras.layers.Bidirectional(tf.keras.layers.LSTM(n_units,  return_sequences = False,  trainable=True)) (embedded_sequences) # take inputs of embeddings, and all output hidden states with return_sequences = True\n",
        "x = tf.keras.layers.Dense(32, activation = 'relu') (x)\n",
        "x = tf.keras.layers.Dropout(0.2) (x)\n",
        "\n",
        "## output layer\n",
        "output = tf.keras.layers.Dense(1, activation = 'sigmoid') (x)\n",
        "\n",
        "## combine in one\n",
        "model = tf.keras.Model(sequence_input,output)\n",
        "print(model.summary())\n",
        "\n",
        "## Compile the model for training\n",
        "model.compile(loss = tf.keras.losses.BinaryCrossentropy(from_logits = False),\n",
        "              optimizer = optimizer, \n",
        "              metrics = ['accuracy'])\n",
        "\n",
        "# Training the model\n",
        "\n",
        "history = model.fit(X_train_vec, y_train, validation_data=(X_val_vec, y_val),\n",
        "          epochs=n_epochs, batch_size=32)\n",
        "\n",
        "\n",
        "# testing the model\n",
        "### pred_label = tf.argmax(model.predict(test),1)\n",
        "pred_label = (model.predict(X_test_vec) > 0.5).astype(\"int32\")\n",
        "true_label = y_test \n",
        "\n",
        "test_loss, test_acc = model.evaluate (X_test_vec,y_test)\n",
        "print('Test acurracy: ', test_acc)\n",
        "print('\\nTesting performance:\\n Loss: {:.3f} - Accuracy: {:.3f}'. format(test_loss, test_acc))\n",
        "printing_eval_scores (true_label, pred_label, report=True)\n",
        "roc['vanila-biLSTM'] = get_roc_curve(true_label, pred_label)"
      ],
      "execution_count": null,
      "outputs": [
        {
          "output_type": "stream",
          "name": "stdout",
          "text": [
            "Model: \"model\"\n",
            "_________________________________________________________________\n",
            " Layer (type)                Output Shape              Param #   \n",
            "=================================================================\n",
            " input_1 (InputLayer)        [(None, 200)]             0         \n",
            "                                                                 \n",
            " embedding (Embedding)       (None, 200, 300)          6000300   \n",
            "                                                                 \n",
            " bidirectional (Bidirectiona  (None, 128)              186880    \n",
            " l)                                                              \n",
            "                                                                 \n",
            " dense (Dense)               (None, 32)                4128      \n",
            "                                                                 \n",
            " dropout (Dropout)           (None, 32)                0         \n",
            "                                                                 \n",
            " dense_1 (Dense)             (None, 1)                 33        \n",
            "                                                                 \n",
            "=================================================================\n",
            "Total params: 6,191,341\n",
            "Trainable params: 6,191,341\n",
            "Non-trainable params: 0\n",
            "_________________________________________________________________\n",
            "None\n",
            "Epoch 1/15\n",
            "365/365 [==============================] - 43s 89ms/step - loss: 0.3707 - accuracy: 0.8344 - val_loss: 0.3099 - val_accuracy: 0.8814\n",
            "Epoch 2/15\n",
            "365/365 [==============================] - 29s 80ms/step - loss: 0.0673 - accuracy: 0.9756 - val_loss: 0.4605 - val_accuracy: 0.9087\n",
            "Epoch 3/15\n",
            "365/365 [==============================] - 29s 79ms/step - loss: 0.0114 - accuracy: 0.9967 - val_loss: 0.7898 - val_accuracy: 0.9087\n",
            "Epoch 4/15\n",
            "365/365 [==============================] - 29s 80ms/step - loss: 0.0025 - accuracy: 0.9991 - val_loss: 1.0938 - val_accuracy: 0.9062\n",
            "Epoch 5/15\n",
            "365/365 [==============================] - 29s 80ms/step - loss: 0.0025 - accuracy: 0.9995 - val_loss: 1.1300 - val_accuracy: 0.9093\n",
            "Epoch 6/15\n",
            "365/365 [==============================] - 29s 80ms/step - loss: 0.0025 - accuracy: 0.9997 - val_loss: 1.4488 - val_accuracy: 0.9106\n",
            "Epoch 7/15\n",
            "365/365 [==============================] - 29s 80ms/step - loss: 0.0028 - accuracy: 0.9998 - val_loss: 1.8535 - val_accuracy: 0.9087\n",
            "Epoch 8/15\n",
            "365/365 [==============================] - 29s 79ms/step - loss: 7.5139e-04 - accuracy: 0.9999 - val_loss: 1.8506 - val_accuracy: 0.9106\n",
            "Epoch 9/15\n",
            "365/365 [==============================] - 29s 80ms/step - loss: 0.0015 - accuracy: 0.9998 - val_loss: 1.9219 - val_accuracy: 0.9112\n",
            "Epoch 10/15\n",
            "365/365 [==============================] - 29s 80ms/step - loss: 0.0013 - accuracy: 0.9998 - val_loss: 1.7998 - val_accuracy: 0.9075\n",
            "Epoch 11/15\n",
            "365/365 [==============================] - 29s 80ms/step - loss: 0.0029 - accuracy: 0.9997 - val_loss: 1.6604 - val_accuracy: 0.8950\n",
            "Epoch 12/15\n",
            "365/365 [==============================] - 29s 80ms/step - loss: 0.0010 - accuracy: 0.9999 - val_loss: 2.2446 - val_accuracy: 0.9118\n",
            "Epoch 13/15\n",
            "365/365 [==============================] - 29s 80ms/step - loss: 0.0014 - accuracy: 0.9999 - val_loss: 2.1325 - val_accuracy: 0.9037\n",
            "Epoch 14/15\n",
            "365/365 [==============================] - 29s 80ms/step - loss: 0.0015 - accuracy: 0.9998 - val_loss: 1.9031 - val_accuracy: 0.9062\n",
            "Epoch 15/15\n",
            "365/365 [==============================] - 29s 79ms/step - loss: 0.0016 - accuracy: 0.9999 - val_loss: 2.2358 - val_accuracy: 0.9112\n",
            "63/63 [==============================] - 2s 26ms/step - loss: 2.4791 - accuracy: 0.9071\n",
            "Test acurracy:  0.9070576429367065\n",
            "\n",
            "Testing performance:\n",
            " Loss: 2.479 - Accuracy: 0.907\n",
            "accuracy score: 0.907\n",
            "precision score: 0.720\n",
            "recall score: 0.550\n",
            "F1 score: 0.567\n",
            "              precision    recall  f1-score   support\n",
            "\n",
            "           0       0.91      0.99      0.95      1823\n",
            "           1       0.53      0.11      0.18       189\n",
            "\n",
            "    accuracy                           0.91      2012\n",
            "   macro avg       0.72      0.55      0.57      2012\n",
            "weighted avg       0.88      0.91      0.88      2012\n",
            "\n"
          ]
        }
      ]
    },
    {
      "cell_type": "markdown",
      "metadata": {
        "id": "nfHepla4thHx"
      },
      "source": [
        "### Stacked biLSTM"
      ]
    },
    {
      "cell_type": "code",
      "metadata": {
        "colab": {
          "base_uri": "https://localhost:8080/"
        },
        "id": "Z8frtcdr6ZFl",
        "outputId": "64010759-bc7a-4227-d159-b823a9061d8c"
      },
      "source": [
        "#### Creating the model ########\n",
        "input_dim = len(word_index) + 1\n",
        "\n",
        "## Block 1\n",
        "#x = encoder (_input) # vectorize the data input \n",
        "embedding_layer = tf.keras.layers.Embedding(input_dim = input_dim,\n",
        "                                            output_dim = EMBEDDING_DIM, \n",
        "                                            weights=[embedding_matrix],  #embeddings_initializer=tf.keras.initializers.Constant(embedding_matrix), \n",
        "                                            trainable=True,\n",
        "                                            mask_zero = True) # turn into dense vector representation\n",
        "sequence_input = tf.keras.Input(shape=(X_train_vec.shape[1],), dtype=tf.int64)\n",
        "embedded_sequences = embedding_layer(sequence_input)\n",
        "\n",
        "x = tf.keras.layers.Bidirectional(tf.keras.layers.LSTM(n_units,  return_sequences = True,  trainable=True)) (embedded_sequences) # take inputs of embeddings, and all output hidden states with return_sequences = True\n",
        "x = tf.keras.layers.Bidirectional(tf.keras.layers.LSTM(n_units,  return_sequences = False,  trainable=True)) (x) \n",
        "x = tf.keras.layers.Dense(32, activation = 'relu') (x)\n",
        "x = tf.keras.layers.Dropout(0.2) (x)\n",
        "## output layer\n",
        "output = tf.keras.layers.Dense(1, activation = 'sigmoid') (x)\n",
        "\n",
        "## combine in one\n",
        "model = tf.keras.Model(sequence_input,output)\n",
        "print(model.summary())\n",
        "\n",
        "## Compile the model for training\n",
        "model.compile(loss = tf.keras.losses.BinaryCrossentropy(from_logits = False),\n",
        "              optimizer = optimizer, \n",
        "              metrics = ['accuracy'])\n",
        "\n",
        "# Training the model\n",
        "\n",
        "history = model.fit(X_train_vec, y_train, validation_data=(X_val_vec, y_val),\n",
        "          epochs=n_epochs, batch_size=32)\n",
        "\n",
        "\n",
        "# testing the model\n",
        "### pred_label = tf.argmax(model.predict(test),1)\n",
        "pred_label = (model.predict(X_test_vec) > 0.5).astype(\"int32\")\n",
        "true_label = y_test #np.concatenate([y for x, y in test_dataset], axis=0)\n",
        "\n",
        "test_loss, test_acc = model.evaluate (X_test_vec,y_test)\n",
        "print('Test acurracy: ', test_acc)\n",
        "print('\\nTesting performance:\\n Loss: {:.3f} - Accuracy: {:.3f}'. format(test_loss, test_acc))\n",
        "printing_eval_scores (true_label, pred_label, report=True)\n",
        "roc['stacked-biLSTM'] = get_roc_curve(true_label, pred_label)"
      ],
      "execution_count": null,
      "outputs": [
        {
          "output_type": "stream",
          "name": "stdout",
          "text": [
            "Model: \"model_1\"\n",
            "_________________________________________________________________\n",
            " Layer (type)                Output Shape              Param #   \n",
            "=================================================================\n",
            " input_2 (InputLayer)        [(None, 200)]             0         \n",
            "                                                                 \n",
            " embedding_1 (Embedding)     (None, 200, 300)          6000300   \n",
            "                                                                 \n",
            " bidirectional_1 (Bidirectio  (None, 200, 128)         186880    \n",
            " nal)                                                            \n",
            "                                                                 \n",
            " bidirectional_2 (Bidirectio  (None, 128)              98816     \n",
            " nal)                                                            \n",
            "                                                                 \n",
            " dense_2 (Dense)             (None, 32)                4128      \n",
            "                                                                 \n",
            " dropout_1 (Dropout)         (None, 32)                0         \n",
            "                                                                 \n",
            " dense_3 (Dense)             (None, 1)                 33        \n",
            "                                                                 \n",
            "=================================================================\n",
            "Total params: 6,290,157\n",
            "Trainable params: 6,290,157\n",
            "Non-trainable params: 0\n",
            "_________________________________________________________________\n",
            "None\n",
            "Epoch 1/15\n",
            "365/365 [==============================] - 78s 161ms/step - loss: 0.3674 - accuracy: 0.8301 - val_loss: 0.3471 - val_accuracy: 0.8894\n",
            "Epoch 2/15\n",
            "365/365 [==============================] - 53s 147ms/step - loss: 0.0718 - accuracy: 0.9760 - val_loss: 0.7651 - val_accuracy: 0.9037\n",
            "Epoch 3/15\n",
            "365/365 [==============================] - 53s 145ms/step - loss: 0.0152 - accuracy: 0.9954 - val_loss: 0.8045 - val_accuracy: 0.9012\n",
            "Epoch 4/15\n",
            "365/365 [==============================] - 53s 145ms/step - loss: 0.0045 - accuracy: 0.9991 - val_loss: 1.4666 - val_accuracy: 0.9037\n",
            "Epoch 5/15\n",
            "365/365 [==============================] - 53s 145ms/step - loss: 0.0027 - accuracy: 0.9992 - val_loss: 1.4488 - val_accuracy: 0.8981\n",
            "Epoch 6/15\n",
            "365/365 [==============================] - 53s 145ms/step - loss: 0.0033 - accuracy: 0.9991 - val_loss: 1.8488 - val_accuracy: 0.8981\n",
            "Epoch 7/15\n",
            "365/365 [==============================] - 52s 144ms/step - loss: 0.0015 - accuracy: 0.9995 - val_loss: 2.0732 - val_accuracy: 0.9043\n",
            "Epoch 8/15\n",
            "365/365 [==============================] - 52s 143ms/step - loss: 0.0038 - accuracy: 0.9994 - val_loss: 2.1044 - val_accuracy: 0.9037\n",
            "Epoch 9/15\n",
            "365/365 [==============================] - 52s 144ms/step - loss: 0.0033 - accuracy: 0.9993 - val_loss: 2.2307 - val_accuracy: 0.9043\n",
            "Epoch 10/15\n",
            "365/365 [==============================] - 53s 144ms/step - loss: 0.0038 - accuracy: 0.9994 - val_loss: 2.2553 - val_accuracy: 0.9075\n",
            "Epoch 11/15\n",
            "365/365 [==============================] - 53s 146ms/step - loss: 0.0017 - accuracy: 0.9995 - val_loss: 2.3010 - val_accuracy: 0.9056\n",
            "Epoch 12/15\n",
            "365/365 [==============================] - 53s 145ms/step - loss: 0.0026 - accuracy: 0.9996 - val_loss: 2.5191 - val_accuracy: 0.9043\n",
            "Epoch 13/15\n",
            "365/365 [==============================] - 53s 145ms/step - loss: 0.0032 - accuracy: 0.9996 - val_loss: 2.0950 - val_accuracy: 0.8925\n",
            "Epoch 14/15\n",
            "365/365 [==============================] - 52s 144ms/step - loss: 0.0015 - accuracy: 0.9998 - val_loss: 2.2215 - val_accuracy: 0.8981\n",
            "Epoch 15/15\n",
            "365/365 [==============================] - 54s 147ms/step - loss: 0.0011 - accuracy: 0.9998 - val_loss: 2.6426 - val_accuracy: 0.9006\n",
            "63/63 [==============================] - 3s 48ms/step - loss: 2.5735 - accuracy: 0.9021\n",
            "Test acurracy:  0.9020874500274658\n",
            "\n",
            "Testing performance:\n",
            " Loss: 2.573 - Accuracy: 0.902\n",
            "accuracy score: 0.902\n",
            "precision score: 0.680\n",
            "recall score: 0.569\n",
            "F1 score: 0.591\n",
            "              precision    recall  f1-score   support\n",
            "\n",
            "           0       0.92      0.98      0.95      1823\n",
            "           1       0.44      0.16      0.23       189\n",
            "\n",
            "    accuracy                           0.90      2012\n",
            "   macro avg       0.68      0.57      0.59      2012\n",
            "weighted avg       0.87      0.90      0.88      2012\n",
            "\n"
          ]
        }
      ]
    },
    {
      "cell_type": "markdown",
      "metadata": {
        "id": "KVXX5Q_Qtvt1"
      },
      "source": [
        "### biLSTM with attention"
      ]
    },
    {
      "cell_type": "code",
      "metadata": {
        "colab": {
          "base_uri": "https://localhost:8080/"
        },
        "id": "niMMyDMZtvGA",
        "outputId": "ec10acb7-979d-4827-ba19-410fed15a941"
      },
      "source": [
        "#### Creating the model ########\n",
        "input_dim = len(word_index) + 1\n",
        "\n",
        "## Block 1\n",
        "embedding_layer = tf.keras.layers.Embedding(input_dim = input_dim,\n",
        "                                            output_dim = EMBEDDING_DIM, \n",
        "                                            weights=[embedding_matrix],  #embeddings_initializer=tf.keras.initializers.Constant(embedding_matrix), \n",
        "                                            trainable=True,\n",
        "                                            mask_zero = True) # turn into dense vector representation\n",
        "sequence_input = tf.keras.Input(shape=(X_train_vec.shape[1],), dtype=tf.int64)\n",
        "embedded_sequences = embedding_layer(sequence_input)\n",
        "\n",
        "lstm_hs = tf.keras.layers.Bidirectional(tf.keras.layers.LSTM(n_units,  return_sequences = True,  trainable=True)) (embedded_sequences) # take inputs of embeddings, and all output hidden states with return_sequences = True\n",
        "\n",
        "# attention layer\n",
        "attention = tf.keras.layers.Dense(1, activation = 'tanh') (lstm_hs) #apply tanh activation function for all hidden states LSTM produced\n",
        "attention = tf.keras.layers.Flatten()(attention) # transform tensor of attention weights in a vector \n",
        "attention = tf.keras.layers.Activation('softmax') (attention) # applying softmax activation function of the hidden states output to get attention weights between 0 and 1, and sum to 1\n",
        "attention = tf.keras.layers.RepeatVector (n_units*2) (attention) # repeat attention weights to have same dimensions with hidden states (= unit*2 as it's biLSTM) for compute element-wise multiplying\n",
        "attention = tf.keras.layers.Permute ([2,1]) (attention) # permute the dimension of the attention weight for being able to multiply with hidden states\n",
        "\n",
        "attention_weight = tf.keras.layers.Multiply()([lstm_hs, attention]) # computing element-wise mutiplying hidden states with the attention weight as updated sentence representations\n",
        "attention_weight = tf.keras.layers.Lambda(lambda x: K.sum(x, axis = 1)) (attention_weight) # summing up all weights in the updated sentence representation for unputing into a fully-connected layer at the end \n",
        "\n",
        "## output layer\n",
        "dropout = tf.keras.layers.Dropout(0.2) (attention_weight)\n",
        "output = tf.keras.layers.Dense(1, activation = 'sigmoid') (dropout)\n",
        "\n",
        "## combine in one\n",
        "model = tf.keras.Model(sequence_input,output)\n",
        "print(model.summary())\n",
        "\n",
        "## Compile the model for training\n",
        "model.compile(loss = tf.keras.losses.BinaryCrossentropy(from_logits = False),\n",
        "              optimizer = optimizer, #tf.keras.optimizers.Adam(learning_rate=1e-4),\n",
        "              metrics = ['accuracy'])\n",
        "\n",
        "# Training the model\n",
        "\n",
        "history = model.fit(X_train_vec, y_train, validation_data=(X_val_vec, y_val),\n",
        "          epochs=n_epochs, batch_size=32)\n",
        "\n",
        "\n",
        "# testing the model\n",
        "pred_label = (model.predict(X_test_vec) > 0.5).astype(\"int32\")\n",
        "true_label = y_test #np.concatenate([y for x, y in test_dataset], axis=0)\n",
        "\n",
        "test_loss, test_acc = model.evaluate (X_test_vec,y_test)\n",
        "print('Test acurracy: ', test_acc)\n",
        "print('\\nTesting performance:\\n Loss: {:.3f} - Accuracy: {:.3f}'. format(test_loss, test_acc))\n",
        "printing_eval_scores (true_label, pred_label, report=True)\n",
        "roc['att-biLSTM'] = get_roc_curve(true_label, pred_label)"
      ],
      "execution_count": null,
      "outputs": [
        {
          "output_type": "stream",
          "name": "stdout",
          "text": [
            "Model: \"model_2\"\n",
            "__________________________________________________________________________________________________\n",
            " Layer (type)                   Output Shape         Param #     Connected to                     \n",
            "==================================================================================================\n",
            " input_3 (InputLayer)           [(None, 200)]        0           []                               \n",
            "                                                                                                  \n",
            " embedding_2 (Embedding)        (None, 200, 300)     6000300     ['input_3[0][0]']                \n",
            "                                                                                                  \n",
            " bidirectional_3 (Bidirectional  (None, 200, 128)    186880      ['embedding_2[0][0]']            \n",
            " )                                                                                                \n",
            "                                                                                                  \n",
            " dense_4 (Dense)                (None, 200, 1)       129         ['bidirectional_3[0][0]']        \n",
            "                                                                                                  \n",
            " flatten (Flatten)              (None, 200)          0           ['dense_4[0][0]']                \n",
            "                                                                                                  \n",
            " activation (Activation)        (None, 200)          0           ['flatten[0][0]']                \n",
            "                                                                                                  \n",
            " repeat_vector (RepeatVector)   (None, 128, 200)     0           ['activation[0][0]']             \n",
            "                                                                                                  \n",
            " permute (Permute)              (None, 200, 128)     0           ['repeat_vector[0][0]']          \n",
            "                                                                                                  \n",
            " multiply (Multiply)            (None, 200, 128)     0           ['bidirectional_3[0][0]',        \n",
            "                                                                  'permute[0][0]']                \n",
            "                                                                                                  \n",
            " lambda (Lambda)                (None, 128)          0           ['multiply[0][0]']               \n",
            "                                                                                                  \n",
            " dropout_2 (Dropout)            (None, 128)          0           ['lambda[0][0]']                 \n",
            "                                                                                                  \n",
            " dense_5 (Dense)                (None, 1)            129         ['dropout_2[0][0]']              \n",
            "                                                                                                  \n",
            "==================================================================================================\n",
            "Total params: 6,187,438\n",
            "Trainable params: 6,187,438\n",
            "Non-trainable params: 0\n",
            "__________________________________________________________________________________________________\n",
            "None\n",
            "Epoch 1/15\n",
            "365/365 [==============================] - 42s 90ms/step - loss: 0.4415 - accuracy: 0.8013 - val_loss: 0.4164 - val_accuracy: 0.8329\n",
            "Epoch 2/15\n",
            "365/365 [==============================] - 30s 82ms/step - loss: 0.1601 - accuracy: 0.9469 - val_loss: 0.4677 - val_accuracy: 0.9093\n",
            "Epoch 3/15\n",
            "365/365 [==============================] - 30s 83ms/step - loss: 0.0569 - accuracy: 0.9840 - val_loss: 0.4870 - val_accuracy: 0.9087\n",
            "Epoch 4/15\n",
            "365/365 [==============================] - 30s 82ms/step - loss: 0.0208 - accuracy: 0.9942 - val_loss: 0.7013 - val_accuracy: 0.9037\n",
            "Epoch 5/15\n",
            "365/365 [==============================] - 30s 82ms/step - loss: 0.0089 - accuracy: 0.9982 - val_loss: 1.1228 - val_accuracy: 0.9050\n",
            "Epoch 6/15\n",
            "365/365 [==============================] - 30s 82ms/step - loss: 0.0077 - accuracy: 0.9981 - val_loss: 0.8958 - val_accuracy: 0.9043\n",
            "Epoch 7/15\n",
            "365/365 [==============================] - 30s 82ms/step - loss: 0.0037 - accuracy: 0.9992 - val_loss: 1.5538 - val_accuracy: 0.9043\n",
            "Epoch 8/15\n",
            "365/365 [==============================] - 30s 82ms/step - loss: 0.0040 - accuracy: 0.9989 - val_loss: 1.2575 - val_accuracy: 0.9093\n",
            "Epoch 9/15\n",
            "365/365 [==============================] - 30s 82ms/step - loss: 0.0017 - accuracy: 0.9998 - val_loss: 1.7351 - val_accuracy: 0.9093\n",
            "Epoch 10/15\n",
            "365/365 [==============================] - 30s 82ms/step - loss: 0.0030 - accuracy: 0.9997 - val_loss: 1.9803 - val_accuracy: 0.9031\n",
            "Epoch 11/15\n",
            "365/365 [==============================] - 30s 82ms/step - loss: 0.0044 - accuracy: 0.9997 - val_loss: 1.6489 - val_accuracy: 0.9043\n",
            "Epoch 12/15\n",
            "365/365 [==============================] - 30s 82ms/step - loss: 0.0025 - accuracy: 0.9997 - val_loss: 1.8234 - val_accuracy: 0.9075\n",
            "Epoch 13/15\n",
            "365/365 [==============================] - 30s 82ms/step - loss: 0.0079 - accuracy: 0.9991 - val_loss: 1.8803 - val_accuracy: 0.9037\n",
            "Epoch 14/15\n",
            "365/365 [==============================] - 30s 82ms/step - loss: 0.0025 - accuracy: 0.9997 - val_loss: 2.2202 - val_accuracy: 0.9081\n",
            "Epoch 15/15\n",
            "365/365 [==============================] - 30s 82ms/step - loss: 0.0027 - accuracy: 0.9997 - val_loss: 2.2307 - val_accuracy: 0.9056\n",
            "63/63 [==============================] - 2s 28ms/step - loss: 2.2100 - accuracy: 0.9061\n",
            "Test acurracy:  0.9060636162757874\n",
            "\n",
            "Testing performance:\n",
            " Loss: 2.210 - Accuracy: 0.906\n",
            "accuracy score: 0.906\n",
            "precision score: 0.709\n",
            "recall score: 0.574\n",
            "F1 score: 0.598\n",
            "              precision    recall  f1-score   support\n",
            "\n",
            "           0       0.92      0.98      0.95      1823\n",
            "           1       0.50      0.16      0.25       189\n",
            "\n",
            "    accuracy                           0.91      2012\n",
            "   macro avg       0.71      0.57      0.60      2012\n",
            "weighted avg       0.88      0.91      0.88      2012\n",
            "\n"
          ]
        }
      ]
    },
    {
      "cell_type": "markdown",
      "metadata": {
        "id": "6d4V2HXl3ddD"
      },
      "source": [
        "## CNN"
      ]
    },
    {
      "cell_type": "code",
      "metadata": {
        "id": "Jqq0ZJVc3trL",
        "colab": {
          "base_uri": "https://localhost:8080/"
        },
        "outputId": "2ad3fe74-f3cc-4312-eec5-6131908f9b82"
      },
      "source": [
        "n_epochs = 20\n",
        "n_units = 64\n",
        "optimizer = 'adam'\n",
        "MAX_SEQUENCE_LENGTH = 120\n",
        "\n",
        "#### Creating the model ########\n",
        "input_dim = len(word_index) + 1\n",
        "\n",
        "## Embedding layer\n",
        "embedding_layer = tf.keras.layers.Embedding(input_dim = input_dim,\n",
        "                                            output_dim = EMBEDDING_DIM, \n",
        "                                            weights=[embedding_matrix],  #embeddings_initializer=tf.keras.initializers.Constant(embedding_matrix), \n",
        "                                            trainable=True,\n",
        "                                            mask_zero = True) # turn into dense vector representation\n",
        "sequence_input = tf.keras.Input(shape=(X_train_vec.shape[1],), dtype=tf.int64)\n",
        "embedded_sequences = embedding_layer(sequence_input)\n",
        "\n",
        "# CNN layers\n",
        "x = tf.keras.layers.Conv1D(n_units, 5 , activation='relu') (embedded_sequences)\n",
        "x = tf.keras.layers.MaxPooling1D() (x)\n",
        "x = tf.keras.layers.Flatten() (x)\n",
        "x = tf.keras.layers.Dense(32, activation='relu') (x) #\n",
        "x = tf.keras.layers.Dropout(0.2) (x)\n",
        "\n",
        "## output layer\n",
        "output = tf.keras.layers.Dense(1, activation = 'sigmoid') (x)\n",
        "\n",
        "## combine in one\n",
        "model = tf.keras.Model(sequence_input,output)\n",
        "print(model.summary())\n",
        "\n",
        "## Compile the model for training\n",
        "model.compile(loss = tf.keras.losses.BinaryCrossentropy(from_logits = False),\n",
        "              optimizer = optimizer, #tf.keras.optimizers.Adam(learning_rate=1e-4),\n",
        "              metrics = ['accuracy'])\n",
        "\n",
        "# Training the model\n",
        "\n",
        "history = model.fit(X_train_vec, y_train, validation_data=(X_val_vec, y_val),\n",
        "          epochs=n_epochs, batch_size=32)\n",
        "\n",
        "\n",
        "# testing the model\n",
        "### pred_label = tf.argmax(model.predict(test),1)\n",
        "pred_label = (model.predict(X_test_vec) > 0.5).astype(\"int32\")\n",
        "true_label = y_test #np.concatenate([y for x, y in test_dataset], axis=0)\n",
        "\n",
        "test_loss, test_acc = model.evaluate (X_test_vec,y_test)\n",
        "print('Test acurracy: ', test_acc)\n",
        "print('\\nTesting performance:\\n Loss: {:.3f} - Accuracy: {:.3f}'. format(test_loss, test_acc))\n",
        "printing_eval_scores (true_label, pred_label, report=True)\n",
        "roc['CNN'] = get_roc_curve(true_label, pred_label)"
      ],
      "execution_count": null,
      "outputs": [
        {
          "output_type": "stream",
          "name": "stdout",
          "text": [
            "Model: \"model_3\"\n",
            "_________________________________________________________________\n",
            " Layer (type)                Output Shape              Param #   \n",
            "=================================================================\n",
            " input_4 (InputLayer)        [(None, 200)]             0         \n",
            "                                                                 \n",
            " embedding_3 (Embedding)     (None, 200, 300)          6000300   \n",
            "                                                                 \n",
            " conv1d (Conv1D)             (None, 196, 64)           96064     \n",
            "                                                                 \n",
            " max_pooling1d (MaxPooling1D  (None, 98, 64)           0         \n",
            " )                                                               \n",
            "                                                                 \n",
            " flatten_1 (Flatten)         (None, 6272)              0         \n",
            "                                                                 \n",
            " dense_6 (Dense)             (None, 32)                200736    \n",
            "                                                                 \n",
            " dropout_3 (Dropout)         (None, 32)                0         \n",
            "                                                                 \n",
            " dense_7 (Dense)             (None, 1)                 33        \n",
            "                                                                 \n",
            "=================================================================\n",
            "Total params: 6,297,133\n",
            "Trainable params: 6,297,133\n",
            "Non-trainable params: 0\n",
            "_________________________________________________________________\n",
            "None\n",
            "Epoch 1/20\n",
            "365/365 [==============================] - 9s 20ms/step - loss: 0.2599 - accuracy: 0.8823 - val_loss: 0.3449 - val_accuracy: 0.9019\n",
            "Epoch 2/20\n",
            "365/365 [==============================] - 7s 20ms/step - loss: 0.0101 - accuracy: 0.9985 - val_loss: 0.5445 - val_accuracy: 0.9056\n",
            "Epoch 3/20\n",
            "365/365 [==============================] - 7s 20ms/step - loss: 0.0033 - accuracy: 0.9998 - val_loss: 0.6104 - val_accuracy: 0.9062\n",
            "Epoch 4/20\n",
            "365/365 [==============================] - 7s 20ms/step - loss: 0.0011 - accuracy: 0.9999 - val_loss: 0.6115 - val_accuracy: 0.9050\n",
            "Epoch 5/20\n",
            "365/365 [==============================] - 7s 20ms/step - loss: 0.0015 - accuracy: 0.9998 - val_loss: 0.8117 - val_accuracy: 0.9068\n",
            "Epoch 6/20\n",
            "365/365 [==============================] - 7s 20ms/step - loss: 6.0730e-04 - accuracy: 0.9998 - val_loss: 0.7481 - val_accuracy: 0.9075\n",
            "Epoch 7/20\n",
            "365/365 [==============================] - 7s 20ms/step - loss: 3.2200e-04 - accuracy: 0.9999 - val_loss: 0.7500 - val_accuracy: 0.9075\n",
            "Epoch 8/20\n",
            "365/365 [==============================] - 7s 20ms/step - loss: 6.2304e-04 - accuracy: 0.9999 - val_loss: 0.6156 - val_accuracy: 0.9062\n",
            "Epoch 9/20\n",
            "365/365 [==============================] - 7s 20ms/step - loss: 0.0089 - accuracy: 0.9972 - val_loss: 0.5780 - val_accuracy: 0.8776\n",
            "Epoch 10/20\n",
            "365/365 [==============================] - 7s 20ms/step - loss: 0.0328 - accuracy: 0.9900 - val_loss: 0.7043 - val_accuracy: 0.9000\n",
            "Epoch 11/20\n",
            "365/365 [==============================] - 7s 20ms/step - loss: 8.5986e-04 - accuracy: 0.9998 - val_loss: 0.9650 - val_accuracy: 0.9031\n",
            "Epoch 12/20\n",
            "365/365 [==============================] - 7s 19ms/step - loss: 4.7589e-04 - accuracy: 0.9998 - val_loss: 0.9573 - val_accuracy: 0.9019\n",
            "Epoch 13/20\n",
            "365/365 [==============================] - 7s 20ms/step - loss: 6.5932e-04 - accuracy: 0.9999 - val_loss: 1.0992 - val_accuracy: 0.9031\n",
            "Epoch 14/20\n",
            "365/365 [==============================] - 7s 19ms/step - loss: 8.1028e-04 - accuracy: 0.9997 - val_loss: 0.9598 - val_accuracy: 0.9043\n",
            "Epoch 15/20\n",
            "365/365 [==============================] - 7s 19ms/step - loss: 4.0514e-04 - accuracy: 0.9998 - val_loss: 1.0151 - val_accuracy: 0.9043\n",
            "Epoch 16/20\n",
            "365/365 [==============================] - 7s 20ms/step - loss: 3.8947e-04 - accuracy: 0.9998 - val_loss: 1.0025 - val_accuracy: 0.9043\n",
            "Epoch 17/20\n",
            "365/365 [==============================] - 7s 20ms/step - loss: 0.0115 - accuracy: 0.9967 - val_loss: 1.1416 - val_accuracy: 0.8975\n",
            "Epoch 18/20\n",
            "365/365 [==============================] - 7s 20ms/step - loss: 0.0052 - accuracy: 0.9983 - val_loss: 1.3540 - val_accuracy: 0.8975\n",
            "Epoch 19/20\n",
            "365/365 [==============================] - 7s 20ms/step - loss: 4.2753e-04 - accuracy: 0.9998 - val_loss: 1.3962 - val_accuracy: 0.8994\n",
            "Epoch 20/20\n",
            "365/365 [==============================] - 7s 20ms/step - loss: 4.3135e-04 - accuracy: 0.9997 - val_loss: 1.3974 - val_accuracy: 0.9000\n",
            "63/63 [==============================] - 0s 6ms/step - loss: 1.4442 - accuracy: 0.9066\n",
            "Test acurracy:  0.9065606594085693\n",
            "\n",
            "Testing performance:\n",
            " Loss: 1.444 - Accuracy: 0.907\n",
            "accuracy score: 0.907\n",
            "precision score: 0.714\n",
            "recall score: 0.548\n",
            "F1 score: 0.563\n",
            "              precision    recall  f1-score   support\n",
            "\n",
            "           0       0.91      0.99      0.95      1823\n",
            "           1       0.51      0.11      0.18       189\n",
            "\n",
            "    accuracy                           0.91      2012\n",
            "   macro avg       0.71      0.55      0.56      2012\n",
            "weighted avg       0.88      0.91      0.88      2012\n",
            "\n"
          ]
        }
      ]
    },
    {
      "cell_type": "code",
      "metadata": {
        "id": "3yM5H8T-Ulko",
        "colab": {
          "base_uri": "https://localhost:8080/"
        },
        "outputId": "12aad559-7571-4179-ac2d-577f42c95170"
      },
      "source": [
        "roc"
      ],
      "execution_count": null,
      "outputs": [
        {
          "output_type": "execute_result",
          "data": {
            "text/plain": [
              "{'CNN': {'auc': 0.5476988625644686,\n",
              "  'fpr': array([0.        , 0.01042238, 1.        ]),\n",
              "  'tpr': array([0.        , 0.10582011, 1.        ])},\n",
              " 'att-biLSTM': {'auc': 0.5735081135519972,\n",
              "  'fpr': array([0.        , 0.01700494, 1.        ]),\n",
              "  'tpr': array([0.        , 0.16402116, 1.        ])},\n",
              " 'stacked-biLSTM': {'auc': 0.5689426986739109,\n",
              "  'fpr': array([0.        , 0.02084476, 1.        ]),\n",
              "  'tpr': array([0.        , 0.15873016, 1.        ])},\n",
              " 'vanila-biLSTM': {'auc': 0.5503443652099714,\n",
              "  'fpr': array([0.        , 0.01042238, 1.        ]),\n",
              "  'tpr': array([0.        , 0.11111111, 1.        ])}}"
            ]
          },
          "metadata": {},
          "execution_count": 26
        }
      ]
    },
    {
      "cell_type": "code",
      "metadata": {
        "id": "WSq2qaTFUb2h",
        "colab": {
          "base_uri": "https://localhost:8080/",
          "height": 404
        },
        "outputId": "bf41a98d-cb08-4d1e-d40a-4838c4ae2eee"
      },
      "source": [
        "def graph_multi_ROC (rocs):\n",
        "  # Set color for each model\n",
        "  colors = {'vanila-biLSTM': 'lightcoral','stacked-biLSTM': 'darkorange', 'att-biLSTM':'lime', 'CNN': 'deeppink'} #, 'NB': 'steelblue',  'XGB': 'purple','DT': 'magenta','RF': 'deeppink','KNN': 'darkturquoise','BERT': 'darkred', 'GPT': 'blue'\n",
        "  # Set marker for each model          \n",
        "  markers = {'vanila-biLSTM':'1--','stacked-biLSTM': 'v--', 'att-biLSTM': '^--', 'CNN':'<--'} #, 'XGB': '*--', 'DT': 'o--', 'RF': '+--', 'KNN': '.--', 'NB': 'x--', 'BERT':'<--', 'GPT': '>--'}\n",
        "  \n",
        "  plt.figure(figsize=(9,6))\n",
        "  for model in rocs:\n",
        "    plt.plot( rocs[model]['fpr'], rocs[model]['tpr'], markers[model], color=colors[model], label= model+' - AUC=' + str(rocs[model]['auc'].round(3)) )\n",
        "  \n",
        "  plt.plot([0,1], [0,1], 'k--', label='Random Chances')\n",
        "  plt.xlim([0.0,1.0])\n",
        "  plt.ylim([0.0,1.02])\n",
        "  plt.ylabel('Recall')\n",
        "  plt.xlabel('False Positive Rate (1-Specificity)')\n",
        "  plt.legend(loc='lower right') \n",
        "  plt.title( 'ROC Curves of all models')\n",
        "  plt.show()\n",
        "\n",
        "graph_multi_ROC(roc)"
      ],
      "execution_count": null,
      "outputs": [
        {
          "output_type": "display_data",
          "data": {
            "image/png": "[encoded data removed]",
            "text/plain": [
              "<Figure size 648x432 with 1 Axes>"
            ]
          },
          "metadata": {
            "needs_background": "light"
          }
        }
      ]
    },
    {
      "cell_type": "code",
      "metadata": {
        "id": "0MSu-yXTGBmS",
        "colab": {
          "base_uri": "https://localhost:8080/"
        },
        "outputId": "7d96386c-9c36-4125-e25f-82ed67ee90f5"
      },
      "source": [
        "# Export performance to a txt file\n",
        "txtfile = open('LSTM-CNN_rocs.txt','w')\n",
        "for i in roc.keys():\n",
        "  txtfile.write(str(i) + '=' + str(roc[i])+'\\n')\n",
        "  print(roc[i])\n",
        "txtfile.close()"
      ],
      "execution_count": null,
      "outputs": [
        {
          "output_type": "stream",
          "name": "stdout",
          "text": [
            "{'fpr': array([0.        , 0.01042238, 1.        ]), 'tpr': array([0.        , 0.11111111, 1.        ]), 'auc': 0.5503443652099714}\n",
            "{'fpr': array([0.        , 0.02084476, 1.        ]), 'tpr': array([0.        , 0.15873016, 1.        ]), 'auc': 0.5689426986739109}\n",
            "{'fpr': array([0.        , 0.01700494, 1.        ]), 'tpr': array([0.        , 0.16402116, 1.        ]), 'auc': 0.5735081135519972}\n",
            "{'fpr': array([0.        , 0.01042238, 1.        ]), 'tpr': array([0.        , 0.10582011, 1.        ]), 'auc': 0.5476988625644686}\n"
          ]
        }
      ]
    }
  ]
}