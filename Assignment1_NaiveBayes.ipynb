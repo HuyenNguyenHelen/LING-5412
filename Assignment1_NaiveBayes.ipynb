{
  "nbformat": 4,
  "nbformat_minor": 0,
  "metadata": {
    "colab": {
      "name": "Assignment1_NaiveBayes.ipynb",
      "provenance": [],
      "collapsed_sections": [],
      "authorship_tag": "ABX9TyPtbXg2SGdOS+3P2HK5AZjK",
      "include_colab_link": true
    },
    "kernelspec": {
      "name": "python3",
      "display_name": "Python 3"
    },
    "language_info": {
      "name": "python"
    }
  },
  "cells": [
    {
      "cell_type": "markdown",
      "metadata": {
        "id": "view-in-github",
        "colab_type": "text"
      },
      "source": [
        "<a href=\"https://colab.research.google.com/github/HuyenNguyenHelen/LING-5412/blob/main/Assignment1_NaiveBayes.ipynb\" target=\"_parent\"><img src=\"https://colab.research.google.com/assets/colab-badge.svg\" alt=\"Open In Colab\"/></a>"
      ]
    },
    {
      "cell_type": "code",
      "metadata": {
        "id": "yoyWL2I4hcNZ"
      },
      "source": [
        "# Importing libraries that will be used \n",
        "import numpy as np\n",
        "import os\n",
        "import tarfile\n",
        "import re\n",
        "import sklearn\n",
        "import matplotlib.pyplot as plt\n",
        "import seaborn as sns\n",
        "from sklearn.metrics import accuracy_score\n",
        "from sklearn.metrics import accuracy_score, classification_report\n",
        "from sklearn.metrics import confusion_matrix, ConfusionMatrixDisplay\n",
        "from sklearn.naive_bayes import MultinomialNB\n",
        "from sklearn.feature_extraction.text import CountVectorizer\n"
      ],
      "execution_count": 20,
      "outputs": []
    },
    {
      "cell_type": "markdown",
      "metadata": {
        "id": "tFuKWcjuKGIU"
      },
      "source": [
        "# Loading dataset"
      ]
    },
    {
      "cell_type": "code",
      "metadata": {
        "id": "-ALIRR75kHO2"
      },
      "source": [
        "# Untar the dataset\n",
        "my_tar = tarfile.open('/content/lingspam_public.tar.gz')\n",
        "my_tar.extractall('/content/') \n",
        "my_tar.close()\n",
        "train_path = '/content/lingspam_public/lemm_stop/part1'  # for training      #spams: spmsg*.txt\n",
        "test_path = '/content/lingspam_public/lemm_stop/part10'   # for testing"
      ],
      "execution_count": 21,
      "outputs": []
    },
    {
      "cell_type": "code",
      "metadata": {
        "colab": {
          "base_uri": "https://localhost:8080/",
          "height": 680
        },
        "id": "0h8XN_Db61aE",
        "outputId": "de6abe0c-c04f-4e59-967e-e3f10bc6f45d"
      },
      "source": [
        "# Changing the data format of the dataset\n",
        "def to_dict (path):\n",
        "  data_dict = dict()\n",
        "  data_dict[1] = []   # Spam \n",
        "  data_dict[0] = []   # Not Spam\n",
        "  for file in os.listdir(path):  \n",
        "    doc = open (path + '/'+ file, 'r')\n",
        "    if 'spmsg' in file:\n",
        "      data_dict[1].append(doc.read())\n",
        "    else:\n",
        "      data_dict[0].append(doc.read())\n",
        "  print ('number of spams: {}'.format(len(data_dict[1])))\n",
        "  print ('number of not_spams: {}'.format(len(data_dict[0])))\n",
        "  sns.countplot(x=['spam']* len(data_dict[1])+['nonspam']* len(data_dict[0]))\n",
        "  plt.show()  \n",
        "  n_docs = len(os.listdir(path))\n",
        "  return data_dict, n_docs\n",
        "\n",
        "print('training set:')\n",
        "training, n_docs_train = to_dict (train_path)\n",
        "print('number of doc: {}'.format(n_docs_train))\n",
        "\n",
        "print('\\ntesting set:')\n",
        "testing, n_docs_test = to_dict (test_path)\n",
        "print('number of doc: {}'.format(n_docs_test))\n",
        "\n",
        "# Data formating for using functions built in Sklearn\n",
        "X_train = training[0]+ training[1]\n",
        "y_train = [0]*len(training[0]) + [1]*len(training[1])\n",
        "\n",
        "X_test = testing[0]+ testing[1]\n",
        "y_true = [0]*len(testing[0]) + [1]*len(testing[1])\n"
      ],
      "execution_count": 22,
      "outputs": [
        {
          "output_type": "stream",
          "name": "stdout",
          "text": [
            "training set:\n",
            "number of spams: 48\n",
            "number of not_spams: 241\n"
          ]
        },
        {
          "output_type": "display_data",
          "data": {
            "image/png": "[encoded data removed]",
            "text/plain": [
              "<Figure size 432x288 with 1 Axes>"
            ]
          },
          "metadata": {
            "needs_background": "light"
          }
        },
        {
          "output_type": "stream",
          "name": "stdout",
          "text": [
            "number of doc: 289\n",
            "\n",
            "testing set:\n",
            "number of spams: 49\n",
            "number of not_spams: 242\n"
          ]
        },
        {
          "output_type": "display_data",
          "data": {
            "image/png": "[encoded data removed]",
            "text/plain": [
              "<Figure size 432x288 with 1 Axes>"
            ]
          },
          "metadata": {
            "needs_background": "light"
          }
        },
        {
          "output_type": "stream",
          "name": "stdout",
          "text": [
            "number of doc: 291\n"
          ]
        }
      ]
    },
    {
      "cell_type": "markdown",
      "metadata": {
        "id": "e36hb6INe7ZA"
      },
      "source": [
        "# Building a Naive Bayes classifier from scratch"
      ]
    },
    {
      "cell_type": "code",
      "metadata": {
        "id": "G7vd1ITkgIlk"
      },
      "source": [
        "# Defining some util functions \n",
        "\n",
        "## Defining function to tokenize the documents\n",
        "def tokenizer (doc):\n",
        "  doc = doc.lower() # Lowercase documents\n",
        "  return re.split(\"\\W+\", doc)   # return a list of tokens without punctuations\n",
        "\n",
        "## Defining a function to count frequency of words in each class\n",
        "def count_words(data_dict):\n",
        "  tf = {}\n",
        "  tf[0], tf[1] = {}, {}\n",
        "  all_docs = data_dict[0] + data_dict[1]\n",
        "  temp0, temp1 = {},{}\n",
        "  for doc in data_dict[0]:\n",
        "    for token in tokenizer(doc):\n",
        "      temp0[token] = temp0.get(token, 0)+1\n",
        "    tf[0] = temp0\n",
        "  for doc in data_dict[1]: \n",
        "    for token in tokenizer(doc):\n",
        "      temp1[token] = temp1.get(token, 0)+1\n",
        "    tf[1] = temp1\n",
        "  # print('sum of tf0: {}, sum of tf1 {}'. format(sum(tf[0].values()), sum(tf[1].values())))\n",
        "  return tf\n",
        "\n",
        "## Defining a function to store tokens in classes with two different BOWS\n",
        "def to_bow (data_dict):\n",
        "  bows = {}\n",
        "  bows[0], bows[1] = [], []\n",
        "  for doc in data_dict[0]:\n",
        "    bows[0].extend(tokenizer(doc))\n",
        "  for doc in data_dict[1]:\n",
        "    bows[1].extend(tokenizer(doc))\n",
        "  return bows\n",
        "\n",
        "## Defining a function to calculate log prior for each class\n",
        "### Return a dict of classes' log priors\n",
        "def logprior(data_dict, n_docs):\n",
        "  logprior = {}\n",
        "  n_spams = len(data_dict[1])\n",
        "  n_nonspams = len(data_dict[0])\n",
        "  print('length of spams: {}, nonspam: {}'.format(n_spams, n_nonspams))\n",
        "  logprior[1] = np.log(n_spams/n_docs)\n",
        "  logprior[0] = np.log(n_nonspams/n_docs)\n",
        "  return logprior\n",
        "\n"
      ],
      "execution_count": 23,
      "outputs": []
    },
    {
      "cell_type": "code",
      "metadata": {
        "id": "yMiZjikgknL6"
      },
      "source": [
        "# Defining TRAINING and TESTING functions\n",
        "\n",
        "## Defining a function to train the Naive Bayes model \n",
        "### Returning logpriors of classes, a word loglikelihood list , set of vocabulary\n",
        "def train_NB (training, alpha):\n",
        "  bows = to_bow (training) \n",
        "  set_V = set(to_bow (training)[1] + to_bow (training)[0])\n",
        "  tf = count_words(training)\n",
        "  logpriors = logprior(training,n_docs_train)\n",
        "  # calculating loglikelihood for each class\n",
        "  loglikelihood = {}\n",
        "  loglikelihood[0], loglikelihood[1] = {}, {}\n",
        "  for c in training.keys():\n",
        "    bow_c = bows[c]\n",
        "    # print('.....length of bow {}:  {}.......'.format(c, len(bow_c)))\n",
        "    loglikelihood_c = {}\n",
        "    for w in set_V:\n",
        "      if w in tf[c]:\n",
        "        count_w = tf[c][w]  \n",
        "      else:\n",
        "        count_w = 0\n",
        "      # print('count ---{} ---in c: {} '.format(w, count_w))\n",
        "      loglikelihood_w = np.log((count_w + alpha)/(len(bow_c)+(len(set_V)*alpha)))\n",
        "      loglikelihood_c[w] = loglikelihood_w\n",
        "    loglikelihood[c] = loglikelihood_c\n",
        "  return logpriors, loglikelihood, set_V\n",
        "\n",
        "\n",
        "## Defining a function for NaiveBayes testing, returning predicted class\n",
        "def test_NB (testing):\n",
        "  prediction = []\n",
        "  X_test = testing[0]+ testing[1]\n",
        "  # Recalling BOW, log prior of each class, and vocabulary from training\n",
        "  spam_bow = training_result[1][1]\n",
        "  nonspam_bow = training_result[1][0]\n",
        "  spam_logprior = training_result[0][1]\n",
        "  nonspam_logprior = training_result[0][0]\n",
        "  set_V = training_result[2]\n",
        "  \n",
        "  ## Calculating probability of class occurred given trained class priors,\n",
        "  ## and trained word likelihoods\n",
        "  for doc in X_test:\n",
        "    spam_loglikelihoods, nonspam_loglikelihoods = [], []\n",
        "    spam_score=0\n",
        "    nonspam_score = 0\n",
        "    for w in tokenizer(doc):\n",
        "      if w not in set_V: \n",
        "        continue\n",
        "      if w in spam_bow.keys():\n",
        "        spam_score += spam_bow[w]\n",
        "      if w in nonspam_bow.keys():\n",
        "        nonspam_score += nonspam_bow[w]\n",
        "    spam_score += spam_logprior\n",
        "    nonspam_score += nonspam_logprior\n",
        "\n",
        "    ## Determining class by taking class\n",
        "    if spam_score > nonspam_score:\n",
        "      prediction.append(1)\n",
        "    else:\n",
        "      prediction.append(0)\n",
        "  return prediction"
      ],
      "execution_count": 24,
      "outputs": []
    },
    {
      "cell_type": "code",
      "metadata": {
        "id": "UQu-1F9VsVsr"
      },
      "source": [
        "# Printing model performance \n",
        "def printing_eval_scores (y_true, y_pred):\n",
        "  print('accuracy score: {}'.format(sklearn.metrics.accuracy_score(y_true, y_pred)))\n",
        "  print('precision score: {}'.format(sklearn.metrics.precision_score(y_true, y_pred)))\n",
        "  print('recall score: {}'.format(sklearn.metrics.recall_score(y_true, y_pred)))\n",
        "  print('F1 score: {}'.format(sklearn.metrics.f1_score(y_true, y_pred)))\n",
        "  print(classification_report(y_true, y_pred))\n"
      ],
      "execution_count": 25,
      "outputs": []
    },
    {
      "cell_type": "code",
      "metadata": {
        "colab": {
          "base_uri": "https://localhost:8080/"
        },
        "id": "1gLiuGJR-dTA",
        "outputId": "cb7e0379-938b-4f13-c7e6-20822577f467"
      },
      "source": [
        "# Testing alphas\n",
        "alphas = [0.1, 0.2, 0.3, 0.4, 0.5, 0.6, 0.7, 0.8, 0.9, 1.0]\n",
        "for alpha in alphas:\n",
        "  print('---------------------------- \\nalpha = {}'.format(alpha))\n",
        "  # Training model on the training set\n",
        "  training_result = train_NB (training, alpha)\n",
        "\n",
        "  # Making prediction\n",
        "  y_pred = test_NB (testing)\n",
        "  ## on training set\n",
        "  print('Model performance on training set:')\n",
        "  printing_eval_scores (y_train, test_NB(training))\n",
        "\n",
        "  ## on test set\n",
        "  print('\\nModel performance on test set:')\n",
        "  printing_eval_scores (y_true, y_pred)"
      ],
      "execution_count": 26,
      "outputs": [
        {
          "output_type": "stream",
          "name": "stdout",
          "text": [
            "---------------------------- \n",
            "alpha = 0.1\n",
            "length of spams: 48, nonspam: 241\n",
            "Model performance on training set:\n",
            "accuracy score: 0.9965397923875432\n",
            "precision score: 0.9795918367346939\n",
            "recall score: 1.0\n",
            "F1 score: 0.9896907216494846\n",
            "              precision    recall  f1-score   support\n",
            "\n",
            "           0       1.00      1.00      1.00       241\n",
            "           1       0.98      1.00      0.99        48\n",
            "\n",
            "    accuracy                           1.00       289\n",
            "   macro avg       0.99      1.00      0.99       289\n",
            "weighted avg       1.00      1.00      1.00       289\n",
            "\n",
            "\n",
            "Model performance on test set:\n",
            "accuracy score: 0.9347079037800687\n",
            "precision score: 0.7678571428571429\n",
            "recall score: 0.8775510204081632\n",
            "F1 score: 0.819047619047619\n",
            "              precision    recall  f1-score   support\n",
            "\n",
            "           0       0.97      0.95      0.96       242\n",
            "           1       0.77      0.88      0.82        49\n",
            "\n",
            "    accuracy                           0.93       291\n",
            "   macro avg       0.87      0.91      0.89       291\n",
            "weighted avg       0.94      0.93      0.94       291\n",
            "\n",
            "---------------------------- \n",
            "alpha = 0.2\n",
            "length of spams: 48, nonspam: 241\n",
            "Model performance on training set:\n",
            "accuracy score: 0.9965397923875432\n",
            "precision score: 0.9795918367346939\n",
            "recall score: 1.0\n",
            "F1 score: 0.9896907216494846\n",
            "              precision    recall  f1-score   support\n",
            "\n",
            "           0       1.00      1.00      1.00       241\n",
            "           1       0.98      1.00      0.99        48\n",
            "\n",
            "    accuracy                           1.00       289\n",
            "   macro avg       0.99      1.00      0.99       289\n",
            "weighted avg       1.00      1.00      1.00       289\n",
            "\n",
            "\n",
            "Model performance on test set:\n",
            "accuracy score: 0.9381443298969072\n",
            "precision score: 0.7719298245614035\n",
            "recall score: 0.8979591836734694\n",
            "F1 score: 0.8301886792452831\n",
            "              precision    recall  f1-score   support\n",
            "\n",
            "           0       0.98      0.95      0.96       242\n",
            "           1       0.77      0.90      0.83        49\n",
            "\n",
            "    accuracy                           0.94       291\n",
            "   macro avg       0.88      0.92      0.90       291\n",
            "weighted avg       0.94      0.94      0.94       291\n",
            "\n",
            "---------------------------- \n",
            "alpha = 0.3\n",
            "length of spams: 48, nonspam: 241\n",
            "Model performance on training set:\n",
            "accuracy score: 0.9965397923875432\n",
            "precision score: 0.9795918367346939\n",
            "recall score: 1.0\n",
            "F1 score: 0.9896907216494846\n",
            "              precision    recall  f1-score   support\n",
            "\n",
            "           0       1.00      1.00      1.00       241\n",
            "           1       0.98      1.00      0.99        48\n",
            "\n",
            "    accuracy                           1.00       289\n",
            "   macro avg       0.99      1.00      0.99       289\n",
            "weighted avg       1.00      1.00      1.00       289\n",
            "\n",
            "\n",
            "Model performance on test set:\n",
            "accuracy score: 0.9347079037800687\n",
            "precision score: 0.75\n",
            "recall score: 0.9183673469387755\n",
            "F1 score: 0.8256880733944955\n",
            "              precision    recall  f1-score   support\n",
            "\n",
            "           0       0.98      0.94      0.96       242\n",
            "           1       0.75      0.92      0.83        49\n",
            "\n",
            "    accuracy                           0.93       291\n",
            "   macro avg       0.87      0.93      0.89       291\n",
            "weighted avg       0.94      0.93      0.94       291\n",
            "\n",
            "---------------------------- \n",
            "alpha = 0.4\n",
            "length of spams: 48, nonspam: 241\n",
            "Model performance on training set:\n",
            "accuracy score: 0.9965397923875432\n",
            "precision score: 0.9795918367346939\n",
            "recall score: 1.0\n",
            "F1 score: 0.9896907216494846\n",
            "              precision    recall  f1-score   support\n",
            "\n",
            "           0       1.00      1.00      1.00       241\n",
            "           1       0.98      1.00      0.99        48\n",
            "\n",
            "    accuracy                           1.00       289\n",
            "   macro avg       0.99      1.00      0.99       289\n",
            "weighted avg       1.00      1.00      1.00       289\n",
            "\n",
            "\n",
            "Model performance on test set:\n",
            "accuracy score: 0.9347079037800687\n",
            "precision score: 0.75\n",
            "recall score: 0.9183673469387755\n",
            "F1 score: 0.8256880733944955\n",
            "              precision    recall  f1-score   support\n",
            "\n",
            "           0       0.98      0.94      0.96       242\n",
            "           1       0.75      0.92      0.83        49\n",
            "\n",
            "    accuracy                           0.93       291\n",
            "   macro avg       0.87      0.93      0.89       291\n",
            "weighted avg       0.94      0.93      0.94       291\n",
            "\n",
            "---------------------------- \n",
            "alpha = 0.5\n",
            "length of spams: 48, nonspam: 241\n",
            "Model performance on training set:\n",
            "accuracy score: 0.9965397923875432\n",
            "precision score: 0.9795918367346939\n",
            "recall score: 1.0\n",
            "F1 score: 0.9896907216494846\n",
            "              precision    recall  f1-score   support\n",
            "\n",
            "           0       1.00      1.00      1.00       241\n",
            "           1       0.98      1.00      0.99        48\n",
            "\n",
            "    accuracy                           1.00       289\n",
            "   macro avg       0.99      1.00      0.99       289\n",
            "weighted avg       1.00      1.00      1.00       289\n",
            "\n",
            "\n",
            "Model performance on test set:\n",
            "accuracy score: 0.9347079037800687\n",
            "precision score: 0.75\n",
            "recall score: 0.9183673469387755\n",
            "F1 score: 0.8256880733944955\n",
            "              precision    recall  f1-score   support\n",
            "\n",
            "           0       0.98      0.94      0.96       242\n",
            "           1       0.75      0.92      0.83        49\n",
            "\n",
            "    accuracy                           0.93       291\n",
            "   macro avg       0.87      0.93      0.89       291\n",
            "weighted avg       0.94      0.93      0.94       291\n",
            "\n",
            "---------------------------- \n",
            "alpha = 0.6\n",
            "length of spams: 48, nonspam: 241\n",
            "Model performance on training set:\n",
            "accuracy score: 0.9965397923875432\n",
            "precision score: 0.9795918367346939\n",
            "recall score: 1.0\n",
            "F1 score: 0.9896907216494846\n",
            "              precision    recall  f1-score   support\n",
            "\n",
            "           0       1.00      1.00      1.00       241\n",
            "           1       0.98      1.00      0.99        48\n",
            "\n",
            "    accuracy                           1.00       289\n",
            "   macro avg       0.99      1.00      0.99       289\n",
            "weighted avg       1.00      1.00      1.00       289\n",
            "\n",
            "\n",
            "Model performance on test set:\n",
            "accuracy score: 0.9347079037800687\n",
            "precision score: 0.75\n",
            "recall score: 0.9183673469387755\n",
            "F1 score: 0.8256880733944955\n",
            "              precision    recall  f1-score   support\n",
            "\n",
            "           0       0.98      0.94      0.96       242\n",
            "           1       0.75      0.92      0.83        49\n",
            "\n",
            "    accuracy                           0.93       291\n",
            "   macro avg       0.87      0.93      0.89       291\n",
            "weighted avg       0.94      0.93      0.94       291\n",
            "\n",
            "---------------------------- \n",
            "alpha = 0.7\n",
            "length of spams: 48, nonspam: 241\n",
            "Model performance on training set:\n",
            "accuracy score: 0.9965397923875432\n",
            "precision score: 0.9795918367346939\n",
            "recall score: 1.0\n",
            "F1 score: 0.9896907216494846\n",
            "              precision    recall  f1-score   support\n",
            "\n",
            "           0       1.00      1.00      1.00       241\n",
            "           1       0.98      1.00      0.99        48\n",
            "\n",
            "    accuracy                           1.00       289\n",
            "   macro avg       0.99      1.00      0.99       289\n",
            "weighted avg       1.00      1.00      1.00       289\n",
            "\n",
            "\n",
            "Model performance on test set:\n",
            "accuracy score: 0.9347079037800687\n",
            "precision score: 0.75\n",
            "recall score: 0.9183673469387755\n",
            "F1 score: 0.8256880733944955\n",
            "              precision    recall  f1-score   support\n",
            "\n",
            "           0       0.98      0.94      0.96       242\n",
            "           1       0.75      0.92      0.83        49\n",
            "\n",
            "    accuracy                           0.93       291\n",
            "   macro avg       0.87      0.93      0.89       291\n",
            "weighted avg       0.94      0.93      0.94       291\n",
            "\n",
            "---------------------------- \n",
            "alpha = 0.8\n",
            "length of spams: 48, nonspam: 241\n",
            "Model performance on training set:\n",
            "accuracy score: 0.9965397923875432\n",
            "precision score: 0.9795918367346939\n",
            "recall score: 1.0\n",
            "F1 score: 0.9896907216494846\n",
            "              precision    recall  f1-score   support\n",
            "\n",
            "           0       1.00      1.00      1.00       241\n",
            "           1       0.98      1.00      0.99        48\n",
            "\n",
            "    accuracy                           1.00       289\n",
            "   macro avg       0.99      1.00      0.99       289\n",
            "weighted avg       1.00      1.00      1.00       289\n",
            "\n",
            "\n",
            "Model performance on test set:\n",
            "accuracy score: 0.9381443298969072\n",
            "precision score: 0.7540983606557377\n",
            "recall score: 0.9387755102040817\n",
            "F1 score: 0.8363636363636363\n",
            "              precision    recall  f1-score   support\n",
            "\n",
            "           0       0.99      0.94      0.96       242\n",
            "           1       0.75      0.94      0.84        49\n",
            "\n",
            "    accuracy                           0.94       291\n",
            "   macro avg       0.87      0.94      0.90       291\n",
            "weighted avg       0.95      0.94      0.94       291\n",
            "\n",
            "---------------------------- \n",
            "alpha = 0.9\n",
            "length of spams: 48, nonspam: 241\n",
            "Model performance on training set:\n",
            "accuracy score: 0.9896193771626297\n",
            "precision score: 0.9411764705882353\n",
            "recall score: 1.0\n",
            "F1 score: 0.9696969696969697\n",
            "              precision    recall  f1-score   support\n",
            "\n",
            "           0       1.00      0.99      0.99       241\n",
            "           1       0.94      1.00      0.97        48\n",
            "\n",
            "    accuracy                           0.99       289\n",
            "   macro avg       0.97      0.99      0.98       289\n",
            "weighted avg       0.99      0.99      0.99       289\n",
            "\n",
            "\n",
            "Model performance on test set:\n",
            "accuracy score: 0.9381443298969072\n",
            "precision score: 0.7540983606557377\n",
            "recall score: 0.9387755102040817\n",
            "F1 score: 0.8363636363636363\n",
            "              precision    recall  f1-score   support\n",
            "\n",
            "           0       0.99      0.94      0.96       242\n",
            "           1       0.75      0.94      0.84        49\n",
            "\n",
            "    accuracy                           0.94       291\n",
            "   macro avg       0.87      0.94      0.90       291\n",
            "weighted avg       0.95      0.94      0.94       291\n",
            "\n",
            "---------------------------- \n",
            "alpha = 1.0\n",
            "length of spams: 48, nonspam: 241\n",
            "Model performance on training set:\n",
            "accuracy score: 0.9896193771626297\n",
            "precision score: 0.9411764705882353\n",
            "recall score: 1.0\n",
            "F1 score: 0.9696969696969697\n",
            "              precision    recall  f1-score   support\n",
            "\n",
            "           0       1.00      0.99      0.99       241\n",
            "           1       0.94      1.00      0.97        48\n",
            "\n",
            "    accuracy                           0.99       289\n",
            "   macro avg       0.97      0.99      0.98       289\n",
            "weighted avg       0.99      0.99      0.99       289\n",
            "\n",
            "\n",
            "Model performance on test set:\n",
            "accuracy score: 0.9381443298969072\n",
            "precision score: 0.7540983606557377\n",
            "recall score: 0.9387755102040817\n",
            "F1 score: 0.8363636363636363\n",
            "              precision    recall  f1-score   support\n",
            "\n",
            "           0       0.99      0.94      0.96       242\n",
            "           1       0.75      0.94      0.84        49\n",
            "\n",
            "    accuracy                           0.94       291\n",
            "   macro avg       0.87      0.94      0.90       291\n",
            "weighted avg       0.95      0.94      0.94       291\n",
            "\n"
          ]
        }
      ]
    },
    {
      "cell_type": "code",
      "metadata": {
        "id": "YcOl5T4TGHWJ",
        "outputId": "da5f9c09-8c0e-4681-9fd1-1292a5f4bfbe",
        "colab": {
          "base_uri": "https://localhost:8080/"
        }
      },
      "source": [
        "selected_alpha = 1\n",
        "# Training model on the training set\n",
        "training_result = train_NB (training, alpha = selected_alpha)\n",
        "\n",
        "# Making prediction\n",
        "y_pred = test_NB (testing)\n",
        "\n",
        "## on training set\n",
        "print('Model performance on training set:')\n",
        "printing_eval_scores (y_train, test_NB(training))\n",
        "\n",
        "## on test set\n",
        "print('--------------------------------')\n",
        "print('\\nModel performance on test set:')\n",
        "printing_eval_scores (y_true, y_pred)"
      ],
      "execution_count": 27,
      "outputs": [
        {
          "output_type": "stream",
          "name": "stdout",
          "text": [
            "length of spams: 48, nonspam: 241\n",
            "Model performance on training set:\n",
            "accuracy score: 0.9896193771626297\n",
            "precision score: 0.9411764705882353\n",
            "recall score: 1.0\n",
            "F1 score: 0.9696969696969697\n",
            "              precision    recall  f1-score   support\n",
            "\n",
            "           0       1.00      0.99      0.99       241\n",
            "           1       0.94      1.00      0.97        48\n",
            "\n",
            "    accuracy                           0.99       289\n",
            "   macro avg       0.97      0.99      0.98       289\n",
            "weighted avg       0.99      0.99      0.99       289\n",
            "\n",
            "--------------------------------\n",
            "\n",
            "Model performance on test set:\n",
            "accuracy score: 0.9381443298969072\n",
            "precision score: 0.7540983606557377\n",
            "recall score: 0.9387755102040817\n",
            "F1 score: 0.8363636363636363\n",
            "              precision    recall  f1-score   support\n",
            "\n",
            "           0       0.99      0.94      0.96       242\n",
            "           1       0.75      0.94      0.84        49\n",
            "\n",
            "    accuracy                           0.94       291\n",
            "   macro avg       0.87      0.94      0.90       291\n",
            "weighted avg       0.95      0.94      0.94       291\n",
            "\n"
          ]
        }
      ]
    },
    {
      "cell_type": "code",
      "metadata": {
        "colab": {
          "base_uri": "https://localhost:8080/",
          "height": 354
        },
        "id": "TN4TD6l94epZ",
        "outputId": "cc599f74-5d3f-477c-9edd-e2fbae59fe2e"
      },
      "source": [
        "# printing and visualize the confusion metrics\n",
        "cm = confusion_matrix(y_true, y_pred)\n",
        "print('confusion metrics \\n', cm)\n",
        "disp = ConfusionMatrixDisplay(confusion_matrix=cm, display_labels = [0,1])\n",
        "disp.plot(include_values = True, values_format = 'd')\n"
      ],
      "execution_count": 28,
      "outputs": [
        {
          "output_type": "stream",
          "name": "stdout",
          "text": [
            "confusion metrics \n",
            " [[227  15]\n",
            " [  3  46]]\n"
          ]
        },
        {
          "output_type": "execute_result",
          "data": {
            "text/plain": [
              "<sklearn.metrics._plot.confusion_matrix.ConfusionMatrixDisplay at 0x7f311b944310>"
            ]
          },
          "metadata": {},
          "execution_count": 28
        },
        {
          "output_type": "display_data",
          "data": {
            "image/png": "[encoded data removed]",
            "text/plain": [
              "<Figure size 432x288 with 2 Axes>"
            ]
          },
          "metadata": {
            "needs_background": "light"
          }
        }
      ]
    },
    {
      "cell_type": "markdown",
      "metadata": {
        "id": "JrofQiv0fFEv"
      },
      "source": [
        "# Building a Naive Bayes classifier from Sklearn"
      ]
    },
    {
      "cell_type": "code",
      "metadata": {
        "colab": {
          "base_uri": "https://localhost:8080/",
          "height": 897
        },
        "id": "KvLBIIvzn9j8",
        "outputId": "c47f23ff-e583-4a94-d610-300f22d808a6"
      },
      "source": [
        "# Creating a vectorizer model that converts a collection of text documents to a matrix of token counts\n",
        "vectorizer = CountVectorizer(lowercase = True)\n",
        "X_train_vec = vectorizer.fit_transform(X_train)\n",
        "X_test_vec = vectorizer.transform(X_test)\n",
        "# Converting  sparse matrix to a dense matrix\n",
        "X_train_vec = X_train_vec.toarray()\n",
        "X_test_vec = X_test_vec.toarray()\n",
        "\n",
        "# Creating NB classifier\n",
        "nb_2 = MultinomialNB()\n",
        "\n",
        "# Fitting the model into the training set for training\n",
        "nb_2.fit(X_train_vec, y_train)\n",
        "\n",
        "# Using NB clssifier to make prediction on test set\n",
        "y_pred_2 = nb_2.predict(X_test_vec)\n",
        "\n",
        "# Printing model performance \n",
        "## on training set\n",
        "print ('on training set')\n",
        "printing_eval_scores (y_train, nb_2.predict(X_train_vec))\n",
        "\n",
        "## on test set\n",
        "print ('\\n-------------------------------\\non test set')\n",
        "printing_eval_scores (y_true, y_pred_2)\n",
        "\n",
        "# printing and visualize the confusion metrics\n",
        "cm = confusion_matrix(y_true, y_pred_2)\n",
        "print('confusion metrics \\n', cm)\n",
        "disp = ConfusionMatrixDisplay(confusion_matrix=cm, display_labels = [0,1])\n",
        "disp.plot(include_values = True, values_format = 'd')\n"
      ],
      "execution_count": 29,
      "outputs": [
        {
          "output_type": "stream",
          "name": "stdout",
          "text": [
            "on training set\n",
            "accuracy score: 0.9965397923875432\n",
            "precision score: 0.9795918367346939\n",
            "recall score: 1.0\n",
            "F1 score: 0.9896907216494846\n",
            "              precision    recall  f1-score   support\n",
            "\n",
            "           0       1.00      1.00      1.00       241\n",
            "           1       0.98      1.00      0.99        48\n",
            "\n",
            "    accuracy                           1.00       289\n",
            "   macro avg       0.99      1.00      0.99       289\n",
            "weighted avg       1.00      1.00      1.00       289\n",
            "\n",
            "\n",
            "-------------------------------\n",
            "on test set\n",
            "accuracy score: 0.9896907216494846\n",
            "precision score: 1.0\n",
            "recall score: 0.9387755102040817\n",
            "F1 score: 0.968421052631579\n",
            "              precision    recall  f1-score   support\n",
            "\n",
            "           0       0.99      1.00      0.99       242\n",
            "           1       1.00      0.94      0.97        49\n",
            "\n",
            "    accuracy                           0.99       291\n",
            "   macro avg       0.99      0.97      0.98       291\n",
            "weighted avg       0.99      0.99      0.99       291\n",
            "\n",
            "confusion metrics \n",
            " [[242   0]\n",
            " [  3  46]]\n"
          ]
        },
        {
          "output_type": "execute_result",
          "data": {
            "text/plain": [
              "<sklearn.metrics._plot.confusion_matrix.ConfusionMatrixDisplay at 0x7f311b605390>"
            ]
          },
          "metadata": {},
          "execution_count": 29
        },
        {
          "output_type": "display_data",
          "data": {
            "image/png": "[encoded data removed]",
            "text/plain": [
              "<Figure size 432x288 with 2 Axes>"
            ]
          },
          "metadata": {
            "needs_background": "light"
          }
        }
      ]
    }
  ]
}