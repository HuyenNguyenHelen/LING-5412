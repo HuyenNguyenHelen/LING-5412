{
  "nbformat": 4,
  "nbformat_minor": 0,
  "metadata": {
    "colab": {
      "name": "Assignment_Feedforward-Network.ipynb",
      "provenance": [],
      "toc_visible": true,
      "authorship_tag": "ABX9TyPc5HrzL7lRmCOefSxBlhek",
      "include_colab_link": true
    },
    "kernelspec": {
      "name": "python3",
      "display_name": "Python 3"
    },
    "language_info": {
      "name": "python"
    }
  },
  "cells": [
    {
      "cell_type": "markdown",
      "metadata": {
        "id": "view-in-github",
        "colab_type": "text"
      },
      "source": [
        "<a href=\"https://colab.research.google.com/github/HuyenNguyenHelen/LING-5412/blob/main/Assignment_Feedforward_Network.ipynb\" target=\"_parent\"><img src=\"https://colab.research.google.com/assets/colab-badge.svg\" alt=\"Open In Colab\"/></a>"
      ]
    },
    {
      "cell_type": "code",
      "metadata": {
        "colab": {
          "base_uri": "https://localhost:8080/"
        },
        "id": "Ybsamp8T__sG",
        "outputId": "6be59529-5a8f-49e0-ba7c-85b4ebd90dc3"
      },
      "source": [
        "import os\n",
        "import re\n",
        "import shutil\n",
        "import tensorflow as tf\n",
        "import string\n",
        "from tensorflow.keras import layers\n",
        "from tensorflow.keras import losses\n",
        "from tensorflow.keras import preprocessing\n",
        "import pandas as pd\n",
        "import glob\n",
        "import sklearn\n",
        "from sklearn.model_selection import train_test_split\n",
        "from sklearn.feature_extraction.text import CountVectorizer\n",
        "from sklearn.feature_extraction.text import TfidfVectorizer\n",
        "from sklearn.metrics import accuracy_score, classification_report\n",
        "from sklearn.metrics import confusion_matrix, ConfusionMatrixDisplay\n",
        "print(tf.__version__)\n"
      ],
      "execution_count": 4,
      "outputs": [
        {
          "output_type": "stream",
          "name": "stdout",
          "text": [
            "2.6.0\n"
          ]
        }
      ]
    },
    {
      "cell_type": "markdown",
      "metadata": {
        "id": "pEecDn_cAPUR"
      },
      "source": [
        "# Part 1: IMDB sentiment analysis"
      ]
    },
    {
      "cell_type": "markdown",
      "metadata": {
        "id": "I37czSdvAJGh"
      },
      "source": [
        "## Loading the dataset"
      ]
    },
    {
      "cell_type": "code",
      "metadata": {
        "id": "LOTrU1EcAaJW",
        "colab": {
          "base_uri": "https://localhost:8080/"
        },
        "outputId": "bfb48415-c6d9-4ebb-c595-9b5f331acdfd"
      },
      "source": [
        "url = 'https://ai.stanford.edu/~amaas/data/sentiment/aclImdb_v1.tar.gz'\n",
        "data = tf.keras.utils.get_file ('aclImdb_v1',\n",
        "                                url,\n",
        "                                untar = True,\n",
        "                                cache_dir = '.',\n",
        "                                cache_subdir = '')\n",
        "data_dir = os.path.join (os.path.dirname(data), 'aclImdb')\n",
        "print(os.listdir(data_dir))"
      ],
      "execution_count": 5,
      "outputs": [
        {
          "output_type": "stream",
          "name": "stdout",
          "text": [
            "['imdb.vocab', 'test', 'README', 'imdbEr.txt', 'train']\n"
          ]
        }
      ]
    },
    {
      "cell_type": "code",
      "metadata": {
        "colab": {
          "base_uri": "https://localhost:8080/"
        },
        "id": "sl4s0XGxECq4",
        "outputId": "c01366cf-2013-4a00-d9ce-4bc4eba49dfe"
      },
      "source": [
        "train_dir = os.path.join (data_dir, 'train')\n",
        "test_dir = os.path.join (data_dir, 'test')\n",
        "print(os.listdir(train_dir))"
      ],
      "execution_count": 6,
      "outputs": [
        {
          "output_type": "stream",
          "name": "stdout",
          "text": [
            "['neg', 'urls_neg.txt', 'urls_pos.txt', 'unsup', 'pos', 'urls_unsup.txt', 'unsupBow.feat', 'labeledBow.feat']\n"
          ]
        }
      ]
    },
    {
      "cell_type": "code",
      "metadata": {
        "id": "wqLbtPKfNc5Z"
      },
      "source": [
        "# We only use files in the two folders: pos, and neg, so let's remove other files\n",
        "remove_dir = os.path.join(train_dir, 'unsup')\n",
        "shutil.rmtree(remove_dir)"
      ],
      "execution_count": 7,
      "outputs": []
    },
    {
      "cell_type": "code",
      "metadata": {
        "id": "P5fHSce2Rk-7",
        "colab": {
          "base_uri": "https://localhost:8080/"
        },
        "outputId": "28c22a43-7b30-4c10-e499-8dcbb85fb529"
      },
      "source": [
        "# Loading data from the directory\n",
        "batch_size = 32\n",
        "seed = 42\n",
        "raw_train = tf.keras.utils.text_dataset_from_directory ('aclImdb/train',\n",
        "                                                        batch_size =batch_size,\n",
        "                                                        validation_split = 0.2,\n",
        "                                                        subset = 'training',\n",
        "                                                        seed = seed)\n",
        "raw_val = tf.keras.utils.text_dataset_from_directory ('aclImdb/train',\n",
        "                                                      batch_size = batch_size,\n",
        "                                                      validation_split = 0.2,\n",
        "                                                      subset = 'validation',\n",
        "                                                      seed = seed)\n",
        "raw_test = tf.keras.utils.text_dataset_from_directory ('aclImdb/test',\n",
        "                                                       batch_size = batch_size)"
      ],
      "execution_count": 8,
      "outputs": [
        {
          "output_type": "stream",
          "name": "stdout",
          "text": [
            "Found 25000 files belonging to 2 classes.\n",
            "Using 20000 files for training.\n",
            "Found 25000 files belonging to 2 classes.\n",
            "Using 5000 files for validation.\n",
            "Found 25000 files belonging to 2 classes.\n"
          ]
        }
      ]
    },
    {
      "cell_type": "markdown",
      "metadata": {
        "id": "HuL_ipXkaAyv"
      },
      "source": [
        "# Text representation"
      ]
    },
    {
      "cell_type": "code",
      "metadata": {
        "id": "1KVgg_ZWaFtU",
        "colab": {
          "base_uri": "https://localhost:8080/"
        },
        "outputId": "75d472b4-f84a-4f5c-d6f0-599ddbfcabac"
      },
      "source": [
        "def custom_preprocessing (text):\n",
        "  lowercase = tf.strings.lower (text)\n",
        "  stripped_html = tf.strings.regex_replace (lowercase,'<br />', ' ')\n",
        "  return tf.strings.regex_replace(stripped_html,\n",
        "                                  '[%s]' % re.escape(string.punctuation), \n",
        "                                  '')\n",
        "  \n",
        "max_features = 10000\n",
        "sequence_length = 250\n",
        "\n",
        "vectorize_layer = layers.TextVectorization(standardize = custom_preprocessing,\n",
        "                                           max_tokens = max_features,\n",
        "                                           output_mode = 'int',\n",
        "                                           output_sequence_length = sequence_length)\n",
        "# Extracting features for vectorizing using training set\n",
        "train_text = raw_train.map (lambda x, y: x)\n",
        "vectorize_layer.adapt(train_text)\n",
        "\n",
        "# Defining a function for fitting vectorizer function/layer to vectorize text (review)\n",
        "def fitting_vectorizer (text, label):\n",
        "  text = tf.expand_dims(text, -1)\n",
        "  return vectorize_layer (text), label\n",
        "\n",
        "# storing text batch and label batch\n",
        "text_batch, label_batch = next(iter(raw_train))\n",
        "\n",
        "## print an instance with vectorized review and label for observing\n",
        "print ('REVIEW:', text_batch[0])\n",
        "print('LABEL:', raw_train.class_names[label_batch[0]] )\n"
      ],
      "execution_count": 9,
      "outputs": [
        {
          "output_type": "stream",
          "name": "stdout",
          "text": [
            "REVIEW: tf.Tensor(b'Silent Night, Deadly Night 5 is the very last of the series, and like part 4, it\\'s unrelated to the first three except by title and the fact that it\\'s a Christmas-themed horror flick.<br /><br />Except to the oblivious, there\\'s some obvious things going on here...Mickey Rooney plays a toymaker named Joe Petto and his creepy son\\'s name is Pino. Ring a bell, anyone? Now, a little boy named Derek heard a knock at the door one evening, and opened it to find a present on the doorstep for him. Even though it said \"don\\'t open till Christmas\", he begins to open it anyway but is stopped by his dad, who scolds him and sends him to bed, and opens the gift himself. Inside is a little red ball that sprouts Santa arms and a head, and proceeds to kill dad. Oops, maybe he should have left well-enough alone. Of course Derek is then traumatized by the incident since he watched it from the stairs, but he doesn\\'t grow up to be some killer Santa, he just stops talking.<br /><br />There\\'s a mysterious stranger lurking around, who seems very interested in the toys that Joe Petto makes. We even see him buying a bunch when Derek\\'s mom takes him to the store to find a gift for him to bring him out of his trauma. And what exactly is this guy doing? Well, we\\'re not sure but he does seem to be taking these toys apart to see what makes them tick. He does keep his landlord from evicting him by promising him to pay him in cash the next day and presents him with a \"Larry the Larvae\" toy for his kid, but of course \"Larry\" is not a good toy and gets out of the box in the car and of course, well, things aren\\'t pretty.<br /><br />Anyway, eventually what\\'s going on with Joe Petto and Pino is of course revealed, and as with the old story, Pino is not a \"real boy\". Pino is probably even more agitated and naughty because he suffers from \"Kenitalia\" (a smooth plastic crotch) so that could account for his evil ways. And the identity of the lurking stranger is revealed too, and there\\'s even kind of a happy ending of sorts. Whee.<br /><br />A step up from part 4, but not much of one. Again, Brian Yuzna is involved, and Screaming Mad George, so some decent special effects, but not enough to make this great. A few leftovers from part 4 are hanging around too, like Clint Howard and Neith Hunter, but that doesn\\'t really make any difference. Anyway, I now have seeing the whole series out of my system. Now if I could get some of it out of my brain. 4 out of 5.', shape=(), dtype=string)\n",
            "LABEL: neg\n"
          ]
        }
      ]
    },
    {
      "cell_type": "code",
      "metadata": {
        "id": "AdhUEflLG1-B",
        "colab": {
          "base_uri": "https://localhost:8080/"
        },
        "outputId": "07f10cfe-da5b-47ed-dd8d-c295f48563d0"
      },
      "source": [
        "# print an example of vectorized data\n",
        "print ('Vocabulary size: ', len(vectorize_layer.get_vocabulary()))\n",
        "for i in range (90, 100):\n",
        "  print ('{} ------> {}'.format(i, vectorize_layer.get_vocabulary()[i]))"
      ],
      "execution_count": 7,
      "outputs": [
        {
          "output_type": "stream",
          "name": "stdout",
          "text": [
            "Vocabulary size:  10000\n",
            "90 ------> made\n",
            "91 ------> movies\n",
            "92 ------> then\n",
            "93 ------> them\n",
            "94 ------> films\n",
            "95 ------> way\n",
            "96 ------> make\n",
            "97 ------> any\n",
            "98 ------> could\n",
            "99 ------> too\n"
          ]
        }
      ]
    },
    {
      "cell_type": "code",
      "metadata": {
        "id": "49aXKTf-LYpE"
      },
      "source": [
        "train = raw_train.map(fitting_vectorizer)\n",
        "val = raw_val.map(fitting_vectorizer)\n",
        "test = raw_test.map(fitting_vectorizer)\n"
      ],
      "execution_count": 11,
      "outputs": []
    },
    {
      "cell_type": "code",
      "metadata": {
        "id": "qsqxSoCqORfY"
      },
      "source": [
        "# Configure the dataset for performance\n",
        "autotune = tf.data.AUTOTUNE\n",
        "train = train.cache().prefetch (buffer_size = autotune)\n",
        "val = val.cache().prefetch (buffer_size = autotune)\n",
        "test = test.cache().prefetch (buffer_size = autotune)"
      ],
      "execution_count": 12,
      "outputs": []
    },
    {
      "cell_type": "markdown",
      "metadata": {
        "id": "NoADSjBJMHL7"
      },
      "source": [
        "# Building a neural network classifier"
      ]
    },
    {
      "cell_type": "markdown",
      "metadata": {
        "id": "GaffgzJaRMKe"
      },
      "source": [
        "## With different numbers of embedding dimentions"
      ]
    },
    {
      "cell_type": "code",
      "metadata": {
        "id": "mnp8gN87MPaF",
        "colab": {
          "base_uri": "https://localhost:8080/"
        },
        "outputId": "517c8752-b6e2-4854-eecc-235e3b370d37"
      },
      "source": [
        "# Creating the model\n",
        "embedding_dim = [16, 28, 50, 100]\n",
        "for n in embedding_dim:\n",
        "  print (\"========= embedding vectors'size= %s ============\" %n)\n",
        "  model = tf.keras.Sequential([layers.Embedding(max_features + 1, n, name=\"embedding\"),\n",
        "                              layers.Dropout(0.2),\n",
        "                              layers.GlobalAveragePooling1D(),\n",
        "                              layers.Dropout(0.2),\n",
        "                              layers.Dense(1)])\n",
        "  print(model.summary())\n",
        "\n",
        "  # configure the model uisng optimizer and loss function\n",
        "  model.compile(loss = losses.BinaryCrossentropy(from_logits = True),\n",
        "                optimizer = 'adam',\n",
        "                metrics = tf.metrics.BinaryAccuracy(threshold = 0.0 )) ## Why threshold = 0.0??\n",
        "  # training the model\n",
        "  epochs = 10\n",
        "  history = model.fit(train,\n",
        "                      validation_data = val,\n",
        "                      epochs = epochs)\n",
        "  # testing the model\n",
        "  loss, accuracy = model.evaluate(test)\n",
        "  print('Testing performance:\\n Loss: {} - Accuracy: {}'. format(loss, accuracy))"
      ],
      "execution_count": 10,
      "outputs": [
        {
          "output_type": "stream",
          "name": "stdout",
          "text": [
            "========= embedding vectors'size= 16 ============\n",
            "Model: \"sequential\"\n",
            "_________________________________________________________________\n",
            "Layer (type)                 Output Shape              Param #   \n",
            "=================================================================\n",
            "embedding (Embedding)        (None, None, 16)          160016    \n",
            "_________________________________________________________________\n",
            "dropout (Dropout)            (None, None, 16)          0         \n",
            "_________________________________________________________________\n",
            "global_average_pooling1d (Gl (None, 16)                0         \n",
            "_________________________________________________________________\n",
            "dropout_1 (Dropout)          (None, 16)                0         \n",
            "_________________________________________________________________\n",
            "dense (Dense)                (None, 1)                 17        \n",
            "=================================================================\n",
            "Total params: 160,033\n",
            "Trainable params: 160,033\n",
            "Non-trainable params: 0\n",
            "_________________________________________________________________\n",
            "None\n",
            "Epoch 1/10\n",
            "625/625 [==============================] - 11s 16ms/step - loss: 0.6638 - binary_accuracy: 0.6931 - val_loss: 0.6140 - val_binary_accuracy: 0.7710\n",
            "Epoch 2/10\n",
            "625/625 [==============================] - 4s 6ms/step - loss: 0.5479 - binary_accuracy: 0.8012 - val_loss: 0.4972 - val_binary_accuracy: 0.8220\n",
            "Epoch 3/10\n",
            "625/625 [==============================] - 4s 6ms/step - loss: 0.4445 - binary_accuracy: 0.8438 - val_loss: 0.4193 - val_binary_accuracy: 0.8470\n",
            "Epoch 4/10\n",
            "625/625 [==============================] - 4s 6ms/step - loss: 0.3786 - binary_accuracy: 0.8654 - val_loss: 0.3731 - val_binary_accuracy: 0.8614\n",
            "Epoch 5/10\n",
            "625/625 [==============================] - 4s 6ms/step - loss: 0.3345 - binary_accuracy: 0.8784 - val_loss: 0.3445 - val_binary_accuracy: 0.8680\n",
            "Epoch 6/10\n",
            "625/625 [==============================] - 4s 6ms/step - loss: 0.3048 - binary_accuracy: 0.8891 - val_loss: 0.3255 - val_binary_accuracy: 0.8716\n",
            "Epoch 7/10\n",
            "625/625 [==============================] - 4s 6ms/step - loss: 0.2804 - binary_accuracy: 0.8989 - val_loss: 0.3121 - val_binary_accuracy: 0.8734\n",
            "Epoch 8/10\n",
            "625/625 [==============================] - 4s 6ms/step - loss: 0.2614 - binary_accuracy: 0.9046 - val_loss: 0.3026 - val_binary_accuracy: 0.8768\n",
            "Epoch 9/10\n",
            "625/625 [==============================] - 4s 6ms/step - loss: 0.2449 - binary_accuracy: 0.9112 - val_loss: 0.2959 - val_binary_accuracy: 0.8778\n",
            "Epoch 10/10\n",
            "625/625 [==============================] - 4s 7ms/step - loss: 0.2316 - binary_accuracy: 0.9171 - val_loss: 0.2912 - val_binary_accuracy: 0.8788\n",
            "782/782 [==============================] - 8s 10ms/step - loss: 0.3097 - binary_accuracy: 0.8743\n",
            "Testing performance:\n",
            " Loss: 0.309713214635849 - Accuracy: 0.8743199706077576\n",
            "========= embedding vectors'size= 28 ============\n",
            "Model: \"sequential_1\"\n",
            "_________________________________________________________________\n",
            "Layer (type)                 Output Shape              Param #   \n",
            "=================================================================\n",
            "embedding_1 (Embedding)      (None, None, 28)          280028    \n",
            "_________________________________________________________________\n",
            "dropout_2 (Dropout)          (None, None, 28)          0         \n",
            "_________________________________________________________________\n",
            "global_average_pooling1d_1 ( (None, 28)                0         \n",
            "_________________________________________________________________\n",
            "dropout_3 (Dropout)          (None, 28)                0         \n",
            "_________________________________________________________________\n",
            "dense_1 (Dense)              (None, 1)                 29        \n",
            "=================================================================\n",
            "Total params: 280,057\n",
            "Trainable params: 280,057\n",
            "Non-trainable params: 0\n",
            "_________________________________________________________________\n",
            "None\n",
            "Epoch 1/10\n",
            "625/625 [==============================] - 6s 9ms/step - loss: 0.6513 - binary_accuracy: 0.6977 - val_loss: 0.5805 - val_binary_accuracy: 0.7816\n",
            "Epoch 2/10\n",
            "625/625 [==============================] - 5s 8ms/step - loss: 0.5001 - binary_accuracy: 0.8189 - val_loss: 0.4458 - val_binary_accuracy: 0.8362\n",
            "Epoch 3/10\n",
            "625/625 [==============================] - 5s 8ms/step - loss: 0.3918 - binary_accuracy: 0.8589 - val_loss: 0.3758 - val_binary_accuracy: 0.8602\n",
            "Epoch 4/10\n",
            "625/625 [==============================] - 5s 8ms/step - loss: 0.3318 - binary_accuracy: 0.8788 - val_loss: 0.3393 - val_binary_accuracy: 0.8696\n",
            "Epoch 5/10\n",
            "625/625 [==============================] - 5s 9ms/step - loss: 0.2954 - binary_accuracy: 0.8911 - val_loss: 0.3181 - val_binary_accuracy: 0.8720\n",
            "Epoch 6/10\n",
            "625/625 [==============================] - 5s 9ms/step - loss: 0.2684 - binary_accuracy: 0.9010 - val_loss: 0.3048 - val_binary_accuracy: 0.8746\n",
            "Epoch 7/10\n",
            "625/625 [==============================] - 6s 9ms/step - loss: 0.2465 - binary_accuracy: 0.9111 - val_loss: 0.2962 - val_binary_accuracy: 0.8766\n",
            "Epoch 8/10\n",
            "625/625 [==============================] - 5s 8ms/step - loss: 0.2285 - binary_accuracy: 0.9173 - val_loss: 0.2906 - val_binary_accuracy: 0.8794\n",
            "Epoch 9/10\n",
            "625/625 [==============================] - 5s 9ms/step - loss: 0.2131 - binary_accuracy: 0.9241 - val_loss: 0.2877 - val_binary_accuracy: 0.8804\n",
            "Epoch 10/10\n",
            "625/625 [==============================] - 5s 8ms/step - loss: 0.1994 - binary_accuracy: 0.9279 - val_loss: 0.2864 - val_binary_accuracy: 0.8812\n",
            "782/782 [==============================] - 1s 1ms/step - loss: 0.3078 - binary_accuracy: 0.8741\n",
            "Testing performance:\n",
            " Loss: 0.30781418085098267 - Accuracy: 0.8740800023078918\n",
            "========= embedding vectors'size= 50 ============\n",
            "Model: \"sequential_2\"\n",
            "_________________________________________________________________\n",
            "Layer (type)                 Output Shape              Param #   \n",
            "=================================================================\n",
            "embedding_2 (Embedding)      (None, None, 50)          500050    \n",
            "_________________________________________________________________\n",
            "dropout_4 (Dropout)          (None, None, 50)          0         \n",
            "_________________________________________________________________\n",
            "global_average_pooling1d_2 ( (None, 50)                0         \n",
            "_________________________________________________________________\n",
            "dropout_5 (Dropout)          (None, 50)                0         \n",
            "_________________________________________________________________\n",
            "dense_2 (Dense)              (None, 1)                 51        \n",
            "=================================================================\n",
            "Total params: 500,101\n",
            "Trainable params: 500,101\n",
            "Non-trainable params: 0\n",
            "_________________________________________________________________\n",
            "None\n",
            "Epoch 1/10\n",
            "625/625 [==============================] - 9s 13ms/step - loss: 0.6303 - binary_accuracy: 0.7153 - val_loss: 0.5357 - val_binary_accuracy: 0.7982\n",
            "Epoch 2/10\n",
            "625/625 [==============================] - 8s 13ms/step - loss: 0.4475 - binary_accuracy: 0.8388 - val_loss: 0.3981 - val_binary_accuracy: 0.8512\n",
            "Epoch 3/10\n",
            "625/625 [==============================] - 8s 13ms/step - loss: 0.3459 - binary_accuracy: 0.8734 - val_loss: 0.3424 - val_binary_accuracy: 0.8670\n",
            "Epoch 4/10\n",
            "625/625 [==============================] - 9s 14ms/step - loss: 0.2952 - binary_accuracy: 0.8888 - val_loss: 0.3150 - val_binary_accuracy: 0.8732\n",
            "Epoch 5/10\n",
            "625/625 [==============================] - 8s 13ms/step - loss: 0.2609 - binary_accuracy: 0.9036 - val_loss: 0.3001 - val_binary_accuracy: 0.8766\n",
            "Epoch 6/10\n",
            "625/625 [==============================] - 8s 13ms/step - loss: 0.2358 - binary_accuracy: 0.9137 - val_loss: 0.2917 - val_binary_accuracy: 0.8784\n",
            "Epoch 7/10\n",
            "625/625 [==============================] - 9s 14ms/step - loss: 0.2156 - binary_accuracy: 0.9215 - val_loss: 0.2876 - val_binary_accuracy: 0.8808\n",
            "Epoch 8/10\n",
            "625/625 [==============================] - 8s 13ms/step - loss: 0.1985 - binary_accuracy: 0.9284 - val_loss: 0.2860 - val_binary_accuracy: 0.8822\n",
            "Epoch 9/10\n",
            "625/625 [==============================] - 9s 14ms/step - loss: 0.1832 - binary_accuracy: 0.9355 - val_loss: 0.2868 - val_binary_accuracy: 0.8836\n",
            "Epoch 10/10\n",
            "625/625 [==============================] - 9s 14ms/step - loss: 0.1696 - binary_accuracy: 0.9409 - val_loss: 0.2891 - val_binary_accuracy: 0.8832\n",
            "782/782 [==============================] - 1s 2ms/step - loss: 0.3165 - binary_accuracy: 0.8722\n",
            "Testing performance:\n",
            " Loss: 0.3164558708667755 - Accuracy: 0.8722400069236755\n",
            "========= embedding vectors'size= 100 ============\n",
            "Model: \"sequential_3\"\n",
            "_________________________________________________________________\n",
            "Layer (type)                 Output Shape              Param #   \n",
            "=================================================================\n",
            "embedding_3 (Embedding)      (None, None, 100)         1000100   \n",
            "_________________________________________________________________\n",
            "dropout_6 (Dropout)          (None, None, 100)         0         \n",
            "_________________________________________________________________\n",
            "global_average_pooling1d_3 ( (None, 100)               0         \n",
            "_________________________________________________________________\n",
            "dropout_7 (Dropout)          (None, 100)               0         \n",
            "_________________________________________________________________\n",
            "dense_3 (Dense)              (None, 1)                 101       \n",
            "=================================================================\n",
            "Total params: 1,000,201\n",
            "Trainable params: 1,000,201\n",
            "Non-trainable params: 0\n",
            "_________________________________________________________________\n",
            "None\n",
            "Epoch 1/10\n",
            "625/625 [==============================] - 16s 24ms/step - loss: 0.5976 - binary_accuracy: 0.7315 - val_loss: 0.4730 - val_binary_accuracy: 0.8244\n",
            "Epoch 2/10\n",
            "625/625 [==============================] - 15s 23ms/step - loss: 0.3874 - binary_accuracy: 0.8574 - val_loss: 0.3536 - val_binary_accuracy: 0.8628\n",
            "Epoch 3/10\n",
            "625/625 [==============================] - 14s 23ms/step - loss: 0.3015 - binary_accuracy: 0.8862 - val_loss: 0.3143 - val_binary_accuracy: 0.8736\n",
            "Epoch 4/10\n",
            "625/625 [==============================] - 15s 23ms/step - loss: 0.2574 - binary_accuracy: 0.9050 - val_loss: 0.2967 - val_binary_accuracy: 0.8774\n",
            "Epoch 5/10\n",
            "625/625 [==============================] - 14s 23ms/step - loss: 0.2266 - binary_accuracy: 0.9165 - val_loss: 0.2893 - val_binary_accuracy: 0.8790\n",
            "Epoch 6/10\n",
            "625/625 [==============================] - 14s 23ms/step - loss: 0.2020 - binary_accuracy: 0.9269 - val_loss: 0.2870 - val_binary_accuracy: 0.8812\n",
            "Epoch 7/10\n",
            "625/625 [==============================] - 15s 24ms/step - loss: 0.1826 - binary_accuracy: 0.9347 - val_loss: 0.2881 - val_binary_accuracy: 0.8826\n",
            "Epoch 8/10\n",
            "625/625 [==============================] - 15s 23ms/step - loss: 0.1664 - binary_accuracy: 0.9433 - val_loss: 0.2923 - val_binary_accuracy: 0.8822\n",
            "Epoch 9/10\n",
            "625/625 [==============================] - 15s 23ms/step - loss: 0.1516 - binary_accuracy: 0.9498 - val_loss: 0.2981 - val_binary_accuracy: 0.8812\n",
            "Epoch 10/10\n",
            "625/625 [==============================] - 15s 23ms/step - loss: 0.1384 - binary_accuracy: 0.9545 - val_loss: 0.3060 - val_binary_accuracy: 0.8804\n",
            "782/782 [==============================] - 2s 2ms/step - loss: 0.3423 - binary_accuracy: 0.8657\n",
            "Testing performance:\n",
            " Loss: 0.3422935903072357 - Accuracy: 0.8657199740409851\n"
          ]
        }
      ]
    },
    {
      "cell_type": "markdown",
      "metadata": {
        "id": "qvJLzGQbZZD8"
      },
      "source": [
        "## With different dropout "
      ]
    },
    {
      "cell_type": "code",
      "metadata": {
        "colab": {
          "base_uri": "https://localhost:8080/"
        },
        "id": "fn5GRRbvaB3k",
        "outputId": "4c5d0b5d-397f-4b0d-e803-797c669b3a78"
      },
      "source": [
        "# Creating the model\n",
        "embedding_dim = 16\n",
        "dropouts = [0.0, 0.1, 0.2, 0.3]\n",
        "for i in dropouts:\n",
        "  print (\"========= dropout = %s ============\" %i)\n",
        "  model = tf.keras.Sequential([layers.Embedding(max_features + 1,embedding_dim,  name=\"embedding\"),\n",
        "                              layers.Dropout(i),\n",
        "                              layers.GlobalAveragePooling1D(),\n",
        "                              layers.Dropout(0.2),\n",
        "                              layers.Dense(1)])\n",
        "  print(model.summary())\n",
        "\n",
        "  # configure the model uisng optimizer and loss function\n",
        "  model.compile(loss = losses.BinaryCrossentropy(from_logits = True),\n",
        "                optimizer = 'adam',\n",
        "                metrics = tf.metrics.BinaryAccuracy(threshold = 0.0 )) ## Why threshold = 0.0??\n",
        "  # training the model\n",
        "  epochs = 10\n",
        "  history = model.fit(train,\n",
        "                      validation_data = val,\n",
        "                      epochs = epochs)\n",
        "  # testing the model\n",
        "  loss, accuracy = model.evaluate(test)\n",
        "  print('Testing performance:\\n Loss: {} - Accuracy: {}'. format(loss, accuracy))"
      ],
      "execution_count": 11,
      "outputs": [
        {
          "output_type": "stream",
          "name": "stdout",
          "text": [
            "========= dropout = 0.0 ============\n",
            "Model: \"sequential_4\"\n",
            "_________________________________________________________________\n",
            "Layer (type)                 Output Shape              Param #   \n",
            "=================================================================\n",
            "embedding (Embedding)        (None, None, 16)          160016    \n",
            "_________________________________________________________________\n",
            "dropout_8 (Dropout)          (None, None, 16)          0         \n",
            "_________________________________________________________________\n",
            "global_average_pooling1d_4 ( (None, 16)                0         \n",
            "_________________________________________________________________\n",
            "dropout_9 (Dropout)          (None, 16)                0         \n",
            "_________________________________________________________________\n",
            "dense_4 (Dense)              (None, 1)                 17        \n",
            "=================================================================\n",
            "Total params: 160,033\n",
            "Trainable params: 160,033\n",
            "Non-trainable params: 0\n",
            "_________________________________________________________________\n",
            "None\n",
            "Epoch 1/10\n",
            "625/625 [==============================] - 3s 4ms/step - loss: 0.6601 - binary_accuracy: 0.6965 - val_loss: 0.6061 - val_binary_accuracy: 0.7798\n",
            "Epoch 2/10\n",
            "625/625 [==============================] - 3s 4ms/step - loss: 0.5376 - binary_accuracy: 0.8070 - val_loss: 0.4867 - val_binary_accuracy: 0.8264\n",
            "Epoch 3/10\n",
            "625/625 [==============================] - 3s 4ms/step - loss: 0.4327 - binary_accuracy: 0.8497 - val_loss: 0.4099 - val_binary_accuracy: 0.8518\n",
            "Epoch 4/10\n",
            "625/625 [==============================] - 3s 4ms/step - loss: 0.3672 - binary_accuracy: 0.8705 - val_loss: 0.3652 - val_binary_accuracy: 0.8634\n",
            "Epoch 5/10\n",
            "625/625 [==============================] - 3s 4ms/step - loss: 0.3246 - binary_accuracy: 0.8829 - val_loss: 0.3379 - val_binary_accuracy: 0.8696\n",
            "Epoch 6/10\n",
            "625/625 [==============================] - 3s 4ms/step - loss: 0.2949 - binary_accuracy: 0.8926 - val_loss: 0.3200 - val_binary_accuracy: 0.8726\n",
            "Epoch 7/10\n",
            "625/625 [==============================] - 3s 4ms/step - loss: 0.2718 - binary_accuracy: 0.9015 - val_loss: 0.3076 - val_binary_accuracy: 0.8750\n",
            "Epoch 8/10\n",
            "625/625 [==============================] - 3s 4ms/step - loss: 0.2515 - binary_accuracy: 0.9092 - val_loss: 0.2990 - val_binary_accuracy: 0.8776\n",
            "Epoch 9/10\n",
            "625/625 [==============================] - 3s 5ms/step - loss: 0.2359 - binary_accuracy: 0.9158 - val_loss: 0.2932 - val_binary_accuracy: 0.8788\n",
            "Epoch 10/10\n",
            "625/625 [==============================] - 3s 4ms/step - loss: 0.2212 - binary_accuracy: 0.9202 - val_loss: 0.2893 - val_binary_accuracy: 0.8806\n",
            "782/782 [==============================] - 1s 1ms/step - loss: 0.3084 - binary_accuracy: 0.8742\n",
            "Testing performance:\n",
            " Loss: 0.3083675503730774 - Accuracy: 0.8741599917411804\n",
            "========= dropout = 0.1 ============\n",
            "Model: \"sequential_5\"\n",
            "_________________________________________________________________\n",
            "Layer (type)                 Output Shape              Param #   \n",
            "=================================================================\n",
            "embedding (Embedding)        (None, None, 16)          160016    \n",
            "_________________________________________________________________\n",
            "dropout_10 (Dropout)         (None, None, 16)          0         \n",
            "_________________________________________________________________\n",
            "global_average_pooling1d_5 ( (None, 16)                0         \n",
            "_________________________________________________________________\n",
            "dropout_11 (Dropout)         (None, 16)                0         \n",
            "_________________________________________________________________\n",
            "dense_5 (Dense)              (None, 1)                 17        \n",
            "=================================================================\n",
            "Total params: 160,033\n",
            "Trainable params: 160,033\n",
            "Non-trainable params: 0\n",
            "_________________________________________________________________\n",
            "None\n",
            "Epoch 1/10\n",
            "625/625 [==============================] - 4s 6ms/step - loss: 0.6628 - binary_accuracy: 0.6926 - val_loss: 0.6113 - val_binary_accuracy: 0.7754\n",
            "Epoch 2/10\n",
            "625/625 [==============================] - 4s 7ms/step - loss: 0.5438 - binary_accuracy: 0.8021 - val_loss: 0.4928 - val_binary_accuracy: 0.8224\n",
            "Epoch 3/10\n",
            "625/625 [==============================] - 4s 6ms/step - loss: 0.4389 - binary_accuracy: 0.8490 - val_loss: 0.4150 - val_binary_accuracy: 0.8482\n",
            "Epoch 4/10\n",
            "625/625 [==============================] - 4s 6ms/step - loss: 0.3723 - binary_accuracy: 0.8694 - val_loss: 0.3693 - val_binary_accuracy: 0.8636\n",
            "Epoch 5/10\n",
            "625/625 [==============================] - 4s 6ms/step - loss: 0.3306 - binary_accuracy: 0.8798 - val_loss: 0.3413 - val_binary_accuracy: 0.8682\n",
            "Epoch 6/10\n",
            "625/625 [==============================] - 4s 6ms/step - loss: 0.2998 - binary_accuracy: 0.8903 - val_loss: 0.3229 - val_binary_accuracy: 0.8724\n",
            "Epoch 7/10\n",
            "625/625 [==============================] - 4s 6ms/step - loss: 0.2769 - binary_accuracy: 0.8981 - val_loss: 0.3102 - val_binary_accuracy: 0.8748\n",
            "Epoch 8/10\n",
            "625/625 [==============================] - 4s 6ms/step - loss: 0.2579 - binary_accuracy: 0.9065 - val_loss: 0.3012 - val_binary_accuracy: 0.8766\n",
            "Epoch 9/10\n",
            "625/625 [==============================] - 4s 6ms/step - loss: 0.2417 - binary_accuracy: 0.9139 - val_loss: 0.2952 - val_binary_accuracy: 0.8774\n",
            "Epoch 10/10\n",
            "625/625 [==============================] - 4s 6ms/step - loss: 0.2264 - binary_accuracy: 0.9185 - val_loss: 0.2907 - val_binary_accuracy: 0.8792\n",
            "782/782 [==============================] - 1s 1ms/step - loss: 0.3092 - binary_accuracy: 0.8743\n",
            "Testing performance:\n",
            " Loss: 0.3092215955257416 - Accuracy: 0.8743199706077576\n",
            "========= dropout = 0.2 ============\n",
            "Model: \"sequential_6\"\n",
            "_________________________________________________________________\n",
            "Layer (type)                 Output Shape              Param #   \n",
            "=================================================================\n",
            "embedding (Embedding)        (None, None, 16)          160016    \n",
            "_________________________________________________________________\n",
            "dropout_12 (Dropout)         (None, None, 16)          0         \n",
            "_________________________________________________________________\n",
            "global_average_pooling1d_6 ( (None, 16)                0         \n",
            "_________________________________________________________________\n",
            "dropout_13 (Dropout)         (None, 16)                0         \n",
            "_________________________________________________________________\n",
            "dense_6 (Dense)              (None, 1)                 17        \n",
            "=================================================================\n",
            "Total params: 160,033\n",
            "Trainable params: 160,033\n",
            "Non-trainable params: 0\n",
            "_________________________________________________________________\n",
            "None\n",
            "Epoch 1/10\n",
            "625/625 [==============================] - 5s 6ms/step - loss: 0.6642 - binary_accuracy: 0.6870 - val_loss: 0.6151 - val_binary_accuracy: 0.7714\n",
            "Epoch 2/10\n",
            "625/625 [==============================] - 4s 6ms/step - loss: 0.5496 - binary_accuracy: 0.7986 - val_loss: 0.4993 - val_binary_accuracy: 0.8200\n",
            "Epoch 3/10\n",
            "625/625 [==============================] - 4s 6ms/step - loss: 0.4461 - binary_accuracy: 0.8435 - val_loss: 0.4209 - val_binary_accuracy: 0.8470\n",
            "Epoch 4/10\n",
            "625/625 [==============================] - 4s 6ms/step - loss: 0.3791 - binary_accuracy: 0.8658 - val_loss: 0.3744 - val_binary_accuracy: 0.8606\n",
            "Epoch 5/10\n",
            "625/625 [==============================] - 4s 6ms/step - loss: 0.3363 - binary_accuracy: 0.8801 - val_loss: 0.3454 - val_binary_accuracy: 0.8684\n",
            "Epoch 6/10\n",
            "625/625 [==============================] - 4s 6ms/step - loss: 0.3056 - binary_accuracy: 0.8878 - val_loss: 0.3261 - val_binary_accuracy: 0.8726\n",
            "Epoch 7/10\n",
            "625/625 [==============================] - 4s 6ms/step - loss: 0.2827 - binary_accuracy: 0.8968 - val_loss: 0.3128 - val_binary_accuracy: 0.8724\n",
            "Epoch 8/10\n",
            "625/625 [==============================] - 4s 6ms/step - loss: 0.2620 - binary_accuracy: 0.9047 - val_loss: 0.3033 - val_binary_accuracy: 0.8764\n",
            "Epoch 9/10\n",
            "625/625 [==============================] - 4s 6ms/step - loss: 0.2464 - binary_accuracy: 0.9106 - val_loss: 0.2964 - val_binary_accuracy: 0.8770\n",
            "Epoch 10/10\n",
            "625/625 [==============================] - 4s 6ms/step - loss: 0.2323 - binary_accuracy: 0.9167 - val_loss: 0.2916 - val_binary_accuracy: 0.8782\n",
            "782/782 [==============================] - 1s 1ms/step - loss: 0.3102 - binary_accuracy: 0.8735\n",
            "Testing performance:\n",
            " Loss: 0.31022894382476807 - Accuracy: 0.8734800219535828\n",
            "========= dropout = 0.3 ============\n",
            "Model: \"sequential_7\"\n",
            "_________________________________________________________________\n",
            "Layer (type)                 Output Shape              Param #   \n",
            "=================================================================\n",
            "embedding (Embedding)        (None, None, 16)          160016    \n",
            "_________________________________________________________________\n",
            "dropout_14 (Dropout)         (None, None, 16)          0         \n",
            "_________________________________________________________________\n",
            "global_average_pooling1d_7 ( (None, 16)                0         \n",
            "_________________________________________________________________\n",
            "dropout_15 (Dropout)         (None, 16)                0         \n",
            "_________________________________________________________________\n",
            "dense_7 (Dense)              (None, 1)                 17        \n",
            "=================================================================\n",
            "Total params: 160,033\n",
            "Trainable params: 160,033\n",
            "Non-trainable params: 0\n",
            "_________________________________________________________________\n",
            "None\n",
            "Epoch 1/10\n",
            "625/625 [==============================] - 4s 6ms/step - loss: 0.6659 - binary_accuracy: 0.6862 - val_loss: 0.6190 - val_binary_accuracy: 0.7722\n",
            "Epoch 2/10\n",
            "625/625 [==============================] - 4s 6ms/step - loss: 0.5546 - binary_accuracy: 0.7983 - val_loss: 0.5044 - val_binary_accuracy: 0.8196\n",
            "Epoch 3/10\n",
            "625/625 [==============================] - 4s 6ms/step - loss: 0.4519 - binary_accuracy: 0.8406 - val_loss: 0.4258 - val_binary_accuracy: 0.8456\n",
            "Epoch 4/10\n",
            "625/625 [==============================] - 4s 6ms/step - loss: 0.3843 - binary_accuracy: 0.8629 - val_loss: 0.3784 - val_binary_accuracy: 0.8602\n",
            "Epoch 5/10\n",
            "625/625 [==============================] - 4s 6ms/step - loss: 0.3407 - binary_accuracy: 0.8762 - val_loss: 0.3488 - val_binary_accuracy: 0.8662\n",
            "Epoch 6/10\n",
            "625/625 [==============================] - 4s 6ms/step - loss: 0.3106 - binary_accuracy: 0.8867 - val_loss: 0.3291 - val_binary_accuracy: 0.8720\n",
            "Epoch 7/10\n",
            "625/625 [==============================] - 4s 7ms/step - loss: 0.2880 - binary_accuracy: 0.8943 - val_loss: 0.3154 - val_binary_accuracy: 0.8740\n",
            "Epoch 8/10\n",
            "625/625 [==============================] - 4s 7ms/step - loss: 0.2687 - binary_accuracy: 0.9014 - val_loss: 0.3057 - val_binary_accuracy: 0.8752\n",
            "Epoch 9/10\n",
            "625/625 [==============================] - 4s 6ms/step - loss: 0.2518 - binary_accuracy: 0.9082 - val_loss: 0.2983 - val_binary_accuracy: 0.8764\n",
            "Epoch 10/10\n",
            "625/625 [==============================] - 4s 7ms/step - loss: 0.2382 - binary_accuracy: 0.9133 - val_loss: 0.2933 - val_binary_accuracy: 0.8790\n",
            "782/782 [==============================] - 1s 1ms/step - loss: 0.3114 - binary_accuracy: 0.8728\n",
            "Testing performance:\n",
            " Loss: 0.3114139139652252 - Accuracy: 0.872759997844696\n"
          ]
        }
      ]
    },
    {
      "cell_type": "markdown",
      "metadata": {
        "id": "Te4tKnBY8mXP"
      },
      "source": [
        "## Adding a Dense layer"
      ]
    },
    {
      "cell_type": "code",
      "metadata": {
        "id": "la1m7MZW9Ah5",
        "colab": {
          "base_uri": "https://localhost:8080/"
        },
        "outputId": "ef23d6ab-4f2a-4f16-9e73-2ec01e52e0fd"
      },
      "source": [
        "# Creating the model\n",
        "embedding_dim = 16\n",
        "dropout =  0.1\n",
        "activations = ['relu', 'softmax', 'sigmoid']\n",
        "for f in activations:\n",
        "  print (\"========= activation function = %s ============\" %f)\n",
        "  model = tf.keras.Sequential([layers.Embedding(max_features + 1,embedding_dim,  name=\"embedding\"),\n",
        "                              layers.Dropout(dropout),\n",
        "                              layers.GlobalAveragePooling1D(),\n",
        "                              layers.Dropout(dropout),\n",
        "                              layers.Dense(32, activation= f),\n",
        "                              layers.Dense(1)])\n",
        "  print(model.summary())\n",
        "\n",
        "  # configure the model uisng optimizer and loss function\n",
        "  model.compile(loss = losses.BinaryCrossentropy(from_logits = True),\n",
        "                optimizer = 'adam',\n",
        "                metrics = tf.metrics.BinaryAccuracy(threshold = 0.0 )) ## Why threshold = 0.0??\n",
        "  # training the model\n",
        "  epochs = 10\n",
        "  history = model.fit(train,\n",
        "                      validation_data = val,\n",
        "                      epochs = epochs)\n",
        "  # testing the model\n",
        "  loss, accuracy = model.evaluate(test)\n",
        "  print('Testing performance:\\n Loss: {} - Accuracy: {}'. format(loss, accuracy))"
      ],
      "execution_count": 12,
      "outputs": [
        {
          "output_type": "stream",
          "name": "stdout",
          "text": [
            "========= activation function = relu ============\n",
            "Model: \"sequential_8\"\n",
            "_________________________________________________________________\n",
            "Layer (type)                 Output Shape              Param #   \n",
            "=================================================================\n",
            "embedding_8 (Embedding)      (None, None, 16)          160016    \n",
            "_________________________________________________________________\n",
            "dropout_16 (Dropout)         (None, None, 16)          0         \n",
            "_________________________________________________________________\n",
            "global_average_pooling1d_8 ( (None, 16)                0         \n",
            "_________________________________________________________________\n",
            "dropout_17 (Dropout)         (None, 16)                0         \n",
            "_________________________________________________________________\n",
            "dense_8 (Dense)              (None, 32)                544       \n",
            "_________________________________________________________________\n",
            "dense_9 (Dense)              (None, 1)                 33        \n",
            "=================================================================\n",
            "Total params: 160,593\n",
            "Trainable params: 160,593\n",
            "Non-trainable params: 0\n",
            "_________________________________________________________________\n",
            "None\n",
            "Epoch 1/10\n",
            "625/625 [==============================] - 6s 8ms/step - loss: 0.5375 - binary_accuracy: 0.7446 - val_loss: 0.3507 - val_binary_accuracy: 0.8596\n",
            "Epoch 2/10\n",
            "625/625 [==============================] - 5s 7ms/step - loss: 0.2881 - binary_accuracy: 0.8848 - val_loss: 0.2997 - val_binary_accuracy: 0.8736\n",
            "Epoch 3/10\n",
            "625/625 [==============================] - 4s 7ms/step - loss: 0.2206 - binary_accuracy: 0.9158 - val_loss: 0.2994 - val_binary_accuracy: 0.8744\n",
            "Epoch 4/10\n",
            "625/625 [==============================] - 4s 7ms/step - loss: 0.1816 - binary_accuracy: 0.9349 - val_loss: 0.3132 - val_binary_accuracy: 0.8726\n",
            "Epoch 5/10\n",
            "625/625 [==============================] - 4s 7ms/step - loss: 0.1513 - binary_accuracy: 0.9488 - val_loss: 0.3330 - val_binary_accuracy: 0.8722\n",
            "Epoch 6/10\n",
            "625/625 [==============================] - 4s 7ms/step - loss: 0.1271 - binary_accuracy: 0.9574 - val_loss: 0.3677 - val_binary_accuracy: 0.8694\n",
            "Epoch 7/10\n",
            "625/625 [==============================] - 4s 7ms/step - loss: 0.1072 - binary_accuracy: 0.9667 - val_loss: 0.3935 - val_binary_accuracy: 0.8700\n",
            "Epoch 8/10\n",
            "625/625 [==============================] - 4s 7ms/step - loss: 0.0888 - binary_accuracy: 0.9734 - val_loss: 0.4328 - val_binary_accuracy: 0.8670\n",
            "Epoch 9/10\n",
            "625/625 [==============================] - 4s 7ms/step - loss: 0.0752 - binary_accuracy: 0.9791 - val_loss: 0.4727 - val_binary_accuracy: 0.8638\n",
            "Epoch 10/10\n",
            "625/625 [==============================] - 4s 7ms/step - loss: 0.0617 - binary_accuracy: 0.9832 - val_loss: 0.5168 - val_binary_accuracy: 0.8644\n",
            "782/782 [==============================] - 1s 1ms/step - loss: 0.6064 - binary_accuracy: 0.8412\n",
            "Testing performance:\n",
            " Loss: 0.6064019799232483 - Accuracy: 0.8411999940872192\n",
            "========= activation function = softmax ============\n",
            "Model: \"sequential_9\"\n",
            "_________________________________________________________________\n",
            "Layer (type)                 Output Shape              Param #   \n",
            "=================================================================\n",
            "embedding_9 (Embedding)      (None, None, 16)          160016    \n",
            "_________________________________________________________________\n",
            "dropout_18 (Dropout)         (None, None, 16)          0         \n",
            "_________________________________________________________________\n",
            "global_average_pooling1d_9 ( (None, 16)                0         \n",
            "_________________________________________________________________\n",
            "dropout_19 (Dropout)         (None, 16)                0         \n",
            "_________________________________________________________________\n",
            "dense_10 (Dense)             (None, 32)                544       \n",
            "_________________________________________________________________\n",
            "dense_11 (Dense)             (None, 1)                 33        \n",
            "=================================================================\n",
            "Total params: 160,593\n",
            "Trainable params: 160,593\n",
            "Non-trainable params: 0\n",
            "_________________________________________________________________\n",
            "None\n",
            "Epoch 1/10\n",
            "625/625 [==============================] - 5s 7ms/step - loss: 0.6851 - binary_accuracy: 0.6045 - val_loss: 0.6572 - val_binary_accuracy: 0.7464\n",
            "Epoch 2/10\n",
            "625/625 [==============================] - 4s 7ms/step - loss: 0.5730 - binary_accuracy: 0.7997 - val_loss: 0.4869 - val_binary_accuracy: 0.8358\n",
            "Epoch 3/10\n",
            "625/625 [==============================] - 4s 7ms/step - loss: 0.4125 - binary_accuracy: 0.8607 - val_loss: 0.3745 - val_binary_accuracy: 0.8626\n",
            "Epoch 4/10\n",
            "625/625 [==============================] - 4s 7ms/step - loss: 0.3258 - binary_accuracy: 0.8824 - val_loss: 0.3300 - val_binary_accuracy: 0.8712\n",
            "Epoch 5/10\n",
            "625/625 [==============================] - 5s 7ms/step - loss: 0.2798 - binary_accuracy: 0.8997 - val_loss: 0.3110 - val_binary_accuracy: 0.8744\n",
            "Epoch 6/10\n",
            "625/625 [==============================] - 5s 7ms/step - loss: 0.2477 - binary_accuracy: 0.9118 - val_loss: 0.3021 - val_binary_accuracy: 0.8768\n",
            "Epoch 7/10\n",
            "625/625 [==============================] - 4s 7ms/step - loss: 0.2241 - binary_accuracy: 0.9220 - val_loss: 0.2983 - val_binary_accuracy: 0.8782\n",
            "Epoch 8/10\n",
            "625/625 [==============================] - 4s 7ms/step - loss: 0.2039 - binary_accuracy: 0.9308 - val_loss: 0.2985 - val_binary_accuracy: 0.8784\n",
            "Epoch 9/10\n",
            "625/625 [==============================] - 4s 7ms/step - loss: 0.1868 - binary_accuracy: 0.9396 - val_loss: 0.3003 - val_binary_accuracy: 0.8798\n",
            "Epoch 10/10\n",
            "625/625 [==============================] - 4s 7ms/step - loss: 0.1725 - binary_accuracy: 0.9441 - val_loss: 0.3042 - val_binary_accuracy: 0.8806\n",
            "782/782 [==============================] - 1s 2ms/step - loss: 0.3231 - binary_accuracy: 0.8727\n",
            "Testing performance:\n",
            " Loss: 0.32309114933013916 - Accuracy: 0.8726800084114075\n",
            "========= activation function = sigmoid ============\n",
            "Model: \"sequential_10\"\n",
            "_________________________________________________________________\n",
            "Layer (type)                 Output Shape              Param #   \n",
            "=================================================================\n",
            "embedding_10 (Embedding)     (None, None, 16)          160016    \n",
            "_________________________________________________________________\n",
            "dropout_20 (Dropout)         (None, None, 16)          0         \n",
            "_________________________________________________________________\n",
            "global_average_pooling1d_10  (None, 16)                0         \n",
            "_________________________________________________________________\n",
            "dropout_21 (Dropout)         (None, 16)                0         \n",
            "_________________________________________________________________\n",
            "dense_12 (Dense)             (None, 32)                544       \n",
            "_________________________________________________________________\n",
            "dense_13 (Dense)             (None, 1)                 33        \n",
            "=================================================================\n",
            "Total params: 160,593\n",
            "Trainable params: 160,593\n",
            "Non-trainable params: 0\n",
            "_________________________________________________________________\n",
            "None\n",
            "Epoch 1/10\n",
            "625/625 [==============================] - 5s 7ms/step - loss: 0.6594 - binary_accuracy: 0.6445 - val_loss: 0.5738 - val_binary_accuracy: 0.7674\n",
            "Epoch 2/10\n",
            "625/625 [==============================] - 4s 6ms/step - loss: 0.4469 - binary_accuracy: 0.8297 - val_loss: 0.3701 - val_binary_accuracy: 0.8534\n",
            "Epoch 3/10\n",
            "625/625 [==============================] - 4s 7ms/step - loss: 0.3129 - binary_accuracy: 0.8755 - val_loss: 0.3158 - val_binary_accuracy: 0.8702\n",
            "Epoch 4/10\n",
            "625/625 [==============================] - 4s 6ms/step - loss: 0.2622 - binary_accuracy: 0.8980 - val_loss: 0.2979 - val_binary_accuracy: 0.8748\n",
            "Epoch 5/10\n",
            "625/625 [==============================] - 4s 6ms/step - loss: 0.2303 - binary_accuracy: 0.9127 - val_loss: 0.2915 - val_binary_accuracy: 0.8788\n",
            "Epoch 6/10\n",
            "625/625 [==============================] - 4s 6ms/step - loss: 0.2043 - binary_accuracy: 0.9237 - val_loss: 0.2911 - val_binary_accuracy: 0.8796\n",
            "Epoch 7/10\n",
            "625/625 [==============================] - 5s 8ms/step - loss: 0.1835 - binary_accuracy: 0.9336 - val_loss: 0.2947 - val_binary_accuracy: 0.8806\n",
            "Epoch 8/10\n",
            "625/625 [==============================] - 4s 7ms/step - loss: 0.1660 - binary_accuracy: 0.9409 - val_loss: 0.3017 - val_binary_accuracy: 0.8830\n",
            "Epoch 9/10\n",
            "625/625 [==============================] - 4s 7ms/step - loss: 0.1501 - binary_accuracy: 0.9483 - val_loss: 0.3113 - val_binary_accuracy: 0.8822\n",
            "Epoch 10/10\n",
            "625/625 [==============================] - 4s 6ms/step - loss: 0.1353 - binary_accuracy: 0.9543 - val_loss: 0.3248 - val_binary_accuracy: 0.8810\n",
            "782/782 [==============================] - 1s 1ms/step - loss: 0.3628 - binary_accuracy: 0.8671\n",
            "Testing performance:\n",
            " Loss: 0.3627910912036896 - Accuracy: 0.8670799732208252\n"
          ]
        }
      ]
    },
    {
      "cell_type": "markdown",
      "metadata": {
        "id": "NOBe7jHOHLQ_"
      },
      "source": [
        "## With different Batch size"
      ]
    },
    {
      "cell_type": "code",
      "metadata": {
        "id": "1dPOERiaH501",
        "colab": {
          "base_uri": "https://localhost:8080/"
        },
        "outputId": "f656b800-1921-492b-b80a-9ab44702b626"
      },
      "source": [
        "# Loading data from the directory\n",
        "batch_size = 64\n",
        "seed = 42\n",
        "raw_train = tf.keras.utils.text_dataset_from_directory ('aclImdb/train',\n",
        "                                                        batch_size =batch_size,\n",
        "                                                        validation_split = 0.2,\n",
        "                                                        subset = 'training',\n",
        "                                                        seed = seed)\n",
        "raw_val = tf.keras.utils.text_dataset_from_directory ('aclImdb/train',\n",
        "                                                      batch_size = batch_size,\n",
        "                                                      validation_split = 0.2,\n",
        "                                                      subset = 'validation',\n",
        "                                                      seed = seed)\n",
        "raw_test = tf.keras.utils.text_dataset_from_directory ('aclImdb/test',\n",
        "                                                       batch_size = batch_size)\n",
        "\n",
        "# storing text batch and label batch\n",
        "text_batch, label_batch = next(iter(raw_train))\n",
        "\n",
        "## print an instance with vectorized review and label for observing\n",
        "print ('REVIEW:', text_batch[0])\n",
        "print('LABEL:', raw_train.class_names[label_batch[0]] )\n",
        "\n",
        "\n",
        "# Creating the model\n",
        "embedding_dim = 16\n",
        "dropout =  0.1\n",
        "activation =  'softmax'\n",
        "\n",
        "print (\"======== activation function = {}, dropout = {}, batch size = {} ============\".format(activation, dropout, batch_size ))\n",
        "model = tf.keras.Sequential([layers.Embedding(max_features + 1,embedding_dim, name=\"embedding\"),\n",
        "                            layers.Dropout(dropout),\n",
        "                            layers.GlobalAveragePooling1D(),\n",
        "                            layers.Dropout(dropout),\n",
        "                            layers.Dense(32, activation= activation),\n",
        "                            layers.Dense(1)])\n",
        "print(model.summary())\n",
        "\n",
        "# configure the model uisng optimizer and loss function\n",
        "model.compile(loss = losses.BinaryCrossentropy(from_logits = True),\n",
        "              optimizer = 'adam',\n",
        "              metrics = tf.metrics.BinaryAccuracy(threshold = 0.0 )) ## Why threshold = 0.0??\n",
        "# training the model\n",
        "epochs = 10\n",
        "history = model.fit(train,\n",
        "                    validation_data = val,\n",
        "                    epochs = epochs)\n",
        "# testing the model\n",
        "loss, accuracy = model.evaluate(test)\n",
        "print('Testing performance:\\n Loss: {} - Accuracy: {}'. format(loss, accuracy))"
      ],
      "execution_count": 13,
      "outputs": [
        {
          "output_type": "stream",
          "name": "stdout",
          "text": [
            "Found 25000 files belonging to 2 classes.\n",
            "Using 20000 files for training.\n",
            "Found 25000 files belonging to 2 classes.\n",
            "Using 5000 files for validation.\n",
            "Found 25000 files belonging to 2 classes.\n",
            "REVIEW: tf.Tensor(b\"First of all, I liked very much the central idea of locating the '' intruders'', Others in the fragile Self, on various levels - mainly subconscious but sometimes more allegorical. In fact the intruders are omnipresent throughout the film : in the Swiss-French border where the pretagonist leads secluded life; in the his recurring daydream and nightmare; inside his ailing body after heart transplantation.... In the last half of the film, he becomes intruder himself, returning in ancient french colony in the hope of atoning for the past. <br /><br />The overall tone is bitter rather than pathetic, full of regrets and guilts, sense of failure being more or less dominant. This is a quite grim picture of an old age, ostensibly self-dependent but hopelessly void and lonely inside. The directer composes the images more to convey passing sensations of anxiety and desire than any explicit meanings. Some of them are mesmerizing, not devoid of humor though, kind of absurdist play only somnambulist can visualize.\", shape=(), dtype=string)\n",
            "LABEL: pos\n",
            "======== activation function = softmax, dropout = 0.1, batch size = 64 ============\n",
            "Model: \"sequential_1\"\n",
            "_________________________________________________________________\n",
            "Layer (type)                 Output Shape              Param #   \n",
            "=================================================================\n",
            "embedding (Embedding)        (None, None, 16)          160016    \n",
            "_________________________________________________________________\n",
            "dropout_2 (Dropout)          (None, None, 16)          0         \n",
            "_________________________________________________________________\n",
            "global_average_pooling1d_1 ( (None, 16)                0         \n",
            "_________________________________________________________________\n",
            "dropout_3 (Dropout)          (None, 16)                0         \n",
            "_________________________________________________________________\n",
            "dense_2 (Dense)              (None, 32)                544       \n",
            "_________________________________________________________________\n",
            "dense_3 (Dense)              (None, 1)                 33        \n",
            "=================================================================\n",
            "Total params: 160,593\n",
            "Trainable params: 160,593\n",
            "Non-trainable params: 0\n",
            "_________________________________________________________________\n",
            "None\n",
            "Epoch 1/10\n",
            "313/313 [==============================] - 10s 28ms/step - loss: 0.6923 - binary_accuracy: 0.5569 - val_loss: 0.6884 - val_binary_accuracy: 0.6288\n",
            "Epoch 2/10\n",
            "313/313 [==============================] - 3s 9ms/step - loss: 0.6679 - binary_accuracy: 0.7149 - val_loss: 0.6354 - val_binary_accuracy: 0.7646\n",
            "Epoch 3/10\n",
            "313/313 [==============================] - 3s 9ms/step - loss: 0.5788 - binary_accuracy: 0.8038 - val_loss: 0.5270 - val_binary_accuracy: 0.8264\n",
            "Epoch 4/10\n",
            "313/313 [==============================] - 3s 9ms/step - loss: 0.4676 - binary_accuracy: 0.8497 - val_loss: 0.4326 - val_binary_accuracy: 0.8518\n",
            "Epoch 5/10\n",
            "313/313 [==============================] - 3s 9ms/step - loss: 0.3869 - binary_accuracy: 0.8702 - val_loss: 0.3764 - val_binary_accuracy: 0.8630\n",
            "Epoch 6/10\n",
            "313/313 [==============================] - 3s 8ms/step - loss: 0.3347 - binary_accuracy: 0.8842 - val_loss: 0.3438 - val_binary_accuracy: 0.8682\n",
            "Epoch 7/10\n",
            "313/313 [==============================] - 3s 8ms/step - loss: 0.2984 - binary_accuracy: 0.8954 - val_loss: 0.3240 - val_binary_accuracy: 0.8708\n",
            "Epoch 8/10\n",
            "313/313 [==============================] - 3s 8ms/step - loss: 0.2707 - binary_accuracy: 0.9046 - val_loss: 0.3117 - val_binary_accuracy: 0.8744\n",
            "Epoch 9/10\n",
            "313/313 [==============================] - 3s 9ms/step - loss: 0.2485 - binary_accuracy: 0.9141 - val_loss: 0.3047 - val_binary_accuracy: 0.8772\n",
            "Epoch 10/10\n",
            "313/313 [==============================] - 3s 9ms/step - loss: 0.2300 - binary_accuracy: 0.9202 - val_loss: 0.3008 - val_binary_accuracy: 0.8756\n",
            "391/391 [==============================] - 7s 18ms/step - loss: 0.3157 - binary_accuracy: 0.8717\n",
            "Testing performance:\n",
            " Loss: 0.31570467352867126 - Accuracy: 0.8716800212860107\n"
          ]
        }
      ]
    },
    {
      "cell_type": "markdown",
      "metadata": {
        "id": "G7OsTdtjWfge"
      },
      "source": [
        "## With different training algorithm\n",
        "Here we mostly focus on adapting learning rate method"
      ]
    },
    {
      "cell_type": "code",
      "metadata": {
        "colab": {
          "base_uri": "https://localhost:8080/"
        },
        "id": "JnIwxcEVW4CC",
        "outputId": "ea3a855b-6c1c-48b3-8d35-2df1fe986d6f"
      },
      "source": [
        "# configure the model uisng optimizer and loss function\n",
        "optimizers = ['adagrad', 'rmsprop', 'adam']\n",
        "\n",
        "print (\"======== activation function = {}, dropout = {}, batch size = {} ============\".format(activation, dropout, batch_size ))\n",
        "for opt in optimizers:\n",
        "  print( '========== optimizer = %s' %opt)\n",
        "  model.compile(loss = losses.BinaryCrossentropy(from_logits = True),\n",
        "                optimizer = opt,\n",
        "                metrics = tf.metrics.BinaryAccuracy(threshold = 0.0 )) ## Why threshold = 0.0??\n",
        "  # training the model\n",
        "  epochs = 10\n",
        "  history = model.fit(train,\n",
        "                      validation_data = val,\n",
        "                      epochs = epochs)\n",
        "  # testing the model\n",
        "  loss, accuracy = model.evaluate(test)\n",
        "  print('Testing performance:\\n Loss: {:.3f} - Accuracy: {:.3f}'. format(loss, accuracy))"
      ],
      "execution_count": 14,
      "outputs": [
        {
          "output_type": "stream",
          "name": "stdout",
          "text": [
            "======== activation function = softmax, dropout = 0.1, batch size = 64 ============\n",
            "========== optimizer = adagrad\n",
            "Epoch 1/10\n",
            "625/625 [==============================] - 3s 5ms/step - loss: 0.1531 - binary_accuracy: 0.9538 - val_loss: 0.3069 - val_binary_accuracy: 0.8796\n",
            "Epoch 2/10\n",
            "625/625 [==============================] - 3s 5ms/step - loss: 0.1533 - binary_accuracy: 0.9542 - val_loss: 0.3069 - val_binary_accuracy: 0.8800\n",
            "Epoch 3/10\n",
            "625/625 [==============================] - 3s 5ms/step - loss: 0.1538 - binary_accuracy: 0.9530 - val_loss: 0.3070 - val_binary_accuracy: 0.8796\n",
            "Epoch 4/10\n",
            "625/625 [==============================] - 3s 5ms/step - loss: 0.1533 - binary_accuracy: 0.9532 - val_loss: 0.3070 - val_binary_accuracy: 0.8802\n",
            "Epoch 5/10\n",
            "625/625 [==============================] - 3s 5ms/step - loss: 0.1524 - binary_accuracy: 0.9536 - val_loss: 0.3071 - val_binary_accuracy: 0.8800\n",
            "Epoch 6/10\n",
            "625/625 [==============================] - 3s 5ms/step - loss: 0.1533 - binary_accuracy: 0.9534 - val_loss: 0.3071 - val_binary_accuracy: 0.8804\n",
            "Epoch 7/10\n",
            "625/625 [==============================] - 3s 5ms/step - loss: 0.1521 - binary_accuracy: 0.9545 - val_loss: 0.3071 - val_binary_accuracy: 0.8810\n",
            "Epoch 8/10\n",
            "625/625 [==============================] - 3s 5ms/step - loss: 0.1522 - binary_accuracy: 0.9538 - val_loss: 0.3071 - val_binary_accuracy: 0.8810\n",
            "Epoch 9/10\n",
            "625/625 [==============================] - 3s 5ms/step - loss: 0.1531 - binary_accuracy: 0.9527 - val_loss: 0.3071 - val_binary_accuracy: 0.8810\n",
            "Epoch 10/10\n",
            "625/625 [==============================] - 3s 5ms/step - loss: 0.1522 - binary_accuracy: 0.9546 - val_loss: 0.3072 - val_binary_accuracy: 0.8810\n",
            "782/782 [==============================] - 1s 1ms/step - loss: 0.3284 - binary_accuracy: 0.8731\n",
            "Testing performance:\n",
            " Loss: 0.328 - Accuracy: 0.873\n",
            "========== optimizer = rmsprop\n",
            "Epoch 1/10\n",
            "625/625 [==============================] - 4s 6ms/step - loss: 0.1531 - binary_accuracy: 0.9535 - val_loss: 0.3152 - val_binary_accuracy: 0.8808\n",
            "Epoch 2/10\n",
            "625/625 [==============================] - 3s 6ms/step - loss: 0.1484 - binary_accuracy: 0.9534 - val_loss: 0.3210 - val_binary_accuracy: 0.8810\n",
            "Epoch 3/10\n",
            "625/625 [==============================] - 4s 6ms/step - loss: 0.1437 - binary_accuracy: 0.9545 - val_loss: 0.3248 - val_binary_accuracy: 0.8822\n",
            "Epoch 4/10\n",
            "625/625 [==============================] - 4s 6ms/step - loss: 0.1404 - binary_accuracy: 0.9558 - val_loss: 0.3282 - val_binary_accuracy: 0.8828\n",
            "Epoch 5/10\n",
            "625/625 [==============================] - 3s 6ms/step - loss: 0.1383 - binary_accuracy: 0.9561 - val_loss: 0.3305 - val_binary_accuracy: 0.8832\n",
            "Epoch 6/10\n",
            "625/625 [==============================] - 4s 6ms/step - loss: 0.1354 - binary_accuracy: 0.9574 - val_loss: 0.3326 - val_binary_accuracy: 0.8844\n",
            "Epoch 7/10\n",
            "625/625 [==============================] - 3s 5ms/step - loss: 0.1336 - binary_accuracy: 0.9581 - val_loss: 0.3365 - val_binary_accuracy: 0.8818\n",
            "Epoch 8/10\n",
            "625/625 [==============================] - 3s 6ms/step - loss: 0.1318 - binary_accuracy: 0.9586 - val_loss: 0.3394 - val_binary_accuracy: 0.8804\n",
            "Epoch 9/10\n",
            "625/625 [==============================] - 4s 6ms/step - loss: 0.1297 - binary_accuracy: 0.9597 - val_loss: 0.3416 - val_binary_accuracy: 0.8792\n",
            "Epoch 10/10\n",
            "625/625 [==============================] - 3s 5ms/step - loss: 0.1289 - binary_accuracy: 0.9604 - val_loss: 0.3433 - val_binary_accuracy: 0.8806\n",
            "782/782 [==============================] - 1s 1ms/step - loss: 0.3845 - binary_accuracy: 0.8658\n",
            "Testing performance:\n",
            " Loss: 0.384 - Accuracy: 0.866\n",
            "========== optimizer = adam\n",
            "Epoch 1/10\n",
            "625/625 [==============================] - 5s 7ms/step - loss: 0.1269 - binary_accuracy: 0.9610 - val_loss: 0.3420 - val_binary_accuracy: 0.8824\n",
            "Epoch 2/10\n",
            "625/625 [==============================] - 4s 7ms/step - loss: 0.1196 - binary_accuracy: 0.9637 - val_loss: 0.3459 - val_binary_accuracy: 0.8826\n",
            "Epoch 3/10\n",
            "625/625 [==============================] - 4s 7ms/step - loss: 0.1108 - binary_accuracy: 0.9679 - val_loss: 0.3527 - val_binary_accuracy: 0.8816\n",
            "Epoch 4/10\n",
            "625/625 [==============================] - 4s 7ms/step - loss: 0.1045 - binary_accuracy: 0.9704 - val_loss: 0.3612 - val_binary_accuracy: 0.8834\n",
            "Epoch 5/10\n",
            "625/625 [==============================] - 4s 7ms/step - loss: 0.0962 - binary_accuracy: 0.9747 - val_loss: 0.3723 - val_binary_accuracy: 0.8828\n",
            "Epoch 6/10\n",
            "625/625 [==============================] - 4s 7ms/step - loss: 0.0897 - binary_accuracy: 0.9772 - val_loss: 0.3826 - val_binary_accuracy: 0.8804\n",
            "Epoch 7/10\n",
            "625/625 [==============================] - 4s 7ms/step - loss: 0.0846 - binary_accuracy: 0.9798 - val_loss: 0.3943 - val_binary_accuracy: 0.8816\n",
            "Epoch 8/10\n",
            "625/625 [==============================] - 4s 7ms/step - loss: 0.0778 - binary_accuracy: 0.9818 - val_loss: 0.4061 - val_binary_accuracy: 0.8806\n",
            "Epoch 9/10\n",
            "625/625 [==============================] - 4s 7ms/step - loss: 0.0723 - binary_accuracy: 0.9836 - val_loss: 0.4196 - val_binary_accuracy: 0.8774\n",
            "Epoch 10/10\n",
            "625/625 [==============================] - 4s 7ms/step - loss: 0.0674 - binary_accuracy: 0.9851 - val_loss: 0.4323 - val_binary_accuracy: 0.8768\n",
            "782/782 [==============================] - 1s 1ms/step - loss: 0.5059 - binary_accuracy: 0.8514\n",
            "Testing performance:\n",
            " Loss: 0.506 - Accuracy: 0.851\n"
          ]
        }
      ]
    },
    {
      "cell_type": "markdown",
      "metadata": {
        "id": "Ln0waE00a6eE"
      },
      "source": [
        "# Word Embedding"
      ]
    },
    {
      "cell_type": "code",
      "metadata": {
        "id": "1LsKSP4Sa-kC"
      },
      "source": [
        "weights = model.get_layer('embedding').get_weights()[0]\n",
        "vocab = vectorize_layer.get_vocabulary()"
      ],
      "execution_count": 14,
      "outputs": []
    },
    {
      "cell_type": "code",
      "metadata": {
        "id": "im8CyYCyWuOI",
        "colab": {
          "base_uri": "https://localhost:8080/"
        },
        "outputId": "f4ded336-3579-4508-b144-9c994718d002"
      },
      "source": [
        "\n",
        "from sklearn.metrics.pairwise import cosine_similarity\n",
        "def Find_similar_w (word, n):\n",
        "  all_cos_sim = {}\n",
        "  idx = vocab.index(word)\n",
        "  weight = weights[idx]\n",
        "  for i in range(len(weights)-1):\n",
        "    cosine_sim = cosine_similarity(weight.reshape(1, -1), weights[i].reshape(1, -1))\n",
        "    all_cos_sim[vocab[i]] = cosine_sim\n",
        "  # Sorting the dictionary in descending order\n",
        "  sorted_cos = {k:v for k, v in sorted(all_cos_sim.items(), key = lambda item: item[1], reverse=True)}\n",
        "  print (\"Top {} most similar with '{}' \\n\".format(n, word))\n",
        "  for k, v in list(sorted_cos.items())[:n]:\n",
        "    print ('{} =====> {}'. format(k,v))\n",
        "  return  sorted_cos\n",
        "most_similar_w = Find_similar_w (word = 'boring', n = 20)\n"
      ],
      "execution_count": 39,
      "outputs": [
        {
          "output_type": "stream",
          "name": "stdout",
          "text": [
            "Top 20 most similar with 'boring' \n",
            "\n",
            "boring =====> [[1.]]\n",
            "supposed =====> [[0.9995931]]\n",
            "ridiculous =====> [[0.9995896]]\n",
            "waste =====> [[0.9995813]]\n",
            "worst =====> [[0.9995438]]\n",
            "lame =====> [[0.9995393]]\n",
            "worse =====> [[0.99953794]]\n",
            "terrible =====> [[0.99949324]]\n",
            "pointless =====> [[0.9994908]]\n",
            "stupid =====> [[0.9994743]]\n",
            "none =====> [[0.9994457]]\n",
            "dull =====> [[0.9994401]]\n",
            "awful =====> [[0.99943215]]\n",
            "mess =====> [[0.9994273]]\n",
            "bad =====> [[0.99942076]]\n",
            "garbage =====> [[0.9994071]]\n",
            "minutes =====> [[0.99939823]]\n",
            "save =====> [[0.999353]]\n",
            "disappointed =====> [[0.9993429]]\n",
            "oh =====> [[0.99934185]]\n"
          ]
        }
      ]
    },
    {
      "cell_type": "markdown",
      "metadata": {
        "id": "yiijE5K_bARq"
      },
      "source": [
        "# Comparing with a Logistic Regression model"
      ]
    },
    {
      "cell_type": "code",
      "metadata": {
        "id": "gKdXFowRwer9",
        "colab": {
          "base_uri": "https://localhost:8080/"
        },
        "outputId": "1a186d47-e034-4820-cacb-2eead7048549"
      },
      "source": [
        "# loading the ds\n",
        "def Getdata(dir):\n",
        "  review, label = [], []\n",
        "  for folder in glob.glob (dir+'/*'):\n",
        "    for file in glob.glob(folder+'/*'): \n",
        "      fo = open(file)\n",
        "      doc = fo.read()\n",
        "      review.append (doc)\n",
        "      if 'pos' in file:\n",
        "        label.append(1)\n",
        "      elif 'neg' in file:\n",
        "        label.append(0)\n",
        "  df = pd.DataFrame(zip(review,label), columns = ['review', 'label'])\n",
        "  return df\n",
        "  \n",
        "train_df = Getdata(train_dir)\n",
        "test_df = Getdata(test_dir)\n",
        "# Spliting the dataset for training and testing\n",
        "X_train, X_val, y_train, y_val = train_test_split (train_df['review'],train_df['label'], train_size = 0.8, random_state = 42, shuffle = True)\n",
        "X_test, y_test = test_df['review'], test_df['label']\n",
        "print ('Shapes of X_train, y_train: ', X_train.shape, y_train.shape)\n",
        "print ('Shapes of X_val, y_val: ', X_val.shape, y_val.shape)\n",
        "print ('Shapes of X_test, y_test: ', X_test.shape, y_test.shape) "
      ],
      "execution_count": 15,
      "outputs": [
        {
          "output_type": "stream",
          "name": "stdout",
          "text": [
            "Shapes of X_train, y_train:  (20000,) (20000,)\n",
            "Shapes of X_val, y_val:  (5000,) (5000,)\n",
            "Shapes of X_test, y_test:  (25000,) (25000,)\n"
          ]
        }
      ]
    },
    {
      "cell_type": "code",
      "metadata": {
        "id": "mhfG0yG8meEX"
      },
      "source": [
        "\n",
        "def printing_eval_scores (y_true, y_pred, report=''):\n",
        "  accuracy = sklearn.metrics.accuracy_score(y_true, y_pred)\n",
        "  precision = sklearn.metrics.precision_score(y_true, y_pred)\n",
        "  recall = sklearn.metrics.recall_score(y_true, y_pred)\n",
        "  f1 = sklearn.metrics.f1_score(y_true, y_pred)\n",
        "  print('accuracy score: {:.3f}'.format(accuracy))\n",
        "  print('precision score: {:.3f}'.format(precision))\n",
        "  print('recall score: {:.3f}'.format(recall))\n",
        "  print('F1 score: {:.3f}'.format(f1))\n",
        "  if report is True:\n",
        "    print(classification_report(y_true, y_pred))\n",
        "  else:\n",
        "    pass\n",
        "  return accuracy, precision, recall, f1"
      ],
      "execution_count": 16,
      "outputs": []
    },
    {
      "cell_type": "markdown",
      "metadata": {
        "id": "hALCMWMSmLhv"
      },
      "source": [
        "### With Countvectorizer text presentation"
      ]
    },
    {
      "cell_type": "code",
      "metadata": {
        "id": "P9BcQ-UebIcI",
        "colab": {
          "base_uri": "https://localhost:8080/"
        },
        "outputId": "52d7b4a6-bb67-40e1-e4c7-4bcaf4a1663f"
      },
      "source": [
        "\n",
        "from sklearn.linear_model import LogisticRegression\n",
        "# Vectorizing the documents\n",
        "vectorizer = CountVectorizer(binary = True)\n",
        "X_train_count = vectorizer.fit_transform(X_train.to_list())\n",
        "X_val_count = vectorizer.transform(X_val.to_list())\n",
        "X_test_count = vectorizer.transform(X_test.to_list())\n",
        "print ('Shapes of X_train, y_train: ', X_train_count.shape, y_train.shape)\n",
        "print ('Shapes of X_val, y_val: ', X_val_count.shape, y_val.shape)\n",
        "print ('Shapes of X_test, y_test: ', X_test_count.shape, y_test.shape)\n",
        "\n",
        "# Sklearn Logistic Regression Model\n",
        "sk_lr_1 = LogisticRegression(solver='lbfgs', max_iter=500).fit(X_train_count, y_train )\n",
        "y_predict = sk_lr_1.predict(X_test_count)\n",
        "\n",
        "# Model performing\n",
        "## on training set\n",
        "print('Model performance with Countvectorizer: \\non validation set:')\n",
        "printing_eval_scores (y_val, sk_lr_1.predict(X_val_count))\n",
        "\n",
        "## on test set\n",
        "print('\\n===========================')\n",
        "print('on test set:')\n",
        "printing_eval_scores (y_test, y_predict, report = True)"
      ],
      "execution_count": 17,
      "outputs": [
        {
          "output_type": "stream",
          "name": "stdout",
          "text": [
            "Shapes of X_train, y_train:  (20000, 68468) (20000,)\n",
            "Shapes of X_val, y_val:  (5000, 68468) (5000,)\n",
            "Shapes of X_test, y_test:  (25000, 68468) (25000,)\n",
            "Model performance with Countvectorizer: \n",
            "on validation set:\n",
            "accuracy score: 0.872\n",
            "precision score: 0.862\n",
            "recall score: 0.883\n",
            "F1 score: 0.873\n",
            "\n",
            "===========================\n",
            "on test set:\n",
            "accuracy score: 0.866\n",
            "precision score: 0.866\n",
            "recall score: 0.866\n",
            "F1 score: 0.866\n",
            "              precision    recall  f1-score   support\n",
            "\n",
            "           0       0.87      0.87      0.87     12500\n",
            "           1       0.87      0.87      0.87     12500\n",
            "\n",
            "    accuracy                           0.87     25000\n",
            "   macro avg       0.87      0.87      0.87     25000\n",
            "weighted avg       0.87      0.87      0.87     25000\n",
            "\n"
          ]
        },
        {
          "output_type": "execute_result",
          "data": {
            "text/plain": [
              "(0.8658, 0.8659463785514205, 0.8656, 0.8657731546309262)"
            ]
          },
          "metadata": {},
          "execution_count": 17
        }
      ]
    },
    {
      "cell_type": "markdown",
      "metadata": {
        "id": "I_ex3J6rmVKu"
      },
      "source": [
        "### With tf-idf text presentation"
      ]
    },
    {
      "cell_type": "code",
      "metadata": {
        "colab": {
          "base_uri": "https://localhost:8080/"
        },
        "id": "Av3pjC83mUbt",
        "outputId": "34b41e4f-c928-48b5-eaae-d1811c7c3424"
      },
      "source": [
        "# Vectorizing the documents\n",
        "tfidf = TfidfVectorizer()\n",
        "X_train_tfidf = tfidf.fit_transform(X_train.to_list())\n",
        "X_val_tfidf = tfidf.transform(X_val.to_list())\n",
        "X_test_tfidf = tfidf.transform(X_test.to_list())\n",
        "print ('Shapes of X_train, y_train: ', X_train_tfidf.shape, y_train.shape)\n",
        "print ('Shapes of X_val, y_val: ', X_val_tfidf.shape, y_val.shape)\n",
        "print ('Shapes of X_test, y_test: ', X_test_tfidf.shape, y_test.shape)\n",
        "\n",
        "# Sklearn Logistic Regression Model\n",
        "sk_lr_2 = LogisticRegression(solver='lbfgs', max_iter=500).fit(X_train_tfidf, y_train )\n",
        "y_predict = sk_lr_2.predict(X_test_tfidf)\n",
        "\n",
        "# Model performing\n",
        "## on training set\n",
        "print('Model performance with tfidf: \\non validation set:')\n",
        "printing_eval_scores (y_val, sk_lr_2.predict(X_val_tfidf))\n",
        "\n",
        "## on test set\n",
        "print('\\n===========================')\n",
        "print('on test set:')\n",
        "printing_eval_scores (y_test, y_predict, report = True)"
      ],
      "execution_count": 18,
      "outputs": [
        {
          "output_type": "stream",
          "name": "stdout",
          "text": [
            "Shapes of X_train, y_train:  (20000, 68468) (20000,)\n",
            "Shapes of X_val, y_val:  (5000, 68468) (5000,)\n",
            "Shapes of X_test, y_test:  (25000, 68468) (25000,)\n",
            "Model performance with tfidf: \n",
            "on validation set:\n",
            "accuracy score: 0.893\n",
            "precision score: 0.888\n",
            "recall score: 0.898\n",
            "F1 score: 0.893\n",
            "\n",
            "===========================\n",
            "on test set:\n",
            "accuracy score: 0.882\n",
            "precision score: 0.881\n",
            "recall score: 0.883\n",
            "F1 score: 0.882\n",
            "              precision    recall  f1-score   support\n",
            "\n",
            "           0       0.88      0.88      0.88     12500\n",
            "           1       0.88      0.88      0.88     12500\n",
            "\n",
            "    accuracy                           0.88     25000\n",
            "   macro avg       0.88      0.88      0.88     25000\n",
            "weighted avg       0.88      0.88      0.88     25000\n",
            "\n"
          ]
        },
        {
          "output_type": "execute_result",
          "data": {
            "text/plain": [
              "(0.882, 0.8811462324393359, 0.88312, 0.8821320121463961)"
            ]
          },
          "metadata": {},
          "execution_count": 18
        }
      ]
    },
    {
      "cell_type": "markdown",
      "metadata": {
        "id": "SUMJOCJYERVd"
      },
      "source": [
        "# Part 2: Multiclass classification"
      ]
    },
    {
      "cell_type": "markdown",
      "metadata": {
        "id": "WThVxknkGiXc"
      },
      "source": [
        "## Loading the dataset"
      ]
    },
    {
      "cell_type": "code",
      "metadata": {
        "id": "1xxae0yIEyQW",
        "outputId": "c715aad2-a553-4869-cb1e-5c8e2f17d92f",
        "colab": {
          "base_uri": "https://localhost:8080/"
        }
      },
      "source": [
        "!http://storage.googleapis.com/download.tensorflow.org/data/stack_overflow_16k.tar.gz"
      ],
      "execution_count": 40,
      "outputs": [
        {
          "output_type": "stream",
          "name": "stdout",
          "text": [
            "/bin/bash: http://storage.googleapis.com/download.tensorflow.org/data/stack_overflow_16k.tar.gz: No such file or directory\n"
          ]
        }
      ]
    }
  ]
}