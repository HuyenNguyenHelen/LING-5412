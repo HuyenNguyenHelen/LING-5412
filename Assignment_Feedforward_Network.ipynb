{
  "nbformat": 4,
  "nbformat_minor": 0,
  "metadata": {
    "colab": {
      "name": "Assignment_Feedforward-Network.ipynb",
      "provenance": [],
      "authorship_tag": "ABX9TyPzep1NUCgVS2XUzfq6puHZ",
      "include_colab_link": true
    },
    "kernelspec": {
      "name": "python3",
      "display_name": "Python 3"
    },
    "language_info": {
      "name": "python"
    }
  },
  "cells": [
    {
      "cell_type": "markdown",
      "metadata": {
        "id": "view-in-github",
        "colab_type": "text"
      },
      "source": [
        "<a href=\"https://colab.research.google.com/github/HuyenNguyenHelen/LING-5412/blob/main/Assignment_Feedforward_Network.ipynb\" target=\"_parent\"><img src=\"https://colab.research.google.com/assets/colab-badge.svg\" alt=\"Open In Colab\"/></a>"
      ]
    },
    {
      "cell_type": "code",
      "metadata": {
        "colab": {
          "base_uri": "https://localhost:8080/"
        },
        "id": "Ybsamp8T__sG",
        "outputId": "c09a0f58-788f-4e21-c47e-c6d9fe3bdece"
      },
      "source": [
        "import os\n",
        "import re\n",
        "import shutil\n",
        "import tensorflow as tf\n",
        "import string\n",
        "from tensorflow.keras import layers\n",
        "from tensorflow.keras import losses\n",
        "from tensorflow.keras import preprocessing\n",
        "print(tf.__version__)\n"
      ],
      "execution_count": 1,
      "outputs": [
        {
          "output_type": "stream",
          "name": "stdout",
          "text": [
            "2.6.0\n"
          ]
        }
      ]
    },
    {
      "cell_type": "markdown",
      "metadata": {
        "id": "pEecDn_cAPUR"
      },
      "source": [
        "# Part 1: IMDB sentiment analysis"
      ]
    },
    {
      "cell_type": "markdown",
      "metadata": {
        "id": "I37czSdvAJGh"
      },
      "source": [
        "## Loading the dataset"
      ]
    },
    {
      "cell_type": "code",
      "metadata": {
        "id": "LOTrU1EcAaJW",
        "colab": {
          "base_uri": "https://localhost:8080/"
        },
        "outputId": "47d1d67d-80d7-4527-ad42-3c48bb441995"
      },
      "source": [
        "url = 'https://ai.stanford.edu/~amaas/data/sentiment/aclImdb_v1.tar.gz'\n",
        "data = tf.keras.utils.get_file ('aclImdb_v1',\n",
        "                                url,\n",
        "                                untar = True,\n",
        "                                cache_dir = '.',\n",
        "                                cache_subdir = '')\n",
        "data_dir = os.path.join (os.path.dirname(data), 'aclImdb')\n",
        "print(os.listdir(data_dir))"
      ],
      "execution_count": 2,
      "outputs": [
        {
          "output_type": "stream",
          "name": "stdout",
          "text": [
            "['imdb.vocab', 'test', 'README', 'imdbEr.txt', 'train']\n"
          ]
        }
      ]
    },
    {
      "cell_type": "code",
      "metadata": {
        "colab": {
          "base_uri": "https://localhost:8080/"
        },
        "id": "sl4s0XGxECq4",
        "outputId": "2c0838f9-e826-47b0-80e3-f6ddfd7facd9"
      },
      "source": [
        "train_dir = os.path.join (data_dir, 'train')\n",
        "print(os.listdir(train_dir))"
      ],
      "execution_count": 3,
      "outputs": [
        {
          "output_type": "stream",
          "name": "stdout",
          "text": [
            "['neg', 'urls_neg.txt', 'urls_pos.txt', 'unsup', 'pos', 'urls_unsup.txt', 'unsupBow.feat', 'labeledBow.feat']\n"
          ]
        }
      ]
    },
    {
      "cell_type": "code",
      "metadata": {
        "id": "wqLbtPKfNc5Z"
      },
      "source": [
        "# We only use files in the two folders: pos, and neg, so let's remove other files\n",
        "remove_dir = os.path.join(train_dir, 'unsup')\n",
        "shutil.rmtree(remove_dir)"
      ],
      "execution_count": 4,
      "outputs": []
    },
    {
      "cell_type": "code",
      "metadata": {
        "id": "P5fHSce2Rk-7",
        "colab": {
          "base_uri": "https://localhost:8080/"
        },
        "outputId": "49cda212-e4f1-42d7-dfeb-2aa2b08a203a"
      },
      "source": [
        "# Loading data from the directory\n",
        "batch_size = 32\n",
        "seed = 42\n",
        "raw_train = tf.keras.utils.text_dataset_from_directory ('aclImdb/train',\n",
        "                                                        batch_size =batch_size,\n",
        "                                                        validation_split = 0.2,\n",
        "                                                        subset = 'training',\n",
        "                                                        seed = seed)\n",
        "raw_val = tf.keras.utils.text_dataset_from_directory ('aclImdb/train',\n",
        "                                                      batch_size = batch_size,\n",
        "                                                      validation_split = 0.2,\n",
        "                                                      subset = 'validation',\n",
        "                                                      seed = seed)\n",
        "raw_test = tf.keras.utils.text_dataset_from_directory ('aclImdb/test',\n",
        "                                                       batch_size = batch_size)"
      ],
      "execution_count": 5,
      "outputs": [
        {
          "output_type": "stream",
          "name": "stdout",
          "text": [
            "Found 25000 files belonging to 2 classes.\n",
            "Using 20000 files for training.\n",
            "Found 25000 files belonging to 2 classes.\n",
            "Using 5000 files for validation.\n",
            "Found 25000 files belonging to 2 classes.\n"
          ]
        }
      ]
    },
    {
      "cell_type": "markdown",
      "metadata": {
        "id": "HuL_ipXkaAyv"
      },
      "source": [
        "# Text representation"
      ]
    },
    {
      "cell_type": "code",
      "metadata": {
        "id": "1KVgg_ZWaFtU",
        "colab": {
          "base_uri": "https://localhost:8080/"
        },
        "outputId": "26dc70cb-16a8-4c85-dd06-94334edd3194"
      },
      "source": [
        "def custom_preprocessing (text):\n",
        "  lowercase = tf.strings.lower (text)\n",
        "  stripped_html = tf.strings.regex_replace (lowercase,'<br />', ' ')\n",
        "  return tf.strings.regex_replace(stripped_html,\n",
        "                                  '[%s]' % re.escape(string.punctuation), \n",
        "                                  '')\n",
        "  \n",
        "max_features = 10000\n",
        "sequence_length = 250\n",
        "\n",
        "vectorize_layer = layers.TextVectorization(standardize = custom_preprocessing,\n",
        "                                           max_tokens = max_features,\n",
        "                                           output_mode = 'int',\n",
        "                                           output_sequence_length = sequence_length)\n",
        "# Extracting features for vectorizing using training set\n",
        "train_text = raw_train.map (lambda x, y: x)\n",
        "vectorize_layer.adapt(train_text)\n",
        "\n",
        "# Defining a function for fitting vectorizer function/layer to vectorize text (review)\n",
        "def fitting_vectorizer (text, label):\n",
        "  text = tf.expand_dims(text, -1)\n",
        "  return vectorize_layer (text), label\n",
        "\n",
        "# storing text batch and label batch\n",
        "text_batch, label_batch = next(iter(raw_train))\n",
        "\n",
        "## print an instance with vectorized review and label for observing\n",
        "print ('REVIEW:', text_batch[0])\n",
        "print('LABEL:', raw_train.class_names[label_batch[0]] )\n"
      ],
      "execution_count": 6,
      "outputs": [
        {
          "output_type": "stream",
          "name": "stdout",
          "text": [
            "REVIEW: tf.Tensor(b'Silent Night, Deadly Night 5 is the very last of the series, and like part 4, it\\'s unrelated to the first three except by title and the fact that it\\'s a Christmas-themed horror flick.<br /><br />Except to the oblivious, there\\'s some obvious things going on here...Mickey Rooney plays a toymaker named Joe Petto and his creepy son\\'s name is Pino. Ring a bell, anyone? Now, a little boy named Derek heard a knock at the door one evening, and opened it to find a present on the doorstep for him. Even though it said \"don\\'t open till Christmas\", he begins to open it anyway but is stopped by his dad, who scolds him and sends him to bed, and opens the gift himself. Inside is a little red ball that sprouts Santa arms and a head, and proceeds to kill dad. Oops, maybe he should have left well-enough alone. Of course Derek is then traumatized by the incident since he watched it from the stairs, but he doesn\\'t grow up to be some killer Santa, he just stops talking.<br /><br />There\\'s a mysterious stranger lurking around, who seems very interested in the toys that Joe Petto makes. We even see him buying a bunch when Derek\\'s mom takes him to the store to find a gift for him to bring him out of his trauma. And what exactly is this guy doing? Well, we\\'re not sure but he does seem to be taking these toys apart to see what makes them tick. He does keep his landlord from evicting him by promising him to pay him in cash the next day and presents him with a \"Larry the Larvae\" toy for his kid, but of course \"Larry\" is not a good toy and gets out of the box in the car and of course, well, things aren\\'t pretty.<br /><br />Anyway, eventually what\\'s going on with Joe Petto and Pino is of course revealed, and as with the old story, Pino is not a \"real boy\". Pino is probably even more agitated and naughty because he suffers from \"Kenitalia\" (a smooth plastic crotch) so that could account for his evil ways. And the identity of the lurking stranger is revealed too, and there\\'s even kind of a happy ending of sorts. Whee.<br /><br />A step up from part 4, but not much of one. Again, Brian Yuzna is involved, and Screaming Mad George, so some decent special effects, but not enough to make this great. A few leftovers from part 4 are hanging around too, like Clint Howard and Neith Hunter, but that doesn\\'t really make any difference. Anyway, I now have seeing the whole series out of my system. Now if I could get some of it out of my brain. 4 out of 5.', shape=(), dtype=string)\n",
            "LABEL: neg\n"
          ]
        }
      ]
    },
    {
      "cell_type": "code",
      "metadata": {
        "id": "AdhUEflLG1-B",
        "colab": {
          "base_uri": "https://localhost:8080/"
        },
        "outputId": "38dbdd3b-c31a-4fea-8792-74dfbc40944b"
      },
      "source": [
        "# print an example of vectorized data\n",
        "print ('Vocabulary size: ', len(vectorize_layer.get_vocabulary()))\n",
        "for i in range (90, 100):\n",
        "  print ('{} ------> {}'.format(i, vectorize_layer.get_vocabulary()[i]))"
      ],
      "execution_count": 7,
      "outputs": [
        {
          "output_type": "stream",
          "name": "stdout",
          "text": [
            "Vocabulary size:  10000\n",
            "90 ------> made\n",
            "91 ------> movies\n",
            "92 ------> then\n",
            "93 ------> them\n",
            "94 ------> films\n",
            "95 ------> way\n",
            "96 ------> make\n",
            "97 ------> any\n",
            "98 ------> could\n",
            "99 ------> too\n"
          ]
        }
      ]
    },
    {
      "cell_type": "code",
      "metadata": {
        "id": "49aXKTf-LYpE"
      },
      "source": [
        "train = raw_train.map(fitting_vectorizer)\n",
        "val = raw_val.map(fitting_vectorizer)\n",
        "test = raw_test.map(fitting_vectorizer)\n"
      ],
      "execution_count": 8,
      "outputs": []
    },
    {
      "cell_type": "code",
      "metadata": {
        "id": "qsqxSoCqORfY"
      },
      "source": [
        "# Configure the dataset for performance\n",
        "autotune = tf.data.AUTOTUNE\n",
        "train = train.cache().prefetch (buffer_size = autotune)\n",
        "val = val.cache().prefetch (buffer_size = autotune)\n",
        "test = test.cache().prefetch (buffer_size = autotune)"
      ],
      "execution_count": 9,
      "outputs": []
    },
    {
      "cell_type": "markdown",
      "metadata": {
        "id": "NoADSjBJMHL7"
      },
      "source": [
        "# Building a neural network classifier"
      ]
    },
    {
      "cell_type": "markdown",
      "metadata": {
        "id": "GaffgzJaRMKe"
      },
      "source": [
        "## With different numbers of embedding dimentions"
      ]
    },
    {
      "cell_type": "code",
      "metadata": {
        "id": "mnp8gN87MPaF",
        "colab": {
          "base_uri": "https://localhost:8080/"
        },
        "outputId": "7f2a6a4d-1e97-4eaf-d64e-6330f6441eea"
      },
      "source": [
        "# Creating the model\n",
        "embedding_dim = [16, 28, 50, 100]\n",
        "for n in embedding_dim:\n",
        "  print (\"========= embedding vectors'size= %s ============\" %n)\n",
        "  model = tf.keras.Sequential([layers.Embedding(max_features + 1, n),\n",
        "                              layers.Dropout(0.2),\n",
        "                              layers.GlobalAveragePooling1D(),\n",
        "                              layers.Dropout(0.2),\n",
        "                              layers.Dense(1)])\n",
        "  print(model.summary())\n",
        "\n",
        "  # configure the model uisng optimizer and loss function\n",
        "  model.compile(loss = losses.BinaryCrossentropy(from_logits = True),\n",
        "                optimizer = 'adam',\n",
        "                metrics = tf.metrics.BinaryAccuracy(threshold = 0.0 )) ## Why threshold = 0.0??\n",
        "  # training the model\n",
        "  epochs = 10\n",
        "  history = model.fit(train,\n",
        "                      validation_data = val,\n",
        "                      epochs = epochs)\n",
        "  # testing the model\n",
        "  loss, accuracy = model.evaluate(test)\n",
        "  print('Testing performance:\\n Loss: {} - Accuracy: {}'. format(loss, accuracy))"
      ],
      "execution_count": 13,
      "outputs": [
        {
          "output_type": "stream",
          "name": "stdout",
          "text": [
            "========= embedding vectors'size= 16 ============\n",
            "Model: \"sequential_1\"\n",
            "_________________________________________________________________\n",
            "Layer (type)                 Output Shape              Param #   \n",
            "=================================================================\n",
            "embedding_1 (Embedding)      (None, None, 16)          160016    \n",
            "_________________________________________________________________\n",
            "dropout_2 (Dropout)          (None, None, 16)          0         \n",
            "_________________________________________________________________\n",
            "global_average_pooling1d_1 ( (None, 16)                0         \n",
            "_________________________________________________________________\n",
            "dropout_3 (Dropout)          (None, 16)                0         \n",
            "_________________________________________________________________\n",
            "dense_1 (Dense)              (None, 1)                 17        \n",
            "=================================================================\n",
            "Total params: 160,033\n",
            "Trainable params: 160,033\n",
            "Non-trainable params: 0\n",
            "_________________________________________________________________\n",
            "None\n",
            "Epoch 1/10\n",
            "625/625 [==============================] - 5s 7ms/step - loss: 0.6632 - binary_accuracy: 0.6940 - val_loss: 0.6137 - val_binary_accuracy: 0.7734\n",
            "Epoch 2/10\n",
            "625/625 [==============================] - 4s 7ms/step - loss: 0.5481 - binary_accuracy: 0.8012 - val_loss: 0.4979 - val_binary_accuracy: 0.8206\n",
            "Epoch 3/10\n",
            "625/625 [==============================] - 4s 7ms/step - loss: 0.4455 - binary_accuracy: 0.8430 - val_loss: 0.4200 - val_binary_accuracy: 0.8480\n",
            "Epoch 4/10\n",
            "625/625 [==============================] - 4s 7ms/step - loss: 0.3788 - binary_accuracy: 0.8668 - val_loss: 0.3738 - val_binary_accuracy: 0.8608\n",
            "Epoch 5/10\n",
            "625/625 [==============================] - 4s 7ms/step - loss: 0.3359 - binary_accuracy: 0.8784 - val_loss: 0.3448 - val_binary_accuracy: 0.8678\n",
            "Epoch 6/10\n",
            "625/625 [==============================] - 4s 7ms/step - loss: 0.3055 - binary_accuracy: 0.8874 - val_loss: 0.3258 - val_binary_accuracy: 0.8724\n",
            "Epoch 7/10\n",
            "625/625 [==============================] - 4s 7ms/step - loss: 0.2812 - binary_accuracy: 0.8978 - val_loss: 0.3127 - val_binary_accuracy: 0.8736\n",
            "Epoch 8/10\n",
            "625/625 [==============================] - 4s 7ms/step - loss: 0.2630 - binary_accuracy: 0.9050 - val_loss: 0.3030 - val_binary_accuracy: 0.8754\n",
            "Epoch 9/10\n",
            "625/625 [==============================] - 4s 7ms/step - loss: 0.2454 - binary_accuracy: 0.9108 - val_loss: 0.2962 - val_binary_accuracy: 0.8776\n",
            "Epoch 10/10\n",
            "625/625 [==============================] - 4s 7ms/step - loss: 0.2312 - binary_accuracy: 0.9168 - val_loss: 0.2919 - val_binary_accuracy: 0.8784\n",
            "782/782 [==============================] - 1s 1ms/step - loss: 0.3102 - binary_accuracy: 0.8739\n",
            "Testing performance:\n",
            " Loss: 0.31022828817367554 - Accuracy: 0.8738800287246704\n",
            "========= embedding vectors'size= 28 ============\n",
            "Model: \"sequential_2\"\n",
            "_________________________________________________________________\n",
            "Layer (type)                 Output Shape              Param #   \n",
            "=================================================================\n",
            "embedding_2 (Embedding)      (None, None, 28)          280028    \n",
            "_________________________________________________________________\n",
            "dropout_4 (Dropout)          (None, None, 28)          0         \n",
            "_________________________________________________________________\n",
            "global_average_pooling1d_2 ( (None, 28)                0         \n",
            "_________________________________________________________________\n",
            "dropout_5 (Dropout)          (None, 28)                0         \n",
            "_________________________________________________________________\n",
            "dense_2 (Dense)              (None, 1)                 29        \n",
            "=================================================================\n",
            "Total params: 280,057\n",
            "Trainable params: 280,057\n",
            "Non-trainable params: 0\n",
            "_________________________________________________________________\n",
            "None\n",
            "Epoch 1/10\n",
            "625/625 [==============================] - 6s 10ms/step - loss: 0.6492 - binary_accuracy: 0.7016 - val_loss: 0.5791 - val_binary_accuracy: 0.7804\n",
            "Epoch 2/10\n",
            "625/625 [==============================] - 6s 9ms/step - loss: 0.4992 - binary_accuracy: 0.8197 - val_loss: 0.4454 - val_binary_accuracy: 0.8372\n",
            "Epoch 3/10\n",
            "625/625 [==============================] - 6s 9ms/step - loss: 0.3911 - binary_accuracy: 0.8602 - val_loss: 0.3758 - val_binary_accuracy: 0.8596\n",
            "Epoch 4/10\n",
            "625/625 [==============================] - 6s 9ms/step - loss: 0.3331 - binary_accuracy: 0.8771 - val_loss: 0.3396 - val_binary_accuracy: 0.8686\n",
            "Epoch 5/10\n",
            "625/625 [==============================] - 6s 9ms/step - loss: 0.2956 - binary_accuracy: 0.8912 - val_loss: 0.3183 - val_binary_accuracy: 0.8724\n",
            "Epoch 6/10\n",
            "625/625 [==============================] - 6s 9ms/step - loss: 0.2687 - binary_accuracy: 0.9010 - val_loss: 0.3047 - val_binary_accuracy: 0.8764\n",
            "Epoch 7/10\n",
            "625/625 [==============================] - 6s 9ms/step - loss: 0.2462 - binary_accuracy: 0.9104 - val_loss: 0.2960 - val_binary_accuracy: 0.8776\n",
            "Epoch 8/10\n",
            "625/625 [==============================] - 6s 9ms/step - loss: 0.2278 - binary_accuracy: 0.9168 - val_loss: 0.2906 - val_binary_accuracy: 0.8800\n",
            "Epoch 9/10\n",
            "625/625 [==============================] - 6s 9ms/step - loss: 0.2129 - binary_accuracy: 0.9232 - val_loss: 0.2875 - val_binary_accuracy: 0.8812\n",
            "Epoch 10/10\n",
            "625/625 [==============================] - 6s 9ms/step - loss: 0.1990 - binary_accuracy: 0.9285 - val_loss: 0.2862 - val_binary_accuracy: 0.8816\n",
            "782/782 [==============================] - 1s 2ms/step - loss: 0.3073 - binary_accuracy: 0.8739\n",
            "Testing performance:\n",
            " Loss: 0.30732280015945435 - Accuracy: 0.8738800287246704\n",
            "========= embedding vectors'size= 50 ============\n",
            "Model: \"sequential_3\"\n",
            "_________________________________________________________________\n",
            "Layer (type)                 Output Shape              Param #   \n",
            "=================================================================\n",
            "embedding_3 (Embedding)      (None, None, 50)          500050    \n",
            "_________________________________________________________________\n",
            "dropout_6 (Dropout)          (None, None, 50)          0         \n",
            "_________________________________________________________________\n",
            "global_average_pooling1d_3 ( (None, 50)                0         \n",
            "_________________________________________________________________\n",
            "dropout_7 (Dropout)          (None, 50)                0         \n",
            "_________________________________________________________________\n",
            "dense_3 (Dense)              (None, 1)                 51        \n",
            "=================================================================\n",
            "Total params: 500,101\n",
            "Trainable params: 500,101\n",
            "Non-trainable params: 0\n",
            "_________________________________________________________________\n",
            "None\n",
            "Epoch 1/10\n",
            "625/625 [==============================] - 9s 14ms/step - loss: 0.6291 - binary_accuracy: 0.7129 - val_loss: 0.5333 - val_binary_accuracy: 0.7986\n",
            "Epoch 2/10\n",
            "625/625 [==============================] - 9s 14ms/step - loss: 0.4448 - binary_accuracy: 0.8400 - val_loss: 0.3962 - val_binary_accuracy: 0.8514\n",
            "Epoch 3/10\n",
            "625/625 [==============================] - 8s 14ms/step - loss: 0.3446 - binary_accuracy: 0.8735 - val_loss: 0.3407 - val_binary_accuracy: 0.8684\n",
            "Epoch 4/10\n",
            "625/625 [==============================] - 9s 14ms/step - loss: 0.2930 - binary_accuracy: 0.8908 - val_loss: 0.3144 - val_binary_accuracy: 0.8742\n",
            "Epoch 5/10\n",
            "625/625 [==============================] - 9s 14ms/step - loss: 0.2602 - binary_accuracy: 0.9049 - val_loss: 0.2998 - val_binary_accuracy: 0.8778\n",
            "Epoch 6/10\n",
            "625/625 [==============================] - 9s 14ms/step - loss: 0.2345 - binary_accuracy: 0.9132 - val_loss: 0.2917 - val_binary_accuracy: 0.8796\n",
            "Epoch 7/10\n",
            "625/625 [==============================] - 9s 14ms/step - loss: 0.2142 - binary_accuracy: 0.9225 - val_loss: 0.2874 - val_binary_accuracy: 0.8810\n",
            "Epoch 8/10\n",
            "625/625 [==============================] - 9s 14ms/step - loss: 0.1977 - binary_accuracy: 0.9293 - val_loss: 0.2861 - val_binary_accuracy: 0.8816\n",
            "Epoch 9/10\n",
            "625/625 [==============================] - 9s 14ms/step - loss: 0.1812 - binary_accuracy: 0.9366 - val_loss: 0.2873 - val_binary_accuracy: 0.8820\n",
            "Epoch 10/10\n",
            "625/625 [==============================] - 9s 14ms/step - loss: 0.1680 - binary_accuracy: 0.9416 - val_loss: 0.2903 - val_binary_accuracy: 0.8822\n",
            "782/782 [==============================] - 1s 2ms/step - loss: 0.3168 - binary_accuracy: 0.8724\n",
            "Testing performance:\n",
            " Loss: 0.3167993128299713 - Accuracy: 0.8723999857902527\n",
            "========= embedding vectors'size= 100 ============\n",
            "Model: \"sequential_4\"\n",
            "_________________________________________________________________\n",
            "Layer (type)                 Output Shape              Param #   \n",
            "=================================================================\n",
            "embedding_4 (Embedding)      (None, None, 100)         1000100   \n",
            "_________________________________________________________________\n",
            "dropout_8 (Dropout)          (None, None, 100)         0         \n",
            "_________________________________________________________________\n",
            "global_average_pooling1d_4 ( (None, 100)               0         \n",
            "_________________________________________________________________\n",
            "dropout_9 (Dropout)          (None, 100)               0         \n",
            "_________________________________________________________________\n",
            "dense_4 (Dense)              (None, 1)                 101       \n",
            "=================================================================\n",
            "Total params: 1,000,201\n",
            "Trainable params: 1,000,201\n",
            "Non-trainable params: 0\n",
            "_________________________________________________________________\n",
            "None\n",
            "Epoch 1/10\n",
            "625/625 [==============================] - 16s 24ms/step - loss: 0.6001 - binary_accuracy: 0.7284 - val_loss: 0.4752 - val_binary_accuracy: 0.8220\n",
            "Epoch 2/10\n",
            "625/625 [==============================] - 15s 24ms/step - loss: 0.3894 - binary_accuracy: 0.8565 - val_loss: 0.3542 - val_binary_accuracy: 0.8630\n",
            "Epoch 3/10\n",
            "625/625 [==============================] - 15s 24ms/step - loss: 0.3022 - binary_accuracy: 0.8855 - val_loss: 0.3144 - val_binary_accuracy: 0.8732\n",
            "Epoch 4/10\n",
            "625/625 [==============================] - 15s 24ms/step - loss: 0.2574 - binary_accuracy: 0.9042 - val_loss: 0.2970 - val_binary_accuracy: 0.8776\n",
            "Epoch 5/10\n",
            "625/625 [==============================] - 15s 24ms/step - loss: 0.2268 - binary_accuracy: 0.9154 - val_loss: 0.2891 - val_binary_accuracy: 0.8810\n",
            "Epoch 6/10\n",
            "625/625 [==============================] - 15s 25ms/step - loss: 0.2032 - binary_accuracy: 0.9261 - val_loss: 0.2872 - val_binary_accuracy: 0.8800\n",
            "Epoch 7/10\n",
            "625/625 [==============================] - 15s 24ms/step - loss: 0.1833 - binary_accuracy: 0.9354 - val_loss: 0.2886 - val_binary_accuracy: 0.8824\n",
            "Epoch 8/10\n",
            "625/625 [==============================] - 15s 24ms/step - loss: 0.1660 - binary_accuracy: 0.9421 - val_loss: 0.2927 - val_binary_accuracy: 0.8820\n",
            "Epoch 9/10\n",
            "625/625 [==============================] - 15s 24ms/step - loss: 0.1515 - binary_accuracy: 0.9499 - val_loss: 0.2990 - val_binary_accuracy: 0.8800\n",
            "Epoch 10/10\n",
            "625/625 [==============================] - 15s 24ms/step - loss: 0.1383 - binary_accuracy: 0.9538 - val_loss: 0.3065 - val_binary_accuracy: 0.8794\n",
            "782/782 [==============================] - 2s 2ms/step - loss: 0.3429 - binary_accuracy: 0.8658\n",
            "Testing performance:\n",
            " Loss: 0.34294578433036804 - Accuracy: 0.8658000230789185\n"
          ]
        }
      ]
    },
    {
      "cell_type": "markdown",
      "metadata": {
        "id": "qvJLzGQbZZD8"
      },
      "source": [
        "## With different dropout "
      ]
    },
    {
      "cell_type": "code",
      "metadata": {
        "id": "fn5GRRbvaB3k",
        "outputId": "ce09fc6d-b0b3-41b9-fd8f-fd98fb22c996",
        "colab": {
          "base_uri": "https://localhost:8080/"
        }
      },
      "source": [
        "# Creating the model\n",
        "embedding_dim = 16\n",
        "dropouts = [0.0, 0.1, 0.2, 0.3]\n",
        "for i in dropouts:\n",
        "  print (\"========= dropout = %s ============\" %i)\n",
        "  model = tf.keras.Sequential([layers.Embedding(max_features + 1,embedding_dim),\n",
        "                              layers.Dropout(i),\n",
        "                              layers.GlobalAveragePooling1D(),\n",
        "                              layers.Dropout(0.2),\n",
        "                              layers.Dense(1)])\n",
        "  print(model.summary())\n",
        "\n",
        "  # configure the model uisng optimizer and loss function\n",
        "  model.compile(loss = losses.BinaryCrossentropy(from_logits = True),\n",
        "                optimizer = 'adam',\n",
        "                metrics = tf.metrics.BinaryAccuracy(threshold = 0.0 )) ## Why threshold = 0.0??\n",
        "  # training the model\n",
        "  epochs = 10\n",
        "  history = model.fit(train,\n",
        "                      validation_data = val,\n",
        "                      epochs = epochs)\n",
        "  # testing the model\n",
        "  loss, accuracy = model.evaluate(test)\n",
        "  print('Testing performance:\\n Loss: {} - Accuracy: {}'. format(loss, accuracy))"
      ],
      "execution_count": 15,
      "outputs": [
        {
          "output_type": "stream",
          "name": "stdout",
          "text": [
            "========= dropout = 0.0 ============\n",
            "Model: \"sequential_9\"\n",
            "_________________________________________________________________\n",
            "Layer (type)                 Output Shape              Param #   \n",
            "=================================================================\n",
            "embedding_9 (Embedding)      (None, None, 16)          160016    \n",
            "_________________________________________________________________\n",
            "dropout_18 (Dropout)         (None, None, 16)          0         \n",
            "_________________________________________________________________\n",
            "global_average_pooling1d_9 ( (None, 16)                0         \n",
            "_________________________________________________________________\n",
            "dropout_19 (Dropout)         (None, 16)                0         \n",
            "_________________________________________________________________\n",
            "dense_9 (Dense)              (None, 1)                 17        \n",
            "=================================================================\n",
            "Total params: 160,033\n",
            "Trainable params: 160,033\n",
            "Non-trainable params: 0\n",
            "_________________________________________________________________\n",
            "None\n",
            "Epoch 1/10\n",
            "625/625 [==============================] - 4s 5ms/step - loss: 0.6629 - binary_accuracy: 0.6941 - val_loss: 0.6107 - val_binary_accuracy: 0.7780\n",
            "Epoch 2/10\n",
            "625/625 [==============================] - 3s 5ms/step - loss: 0.5416 - binary_accuracy: 0.8063 - val_loss: 0.4898 - val_binary_accuracy: 0.8236\n",
            "Epoch 3/10\n",
            "625/625 [==============================] - 3s 5ms/step - loss: 0.4350 - binary_accuracy: 0.8492 - val_loss: 0.4117 - val_binary_accuracy: 0.8498\n",
            "Epoch 4/10\n",
            "625/625 [==============================] - 3s 5ms/step - loss: 0.3686 - binary_accuracy: 0.8695 - val_loss: 0.3666 - val_binary_accuracy: 0.8624\n",
            "Epoch 5/10\n",
            "625/625 [==============================] - 3s 5ms/step - loss: 0.3267 - binary_accuracy: 0.8822 - val_loss: 0.3390 - val_binary_accuracy: 0.8690\n",
            "Epoch 6/10\n",
            "625/625 [==============================] - 3s 5ms/step - loss: 0.2965 - binary_accuracy: 0.8916 - val_loss: 0.3210 - val_binary_accuracy: 0.8738\n",
            "Epoch 7/10\n",
            "625/625 [==============================] - 3s 5ms/step - loss: 0.2728 - binary_accuracy: 0.9008 - val_loss: 0.3083 - val_binary_accuracy: 0.8742\n",
            "Epoch 8/10\n",
            "625/625 [==============================] - 3s 5ms/step - loss: 0.2536 - binary_accuracy: 0.9082 - val_loss: 0.2999 - val_binary_accuracy: 0.8774\n",
            "Epoch 9/10\n",
            "625/625 [==============================] - 3s 5ms/step - loss: 0.2369 - binary_accuracy: 0.9151 - val_loss: 0.2937 - val_binary_accuracy: 0.8780\n",
            "Epoch 10/10\n",
            "625/625 [==============================] - 3s 5ms/step - loss: 0.2228 - binary_accuracy: 0.9194 - val_loss: 0.2900 - val_binary_accuracy: 0.8792\n",
            "782/782 [==============================] - 1s 1ms/step - loss: 0.3085 - binary_accuracy: 0.8744\n",
            "Testing performance:\n",
            " Loss: 0.30847322940826416 - Accuracy: 0.8744400143623352\n",
            "========= dropout = 0.1 ============\n",
            "Model: \"sequential_10\"\n",
            "_________________________________________________________________\n",
            "Layer (type)                 Output Shape              Param #   \n",
            "=================================================================\n",
            "embedding_10 (Embedding)     (None, None, 16)          160016    \n",
            "_________________________________________________________________\n",
            "dropout_20 (Dropout)         (None, None, 16)          0         \n",
            "_________________________________________________________________\n",
            "global_average_pooling1d_10  (None, 16)                0         \n",
            "_________________________________________________________________\n",
            "dropout_21 (Dropout)         (None, 16)                0         \n",
            "_________________________________________________________________\n",
            "dense_10 (Dense)             (None, 1)                 17        \n",
            "=================================================================\n",
            "Total params: 160,033\n",
            "Trainable params: 160,033\n",
            "Non-trainable params: 0\n",
            "_________________________________________________________________\n",
            "None\n",
            "Epoch 1/10\n",
            "625/625 [==============================] - 5s 7ms/step - loss: 0.6633 - binary_accuracy: 0.6935 - val_loss: 0.6132 - val_binary_accuracy: 0.7740\n",
            "Epoch 2/10\n",
            "625/625 [==============================] - 4s 7ms/step - loss: 0.5460 - binary_accuracy: 0.8023 - val_loss: 0.4948 - val_binary_accuracy: 0.8230\n",
            "Epoch 3/10\n",
            "625/625 [==============================] - 4s 7ms/step - loss: 0.4404 - binary_accuracy: 0.8475 - val_loss: 0.4161 - val_binary_accuracy: 0.8476\n",
            "Epoch 4/10\n",
            "625/625 [==============================] - 4s 7ms/step - loss: 0.3743 - binary_accuracy: 0.8677 - val_loss: 0.3701 - val_binary_accuracy: 0.8624\n",
            "Epoch 5/10\n",
            "625/625 [==============================] - 4s 7ms/step - loss: 0.3311 - binary_accuracy: 0.8801 - val_loss: 0.3418 - val_binary_accuracy: 0.8690\n",
            "Epoch 6/10\n",
            "625/625 [==============================] - 4s 7ms/step - loss: 0.3004 - binary_accuracy: 0.8901 - val_loss: 0.3230 - val_binary_accuracy: 0.8730\n",
            "Epoch 7/10\n",
            "625/625 [==============================] - 4s 7ms/step - loss: 0.2771 - binary_accuracy: 0.8998 - val_loss: 0.3101 - val_binary_accuracy: 0.8746\n",
            "Epoch 8/10\n",
            "625/625 [==============================] - 4s 7ms/step - loss: 0.2580 - binary_accuracy: 0.9067 - val_loss: 0.3010 - val_binary_accuracy: 0.8770\n",
            "Epoch 9/10\n",
            "625/625 [==============================] - 4s 7ms/step - loss: 0.2422 - binary_accuracy: 0.9139 - val_loss: 0.2945 - val_binary_accuracy: 0.8778\n",
            "Epoch 10/10\n",
            "625/625 [==============================] - 4s 7ms/step - loss: 0.2269 - binary_accuracy: 0.9181 - val_loss: 0.2903 - val_binary_accuracy: 0.8794\n",
            "782/782 [==============================] - 1s 1ms/step - loss: 0.3092 - binary_accuracy: 0.8743\n",
            "Testing performance:\n",
            " Loss: 0.30919691920280457 - Accuracy: 0.8742799758911133\n",
            "========= dropout = 0.2 ============\n",
            "Model: \"sequential_11\"\n",
            "_________________________________________________________________\n",
            "Layer (type)                 Output Shape              Param #   \n",
            "=================================================================\n",
            "embedding_11 (Embedding)     (None, None, 16)          160016    \n",
            "_________________________________________________________________\n",
            "dropout_22 (Dropout)         (None, None, 16)          0         \n",
            "_________________________________________________________________\n",
            "global_average_pooling1d_11  (None, 16)                0         \n",
            "_________________________________________________________________\n",
            "dropout_23 (Dropout)         (None, 16)                0         \n",
            "_________________________________________________________________\n",
            "dense_11 (Dense)             (None, 1)                 17        \n",
            "=================================================================\n",
            "Total params: 160,033\n",
            "Trainable params: 160,033\n",
            "Non-trainable params: 0\n",
            "_________________________________________________________________\n",
            "None\n",
            "Epoch 1/10\n",
            "625/625 [==============================] - 5s 7ms/step - loss: 0.6623 - binary_accuracy: 0.6920 - val_loss: 0.6117 - val_binary_accuracy: 0.7720\n",
            "Epoch 2/10\n",
            "625/625 [==============================] - 4s 7ms/step - loss: 0.5456 - binary_accuracy: 0.8005 - val_loss: 0.4955 - val_binary_accuracy: 0.8232\n",
            "Epoch 3/10\n",
            "625/625 [==============================] - 4s 7ms/step - loss: 0.4428 - binary_accuracy: 0.8476 - val_loss: 0.4180 - val_binary_accuracy: 0.8488\n",
            "Epoch 4/10\n",
            "625/625 [==============================] - 4s 7ms/step - loss: 0.3763 - binary_accuracy: 0.8657 - val_loss: 0.3722 - val_binary_accuracy: 0.8612\n",
            "Epoch 5/10\n",
            "625/625 [==============================] - 4s 7ms/step - loss: 0.3339 - binary_accuracy: 0.8788 - val_loss: 0.3438 - val_binary_accuracy: 0.8690\n",
            "Epoch 6/10\n",
            "625/625 [==============================] - 4s 7ms/step - loss: 0.3040 - binary_accuracy: 0.8892 - val_loss: 0.3252 - val_binary_accuracy: 0.8718\n",
            "Epoch 7/10\n",
            "625/625 [==============================] - 5s 7ms/step - loss: 0.2798 - binary_accuracy: 0.8981 - val_loss: 0.3118 - val_binary_accuracy: 0.8740\n",
            "Epoch 8/10\n",
            "625/625 [==============================] - 4s 7ms/step - loss: 0.2620 - binary_accuracy: 0.9045 - val_loss: 0.3028 - val_binary_accuracy: 0.8756\n",
            "Epoch 9/10\n",
            "625/625 [==============================] - 4s 7ms/step - loss: 0.2450 - binary_accuracy: 0.9107 - val_loss: 0.2961 - val_binary_accuracy: 0.8774\n",
            "Epoch 10/10\n",
            "625/625 [==============================] - 4s 7ms/step - loss: 0.2310 - binary_accuracy: 0.9172 - val_loss: 0.2916 - val_binary_accuracy: 0.8782\n",
            "782/782 [==============================] - 1s 1ms/step - loss: 0.3100 - binary_accuracy: 0.8738\n",
            "Testing performance:\n",
            " Loss: 0.30999791622161865 - Accuracy: 0.8737999796867371\n",
            "========= dropout = 0.3 ============\n",
            "Model: \"sequential_12\"\n",
            "_________________________________________________________________\n",
            "Layer (type)                 Output Shape              Param #   \n",
            "=================================================================\n",
            "embedding_12 (Embedding)     (None, None, 16)          160016    \n",
            "_________________________________________________________________\n",
            "dropout_24 (Dropout)         (None, None, 16)          0         \n",
            "_________________________________________________________________\n",
            "global_average_pooling1d_12  (None, 16)                0         \n",
            "_________________________________________________________________\n",
            "dropout_25 (Dropout)         (None, 16)                0         \n",
            "_________________________________________________________________\n",
            "dense_12 (Dense)             (None, 1)                 17        \n",
            "=================================================================\n",
            "Total params: 160,033\n",
            "Trainable params: 160,033\n",
            "Non-trainable params: 0\n",
            "_________________________________________________________________\n",
            "None\n",
            "Epoch 1/10\n",
            "625/625 [==============================] - 5s 7ms/step - loss: 0.6673 - binary_accuracy: 0.6824 - val_loss: 0.6206 - val_binary_accuracy: 0.7724\n",
            "Epoch 2/10\n",
            "625/625 [==============================] - 4s 7ms/step - loss: 0.5558 - binary_accuracy: 0.7947 - val_loss: 0.5053 - val_binary_accuracy: 0.8176\n",
            "Epoch 3/10\n",
            "625/625 [==============================] - 5s 7ms/step - loss: 0.4523 - binary_accuracy: 0.8399 - val_loss: 0.4264 - val_binary_accuracy: 0.8460\n",
            "Epoch 4/10\n",
            "625/625 [==============================] - 4s 7ms/step - loss: 0.3855 - binary_accuracy: 0.8641 - val_loss: 0.3792 - val_binary_accuracy: 0.8590\n",
            "Epoch 5/10\n",
            "625/625 [==============================] - 4s 7ms/step - loss: 0.3421 - binary_accuracy: 0.8756 - val_loss: 0.3497 - val_binary_accuracy: 0.8664\n",
            "Epoch 6/10\n",
            "625/625 [==============================] - 5s 7ms/step - loss: 0.3111 - binary_accuracy: 0.8852 - val_loss: 0.3296 - val_binary_accuracy: 0.8710\n",
            "Epoch 7/10\n",
            "625/625 [==============================] - 4s 7ms/step - loss: 0.2881 - binary_accuracy: 0.8928 - val_loss: 0.3161 - val_binary_accuracy: 0.8734\n",
            "Epoch 8/10\n",
            "625/625 [==============================] - 4s 7ms/step - loss: 0.2690 - binary_accuracy: 0.8989 - val_loss: 0.3060 - val_binary_accuracy: 0.8748\n",
            "Epoch 9/10\n",
            "625/625 [==============================] - 4s 7ms/step - loss: 0.2525 - binary_accuracy: 0.9079 - val_loss: 0.2990 - val_binary_accuracy: 0.8786\n",
            "Epoch 10/10\n",
            "625/625 [==============================] - 4s 7ms/step - loss: 0.2383 - binary_accuracy: 0.9136 - val_loss: 0.2937 - val_binary_accuracy: 0.8782\n",
            "782/782 [==============================] - 1s 1ms/step - loss: 0.3118 - binary_accuracy: 0.8726\n",
            "Testing performance:\n",
            " Loss: 0.31181034445762634 - Accuracy: 0.8726400136947632\n"
          ]
        }
      ]
    }
  ]
}