{
  "nbformat": 4,
  "nbformat_minor": 0,
  "metadata": {
    "colab": {
      "name": "Assignment_Feedforward-Network.ipynb",
      "provenance": [],
      "toc_visible": true,
      "authorship_tag": "ABX9TyNip2qJeicqK0wrLcQoIzGA",
      "include_colab_link": true
    },
    "kernelspec": {
      "name": "python3",
      "display_name": "Python 3"
    },
    "language_info": {
      "name": "python"
    }
  },
  "cells": [
    {
      "cell_type": "markdown",
      "metadata": {
        "id": "view-in-github",
        "colab_type": "text"
      },
      "source": [
        "<a href=\"https://colab.research.google.com/github/HuyenNguyenHelen/LING-5412/blob/main/Assignment_Feedforward_Network.ipynb\" target=\"_parent\"><img src=\"https://colab.research.google.com/assets/colab-badge.svg\" alt=\"Open In Colab\"/></a>"
      ]
    },
    {
      "cell_type": "code",
      "metadata": {
        "colab": {
          "base_uri": "https://localhost:8080/"
        },
        "id": "Ybsamp8T__sG",
        "outputId": "bdd1a52c-bb1f-49c7-c30e-20cff21b65b5"
      },
      "source": [
        "import os\n",
        "import re\n",
        "import numpy as np\n",
        "import shutil\n",
        "import tensorflow as tf\n",
        "import string\n",
        "from tensorflow.keras import layers\n",
        "from tensorflow.keras import losses\n",
        "from tensorflow.keras import preprocessing\n",
        "import pandas as pd\n",
        "import glob\n",
        "import sklearn\n",
        "from sklearn.model_selection import train_test_split\n",
        "from sklearn.feature_extraction.text import CountVectorizer\n",
        "from sklearn.feature_extraction.text import TfidfVectorizer\n",
        "from sklearn.metrics import accuracy_score, classification_report\n",
        "from sklearn.linear_model import LogisticRegression\n",
        "from sklearn.metrics import confusion_matrix, ConfusionMatrixDisplay\n",
        "from sklearn.metrics.pairwise import cosine_similarity\n",
        "\n",
        "print(tf.__version__)\n"
      ],
      "execution_count": 1,
      "outputs": [
        {
          "output_type": "stream",
          "name": "stdout",
          "text": [
            "2.6.0\n"
          ]
        }
      ]
    },
    {
      "cell_type": "markdown",
      "metadata": {
        "id": "pEecDn_cAPUR"
      },
      "source": [
        "# Part 1: IMDB sentiment analysis"
      ]
    },
    {
      "cell_type": "markdown",
      "metadata": {
        "id": "I37czSdvAJGh"
      },
      "source": [
        "## Loading the dataset"
      ]
    },
    {
      "cell_type": "code",
      "metadata": {
        "id": "LOTrU1EcAaJW",
        "colab": {
          "base_uri": "https://localhost:8080/"
        },
        "outputId": "db135c2a-6e20-4c85-8483-252ce0a15fef"
      },
      "source": [
        "url = 'https://ai.stanford.edu/~amaas/data/sentiment/aclImdb_v1.tar.gz'\n",
        "data = tf.keras.utils.get_file ('aclImdb_v1',\n",
        "                                url,\n",
        "                                untar = True,\n",
        "                                cache_dir = '.',\n",
        "                                cache_subdir = '')\n",
        "data_dir = os.path.join (os.path.dirname(data), 'aclImdb')\n",
        "print(os.listdir(data_dir))"
      ],
      "execution_count": 2,
      "outputs": [
        {
          "output_type": "stream",
          "name": "stdout",
          "text": [
            "['test', 'train', 'imdbEr.txt', 'README', 'imdb.vocab']\n"
          ]
        }
      ]
    },
    {
      "cell_type": "code",
      "metadata": {
        "colab": {
          "base_uri": "https://localhost:8080/"
        },
        "id": "sl4s0XGxECq4",
        "outputId": "5996e013-a0ed-4518-e338-81f0e71261ac"
      },
      "source": [
        "train_dir = os.path.join (data_dir, 'train')\n",
        "test_dir = os.path.join (data_dir, 'test')\n",
        "print(os.listdir(train_dir))"
      ],
      "execution_count": 3,
      "outputs": [
        {
          "output_type": "stream",
          "name": "stdout",
          "text": [
            "['labeledBow.feat', 'neg', 'unsup', 'urls_pos.txt', 'unsupBow.feat', 'pos', 'urls_unsup.txt', 'urls_neg.txt']\n"
          ]
        }
      ]
    },
    {
      "cell_type": "code",
      "metadata": {
        "id": "wqLbtPKfNc5Z"
      },
      "source": [
        "# We only use files in the two folders: pos, and neg, so let's remove other files\n",
        "remove_dir = os.path.join(train_dir, 'unsup')\n",
        "shutil.rmtree(remove_dir)"
      ],
      "execution_count": 4,
      "outputs": []
    },
    {
      "cell_type": "code",
      "metadata": {
        "id": "P5fHSce2Rk-7",
        "colab": {
          "base_uri": "https://localhost:8080/"
        },
        "outputId": "d84e68b3-fc92-47ff-d0d9-055f43b1d018"
      },
      "source": [
        "# Loading data from the directory\n",
        "batch_size = 32\n",
        "seed = 42\n",
        "raw_train = tf.keras.utils.text_dataset_from_directory ('aclImdb/train',\n",
        "                                                        batch_size =batch_size,\n",
        "                                                        validation_split = 0.2,\n",
        "                                                        subset = 'training',\n",
        "                                                        seed = seed)\n",
        "raw_val = tf.keras.utils.text_dataset_from_directory ('aclImdb/train',\n",
        "                                                      batch_size = batch_size,\n",
        "                                                      validation_split = 0.2,\n",
        "                                                      subset = 'validation',\n",
        "                                                      seed = seed)\n",
        "raw_test = tf.keras.utils.text_dataset_from_directory ('aclImdb/test',\n",
        "                                                       batch_size = batch_size)"
      ],
      "execution_count": 5,
      "outputs": [
        {
          "output_type": "stream",
          "name": "stdout",
          "text": [
            "Found 25000 files belonging to 2 classes.\n",
            "Using 20000 files for training.\n",
            "Found 25000 files belonging to 2 classes.\n",
            "Using 5000 files for validation.\n",
            "Found 25000 files belonging to 2 classes.\n"
          ]
        }
      ]
    },
    {
      "cell_type": "markdown",
      "metadata": {
        "id": "HuL_ipXkaAyv"
      },
      "source": [
        "## Text representation"
      ]
    },
    {
      "cell_type": "code",
      "metadata": {
        "id": "1KVgg_ZWaFtU",
        "colab": {
          "base_uri": "https://localhost:8080/"
        },
        "outputId": "dc6a0604-335e-4ec8-a9bb-c71b51af6fc8"
      },
      "source": [
        "def custom_preprocessing (text):\n",
        "  lowercase = tf.strings.lower (text)\n",
        "  stripped_html = tf.strings.regex_replace (lowercase,'<br />', ' ')\n",
        "  return tf.strings.regex_replace(stripped_html,\n",
        "                                  '[%s]' % re.escape(string.punctuation), \n",
        "                                  '')\n",
        "  \n",
        "max_features = 10000\n",
        "sequence_length = 250\n",
        "\n",
        "vectorize_layer = layers.TextVectorization(standardize = custom_preprocessing,\n",
        "                                           max_tokens = max_features,\n",
        "                                           output_mode = 'int',\n",
        "                                           output_sequence_length = sequence_length)\n",
        "# Extracting features for vectorizing using training set\n",
        "train_text = raw_train.map (lambda x, y: x)\n",
        "vectorize_layer.adapt(train_text)\n",
        "\n",
        "# Defining a function for fitting vectorizer function/layer to vectorize text (review)\n",
        "def fitting_vectorizer (text, label):\n",
        "  text = tf.expand_dims(text, -1)\n",
        "  return vectorize_layer (text), label\n",
        "\n",
        "# storing text batch and label batch\n",
        "text_batch, label_batch = next(iter(raw_train))\n",
        "\n",
        "## print an instance with vectorized review and label for observing\n",
        "print ('REVIEW:', text_batch[0])\n",
        "print('LABEL:', raw_train.class_names[label_batch[0]] )\n"
      ],
      "execution_count": 6,
      "outputs": [
        {
          "output_type": "stream",
          "name": "stdout",
          "text": [
            "REVIEW: tf.Tensor(b'Silent Night, Deadly Night 5 is the very last of the series, and like part 4, it\\'s unrelated to the first three except by title and the fact that it\\'s a Christmas-themed horror flick.<br /><br />Except to the oblivious, there\\'s some obvious things going on here...Mickey Rooney plays a toymaker named Joe Petto and his creepy son\\'s name is Pino. Ring a bell, anyone? Now, a little boy named Derek heard a knock at the door one evening, and opened it to find a present on the doorstep for him. Even though it said \"don\\'t open till Christmas\", he begins to open it anyway but is stopped by his dad, who scolds him and sends him to bed, and opens the gift himself. Inside is a little red ball that sprouts Santa arms and a head, and proceeds to kill dad. Oops, maybe he should have left well-enough alone. Of course Derek is then traumatized by the incident since he watched it from the stairs, but he doesn\\'t grow up to be some killer Santa, he just stops talking.<br /><br />There\\'s a mysterious stranger lurking around, who seems very interested in the toys that Joe Petto makes. We even see him buying a bunch when Derek\\'s mom takes him to the store to find a gift for him to bring him out of his trauma. And what exactly is this guy doing? Well, we\\'re not sure but he does seem to be taking these toys apart to see what makes them tick. He does keep his landlord from evicting him by promising him to pay him in cash the next day and presents him with a \"Larry the Larvae\" toy for his kid, but of course \"Larry\" is not a good toy and gets out of the box in the car and of course, well, things aren\\'t pretty.<br /><br />Anyway, eventually what\\'s going on with Joe Petto and Pino is of course revealed, and as with the old story, Pino is not a \"real boy\". Pino is probably even more agitated and naughty because he suffers from \"Kenitalia\" (a smooth plastic crotch) so that could account for his evil ways. And the identity of the lurking stranger is revealed too, and there\\'s even kind of a happy ending of sorts. Whee.<br /><br />A step up from part 4, but not much of one. Again, Brian Yuzna is involved, and Screaming Mad George, so some decent special effects, but not enough to make this great. A few leftovers from part 4 are hanging around too, like Clint Howard and Neith Hunter, but that doesn\\'t really make any difference. Anyway, I now have seeing the whole series out of my system. Now if I could get some of it out of my brain. 4 out of 5.', shape=(), dtype=string)\n",
            "LABEL: neg\n"
          ]
        }
      ]
    },
    {
      "cell_type": "code",
      "metadata": {
        "id": "AdhUEflLG1-B",
        "colab": {
          "base_uri": "https://localhost:8080/"
        },
        "outputId": "11accf7f-6ead-4746-9157-97fcda0423b2"
      },
      "source": [
        "# print an example of vectorized data\n",
        "print ('Vocabulary size: ', len(vectorize_layer.get_vocabulary()))\n",
        "for i in range (90, 100):\n",
        "  print ('{} ------> {}'.format(i, vectorize_layer.get_vocabulary()[i]))"
      ],
      "execution_count": 7,
      "outputs": [
        {
          "output_type": "stream",
          "name": "stdout",
          "text": [
            "Vocabulary size:  10000\n",
            "90 ------> made\n",
            "91 ------> movies\n",
            "92 ------> then\n",
            "93 ------> them\n",
            "94 ------> films\n",
            "95 ------> way\n",
            "96 ------> make\n",
            "97 ------> any\n",
            "98 ------> could\n",
            "99 ------> too\n"
          ]
        }
      ]
    },
    {
      "cell_type": "code",
      "metadata": {
        "id": "49aXKTf-LYpE"
      },
      "source": [
        "train = raw_train.map(fitting_vectorizer)\n",
        "val = raw_val.map(fitting_vectorizer)\n",
        "test = raw_test.map(fitting_vectorizer)\n"
      ],
      "execution_count": 8,
      "outputs": []
    },
    {
      "cell_type": "code",
      "metadata": {
        "id": "qsqxSoCqORfY"
      },
      "source": [
        "# Configure the dataset for performance\n",
        "autotune = tf.data.AUTOTUNE\n",
        "train = train.cache().prefetch (buffer_size = autotune)\n",
        "val = val.cache().prefetch (buffer_size = autotune)\n",
        "test = test.cache().prefetch (buffer_size = autotune)"
      ],
      "execution_count": 9,
      "outputs": []
    },
    {
      "cell_type": "markdown",
      "metadata": {
        "id": "NoADSjBJMHL7"
      },
      "source": [
        "## Building a neural network classifier"
      ]
    },
    {
      "cell_type": "code",
      "metadata": {
        "id": "yS4xOvZ_ZqLC"
      },
      "source": [
        "# Defining an evaluation metric function\n",
        "def printing_eval_scores (y_true, y_pred, report=''):\n",
        "  accuracy = sklearn.metrics.accuracy_score(y_true, y_pred)\n",
        "  precision = sklearn.metrics.precision_score(y_true, y_pred, average='binary')\n",
        "  recall = sklearn.metrics.recall_score(y_true, y_pred, average='binary')\n",
        "  f1 = sklearn.metrics.f1_score(y_true, y_pred , average='binary')\n",
        "  print('accuracy score: {:.3f}'.format(accuracy))\n",
        "  print('precision score: {:.3f}'.format(precision))\n",
        "  print('recall score: {:.3f}'.format(recall))\n",
        "  print('F1 score: {:.3f}'.format(f1))\n",
        "  if report is True:\n",
        "    print(classification_report(y_true, y_pred))\n",
        "  else:\n",
        "    pass\n",
        "  return accuracy, precision, recall, f1"
      ],
      "execution_count": 10,
      "outputs": []
    },
    {
      "cell_type": "markdown",
      "metadata": {
        "id": "GaffgzJaRMKe"
      },
      "source": [
        "### With different numbers of embedding dimentions"
      ]
    },
    {
      "cell_type": "code",
      "metadata": {
        "id": "mnp8gN87MPaF",
        "colab": {
          "base_uri": "https://localhost:8080/"
        },
        "outputId": "854f625a-ecf3-49e0-d9f7-ed84dacd6732"
      },
      "source": [
        "# Creating the model\n",
        "embedding_dim = [16, 28, 50]\n",
        "for n in embedding_dim:\n",
        "  print (\"========= embedding vectors'size= %s ============\" %n)\n",
        "  model = tf.keras.Sequential([layers.Embedding(max_features + 1, n, name=\"embedding\"),\n",
        "                              layers.Dropout(0.2),\n",
        "                              layers.GlobalAveragePooling1D(),\n",
        "                              layers.Dropout(0.2),\n",
        "                              layers.Dense(1, activation = 'sigmoid')])\n",
        "  print(model.summary())\n",
        "\n",
        "  # configure the model uisng optimizer and loss function\n",
        "  model.compile(loss = losses.BinaryCrossentropy(),\n",
        "                optimizer = 'adam',\n",
        "                metrics = tf.metrics.BinaryAccuracy(threshold = 0.5 )) \n",
        "  # training the model\n",
        "  epochs = 10\n",
        "  history = model.fit(train,\n",
        "                      validation_data = val,\n",
        "                      epochs = epochs)\n",
        "  # testing the model\n",
        "  # pred_label = tf.argmax(model.predict(test),1)\n",
        "  pred_label = (model.predict(test) > 0.5).astype(\"int32\")\n",
        "  true_label = np.concatenate([y for x, y in test], axis=0)\n",
        "\n",
        "  loss, accuracy = model.evaluate(test)\n",
        "  print('\\nTesting performance:\\n Loss: {:.3f} - Accuracy: {:.3f}'. format(loss, accuracy))\n",
        "  printing_eval_scores (true_label, pred_label, report=True)"
      ],
      "execution_count": 11,
      "outputs": [
        {
          "output_type": "stream",
          "name": "stdout",
          "text": [
            "========= embedding vectors'size= 16 ============\n",
            "Model: \"sequential\"\n",
            "_________________________________________________________________\n",
            "Layer (type)                 Output Shape              Param #   \n",
            "=================================================================\n",
            "embedding (Embedding)        (None, None, 16)          160016    \n",
            "_________________________________________________________________\n",
            "dropout (Dropout)            (None, None, 16)          0         \n",
            "_________________________________________________________________\n",
            "global_average_pooling1d (Gl (None, 16)                0         \n",
            "_________________________________________________________________\n",
            "dropout_1 (Dropout)          (None, 16)                0         \n",
            "_________________________________________________________________\n",
            "dense (Dense)                (None, 1)                 17        \n",
            "=================================================================\n",
            "Total params: 160,033\n",
            "Trainable params: 160,033\n",
            "Non-trainable params: 0\n",
            "_________________________________________________________________\n",
            "None\n",
            "Epoch 1/10\n",
            "625/625 [==============================] - 11s 17ms/step - loss: 0.6643 - binary_accuracy: 0.6898 - val_loss: 0.6145 - val_binary_accuracy: 0.7724\n",
            "Epoch 2/10\n",
            "625/625 [==============================] - 4s 7ms/step - loss: 0.5485 - binary_accuracy: 0.7984 - val_loss: 0.4978 - val_binary_accuracy: 0.8228\n",
            "Epoch 3/10\n",
            "625/625 [==============================] - 4s 7ms/step - loss: 0.4448 - binary_accuracy: 0.8444 - val_loss: 0.4201 - val_binary_accuracy: 0.8480\n",
            "Epoch 4/10\n",
            "625/625 [==============================] - 4s 7ms/step - loss: 0.3783 - binary_accuracy: 0.8667 - val_loss: 0.3737 - val_binary_accuracy: 0.8596\n",
            "Epoch 5/10\n",
            "625/625 [==============================] - 4s 7ms/step - loss: 0.3356 - binary_accuracy: 0.8777 - val_loss: 0.3451 - val_binary_accuracy: 0.8686\n",
            "Epoch 6/10\n",
            "625/625 [==============================] - 4s 7ms/step - loss: 0.3048 - binary_accuracy: 0.8875 - val_loss: 0.3258 - val_binary_accuracy: 0.8714\n",
            "Epoch 7/10\n",
            "625/625 [==============================] - 4s 7ms/step - loss: 0.2817 - binary_accuracy: 0.8976 - val_loss: 0.3126 - val_binary_accuracy: 0.8730\n",
            "Epoch 8/10\n",
            "625/625 [==============================] - 5s 7ms/step - loss: 0.2630 - binary_accuracy: 0.9034 - val_loss: 0.3033 - val_binary_accuracy: 0.8760\n",
            "Epoch 9/10\n",
            "625/625 [==============================] - 4s 7ms/step - loss: 0.2466 - binary_accuracy: 0.9099 - val_loss: 0.2964 - val_binary_accuracy: 0.8768\n",
            "Epoch 10/10\n",
            "625/625 [==============================] - 4s 7ms/step - loss: 0.2311 - binary_accuracy: 0.9169 - val_loss: 0.2917 - val_binary_accuracy: 0.8794\n",
            "782/782 [==============================] - 1s 1ms/step - loss: 0.3102 - binary_accuracy: 0.8734\n",
            "\n",
            "Testing performance:\n",
            " Loss: 0.310 - Accuracy: 0.873\n",
            "accuracy score: 0.873\n",
            "precision score: 0.875\n",
            "recall score: 0.872\n",
            "F1 score: 0.873\n",
            "              precision    recall  f1-score   support\n",
            "\n",
            "           0       0.87      0.88      0.87     12500\n",
            "           1       0.87      0.87      0.87     12500\n",
            "\n",
            "    accuracy                           0.87     25000\n",
            "   macro avg       0.87      0.87      0.87     25000\n",
            "weighted avg       0.87      0.87      0.87     25000\n",
            "\n",
            "========= embedding vectors'size= 28 ============\n",
            "Model: \"sequential_1\"\n",
            "_________________________________________________________________\n",
            "Layer (type)                 Output Shape              Param #   \n",
            "=================================================================\n",
            "embedding (Embedding)        (None, None, 28)          280028    \n",
            "_________________________________________________________________\n",
            "dropout_2 (Dropout)          (None, None, 28)          0         \n",
            "_________________________________________________________________\n",
            "global_average_pooling1d_1 ( (None, 28)                0         \n",
            "_________________________________________________________________\n",
            "dropout_3 (Dropout)          (None, 28)                0         \n",
            "_________________________________________________________________\n",
            "dense_1 (Dense)              (None, 1)                 29        \n",
            "=================================================================\n",
            "Total params: 280,057\n",
            "Trainable params: 280,057\n",
            "Non-trainable params: 0\n",
            "_________________________________________________________________\n",
            "None\n",
            "Epoch 1/10\n",
            "625/625 [==============================] - 7s 10ms/step - loss: 0.6510 - binary_accuracy: 0.6974 - val_loss: 0.5811 - val_binary_accuracy: 0.7816\n",
            "Epoch 2/10\n",
            "625/625 [==============================] - 6s 9ms/step - loss: 0.5006 - binary_accuracy: 0.8196 - val_loss: 0.4466 - val_binary_accuracy: 0.8370\n",
            "Epoch 3/10\n",
            "625/625 [==============================] - 6s 9ms/step - loss: 0.3929 - binary_accuracy: 0.8593 - val_loss: 0.3764 - val_binary_accuracy: 0.8600\n",
            "Epoch 4/10\n",
            "625/625 [==============================] - 6s 10ms/step - loss: 0.3328 - binary_accuracy: 0.8784 - val_loss: 0.3402 - val_binary_accuracy: 0.8684\n",
            "Epoch 5/10\n",
            "625/625 [==============================] - 6s 9ms/step - loss: 0.2958 - binary_accuracy: 0.8894 - val_loss: 0.3186 - val_binary_accuracy: 0.8726\n",
            "Epoch 6/10\n",
            "625/625 [==============================] - 6s 10ms/step - loss: 0.2686 - binary_accuracy: 0.9013 - val_loss: 0.3051 - val_binary_accuracy: 0.8754\n",
            "Epoch 7/10\n",
            "625/625 [==============================] - 6s 10ms/step - loss: 0.2467 - binary_accuracy: 0.9100 - val_loss: 0.2965 - val_binary_accuracy: 0.8768\n",
            "Epoch 8/10\n",
            "625/625 [==============================] - 6s 10ms/step - loss: 0.2290 - binary_accuracy: 0.9156 - val_loss: 0.2908 - val_binary_accuracy: 0.8792\n",
            "Epoch 9/10\n",
            "625/625 [==============================] - 6s 10ms/step - loss: 0.2135 - binary_accuracy: 0.9239 - val_loss: 0.2878 - val_binary_accuracy: 0.8806\n",
            "Epoch 10/10\n",
            "625/625 [==============================] - 6s 9ms/step - loss: 0.1996 - binary_accuracy: 0.9281 - val_loss: 0.2866 - val_binary_accuracy: 0.8818\n",
            "782/782 [==============================] - 1s 2ms/step - loss: 0.3075 - binary_accuracy: 0.8740\n",
            "\n",
            "Testing performance:\n",
            " Loss: 0.307 - Accuracy: 0.874\n",
            "accuracy score: 0.874\n",
            "precision score: 0.871\n",
            "recall score: 0.878\n",
            "F1 score: 0.874\n",
            "              precision    recall  f1-score   support\n",
            "\n",
            "           0       0.88      0.87      0.87     12500\n",
            "           1       0.87      0.88      0.87     12500\n",
            "\n",
            "    accuracy                           0.87     25000\n",
            "   macro avg       0.87      0.87      0.87     25000\n",
            "weighted avg       0.87      0.87      0.87     25000\n",
            "\n",
            "========= embedding vectors'size= 50 ============\n",
            "Model: \"sequential_2\"\n",
            "_________________________________________________________________\n",
            "Layer (type)                 Output Shape              Param #   \n",
            "=================================================================\n",
            "embedding (Embedding)        (None, None, 50)          500050    \n",
            "_________________________________________________________________\n",
            "dropout_4 (Dropout)          (None, None, 50)          0         \n",
            "_________________________________________________________________\n",
            "global_average_pooling1d_2 ( (None, 50)                0         \n",
            "_________________________________________________________________\n",
            "dropout_5 (Dropout)          (None, 50)                0         \n",
            "_________________________________________________________________\n",
            "dense_2 (Dense)              (None, 1)                 51        \n",
            "=================================================================\n",
            "Total params: 500,101\n",
            "Trainable params: 500,101\n",
            "Non-trainable params: 0\n",
            "_________________________________________________________________\n",
            "None\n",
            "Epoch 1/10\n",
            "625/625 [==============================] - 10s 14ms/step - loss: 0.6299 - binary_accuracy: 0.7122 - val_loss: 0.5335 - val_binary_accuracy: 0.7978\n",
            "Epoch 2/10\n",
            "625/625 [==============================] - 9s 14ms/step - loss: 0.4451 - binary_accuracy: 0.8400 - val_loss: 0.3966 - val_binary_accuracy: 0.8510\n",
            "Epoch 3/10\n",
            "625/625 [==============================] - 9s 14ms/step - loss: 0.3445 - binary_accuracy: 0.8737 - val_loss: 0.3415 - val_binary_accuracy: 0.8676\n",
            "Epoch 4/10\n",
            "625/625 [==============================] - 9s 14ms/step - loss: 0.2938 - binary_accuracy: 0.8897 - val_loss: 0.3151 - val_binary_accuracy: 0.8740\n",
            "Epoch 5/10\n",
            "625/625 [==============================] - 9s 14ms/step - loss: 0.2604 - binary_accuracy: 0.9038 - val_loss: 0.3001 - val_binary_accuracy: 0.8762\n",
            "Epoch 6/10\n",
            "625/625 [==============================] - 9s 14ms/step - loss: 0.2360 - binary_accuracy: 0.9137 - val_loss: 0.2925 - val_binary_accuracy: 0.8806\n",
            "Epoch 7/10\n",
            "625/625 [==============================] - 9s 15ms/step - loss: 0.2148 - binary_accuracy: 0.9229 - val_loss: 0.2880 - val_binary_accuracy: 0.8806\n",
            "Epoch 8/10\n",
            "625/625 [==============================] - 9s 15ms/step - loss: 0.1982 - binary_accuracy: 0.9280 - val_loss: 0.2868 - val_binary_accuracy: 0.8822\n",
            "Epoch 9/10\n",
            "625/625 [==============================] - 9s 15ms/step - loss: 0.1826 - binary_accuracy: 0.9355 - val_loss: 0.2880 - val_binary_accuracy: 0.8818\n",
            "Epoch 10/10\n",
            "625/625 [==============================] - 9s 15ms/step - loss: 0.1688 - binary_accuracy: 0.9416 - val_loss: 0.2902 - val_binary_accuracy: 0.8834\n",
            "782/782 [==============================] - 2s 2ms/step - loss: 0.3165 - binary_accuracy: 0.8720\n",
            "\n",
            "Testing performance:\n",
            " Loss: 0.316 - Accuracy: 0.872\n",
            "accuracy score: 0.872\n",
            "precision score: 0.871\n",
            "recall score: 0.873\n",
            "F1 score: 0.872\n",
            "              precision    recall  f1-score   support\n",
            "\n",
            "           0       0.87      0.87      0.87     12500\n",
            "           1       0.87      0.87      0.87     12500\n",
            "\n",
            "    accuracy                           0.87     25000\n",
            "   macro avg       0.87      0.87      0.87     25000\n",
            "weighted avg       0.87      0.87      0.87     25000\n",
            "\n"
          ]
        }
      ]
    },
    {
      "cell_type": "markdown",
      "metadata": {
        "id": "57AmOkg819dP"
      },
      "source": [
        "From the performance of models with different embedding size (the number of dimmensions), we can see their performances are not much different. Among them, the model with embedding vectors'size= 28 has the highest performance (F1 score: 0.874), slightly higher than the models with embedding vectors'size of 16 or 50."
      ]
    },
    {
      "cell_type": "markdown",
      "metadata": {
        "id": "qvJLzGQbZZD8"
      },
      "source": [
        "### With different dropout "
      ]
    },
    {
      "cell_type": "code",
      "metadata": {
        "colab": {
          "base_uri": "https://localhost:8080/"
        },
        "id": "fn5GRRbvaB3k",
        "outputId": "61efdbdc-fe98-4f2e-b944-2854be8745f9"
      },
      "source": [
        "# Creating the model\n",
        "embedding_dim = 16\n",
        "dropouts = [0.0, 0.1, 0.2, 0.3]\n",
        "for i in dropouts:\n",
        "  print (\"========= dropout = %s ============\" %i)\n",
        "  model = tf.keras.Sequential([layers.Embedding(max_features + 1, embedding_dim,  name=\"embedding\"),\n",
        "                              layers.Dropout(i),\n",
        "                              layers.GlobalAveragePooling1D(),\n",
        "                              layers.Dropout(0.2),\n",
        "                              layers.Dense(1,activation = 'sigmoid')])\n",
        "  print(model.summary())\n",
        "\n",
        "  # configure the model uisng optimizer and loss function\n",
        "  model.compile(loss = losses.BinaryCrossentropy(),\n",
        "                optimizer = 'adam',\n",
        "                metrics = tf.metrics.BinaryAccuracy(threshold = 0.5 )) \n",
        "  # training the model\n",
        "  epochs = 10\n",
        "  history = model.fit(train,\n",
        "                      validation_data = val,\n",
        "                      epochs = epochs)\n",
        "  # testing the model\n",
        "  pred_label = (model.predict(test) > 0.5).astype(\"int32\")\n",
        "  true_label = np.concatenate([y for x, y in test], axis=0)\n",
        "\n",
        "  loss, accuracy = model.evaluate(test)\n",
        "  print('\\nTesting performance:\\n Loss: {:.3f} - Accuracy: {:.3f}'. format(loss, accuracy))\n",
        "  printing_eval_scores (true_label, pred_label, report=True)"
      ],
      "execution_count": 12,
      "outputs": [
        {
          "output_type": "stream",
          "name": "stdout",
          "text": [
            "========= dropout = 0.0 ============\n",
            "Model: \"sequential_3\"\n",
            "_________________________________________________________________\n",
            "Layer (type)                 Output Shape              Param #   \n",
            "=================================================================\n",
            "embedding (Embedding)        (None, None, 16)          160016    \n",
            "_________________________________________________________________\n",
            "dropout_6 (Dropout)          (None, None, 16)          0         \n",
            "_________________________________________________________________\n",
            "global_average_pooling1d_3 ( (None, 16)                0         \n",
            "_________________________________________________________________\n",
            "dropout_7 (Dropout)          (None, 16)                0         \n",
            "_________________________________________________________________\n",
            "dense_3 (Dense)              (None, 1)                 17        \n",
            "=================================================================\n",
            "Total params: 160,033\n",
            "Trainable params: 160,033\n",
            "Non-trainable params: 0\n",
            "_________________________________________________________________\n",
            "None\n",
            "Epoch 1/10\n",
            "625/625 [==============================] - 4s 6ms/step - loss: 0.6609 - binary_accuracy: 0.6977 - val_loss: 0.6071 - val_binary_accuracy: 0.7774\n",
            "Epoch 2/10\n",
            "625/625 [==============================] - 3s 5ms/step - loss: 0.5382 - binary_accuracy: 0.8059 - val_loss: 0.4875 - val_binary_accuracy: 0.8248\n",
            "Epoch 3/10\n",
            "625/625 [==============================] - 3s 5ms/step - loss: 0.4334 - binary_accuracy: 0.8499 - val_loss: 0.4106 - val_binary_accuracy: 0.8500\n",
            "Epoch 4/10\n",
            "625/625 [==============================] - 3s 5ms/step - loss: 0.3681 - binary_accuracy: 0.8709 - val_loss: 0.3659 - val_binary_accuracy: 0.8612\n",
            "Epoch 5/10\n",
            "625/625 [==============================] - 3s 5ms/step - loss: 0.3257 - binary_accuracy: 0.8824 - val_loss: 0.3386 - val_binary_accuracy: 0.8692\n",
            "Epoch 6/10\n",
            "625/625 [==============================] - 3s 5ms/step - loss: 0.2958 - binary_accuracy: 0.8910 - val_loss: 0.3206 - val_binary_accuracy: 0.8730\n",
            "Epoch 7/10\n",
            "625/625 [==============================] - 3s 5ms/step - loss: 0.2725 - binary_accuracy: 0.9003 - val_loss: 0.3080 - val_binary_accuracy: 0.8750\n",
            "Epoch 8/10\n",
            "625/625 [==============================] - 3s 5ms/step - loss: 0.2532 - binary_accuracy: 0.9084 - val_loss: 0.2994 - val_binary_accuracy: 0.8766\n",
            "Epoch 9/10\n",
            "625/625 [==============================] - 3s 5ms/step - loss: 0.2379 - binary_accuracy: 0.9153 - val_loss: 0.2936 - val_binary_accuracy: 0.8778\n",
            "Epoch 10/10\n",
            "625/625 [==============================] - 3s 5ms/step - loss: 0.2231 - binary_accuracy: 0.9205 - val_loss: 0.2898 - val_binary_accuracy: 0.8792\n",
            "782/782 [==============================] - 1s 1ms/step - loss: 0.3086 - binary_accuracy: 0.8743\n",
            "\n",
            "Testing performance:\n",
            " Loss: 0.309 - Accuracy: 0.874\n",
            "accuracy score: 0.874\n",
            "precision score: 0.875\n",
            "recall score: 0.873\n",
            "F1 score: 0.874\n",
            "              precision    recall  f1-score   support\n",
            "\n",
            "           0       0.87      0.88      0.87     12500\n",
            "           1       0.88      0.87      0.87     12500\n",
            "\n",
            "    accuracy                           0.87     25000\n",
            "   macro avg       0.87      0.87      0.87     25000\n",
            "weighted avg       0.87      0.87      0.87     25000\n",
            "\n",
            "========= dropout = 0.1 ============\n",
            "Model: \"sequential_4\"\n",
            "_________________________________________________________________\n",
            "Layer (type)                 Output Shape              Param #   \n",
            "=================================================================\n",
            "embedding (Embedding)        (None, None, 16)          160016    \n",
            "_________________________________________________________________\n",
            "dropout_8 (Dropout)          (None, None, 16)          0         \n",
            "_________________________________________________________________\n",
            "global_average_pooling1d_4 ( (None, 16)                0         \n",
            "_________________________________________________________________\n",
            "dropout_9 (Dropout)          (None, 16)                0         \n",
            "_________________________________________________________________\n",
            "dense_4 (Dense)              (None, 1)                 17        \n",
            "=================================================================\n",
            "Total params: 160,033\n",
            "Trainable params: 160,033\n",
            "Non-trainable params: 0\n",
            "_________________________________________________________________\n",
            "None\n",
            "Epoch 1/10\n",
            "625/625 [==============================] - 5s 7ms/step - loss: 0.6630 - binary_accuracy: 0.6952 - val_loss: 0.6122 - val_binary_accuracy: 0.7748\n",
            "Epoch 2/10\n",
            "625/625 [==============================] - 5s 7ms/step - loss: 0.5454 - binary_accuracy: 0.8028 - val_loss: 0.4941 - val_binary_accuracy: 0.8232\n",
            "Epoch 3/10\n",
            "625/625 [==============================] - 4s 7ms/step - loss: 0.4403 - binary_accuracy: 0.8478 - val_loss: 0.4160 - val_binary_accuracy: 0.8484\n",
            "Epoch 4/10\n",
            "625/625 [==============================] - 5s 7ms/step - loss: 0.3736 - binary_accuracy: 0.8672 - val_loss: 0.3700 - val_binary_accuracy: 0.8624\n",
            "Epoch 5/10\n",
            "625/625 [==============================] - 4s 7ms/step - loss: 0.3314 - binary_accuracy: 0.8802 - val_loss: 0.3417 - val_binary_accuracy: 0.8696\n",
            "Epoch 6/10\n",
            "625/625 [==============================] - 4s 7ms/step - loss: 0.3009 - binary_accuracy: 0.8906 - val_loss: 0.3232 - val_binary_accuracy: 0.8724\n",
            "Epoch 7/10\n",
            "625/625 [==============================] - 4s 7ms/step - loss: 0.2766 - binary_accuracy: 0.8990 - val_loss: 0.3101 - val_binary_accuracy: 0.8746\n",
            "Epoch 8/10\n",
            "625/625 [==============================] - 4s 7ms/step - loss: 0.2585 - binary_accuracy: 0.9069 - val_loss: 0.3012 - val_binary_accuracy: 0.8772\n",
            "Epoch 9/10\n",
            "625/625 [==============================] - 5s 7ms/step - loss: 0.2415 - binary_accuracy: 0.9125 - val_loss: 0.2950 - val_binary_accuracy: 0.8776\n",
            "Epoch 10/10\n",
            "625/625 [==============================] - 4s 7ms/step - loss: 0.2277 - binary_accuracy: 0.9186 - val_loss: 0.2904 - val_binary_accuracy: 0.8792\n",
            "782/782 [==============================] - 1s 2ms/step - loss: 0.3093 - binary_accuracy: 0.8736\n",
            "\n",
            "Testing performance:\n",
            " Loss: 0.309 - Accuracy: 0.874\n",
            "accuracy score: 0.874\n",
            "precision score: 0.873\n",
            "recall score: 0.874\n",
            "F1 score: 0.874\n",
            "              precision    recall  f1-score   support\n",
            "\n",
            "           0       0.87      0.87      0.87     12500\n",
            "           1       0.87      0.87      0.87     12500\n",
            "\n",
            "    accuracy                           0.87     25000\n",
            "   macro avg       0.87      0.87      0.87     25000\n",
            "weighted avg       0.87      0.87      0.87     25000\n",
            "\n",
            "========= dropout = 0.2 ============\n",
            "Model: \"sequential_5\"\n",
            "_________________________________________________________________\n",
            "Layer (type)                 Output Shape              Param #   \n",
            "=================================================================\n",
            "embedding (Embedding)        (None, None, 16)          160016    \n",
            "_________________________________________________________________\n",
            "dropout_10 (Dropout)         (None, None, 16)          0         \n",
            "_________________________________________________________________\n",
            "global_average_pooling1d_5 ( (None, 16)                0         \n",
            "_________________________________________________________________\n",
            "dropout_11 (Dropout)         (None, 16)                0         \n",
            "_________________________________________________________________\n",
            "dense_5 (Dense)              (None, 1)                 17        \n",
            "=================================================================\n",
            "Total params: 160,033\n",
            "Trainable params: 160,033\n",
            "Non-trainable params: 0\n",
            "_________________________________________________________________\n",
            "None\n",
            "Epoch 1/10\n",
            "625/625 [==============================] - 5s 7ms/step - loss: 0.6638 - binary_accuracy: 0.6905 - val_loss: 0.6137 - val_binary_accuracy: 0.7744\n",
            "Epoch 2/10\n",
            "625/625 [==============================] - 4s 7ms/step - loss: 0.5469 - binary_accuracy: 0.8008 - val_loss: 0.4963 - val_binary_accuracy: 0.8212\n",
            "Epoch 3/10\n",
            "625/625 [==============================] - 4s 7ms/step - loss: 0.4429 - binary_accuracy: 0.8456 - val_loss: 0.4187 - val_binary_accuracy: 0.8472\n",
            "Epoch 4/10\n",
            "625/625 [==============================] - 4s 7ms/step - loss: 0.3776 - binary_accuracy: 0.8665 - val_loss: 0.3729 - val_binary_accuracy: 0.8610\n",
            "Epoch 5/10\n",
            "625/625 [==============================] - 4s 7ms/step - loss: 0.3341 - binary_accuracy: 0.8792 - val_loss: 0.3446 - val_binary_accuracy: 0.8674\n",
            "Epoch 6/10\n",
            "625/625 [==============================] - 4s 7ms/step - loss: 0.3033 - binary_accuracy: 0.8886 - val_loss: 0.3257 - val_binary_accuracy: 0.8704\n",
            "Epoch 7/10\n",
            "625/625 [==============================] - 4s 7ms/step - loss: 0.2807 - binary_accuracy: 0.8965 - val_loss: 0.3122 - val_binary_accuracy: 0.8730\n",
            "Epoch 8/10\n",
            "625/625 [==============================] - 4s 7ms/step - loss: 0.2616 - binary_accuracy: 0.9045 - val_loss: 0.3031 - val_binary_accuracy: 0.8762\n",
            "Epoch 9/10\n",
            "625/625 [==============================] - 4s 7ms/step - loss: 0.2454 - binary_accuracy: 0.9096 - val_loss: 0.2960 - val_binary_accuracy: 0.8764\n",
            "Epoch 10/10\n",
            "625/625 [==============================] - 4s 6ms/step - loss: 0.2306 - binary_accuracy: 0.9161 - val_loss: 0.2915 - val_binary_accuracy: 0.8794\n",
            "782/782 [==============================] - 1s 1ms/step - loss: 0.3100 - binary_accuracy: 0.8734\n",
            "\n",
            "Testing performance:\n",
            " Loss: 0.310 - Accuracy: 0.873\n",
            "accuracy score: 0.873\n",
            "precision score: 0.872\n",
            "recall score: 0.875\n",
            "F1 score: 0.874\n",
            "              precision    recall  f1-score   support\n",
            "\n",
            "           0       0.87      0.87      0.87     12500\n",
            "           1       0.87      0.87      0.87     12500\n",
            "\n",
            "    accuracy                           0.87     25000\n",
            "   macro avg       0.87      0.87      0.87     25000\n",
            "weighted avg       0.87      0.87      0.87     25000\n",
            "\n",
            "========= dropout = 0.3 ============\n",
            "Model: \"sequential_6\"\n",
            "_________________________________________________________________\n",
            "Layer (type)                 Output Shape              Param #   \n",
            "=================================================================\n",
            "embedding (Embedding)        (None, None, 16)          160016    \n",
            "_________________________________________________________________\n",
            "dropout_12 (Dropout)         (None, None, 16)          0         \n",
            "_________________________________________________________________\n",
            "global_average_pooling1d_6 ( (None, 16)                0         \n",
            "_________________________________________________________________\n",
            "dropout_13 (Dropout)         (None, 16)                0         \n",
            "_________________________________________________________________\n",
            "dense_6 (Dense)              (None, 1)                 17        \n",
            "=================================================================\n",
            "Total params: 160,033\n",
            "Trainable params: 160,033\n",
            "Non-trainable params: 0\n",
            "_________________________________________________________________\n",
            "None\n",
            "Epoch 1/10\n",
            "625/625 [==============================] - 5s 7ms/step - loss: 0.6636 - binary_accuracy: 0.6873 - val_loss: 0.6146 - val_binary_accuracy: 0.7698\n",
            "Epoch 2/10\n",
            "625/625 [==============================] - 4s 7ms/step - loss: 0.5505 - binary_accuracy: 0.7982 - val_loss: 0.5008 - val_binary_accuracy: 0.8202\n",
            "Epoch 3/10\n",
            "625/625 [==============================] - 4s 7ms/step - loss: 0.4484 - binary_accuracy: 0.8431 - val_loss: 0.4233 - val_binary_accuracy: 0.8470\n",
            "Epoch 4/10\n",
            "625/625 [==============================] - 4s 7ms/step - loss: 0.3831 - binary_accuracy: 0.8644 - val_loss: 0.3769 - val_binary_accuracy: 0.8602\n",
            "Epoch 5/10\n",
            "625/625 [==============================] - 4s 7ms/step - loss: 0.3397 - binary_accuracy: 0.8769 - val_loss: 0.3478 - val_binary_accuracy: 0.8676\n",
            "Epoch 6/10\n",
            "625/625 [==============================] - 4s 7ms/step - loss: 0.3091 - binary_accuracy: 0.8873 - val_loss: 0.3283 - val_binary_accuracy: 0.8714\n",
            "Epoch 7/10\n",
            "625/625 [==============================] - 4s 7ms/step - loss: 0.2859 - binary_accuracy: 0.8955 - val_loss: 0.3145 - val_binary_accuracy: 0.8734\n",
            "Epoch 8/10\n",
            "625/625 [==============================] - 4s 7ms/step - loss: 0.2662 - binary_accuracy: 0.9023 - val_loss: 0.3046 - val_binary_accuracy: 0.8758\n",
            "Epoch 9/10\n",
            "625/625 [==============================] - 4s 7ms/step - loss: 0.2497 - binary_accuracy: 0.9083 - val_loss: 0.2975 - val_binary_accuracy: 0.8776\n",
            "Epoch 10/10\n",
            "625/625 [==============================] - 4s 7ms/step - loss: 0.2353 - binary_accuracy: 0.9134 - val_loss: 0.2924 - val_binary_accuracy: 0.8790\n",
            "782/782 [==============================] - 1s 1ms/step - loss: 0.3110 - binary_accuracy: 0.8737\n",
            "\n",
            "Testing performance:\n",
            " Loss: 0.311 - Accuracy: 0.874\n",
            "accuracy score: 0.874\n",
            "precision score: 0.874\n",
            "recall score: 0.873\n",
            "F1 score: 0.874\n",
            "              precision    recall  f1-score   support\n",
            "\n",
            "           0       0.87      0.87      0.87     12500\n",
            "           1       0.87      0.87      0.87     12500\n",
            "\n",
            "    accuracy                           0.87     25000\n",
            "   macro avg       0.87      0.87      0.87     25000\n",
            "weighted avg       0.87      0.87      0.87     25000\n",
            "\n"
          ]
        }
      ]
    },
    {
      "cell_type": "markdown",
      "metadata": {
        "id": "5cSKqpzc6Fns"
      },
      "source": [
        "Setting a dropout layer is for preventing overfitting, and save computational resource. We experiment different dropout sizes: no dropout, 10% dropout, 20%, and 30% dropout. Generally, the models with different dropout rates have quite similar performance. Dropout rate of 0.3 causes the performance to drop a bit (F1 score: 0.873) while no dropout, dropout rate of 0.1 and 0.2 do not affect the model performance regarding F1 score. "
      ]
    },
    {
      "cell_type": "markdown",
      "metadata": {
        "id": "Te4tKnBY8mXP"
      },
      "source": [
        "### Adding a Dense layer"
      ]
    },
    {
      "cell_type": "code",
      "metadata": {
        "id": "la1m7MZW9Ah5",
        "colab": {
          "base_uri": "https://localhost:8080/"
        },
        "outputId": "1836ae59-923a-4c51-8b11-015ebeb22739"
      },
      "source": [
        "# Creating the model\n",
        "embedding_dim = 16\n",
        "dropout =  0.1\n",
        "activations = ['relu', 'softmax', 'sigmoid']\n",
        "for f in activations:\n",
        "  print (\"========= activation function = %s ============\" %f)\n",
        "  model = tf.keras.Sequential([layers.Embedding(max_features + 1,embedding_dim,  name=\"embedding\"),\n",
        "                              layers.Dropout(dropout),\n",
        "                              layers.GlobalAveragePooling1D(),\n",
        "                              layers.Dropout(dropout),\n",
        "                              layers.Dense(32, activation= f),\n",
        "                              layers.Dense(1,activation = 'sigmoid')])\n",
        "  print(model.summary())\n",
        "\n",
        "  # configure the model uisng optimizer and loss function\n",
        "  model.compile(loss = losses.BinaryCrossentropy(),\n",
        "                optimizer = 'adam',\n",
        "                metrics = tf.metrics.BinaryAccuracy(threshold = 0.5 )) \n",
        "  # training the model\n",
        "  epochs = 10\n",
        "  history = model.fit(train,\n",
        "                      validation_data = val,\n",
        "                      epochs = epochs)\n",
        "  # testing the model\n",
        "  pred_label = (model.predict(test) > 0.5).astype(\"int32\")\n",
        "  true_label = np.concatenate([y for x, y in test], axis=0)\n",
        "\n",
        "  loss, accuracy = model.evaluate(test)\n",
        "  print('\\nTesting performance:\\n Loss: {:.3f} - Accuracy: {:.3f}'. format(loss, accuracy))\n",
        "  printing_eval_scores (true_label, pred_label, report=True)"
      ],
      "execution_count": 13,
      "outputs": [
        {
          "output_type": "stream",
          "name": "stdout",
          "text": [
            "========= activation function = relu ============\n",
            "Model: \"sequential_7\"\n",
            "_________________________________________________________________\n",
            "Layer (type)                 Output Shape              Param #   \n",
            "=================================================================\n",
            "embedding (Embedding)        (None, None, 16)          160016    \n",
            "_________________________________________________________________\n",
            "dropout_14 (Dropout)         (None, None, 16)          0         \n",
            "_________________________________________________________________\n",
            "global_average_pooling1d_7 ( (None, 16)                0         \n",
            "_________________________________________________________________\n",
            "dropout_15 (Dropout)         (None, 16)                0         \n",
            "_________________________________________________________________\n",
            "dense_7 (Dense)              (None, 32)                544       \n",
            "_________________________________________________________________\n",
            "dense_8 (Dense)              (None, 1)                 33        \n",
            "=================================================================\n",
            "Total params: 160,593\n",
            "Trainable params: 160,593\n",
            "Non-trainable params: 0\n",
            "_________________________________________________________________\n",
            "None\n",
            "Epoch 1/10\n",
            "625/625 [==============================] - 5s 7ms/step - loss: 0.5362 - binary_accuracy: 0.7429 - val_loss: 0.3496 - val_binary_accuracy: 0.8586\n",
            "Epoch 2/10\n",
            "625/625 [==============================] - 4s 7ms/step - loss: 0.2874 - binary_accuracy: 0.8867 - val_loss: 0.3001 - val_binary_accuracy: 0.8734\n",
            "Epoch 3/10\n",
            "625/625 [==============================] - 4s 7ms/step - loss: 0.2218 - binary_accuracy: 0.9165 - val_loss: 0.2975 - val_binary_accuracy: 0.8756\n",
            "Epoch 4/10\n",
            "625/625 [==============================] - 4s 7ms/step - loss: 0.1820 - binary_accuracy: 0.9327 - val_loss: 0.3108 - val_binary_accuracy: 0.8722\n",
            "Epoch 5/10\n",
            "625/625 [==============================] - 4s 7ms/step - loss: 0.1523 - binary_accuracy: 0.9470 - val_loss: 0.3358 - val_binary_accuracy: 0.8692\n",
            "Epoch 6/10\n",
            "625/625 [==============================] - 4s 7ms/step - loss: 0.1283 - binary_accuracy: 0.9575 - val_loss: 0.3624 - val_binary_accuracy: 0.8678\n",
            "Epoch 7/10\n",
            "625/625 [==============================] - 4s 7ms/step - loss: 0.1072 - binary_accuracy: 0.9664 - val_loss: 0.3909 - val_binary_accuracy: 0.8676\n",
            "Epoch 8/10\n",
            "625/625 [==============================] - 4s 7ms/step - loss: 0.0908 - binary_accuracy: 0.9719 - val_loss: 0.4327 - val_binary_accuracy: 0.8640\n",
            "Epoch 9/10\n",
            "625/625 [==============================] - 4s 7ms/step - loss: 0.0763 - binary_accuracy: 0.9794 - val_loss: 0.4688 - val_binary_accuracy: 0.8628\n",
            "Epoch 10/10\n",
            "625/625 [==============================] - 4s 7ms/step - loss: 0.0637 - binary_accuracy: 0.9827 - val_loss: 0.5054 - val_binary_accuracy: 0.8642\n",
            "782/782 [==============================] - 1s 1ms/step - loss: 0.5925 - binary_accuracy: 0.8412\n",
            "\n",
            "Testing performance:\n",
            " Loss: 0.593 - Accuracy: 0.841\n",
            "accuracy score: 0.841\n",
            "precision score: 0.864\n",
            "recall score: 0.810\n",
            "F1 score: 0.836\n",
            "              precision    recall  f1-score   support\n",
            "\n",
            "           0       0.82      0.87      0.85     12500\n",
            "           1       0.86      0.81      0.84     12500\n",
            "\n",
            "    accuracy                           0.84     25000\n",
            "   macro avg       0.84      0.84      0.84     25000\n",
            "weighted avg       0.84      0.84      0.84     25000\n",
            "\n",
            "========= activation function = softmax ============\n",
            "Model: \"sequential_8\"\n",
            "_________________________________________________________________\n",
            "Layer (type)                 Output Shape              Param #   \n",
            "=================================================================\n",
            "embedding (Embedding)        (None, None, 16)          160016    \n",
            "_________________________________________________________________\n",
            "dropout_16 (Dropout)         (None, None, 16)          0         \n",
            "_________________________________________________________________\n",
            "global_average_pooling1d_8 ( (None, 16)                0         \n",
            "_________________________________________________________________\n",
            "dropout_17 (Dropout)         (None, 16)                0         \n",
            "_________________________________________________________________\n",
            "dense_9 (Dense)              (None, 32)                544       \n",
            "_________________________________________________________________\n",
            "dense_10 (Dense)             (None, 1)                 33        \n",
            "=================================================================\n",
            "Total params: 160,593\n",
            "Trainable params: 160,593\n",
            "Non-trainable params: 0\n",
            "_________________________________________________________________\n",
            "None\n",
            "Epoch 1/10\n",
            "625/625 [==============================] - 5s 7ms/step - loss: 0.6866 - binary_accuracy: 0.5911 - val_loss: 0.6628 - val_binary_accuracy: 0.7528\n",
            "Epoch 2/10\n",
            "625/625 [==============================] - 4s 7ms/step - loss: 0.5814 - binary_accuracy: 0.7984 - val_loss: 0.4947 - val_binary_accuracy: 0.8338\n",
            "Epoch 3/10\n",
            "625/625 [==============================] - 4s 7ms/step - loss: 0.4110 - binary_accuracy: 0.8601 - val_loss: 0.3660 - val_binary_accuracy: 0.8622\n",
            "Epoch 4/10\n",
            "625/625 [==============================] - 4s 7ms/step - loss: 0.3162 - binary_accuracy: 0.8824 - val_loss: 0.3227 - val_binary_accuracy: 0.8728\n",
            "Epoch 5/10\n",
            "625/625 [==============================] - 4s 7ms/step - loss: 0.2703 - binary_accuracy: 0.9008 - val_loss: 0.3067 - val_binary_accuracy: 0.8762\n",
            "Epoch 6/10\n",
            "625/625 [==============================] - 4s 7ms/step - loss: 0.2410 - binary_accuracy: 0.9132 - val_loss: 0.3011 - val_binary_accuracy: 0.8768\n",
            "Epoch 7/10\n",
            "625/625 [==============================] - 4s 7ms/step - loss: 0.2188 - binary_accuracy: 0.9237 - val_loss: 0.2984 - val_binary_accuracy: 0.8788\n",
            "Epoch 8/10\n",
            "625/625 [==============================] - 4s 7ms/step - loss: 0.2005 - binary_accuracy: 0.9330 - val_loss: 0.2998 - val_binary_accuracy: 0.8796\n",
            "Epoch 9/10\n",
            "625/625 [==============================] - 4s 7ms/step - loss: 0.1829 - binary_accuracy: 0.9401 - val_loss: 0.3024 - val_binary_accuracy: 0.8804\n",
            "Epoch 10/10\n",
            "625/625 [==============================] - 5s 7ms/step - loss: 0.1690 - binary_accuracy: 0.9457 - val_loss: 0.3072 - val_binary_accuracy: 0.8814\n",
            "782/782 [==============================] - 1s 1ms/step - loss: 0.3288 - binary_accuracy: 0.8724\n",
            "\n",
            "Testing performance:\n",
            " Loss: 0.329 - Accuracy: 0.872\n",
            "accuracy score: 0.872\n",
            "precision score: 0.878\n",
            "recall score: 0.865\n",
            "F1 score: 0.872\n",
            "              precision    recall  f1-score   support\n",
            "\n",
            "           0       0.87      0.88      0.87     12500\n",
            "           1       0.88      0.87      0.87     12500\n",
            "\n",
            "    accuracy                           0.87     25000\n",
            "   macro avg       0.87      0.87      0.87     25000\n",
            "weighted avg       0.87      0.87      0.87     25000\n",
            "\n",
            "========= activation function = sigmoid ============\n",
            "Model: \"sequential_9\"\n",
            "_________________________________________________________________\n",
            "Layer (type)                 Output Shape              Param #   \n",
            "=================================================================\n",
            "embedding (Embedding)        (None, None, 16)          160016    \n",
            "_________________________________________________________________\n",
            "dropout_18 (Dropout)         (None, None, 16)          0         \n",
            "_________________________________________________________________\n",
            "global_average_pooling1d_9 ( (None, 16)                0         \n",
            "_________________________________________________________________\n",
            "dropout_19 (Dropout)         (None, 16)                0         \n",
            "_________________________________________________________________\n",
            "dense_11 (Dense)             (None, 32)                544       \n",
            "_________________________________________________________________\n",
            "dense_12 (Dense)             (None, 1)                 33        \n",
            "=================================================================\n",
            "Total params: 160,593\n",
            "Trainable params: 160,593\n",
            "Non-trainable params: 0\n",
            "_________________________________________________________________\n",
            "None\n",
            "Epoch 1/10\n",
            "625/625 [==============================] - 5s 7ms/step - loss: 0.6576 - binary_accuracy: 0.6423 - val_loss: 0.5696 - val_binary_accuracy: 0.7700\n",
            "Epoch 2/10\n",
            "625/625 [==============================] - 4s 7ms/step - loss: 0.4421 - binary_accuracy: 0.8309 - val_loss: 0.3663 - val_binary_accuracy: 0.8552\n",
            "Epoch 3/10\n",
            "625/625 [==============================] - 4s 7ms/step - loss: 0.3102 - binary_accuracy: 0.8773 - val_loss: 0.3142 - val_binary_accuracy: 0.8716\n",
            "Epoch 4/10\n",
            "625/625 [==============================] - 4s 7ms/step - loss: 0.2593 - binary_accuracy: 0.8989 - val_loss: 0.2975 - val_binary_accuracy: 0.8766\n",
            "Epoch 5/10\n",
            "625/625 [==============================] - 4s 7ms/step - loss: 0.2268 - binary_accuracy: 0.9129 - val_loss: 0.2917 - val_binary_accuracy: 0.8784\n",
            "Epoch 6/10\n",
            "625/625 [==============================] - 4s 7ms/step - loss: 0.2012 - binary_accuracy: 0.9258 - val_loss: 0.2917 - val_binary_accuracy: 0.8812\n",
            "Epoch 7/10\n",
            "625/625 [==============================] - 4s 7ms/step - loss: 0.1808 - binary_accuracy: 0.9350 - val_loss: 0.2962 - val_binary_accuracy: 0.8820\n",
            "Epoch 8/10\n",
            "625/625 [==============================] - 4s 7ms/step - loss: 0.1626 - binary_accuracy: 0.9420 - val_loss: 0.3042 - val_binary_accuracy: 0.8820\n",
            "Epoch 9/10\n",
            "625/625 [==============================] - 4s 7ms/step - loss: 0.1474 - binary_accuracy: 0.9496 - val_loss: 0.3143 - val_binary_accuracy: 0.8806\n",
            "Epoch 10/10\n",
            "625/625 [==============================] - 4s 7ms/step - loss: 0.1324 - binary_accuracy: 0.9566 - val_loss: 0.3279 - val_binary_accuracy: 0.8812\n",
            "782/782 [==============================] - 1s 1ms/step - loss: 0.3657 - binary_accuracy: 0.8658\n",
            "\n",
            "Testing performance:\n",
            " Loss: 0.366 - Accuracy: 0.866\n",
            "accuracy score: 0.866\n",
            "precision score: 0.869\n",
            "recall score: 0.861\n",
            "F1 score: 0.865\n",
            "              precision    recall  f1-score   support\n",
            "\n",
            "           0       0.86      0.87      0.87     12500\n",
            "           1       0.87      0.86      0.87     12500\n",
            "\n",
            "    accuracy                           0.87     25000\n",
            "   macro avg       0.87      0.87      0.87     25000\n",
            "weighted avg       0.87      0.87      0.87     25000\n",
            "\n"
          ]
        }
      ]
    },
    {
      "cell_type": "markdown",
      "metadata": {
        "id": "hRIVHwlm-R23"
      },
      "source": [
        "We add one more Dense layer before the last Dense layer, and experiment different nonlinear functions: ReLU, softmax, and sigmoid. The model with ReLU activation performs worst with F1 score = 0.836 on the test set. The model with softmax activation performs the best with a F1 score of 0.871, followed by the model with sigmoid activation (F1 score = 0.864)."
      ]
    },
    {
      "cell_type": "markdown",
      "metadata": {
        "id": "NOBe7jHOHLQ_"
      },
      "source": [
        "### With different Batch size"
      ]
    },
    {
      "cell_type": "code",
      "metadata": {
        "id": "1dPOERiaH501",
        "colab": {
          "base_uri": "https://localhost:8080/"
        },
        "outputId": "55ca822f-89a3-4ed5-8887-8b661b369086"
      },
      "source": [
        "# Loading data from the directory\n",
        "batch_size = 64\n",
        "seed = 42\n",
        "raw_train = tf.keras.utils.text_dataset_from_directory ('aclImdb/train',\n",
        "                                                        batch_size =batch_size,\n",
        "                                                        validation_split = 0.2,\n",
        "                                                        subset = 'training',\n",
        "                                                        seed = seed)\n",
        "raw_val = tf.keras.utils.text_dataset_from_directory ('aclImdb/train',\n",
        "                                                      batch_size = batch_size,\n",
        "                                                      validation_split = 0.2,\n",
        "                                                      subset = 'validation',\n",
        "                                                      seed = seed)\n",
        "raw_test = tf.keras.utils.text_dataset_from_directory ('aclImdb/test',\n",
        "                                                       batch_size = batch_size)\n",
        "\n",
        "# storing text batch and label batch\n",
        "text_batch, label_batch = next(iter(raw_train))\n",
        "\n",
        "## print an instance with vectorized review and label for observing\n",
        "print ('REVIEW:', text_batch[0])\n",
        "print('LABEL:', raw_train.class_names[label_batch[0]] )\n",
        "\n",
        "\n",
        "# Creating the model\n",
        "embedding_dim = 16\n",
        "dropout =  0.1\n",
        "activation =  'softmax'\n",
        "\n",
        "print (\"======== activation function = {}, dropout = {}, batch size = {} ============\".format(activation, dropout, batch_size ))\n",
        "model = tf.keras.Sequential([layers.Embedding(max_features + 1,embedding_dim, name=\"embedding\"),\n",
        "                            layers.Dropout(dropout),\n",
        "                            layers.GlobalAveragePooling1D(),\n",
        "                            layers.Dropout(dropout),\n",
        "                            layers.Dense(32, activation= activation),\n",
        "                            layers.Dense(1, activation = 'sigmoid')])\n",
        "print(model.summary())\n",
        "\n",
        "# configure the model uisng optimizer and loss function\n",
        "model.compile(loss = losses.BinaryCrossentropy(),\n",
        "              optimizer = 'adam',\n",
        "              metrics = tf.metrics.BinaryAccuracy(threshold = 0.5 )) \n",
        "# training the model\n",
        "epochs = 10\n",
        "history = model.fit(train,\n",
        "                    validation_data = val,\n",
        "                    epochs = epochs)\n",
        "# testing the model\n",
        "pred_label = (model.predict(test) > 0.5).astype(\"int32\")\n",
        "true_label = np.concatenate([y for x, y in test], axis=0)\n",
        "\n",
        "loss, accuracy = model.evaluate(test)\n",
        "print('\\nTesting performance:\\n Loss: {:.3f} - Accuracy: {:.3f}'. format(loss, accuracy))\n",
        "printing_eval_scores (true_label, pred_label, report=True)"
      ],
      "execution_count": 14,
      "outputs": [
        {
          "output_type": "stream",
          "name": "stdout",
          "text": [
            "Found 25000 files belonging to 2 classes.\n",
            "Using 20000 files for training.\n",
            "Found 25000 files belonging to 2 classes.\n",
            "Using 5000 files for validation.\n",
            "Found 25000 files belonging to 2 classes.\n",
            "REVIEW: tf.Tensor(b\"First of all, I liked very much the central idea of locating the '' intruders'', Others in the fragile Self, on various levels - mainly subconscious but sometimes more allegorical. In fact the intruders are omnipresent throughout the film : in the Swiss-French border where the pretagonist leads secluded life; in the his recurring daydream and nightmare; inside his ailing body after heart transplantation.... In the last half of the film, he becomes intruder himself, returning in ancient french colony in the hope of atoning for the past. <br /><br />The overall tone is bitter rather than pathetic, full of regrets and guilts, sense of failure being more or less dominant. This is a quite grim picture of an old age, ostensibly self-dependent but hopelessly void and lonely inside. The directer composes the images more to convey passing sensations of anxiety and desire than any explicit meanings. Some of them are mesmerizing, not devoid of humor though, kind of absurdist play only somnambulist can visualize.\", shape=(), dtype=string)\n",
            "LABEL: pos\n",
            "======== activation function = softmax, dropout = 0.1, batch size = 64 ============\n",
            "Model: \"sequential_10\"\n",
            "_________________________________________________________________\n",
            "Layer (type)                 Output Shape              Param #   \n",
            "=================================================================\n",
            "embedding (Embedding)        (None, None, 16)          160016    \n",
            "_________________________________________________________________\n",
            "dropout_20 (Dropout)         (None, None, 16)          0         \n",
            "_________________________________________________________________\n",
            "global_average_pooling1d_10  (None, 16)                0         \n",
            "_________________________________________________________________\n",
            "dropout_21 (Dropout)         (None, 16)                0         \n",
            "_________________________________________________________________\n",
            "dense_13 (Dense)             (None, 32)                544       \n",
            "_________________________________________________________________\n",
            "dense_14 (Dense)             (None, 1)                 33        \n",
            "=================================================================\n",
            "Total params: 160,593\n",
            "Trainable params: 160,593\n",
            "Non-trainable params: 0\n",
            "_________________________________________________________________\n",
            "None\n",
            "Epoch 1/10\n",
            "625/625 [==============================] - 5s 7ms/step - loss: 0.6858 - binary_accuracy: 0.5931 - val_loss: 0.6593 - val_binary_accuracy: 0.7566\n",
            "Epoch 2/10\n",
            "625/625 [==============================] - 7s 11ms/step - loss: 0.5728 - binary_accuracy: 0.8010 - val_loss: 0.4861 - val_binary_accuracy: 0.8346\n",
            "Epoch 3/10\n",
            "625/625 [==============================] - 5s 8ms/step - loss: 0.4119 - binary_accuracy: 0.8612 - val_loss: 0.3731 - val_binary_accuracy: 0.8602\n",
            "Epoch 4/10\n",
            "625/625 [==============================] - 4s 7ms/step - loss: 0.3239 - binary_accuracy: 0.8809 - val_loss: 0.3272 - val_binary_accuracy: 0.8704\n",
            "Epoch 5/10\n",
            "625/625 [==============================] - 4s 7ms/step - loss: 0.2779 - binary_accuracy: 0.8989 - val_loss: 0.3090 - val_binary_accuracy: 0.8740\n",
            "Epoch 6/10\n",
            "625/625 [==============================] - 4s 7ms/step - loss: 0.2468 - binary_accuracy: 0.9106 - val_loss: 0.3007 - val_binary_accuracy: 0.8782\n",
            "Epoch 7/10\n",
            "625/625 [==============================] - 4s 7ms/step - loss: 0.2238 - binary_accuracy: 0.9209 - val_loss: 0.2974 - val_binary_accuracy: 0.8786\n",
            "Epoch 8/10\n",
            "625/625 [==============================] - 4s 7ms/step - loss: 0.2042 - binary_accuracy: 0.9309 - val_loss: 0.2968 - val_binary_accuracy: 0.8790\n",
            "Epoch 9/10\n",
            "625/625 [==============================] - 4s 7ms/step - loss: 0.1879 - binary_accuracy: 0.9369 - val_loss: 0.2978 - val_binary_accuracy: 0.8790\n",
            "Epoch 10/10\n",
            "625/625 [==============================] - 4s 7ms/step - loss: 0.1737 - binary_accuracy: 0.9434 - val_loss: 0.3016 - val_binary_accuracy: 0.8802\n",
            "782/782 [==============================] - 1s 1ms/step - loss: 0.3227 - binary_accuracy: 0.8733\n",
            "\n",
            "Testing performance:\n",
            " Loss: 0.323 - Accuracy: 0.873\n",
            "accuracy score: 0.873\n",
            "precision score: 0.878\n",
            "recall score: 0.867\n",
            "F1 score: 0.872\n",
            "              precision    recall  f1-score   support\n",
            "\n",
            "           0       0.87      0.88      0.87     12500\n",
            "           1       0.88      0.87      0.87     12500\n",
            "\n",
            "    accuracy                           0.87     25000\n",
            "   macro avg       0.87      0.87      0.87     25000\n",
            "weighted avg       0.87      0.87      0.87     25000\n",
            "\n"
          ]
        },
        {
          "output_type": "execute_result",
          "data": {
            "text/plain": [
              "(0.87332, 0.878252411445246, 0.8668, 0.8724886258404798)"
            ]
          },
          "metadata": {},
          "execution_count": 14
        }
      ]
    },
    {
      "cell_type": "markdown",
      "metadata": {
        "id": "RBlClyC-BAnV"
      },
      "source": [
        "Previously, we have built the model Sequence_8 with a batch size of 32, dropout = 0.1, activation function = softmax, and it achieves F1 score = 0.871. In the above model (Sequence_9), we use the same architecture, but train it on a batch size of 64 to investigate whether batch size impacts performance of the model. We found that F1 score drops a bit to 0.865, meaning that batch size of 32 or 64 does not significantly impact the model's performance."
      ]
    },
    {
      "cell_type": "markdown",
      "metadata": {
        "id": "G7OsTdtjWfge"
      },
      "source": [
        "### With different training algorithms\n",
        "Here we mostly focus on adapting learning rate methods to train the models"
      ]
    },
    {
      "cell_type": "code",
      "metadata": {
        "colab": {
          "base_uri": "https://localhost:8080/"
        },
        "id": "JnIwxcEVW4CC",
        "outputId": "0e1127df-8f3e-4fa0-bb85-4c97dde8bd2c"
      },
      "source": [
        "# configure the model uisng optimizer and loss function\n",
        "optimizers = ['adagrad', 'rmsprop', 'adam']\n",
        "\n",
        "print (\"======== activation function = {}, dropout = {}, batch size = {} ============\".format(activation, dropout, batch_size ))\n",
        "for opt in optimizers:\n",
        "  print( '========== optimizer = %s' %opt)\n",
        "  model.compile(loss = losses.BinaryCrossentropy(),\n",
        "                optimizer = opt,\n",
        "                metrics = tf.metrics.BinaryAccuracy(threshold = 0.5 )) \n",
        "  # training the model\n",
        "  epochs = 10\n",
        "  history = model.fit(train,\n",
        "                      validation_data = val,\n",
        "                      epochs = epochs)\n",
        "  # testing the model\n",
        "  pred_label = (model.predict(test) > 0.5).astype(\"int32\")\n",
        "  true_label = np.concatenate([y for x, y in test], axis=0)\n",
        "\n",
        "  loss, accuracy = model.evaluate(test)\n",
        "  print('\\nTesting performance:\\n Loss: {:.3f} - Accuracy: {:.3f}'. format(loss, accuracy))\n",
        "  printing_eval_scores (true_label, pred_label, report=True)\n",
        "\n"
      ],
      "execution_count": 15,
      "outputs": [
        {
          "output_type": "stream",
          "name": "stdout",
          "text": [
            "======== activation function = softmax, dropout = 0.1, batch size = 64 ============\n",
            "========== optimizer = adagrad\n",
            "Epoch 1/10\n",
            "625/625 [==============================] - 4s 5ms/step - loss: 0.1581 - binary_accuracy: 0.9510 - val_loss: 0.3025 - val_binary_accuracy: 0.8796\n",
            "Epoch 2/10\n",
            "625/625 [==============================] - 3s 5ms/step - loss: 0.1585 - binary_accuracy: 0.9510 - val_loss: 0.3026 - val_binary_accuracy: 0.8798\n",
            "Epoch 3/10\n",
            "625/625 [==============================] - 3s 5ms/step - loss: 0.1581 - binary_accuracy: 0.9516 - val_loss: 0.3025 - val_binary_accuracy: 0.8800\n",
            "Epoch 4/10\n",
            "625/625 [==============================] - 3s 5ms/step - loss: 0.1581 - binary_accuracy: 0.9510 - val_loss: 0.3026 - val_binary_accuracy: 0.8800\n",
            "Epoch 5/10\n",
            "625/625 [==============================] - 3s 6ms/step - loss: 0.1583 - binary_accuracy: 0.9514 - val_loss: 0.3027 - val_binary_accuracy: 0.8800\n",
            "Epoch 6/10\n",
            "625/625 [==============================] - 3s 5ms/step - loss: 0.1591 - binary_accuracy: 0.9514 - val_loss: 0.3026 - val_binary_accuracy: 0.8796\n",
            "Epoch 7/10\n",
            "625/625 [==============================] - 3s 5ms/step - loss: 0.1583 - binary_accuracy: 0.9503 - val_loss: 0.3027 - val_binary_accuracy: 0.8796\n",
            "Epoch 8/10\n",
            "625/625 [==============================] - 3s 5ms/step - loss: 0.1582 - binary_accuracy: 0.9505 - val_loss: 0.3028 - val_binary_accuracy: 0.8796\n",
            "Epoch 9/10\n",
            "625/625 [==============================] - 3s 5ms/step - loss: 0.1568 - binary_accuracy: 0.9528 - val_loss: 0.3028 - val_binary_accuracy: 0.8796\n",
            "Epoch 10/10\n",
            "625/625 [==============================] - 3s 5ms/step - loss: 0.1587 - binary_accuracy: 0.9512 - val_loss: 0.3028 - val_binary_accuracy: 0.8796\n",
            "782/782 [==============================] - 1s 1ms/step - loss: 0.3236 - binary_accuracy: 0.8735\n",
            "\n",
            "Testing performance:\n",
            " Loss: 0.324 - Accuracy: 0.873\n",
            "accuracy score: 0.873\n",
            "precision score: 0.881\n",
            "recall score: 0.864\n",
            "F1 score: 0.872\n",
            "              precision    recall  f1-score   support\n",
            "\n",
            "           0       0.87      0.88      0.87     12500\n",
            "           1       0.88      0.86      0.87     12500\n",
            "\n",
            "    accuracy                           0.87     25000\n",
            "   macro avg       0.87      0.87      0.87     25000\n",
            "weighted avg       0.87      0.87      0.87     25000\n",
            "\n",
            "========== optimizer = rmsprop\n",
            "Epoch 1/10\n",
            "625/625 [==============================] - 5s 6ms/step - loss: 0.1578 - binary_accuracy: 0.9505 - val_loss: 0.3102 - val_binary_accuracy: 0.8796\n",
            "Epoch 2/10\n",
            "625/625 [==============================] - 4s 6ms/step - loss: 0.1535 - binary_accuracy: 0.9499 - val_loss: 0.3147 - val_binary_accuracy: 0.8804\n",
            "Epoch 3/10\n",
            "625/625 [==============================] - 4s 6ms/step - loss: 0.1468 - binary_accuracy: 0.9531 - val_loss: 0.3197 - val_binary_accuracy: 0.8810\n",
            "Epoch 4/10\n",
            "625/625 [==============================] - 4s 6ms/step - loss: 0.1440 - binary_accuracy: 0.9546 - val_loss: 0.3223 - val_binary_accuracy: 0.8830\n",
            "Epoch 5/10\n",
            "625/625 [==============================] - 4s 6ms/step - loss: 0.1410 - binary_accuracy: 0.9550 - val_loss: 0.3250 - val_binary_accuracy: 0.8838\n",
            "Epoch 6/10\n",
            "625/625 [==============================] - 3s 6ms/step - loss: 0.1385 - binary_accuracy: 0.9560 - val_loss: 0.3286 - val_binary_accuracy: 0.8826\n",
            "Epoch 7/10\n",
            "625/625 [==============================] - 4s 6ms/step - loss: 0.1362 - binary_accuracy: 0.9569 - val_loss: 0.3312 - val_binary_accuracy: 0.8812\n",
            "Epoch 8/10\n",
            "625/625 [==============================] - 4s 6ms/step - loss: 0.1339 - binary_accuracy: 0.9581 - val_loss: 0.3345 - val_binary_accuracy: 0.8810\n",
            "Epoch 9/10\n",
            "625/625 [==============================] - 4s 6ms/step - loss: 0.1333 - binary_accuracy: 0.9568 - val_loss: 0.3357 - val_binary_accuracy: 0.8802\n",
            "Epoch 10/10\n",
            "625/625 [==============================] - 4s 6ms/step - loss: 0.1298 - binary_accuracy: 0.9582 - val_loss: 0.3390 - val_binary_accuracy: 0.8810\n",
            "782/782 [==============================] - 1s 1ms/step - loss: 0.3793 - binary_accuracy: 0.8655\n",
            "\n",
            "Testing performance:\n",
            " Loss: 0.379 - Accuracy: 0.865\n",
            "accuracy score: 0.865\n",
            "precision score: 0.882\n",
            "recall score: 0.844\n",
            "F1 score: 0.863\n",
            "              precision    recall  f1-score   support\n",
            "\n",
            "           0       0.85      0.89      0.87     12500\n",
            "           1       0.88      0.84      0.86     12500\n",
            "\n",
            "    accuracy                           0.87     25000\n",
            "   macro avg       0.87      0.87      0.87     25000\n",
            "weighted avg       0.87      0.87      0.87     25000\n",
            "\n",
            "========== optimizer = adam\n",
            "Epoch 1/10\n",
            "625/625 [==============================] - 5s 7ms/step - loss: 0.1309 - binary_accuracy: 0.9589 - val_loss: 0.3374 - val_binary_accuracy: 0.8836\n",
            "Epoch 2/10\n",
            "625/625 [==============================] - 4s 7ms/step - loss: 0.1215 - binary_accuracy: 0.9639 - val_loss: 0.3410 - val_binary_accuracy: 0.8822\n",
            "Epoch 3/10\n",
            "625/625 [==============================] - 4s 7ms/step - loss: 0.1142 - binary_accuracy: 0.9663 - val_loss: 0.3482 - val_binary_accuracy: 0.8826\n",
            "Epoch 4/10\n",
            "625/625 [==============================] - 4s 7ms/step - loss: 0.1064 - binary_accuracy: 0.9704 - val_loss: 0.3567 - val_binary_accuracy: 0.8830\n",
            "Epoch 5/10\n",
            "625/625 [==============================] - 4s 7ms/step - loss: 0.0990 - binary_accuracy: 0.9735 - val_loss: 0.3657 - val_binary_accuracy: 0.8818\n",
            "Epoch 6/10\n",
            "625/625 [==============================] - 4s 7ms/step - loss: 0.0928 - binary_accuracy: 0.9766 - val_loss: 0.3762 - val_binary_accuracy: 0.8822\n",
            "Epoch 7/10\n",
            "625/625 [==============================] - 5s 7ms/step - loss: 0.0860 - binary_accuracy: 0.9783 - val_loss: 0.3866 - val_binary_accuracy: 0.8804\n",
            "Epoch 8/10\n",
            "625/625 [==============================] - 4s 7ms/step - loss: 0.0806 - binary_accuracy: 0.9806 - val_loss: 0.3979 - val_binary_accuracy: 0.8798\n",
            "Epoch 9/10\n",
            "625/625 [==============================] - 4s 7ms/step - loss: 0.0757 - binary_accuracy: 0.9825 - val_loss: 0.4101 - val_binary_accuracy: 0.8778\n",
            "Epoch 10/10\n",
            "625/625 [==============================] - 4s 7ms/step - loss: 0.0697 - binary_accuracy: 0.9841 - val_loss: 0.4218 - val_binary_accuracy: 0.8760\n",
            "782/782 [==============================] - 1s 1ms/step - loss: 0.4950 - binary_accuracy: 0.8514\n",
            "\n",
            "Testing performance:\n",
            " Loss: 0.495 - Accuracy: 0.851\n",
            "accuracy score: 0.851\n",
            "precision score: 0.865\n",
            "recall score: 0.833\n",
            "F1 score: 0.849\n",
            "              precision    recall  f1-score   support\n",
            "\n",
            "           0       0.84      0.87      0.85     12500\n",
            "           1       0.87      0.83      0.85     12500\n",
            "\n",
            "    accuracy                           0.85     25000\n",
            "   macro avg       0.85      0.85      0.85     25000\n",
            "weighted avg       0.85      0.85      0.85     25000\n",
            "\n"
          ]
        }
      ]
    },
    {
      "cell_type": "markdown",
      "metadata": {
        "id": "6lBoPM-tGEPK"
      },
      "source": [
        "We explore three different optimizers: Adam, adagrad, and rmsprop for training the model with activation function = softmax, dropout = 0.1, batch size = 64. We found that adagrad opimizer helps the model achieve higher performance (F1 score: 0.865) than the model trained with Adam (F1 score = 0.856), and rmsprop (F1 score = 0.850)."
      ]
    },
    {
      "cell_type": "markdown",
      "metadata": {
        "id": "Ln0waE00a6eE"
      },
      "source": [
        "## Word Embedding"
      ]
    },
    {
      "cell_type": "code",
      "metadata": {
        "id": "1LsKSP4Sa-kC"
      },
      "source": [
        "# Getting the weights that we have trained on our model, and their corresponding vocabulary \n",
        "weights = model.get_layer('embedding').get_weights()[0]\n",
        "vocab = vectorize_layer.get_vocabulary()"
      ],
      "execution_count": 16,
      "outputs": []
    },
    {
      "cell_type": "code",
      "metadata": {
        "id": "im8CyYCyWuOI",
        "colab": {
          "base_uri": "https://localhost:8080/"
        },
        "outputId": "92a2e3d7-7972-4d59-9f47-04115ff597a0"
      },
      "source": [
        "# Defining a function to find the most similar words to a certain chosen word.\n",
        "def Find_similar_w (word, n):\n",
        "  all_cos_sim = {}\n",
        "  idx = vocab.index(word)\n",
        "  weight = weights[idx]\n",
        "  for i in range(len(weights)-1):\n",
        "    cosine_sim = cosine_similarity(weight.reshape(1, -1), weights[i].reshape(1, -1))\n",
        "    all_cos_sim[vocab[i]] = cosine_sim\n",
        "  # Sorting the dictionary in descending order\n",
        "  sorted_cos = {k:v for k, v in sorted(all_cos_sim.items(), key = lambda item: item[1], reverse=True)}\n",
        "  print (\"Top {} most similar with '{}' \\n\".format(n, word))\n",
        "  for k, v in list(sorted_cos.items())[:n]:\n",
        "    print ('{} =====> similarity score: {}'. format(k,v))\n",
        "  return  sorted_cos\n",
        "\n",
        "most_similar_w = Find_similar_w (word = 'boring', n = 10)\n"
      ],
      "execution_count": 17,
      "outputs": [
        {
          "output_type": "stream",
          "name": "stdout",
          "text": [
            "Top 10 most similar with 'boring' \n",
            "\n",
            "boring =====> similarity score: [[1.]]\n",
            "severed =====> similarity score: [[0.99926853]]\n",
            "fodder =====> similarity score: [[0.99914974]]\n",
            "overlong =====> similarity score: [[0.99911994]]\n",
            "flimsy =====> similarity score: [[0.9990885]]\n",
            "stereotyped =====> similarity score: [[0.9990077]]\n",
            "poorly =====> similarity score: [[0.998999]]\n",
            "options =====> similarity score: [[0.99899226]]\n",
            "stinker =====> similarity score: [[0.99895334]]\n",
            "atrocious =====> similarity score: [[0.99893004]]\n"
          ]
        }
      ]
    },
    {
      "cell_type": "markdown",
      "metadata": {
        "id": "t4xanECiKcgB"
      },
      "source": [
        "We make use of the weights that have been trained in our network to find the most similar words to the chosen words. First, we obtain and store these weights into a list. Meanwhile, we store the vocabulary which corresponds to weights with index into another list. Next, we select a word, 'boring', and get its trained weight using index. Then, by looping over weights in the weight list, we compute cosine similarity between the weight of the word 'boring', and other words' weights. The higher cosine similarity scores are, the more similar the word pairs are. The above result shows the top 10 most similar words with the word 'boring'. Most of them make a lot of sense such as 'disappointment', 'unconvincing', 'dull', 'worst', 'terrible'. The term 'meyer', and '410' seem not related, but they are likely used with the term 'boring'."
      ]
    },
    {
      "cell_type": "markdown",
      "metadata": {
        "id": "yiijE5K_bARq"
      },
      "source": [
        "## Comparing with a Logistic Regression model"
      ]
    },
    {
      "cell_type": "code",
      "metadata": {
        "id": "gKdXFowRwer9",
        "colab": {
          "base_uri": "https://localhost:8080/"
        },
        "outputId": "f01397a7-75b6-43c3-c699-1b4705b288b3"
      },
      "source": [
        "# loading the ds\n",
        "def Getdata(dir):\n",
        "  review, label = [], []\n",
        "  for folder in glob.glob (dir+'/*'):\n",
        "    for file in glob.glob(folder+'/*'): \n",
        "      fo = open(file)\n",
        "      doc = fo.read()\n",
        "      review.append (doc)\n",
        "      if 'pos' in file:\n",
        "        label.append(1)\n",
        "      elif 'neg' in file:\n",
        "        label.append(0)\n",
        "  df = pd.DataFrame(zip(review,label), columns = ['review', 'label'])\n",
        "  return df\n",
        "  \n",
        "train_df = Getdata(train_dir)\n",
        "test_df = Getdata(test_dir)\n",
        "# Spliting the dataset for training and testing\n",
        "X_train, X_val, y_train, y_val = train_test_split (train_df['review'],train_df['label'], train_size = 0.8, random_state = 42, shuffle = True)\n",
        "X_test, y_test = test_df['review'], test_df['label']\n",
        "print ('Shapes of X_train, y_train: ', X_train.shape, y_train.shape)\n",
        "print ('Shapes of X_val, y_val: ', X_val.shape, y_val.shape)\n",
        "print ('Shapes of X_test, y_test: ', X_test.shape, y_test.shape) "
      ],
      "execution_count": 18,
      "outputs": [
        {
          "output_type": "stream",
          "name": "stdout",
          "text": [
            "Shapes of X_train, y_train:  (20000,) (20000,)\n",
            "Shapes of X_val, y_val:  (5000,) (5000,)\n",
            "Shapes of X_test, y_test:  (25000,) (25000,)\n"
          ]
        }
      ]
    },
    {
      "cell_type": "code",
      "metadata": {
        "id": "mhfG0yG8meEX"
      },
      "source": [
        "\n",
        "def printing_eval_scores (y_true, y_pred, report=''):\n",
        "  accuracy = sklearn.metrics.accuracy_score(y_true, y_pred)\n",
        "  precision = sklearn.metrics.precision_score(y_true, y_pred)\n",
        "  recall = sklearn.metrics.recall_score(y_true, y_pred)\n",
        "  f1 = sklearn.metrics.f1_score(y_true, y_pred)\n",
        "  print('accuracy score: {:.3f}'.format(accuracy))\n",
        "  print('precision score: {:.3f}'.format(precision))\n",
        "  print('recall score: {:.3f}'.format(recall))\n",
        "  print('F1 score: {:.3f}'.format(f1))\n",
        "  if report is True:\n",
        "    print(classification_report(y_true, y_pred))\n",
        "  else:\n",
        "    pass\n",
        "  return accuracy, precision, recall, f1"
      ],
      "execution_count": 19,
      "outputs": []
    },
    {
      "cell_type": "markdown",
      "metadata": {
        "id": "hALCMWMSmLhv"
      },
      "source": [
        "### With Countvectorizer text presentation"
      ]
    },
    {
      "cell_type": "code",
      "metadata": {
        "id": "P9BcQ-UebIcI",
        "colab": {
          "base_uri": "https://localhost:8080/"
        },
        "outputId": "03fa0877-752d-4c85-8db1-abe4e2efba21"
      },
      "source": [
        "\n",
        "# Vectorizing the documents\n",
        "vectorizer = CountVectorizer(binary = True)\n",
        "X_train_count = vectorizer.fit_transform(X_train.to_list())\n",
        "X_val_count = vectorizer.transform(X_val.to_list())\n",
        "X_test_count = vectorizer.transform(X_test.to_list())\n",
        "print ('Shapes of X_train, y_train: ', X_train_count.shape, y_train.shape)\n",
        "print ('Shapes of X_val, y_val: ', X_val_count.shape, y_val.shape)\n",
        "print ('Shapes of X_test, y_test: ', X_test_count.shape, y_test.shape)\n",
        "\n",
        "# Sklearn Logistic Regression Model\n",
        "sk_lr_1 = LogisticRegression(solver='lbfgs', max_iter=500).fit(X_train_count, y_train )\n",
        "y_predict = sk_lr_1.predict(X_test_count)\n",
        "\n",
        "# Model performing\n",
        "## on training set\n",
        "print('Model performance with Countvectorizer: \\non validation set:')\n",
        "printing_eval_scores (y_val, sk_lr_1.predict(X_val_count))\n",
        "\n",
        "## on test set\n",
        "print('\\n===========================')\n",
        "print('on test set:')\n",
        "printing_eval_scores (y_test, y_predict, report = True)"
      ],
      "execution_count": 20,
      "outputs": [
        {
          "output_type": "stream",
          "name": "stdout",
          "text": [
            "Shapes of X_train, y_train:  (20000, 68714) (20000,)\n",
            "Shapes of X_val, y_val:  (5000, 68714) (5000,)\n",
            "Shapes of X_test, y_test:  (25000, 68714) (25000,)\n",
            "Model performance with Countvectorizer: \n",
            "on validation set:\n",
            "accuracy score: 0.883\n",
            "precision score: 0.877\n",
            "recall score: 0.890\n",
            "F1 score: 0.883\n",
            "\n",
            "===========================\n",
            "on test set:\n",
            "accuracy score: 0.869\n",
            "precision score: 0.869\n",
            "recall score: 0.868\n",
            "F1 score: 0.869\n",
            "              precision    recall  f1-score   support\n",
            "\n",
            "           0       0.87      0.87      0.87     12500\n",
            "           1       0.87      0.87      0.87     12500\n",
            "\n",
            "    accuracy                           0.87     25000\n",
            "   macro avg       0.87      0.87      0.87     25000\n",
            "weighted avg       0.87      0.87      0.87     25000\n",
            "\n"
          ]
        },
        {
          "output_type": "execute_result",
          "data": {
            "text/plain": [
              "(0.86876, 0.8693213684800898, 0.868, 0.868660181738121)"
            ]
          },
          "metadata": {},
          "execution_count": 20
        }
      ]
    },
    {
      "cell_type": "markdown",
      "metadata": {
        "id": "I_ex3J6rmVKu"
      },
      "source": [
        "### With tf-idf text presentation"
      ]
    },
    {
      "cell_type": "code",
      "metadata": {
        "colab": {
          "base_uri": "https://localhost:8080/"
        },
        "id": "Av3pjC83mUbt",
        "outputId": "455fb949-a4ec-451a-b0f9-6ebd8ae42ef0"
      },
      "source": [
        "# Vectorizing the documents\n",
        "tfidf = TfidfVectorizer()\n",
        "X_train_tfidf = tfidf.fit_transform(X_train.to_list())\n",
        "X_val_tfidf = tfidf.transform(X_val.to_list())\n",
        "X_test_tfidf = tfidf.transform(X_test.to_list())\n",
        "print ('Shapes of X_train, y_train: ', X_train_tfidf.shape, y_train.shape)\n",
        "print ('Shapes of X_val, y_val: ', X_val_tfidf.shape, y_val.shape)\n",
        "print ('Shapes of X_test, y_test: ', X_test_tfidf.shape, y_test.shape)\n",
        "\n",
        "# Sklearn Logistic Regression Model\n",
        "sk_lr_2 = LogisticRegression(solver='lbfgs', max_iter=500).fit(X_train_tfidf, y_train )\n",
        "y_predict = sk_lr_2.predict(X_test_tfidf)\n",
        "\n",
        "# Model performing\n",
        "## on training set\n",
        "print('Model performance with tfidf: \\non validation set:')\n",
        "printing_eval_scores (y_val, sk_lr_2.predict(X_val_tfidf))\n",
        "\n",
        "## on test set\n",
        "print('\\n===========================')\n",
        "print('on test set:')\n",
        "printing_eval_scores (y_test, y_predict, report = True)"
      ],
      "execution_count": 21,
      "outputs": [
        {
          "output_type": "stream",
          "name": "stdout",
          "text": [
            "Shapes of X_train, y_train:  (20000, 68714) (20000,)\n",
            "Shapes of X_val, y_val:  (5000, 68714) (5000,)\n",
            "Shapes of X_test, y_test:  (25000, 68714) (25000,)\n",
            "Model performance with tfidf: \n",
            "on validation set:\n",
            "accuracy score: 0.885\n",
            "precision score: 0.875\n",
            "recall score: 0.897\n",
            "F1 score: 0.886\n",
            "\n",
            "===========================\n",
            "on test set:\n",
            "accuracy score: 0.879\n",
            "precision score: 0.879\n",
            "recall score: 0.880\n",
            "F1 score: 0.879\n",
            "              precision    recall  f1-score   support\n",
            "\n",
            "           0       0.88      0.88      0.88     12500\n",
            "           1       0.88      0.88      0.88     12500\n",
            "\n",
            "    accuracy                           0.88     25000\n",
            "   macro avg       0.88      0.88      0.88     25000\n",
            "weighted avg       0.88      0.88      0.88     25000\n",
            "\n"
          ]
        },
        {
          "output_type": "execute_result",
          "data": {
            "text/plain": [
              "(0.87936, 0.8789355921368068, 0.87992, 0.8794275205884705)"
            ]
          },
          "metadata": {},
          "execution_count": 21
        }
      ]
    },
    {
      "cell_type": "markdown",
      "metadata": {
        "id": "OqjPbm6PNwCr"
      },
      "source": [
        "By comparing the two Logistic Regression models with two different text representations: Countvectorizer, and tfidf. We found that the model using tfidf to represent the reviews achieved higher performance with F1 score  = 0.882, higher than any models we built on tensorflow, while the another with countvectorizer has a bit lower performance (F1 = 0.866). In the future, we may need to try different text representations for the models on tensorflow."
      ]
    },
    {
      "cell_type": "markdown",
      "metadata": {
        "id": "SUMJOCJYERVd"
      },
      "source": [
        "# Part 2: Multiclass classification - Stackoverflow DS"
      ]
    },
    {
      "cell_type": "markdown",
      "metadata": {
        "id": "WThVxknkGiXc"
      },
      "source": [
        "## Loading the dataset"
      ]
    },
    {
      "cell_type": "code",
      "metadata": {
        "colab": {
          "base_uri": "https://localhost:8080/"
        },
        "id": "1xxae0yIEyQW",
        "outputId": "5e3eb6fe-5d73-44c0-8da1-047eb47eba64"
      },
      "source": [
        "url_2 = 'http://storage.googleapis.com/download.tensorflow.org/data/stack_overflow_16k.tar.gz'\n",
        "train_dir = tf.keras.utils.get_file ('train',\n",
        "                                url_2,\n",
        "                                untar = True,\n",
        "                                cache_dir = '.',\n",
        "                                cache_subdir = '')\n",
        "test_dir = tf.keras.utils.get_file ('test',\n",
        "                                url_2,\n",
        "                                untar = True,\n",
        "                                cache_dir = '.',\n",
        "                                cache_subdir = '')\n",
        "\n",
        "print(os.listdir(train_dir))\n",
        "print(os.listdir(test_dir))\n"
      ],
      "execution_count": 22,
      "outputs": [
        {
          "output_type": "stream",
          "name": "stdout",
          "text": [
            "Downloading data from http://storage.googleapis.com/download.tensorflow.org/data/stack_overflow_16k.tar.gz\n",
            "6053888/6053168 [==============================] - 0s 0us/step\n",
            "6062080/6053168 [==============================] - 0s 0us/step\n",
            "Downloading data from http://storage.googleapis.com/download.tensorflow.org/data/stack_overflow_16k.tar.gz\n",
            "6053888/6053168 [==============================] - 0s 0us/step\n",
            "6062080/6053168 [==============================] - 0s 0us/step\n",
            "['python', 'javascript', 'csharp', 'java']\n",
            "['python', 'javascript', 'csharp', 'java']\n"
          ]
        }
      ]
    },
    {
      "cell_type": "code",
      "metadata": {
        "colab": {
          "base_uri": "https://localhost:8080/"
        },
        "id": "C_BzBYOENa8D",
        "outputId": "35deafc8-bf20-424b-a079-8f8cdec35910"
      },
      "source": [
        "# Loading data from the directory\n",
        "batch_size = 32\n",
        "seed = 42\n",
        "raw_train = tf.keras.utils.text_dataset_from_directory ('train',\n",
        "                                                        batch_size =batch_size,\n",
        "                                                        validation_split = 0.2,\n",
        "                                                        subset = 'training',\n",
        "                                                        seed = seed)\n",
        "raw_val = tf.keras.utils.text_dataset_from_directory ('train',\n",
        "                                                      batch_size = batch_size,\n",
        "                                                      validation_split = 0.2,\n",
        "                                                      subset = 'validation',\n",
        "                                                      seed = seed)\n",
        "raw_test = tf.keras.utils.text_dataset_from_directory ('test',\n",
        "                                                       batch_size = batch_size)"
      ],
      "execution_count": 23,
      "outputs": [
        {
          "output_type": "stream",
          "name": "stdout",
          "text": [
            "Found 8000 files belonging to 4 classes.\n",
            "Using 6400 files for training.\n",
            "Found 8000 files belonging to 4 classes.\n",
            "Using 1600 files for validation.\n",
            "Found 8000 files belonging to 4 classes.\n"
          ]
        }
      ]
    },
    {
      "cell_type": "markdown",
      "metadata": {
        "id": "0YKsqlUKNsmz"
      },
      "source": [
        "## Text representation"
      ]
    },
    {
      "cell_type": "code",
      "metadata": {
        "colab": {
          "base_uri": "https://localhost:8080/"
        },
        "id": "dPCScxOwNwQr",
        "outputId": "ffbbce40-83e8-4464-8a90-d4ebea29d52a"
      },
      "source": [
        "# def custom_preprocessing (text):\n",
        "#   lowercase = tf.strings.lower (text)\n",
        "#   stripped_html = tf.strings.regex_replace (lowercase,'<br />', ' ')\n",
        "#   return tf.strings.regex_replace(stripped_html,\n",
        "#                                   '[%s]' % re.escape(string.punctuation), \n",
        "#                                   '')\n",
        "  \n",
        "max_features = 10000\n",
        "sequence_length = 250\n",
        "\n",
        "vectorize_layer = layers.TextVectorization(max_tokens = max_features,\n",
        "                                           output_mode = 'int',\n",
        "                                           output_sequence_length = sequence_length)\n",
        "# Extracting features for vectorizing using training set\n",
        "train_text = raw_train.map (lambda x, y: x)\n",
        "vectorize_layer.adapt(train_text)\n",
        "\n",
        "# Defining a function for fitting vectorizer function/layer to vectorize text (review)\n",
        "def fitting_vectorizer (text, label):\n",
        "  text = tf.expand_dims(text, -1)\n",
        "  return vectorize_layer (text), label\n",
        "\n",
        "# storing text batch and label batch\n",
        "text_batch, label_batch = next(iter(raw_train))\n",
        "\n",
        "## print an instance with vectorized review and label for observing\n",
        "print ('text:', text_batch[0])\n",
        "print('label:', raw_train.class_names[label_batch[0]] )"
      ],
      "execution_count": 24,
      "outputs": [
        {
          "output_type": "stream",
          "name": "stdout",
          "text": [
            "text: tf.Tensor(b'\"unit testing of setters and getters teacher wanted us to do a comprehensive unit test. for me, this will be the first time that i use junit. i am confused about testing set and get methods. do you think should i test them? if the answer is yes; is this code enough for testing?..  public void testsetandget(){.    int a = 10;.    class firstclass = new class();.    firstclass.setvalue(10);.    int value = firstclass.getvalue();.    assert.asserttrue(\"\"error\"\", value==a);.  }...in my code, i think if there is an error, we can\\'t know that the error is deriving because of setter or getter.\"\\n', shape=(), dtype=string)\n",
            "label: java\n"
          ]
        }
      ]
    },
    {
      "cell_type": "code",
      "metadata": {
        "id": "bJnvsj58OXds"
      },
      "source": [
        "train = raw_train.map(fitting_vectorizer)\n",
        "val = raw_val.map(fitting_vectorizer)\n",
        "test = raw_test.map(fitting_vectorizer)"
      ],
      "execution_count": 25,
      "outputs": []
    },
    {
      "cell_type": "code",
      "metadata": {
        "id": "R8TSwV8VOdBD"
      },
      "source": [
        "# Configure the dataset for performance\n",
        "autotune = tf.data.AUTOTUNE\n",
        "train = train.cache().prefetch (buffer_size = autotune)\n",
        "val = val.cache().prefetch (buffer_size = autotune)\n",
        "test = test.cache().prefetch (buffer_size = autotune)"
      ],
      "execution_count": 26,
      "outputs": []
    },
    {
      "cell_type": "markdown",
      "metadata": {
        "id": "NFknSi_VOfab"
      },
      "source": [
        "## Building a neural network multiclass classifier"
      ]
    },
    {
      "cell_type": "code",
      "metadata": {
        "id": "VRYKhiR6YU4-"
      },
      "source": [
        "# Defining an evaluation metric function\n",
        "def printing_eval_scores (y_true, y_pred, report=''):\n",
        "  accuracy = sklearn.metrics.accuracy_score(y_true, y_pred)\n",
        "  precision = sklearn.metrics.precision_score(y_true, y_pred, average='macro')\n",
        "  recall = sklearn.metrics.recall_score(y_true, y_pred, average='macro')\n",
        "  f1 = sklearn.metrics.f1_score(y_true, y_pred , average='macro')\n",
        "  print('accuracy score: {:.3f}'.format(accuracy))\n",
        "  print('precision score: {:.3f}'.format(precision))\n",
        "  print('recall score: {:.3f}'.format(recall))\n",
        "  print('F1 score: {:.3f}'.format(f1))\n",
        "  if report is True:\n",
        "    print(classification_report(y_true, y_pred))\n",
        "  else:\n",
        "    pass\n",
        "  return accuracy, precision, recall, f1"
      ],
      "execution_count": 27,
      "outputs": []
    },
    {
      "cell_type": "code",
      "metadata": {
        "colab": {
          "base_uri": "https://localhost:8080/"
        },
        "id": "kXgAJWxAOmPU",
        "outputId": "6853797e-6f3d-4d3a-9351-189b4c4e8746"
      },
      "source": [
        "# Creating the model\n",
        "embedding_dim = 16\n",
        "dropout =  0.1\n",
        "activation = 'relu'\n",
        "\n",
        "print (\"======== activation function = {}, dropout = {}, batch size = {} ============\".format(activation, dropout, batch_size ))\n",
        "model = tf.keras.Sequential([layers.Embedding(max_features + 1,embedding_dim, name=\"embedding_2\"),\n",
        "                            layers.Dropout(dropout),\n",
        "                            layers.GlobalAveragePooling1D(),\n",
        "                            layers.Dropout(dropout),\n",
        "                            layers.Dense(32, activation= activation),\n",
        "                            layers.Dense(4)])\n",
        "print(model.summary())\n",
        "\n",
        "# configure the model uisng optimizer and loss function\n",
        "model.compile(loss = losses.SparseCategoricalCrossentropy(from_logits = True),\n",
        "              optimizer = 'adam',\n",
        "              metrics = 'accuracy') \n",
        "# training the model\n",
        "epochs = 10\n",
        "history = model.fit(train,\n",
        "                    validation_data = val,\n",
        "                    epochs = epochs)\n",
        "# testing the model\n",
        "pred_label = tf.argmax(model.predict(test),1)\n",
        "true_label = np.concatenate([y for x, y in test], axis=0)\n",
        "\n",
        "loss, accuracy = model.evaluate(test)\n",
        "print('\\nTesting performance:\\n Loss: {:.3f} - Accuracy: {:.3f}'. format(loss, accuracy))\n",
        "printing_eval_scores (true_label, pred_label, report=True)"
      ],
      "execution_count": 28,
      "outputs": [
        {
          "output_type": "stream",
          "name": "stdout",
          "text": [
            "======== activation function = relu, dropout = 0.1, batch size = 32 ============\n",
            "Model: \"sequential_11\"\n",
            "_________________________________________________________________\n",
            "Layer (type)                 Output Shape              Param #   \n",
            "=================================================================\n",
            "embedding_2 (Embedding)      (None, None, 16)          160016    \n",
            "_________________________________________________________________\n",
            "dropout_22 (Dropout)         (None, None, 16)          0         \n",
            "_________________________________________________________________\n",
            "global_average_pooling1d_11  (None, 16)                0         \n",
            "_________________________________________________________________\n",
            "dropout_23 (Dropout)         (None, 16)                0         \n",
            "_________________________________________________________________\n",
            "dense_15 (Dense)             (None, 32)                544       \n",
            "_________________________________________________________________\n",
            "dense_16 (Dense)             (None, 4)                 132       \n",
            "=================================================================\n",
            "Total params: 160,692\n",
            "Trainable params: 160,692\n",
            "Non-trainable params: 0\n",
            "_________________________________________________________________\n",
            "None\n",
            "Epoch 1/10\n",
            "200/200 [==============================] - 5s 19ms/step - loss: 1.3776 - accuracy: 0.3042 - val_loss: 1.3530 - val_accuracy: 0.4938\n",
            "Epoch 2/10\n",
            "200/200 [==============================] - 1s 7ms/step - loss: 1.2601 - accuracy: 0.5361 - val_loss: 1.1119 - val_accuracy: 0.6325\n",
            "Epoch 3/10\n",
            "200/200 [==============================] - 1s 7ms/step - loss: 0.9740 - accuracy: 0.6527 - val_loss: 0.8457 - val_accuracy: 0.6837\n",
            "Epoch 4/10\n",
            "200/200 [==============================] - 1s 7ms/step - loss: 0.7673 - accuracy: 0.7228 - val_loss: 0.7100 - val_accuracy: 0.7337\n",
            "Epoch 5/10\n",
            "200/200 [==============================] - 1s 7ms/step - loss: 0.6369 - accuracy: 0.7686 - val_loss: 0.6291 - val_accuracy: 0.7619\n",
            "Epoch 6/10\n",
            "200/200 [==============================] - 1s 7ms/step - loss: 0.5453 - accuracy: 0.8066 - val_loss: 0.5781 - val_accuracy: 0.7750\n",
            "Epoch 7/10\n",
            "200/200 [==============================] - 1s 7ms/step - loss: 0.4742 - accuracy: 0.8345 - val_loss: 0.5457 - val_accuracy: 0.7906\n",
            "Epoch 8/10\n",
            "200/200 [==============================] - 1s 7ms/step - loss: 0.4144 - accuracy: 0.8583 - val_loss: 0.5245 - val_accuracy: 0.8044\n",
            "Epoch 9/10\n",
            "200/200 [==============================] - 1s 7ms/step - loss: 0.3649 - accuracy: 0.8820 - val_loss: 0.5132 - val_accuracy: 0.8075\n",
            "Epoch 10/10\n",
            "200/200 [==============================] - 1s 7ms/step - loss: 0.3228 - accuracy: 0.9033 - val_loss: 0.5075 - val_accuracy: 0.8100\n",
            "250/250 [==============================] - 0s 1ms/step - loss: 0.5714 - accuracy: 0.7795\n",
            "\n",
            "Testing performance:\n",
            " Loss: 0.571 - Accuracy: 0.780\n",
            "accuracy score: 0.779\n",
            "precision score: 0.781\n",
            "recall score: 0.780\n",
            "F1 score: 0.778\n",
            "              precision    recall  f1-score   support\n",
            "\n",
            "           0       0.75      0.72      0.73      2000\n",
            "           1       0.81      0.69      0.74      2000\n",
            "           2       0.80      0.85      0.82      2000\n",
            "           3       0.76      0.87      0.81      2000\n",
            "\n",
            "    accuracy                           0.78      8000\n",
            "   macro avg       0.78      0.78      0.78      8000\n",
            "weighted avg       0.78      0.78      0.78      8000\n",
            "\n"
          ]
        },
        {
          "output_type": "execute_result",
          "data": {
            "text/plain": [
              "(0.7795, 0.7805831955798188, 0.7795000000000001, 0.7777689903901308)"
            ]
          },
          "metadata": {},
          "execution_count": 28
        }
      ]
    }
  ]
}